{
 "cells": [
  {
   "cell_type": "markdown",
   "metadata": {},
   "source": [
    "## SQLAlchemy ORM笔记"
   ]
  },
  {
   "cell_type": "markdown",
   "metadata": {},
   "source": [
    "### 连接"
   ]
  },
  {
   "cell_type": "code",
   "execution_count": 1,
   "metadata": {},
   "outputs": [],
   "source": [
    "from sqlalchemy import create_engine\n",
    "engine = create_engine('mysql+pymysql://root:@localhost/test', echo=True)"
   ]
  },
  {
   "cell_type": "markdown",
   "metadata": {},
   "source": [
    "### 声明一个Mapping"
   ]
  },
  {
   "cell_type": "code",
   "execution_count": 2,
   "metadata": {},
   "outputs": [],
   "source": [
    "# declarative base类用于映射数据库表和Python的实体类，同样作为实体类的公共父类，通常一个应用程序只应有一个declarative base实例\n",
    "from sqlalchemy.ext.declarative import declarative_base\n",
    "Base = declarative_base()"
   ]
  },
  {
   "cell_type": "code",
   "execution_count": 3,
   "metadata": {},
   "outputs": [],
   "source": [
    "# 定义t_user表的实体类\n",
    "from sqlalchemy import Column, Integer, String\n",
    "class User(Base):\n",
    "    __tablename__ = 't_user'\n",
    "    \n",
    "    id = Column(Integer, primary_key=True)\n",
    "    name = Column(String(32))\n",
    "    fullname = Column(String(200))\n",
    "    password = Column(String(32))\n",
    "    \n",
    "    def __repr__(self):\n",
    "        return \"<User (id=%d, name='%s', fullname='%s', password='%s')\" %(\n",
    "            self.id, self.name, self.fullname, self.password)"
   ]
  },
  {
   "cell_type": "code",
   "execution_count": 4,
   "metadata": {},
   "outputs": [
    {
     "data": {
      "text/plain": [
       "Table('t_user', MetaData(bind=None), Column('id', Integer(), table=<t_user>, primary_key=True, nullable=False), Column('name', String(length=32), table=<t_user>), Column('fullname', String(length=200), table=<t_user>), Column('password', String(length=32), table=<t_user>), schema=None)"
      ]
     },
     "execution_count": 4,
     "metadata": {},
     "output_type": "execute_result"
    }
   ],
   "source": [
    "# 查看User实体类对应的数据库表信息\n",
    "User.__table__"
   ]
  },
  {
   "cell_type": "code",
   "execution_count": 5,
   "metadata": {},
   "outputs": [
    {
     "name": "stdout",
     "output_type": "stream",
     "text": [
      "2018-03-22 06:38:46,833 INFO sqlalchemy.engine.base.Engine SHOW VARIABLES LIKE 'sql_mode'\n",
      "2018-03-22 06:38:46,835 INFO sqlalchemy.engine.base.Engine {}\n",
      "2018-03-22 06:38:46,840 INFO sqlalchemy.engine.base.Engine SELECT DATABASE()\n",
      "2018-03-22 06:38:46,842 INFO sqlalchemy.engine.base.Engine {}\n",
      "2018-03-22 06:38:46,845 INFO sqlalchemy.engine.base.Engine show collation where `Charset` = 'utf8' and `Collation` = 'utf8_bin'\n",
      "2018-03-22 06:38:46,847 INFO sqlalchemy.engine.base.Engine {}\n",
      "2018-03-22 06:38:46,851 INFO sqlalchemy.engine.base.Engine SELECT CAST('test plain returns' AS CHAR(60)) AS anon_1\n",
      "2018-03-22 06:38:46,853 INFO sqlalchemy.engine.base.Engine {}\n",
      "2018-03-22 06:38:46,856 INFO sqlalchemy.engine.base.Engine SELECT CAST('test unicode returns' AS CHAR(60)) AS anon_1\n",
      "2018-03-22 06:38:46,858 INFO sqlalchemy.engine.base.Engine {}\n",
      "2018-03-22 06:38:46,863 INFO sqlalchemy.engine.base.Engine SELECT CAST('test collated returns' AS CHAR CHARACTER SET utf8) COLLATE utf8_bin AS anon_1\n",
      "2018-03-22 06:38:46,865 INFO sqlalchemy.engine.base.Engine {}\n",
      "2018-03-22 06:38:46,870 INFO sqlalchemy.engine.base.Engine DESCRIBE `t_user`\n",
      "2018-03-22 06:38:46,871 INFO sqlalchemy.engine.base.Engine {}\n",
      "2018-03-22 06:38:46,881 INFO sqlalchemy.engine.base.Engine ROLLBACK\n",
      "2018-03-22 06:38:46,884 INFO sqlalchemy.engine.base.Engine \n",
      "CREATE TABLE t_user (\n",
      "\tid INTEGER NOT NULL AUTO_INCREMENT, \n",
      "\tname VARCHAR(32), \n",
      "\tfullname VARCHAR(200), \n",
      "\tpassword VARCHAR(32), \n",
      "\tPRIMARY KEY (id)\n",
      ")\n",
      "\n",
      "\n",
      "2018-03-22 06:38:46,885 INFO sqlalchemy.engine.base.Engine {}\n",
      "2018-03-22 06:38:46,910 INFO sqlalchemy.engine.base.Engine COMMIT\n"
     ]
    }
   ],
   "source": [
    "# 根据实体类创建数据库表\n",
    "Base.metadata.create_all(engine)"
   ]
  },
  {
   "cell_type": "code",
   "execution_count": 6,
   "metadata": {},
   "outputs": [
    {
     "name": "stdout",
     "output_type": "stream",
     "text": [
      "None\n"
     ]
    }
   ],
   "source": [
    "# 创建一个User实例\n",
    "ed_user = User(name='ed', fullname='Ed Jones', password='123456')\n",
    "print(ed_user.id)"
   ]
  },
  {
   "cell_type": "markdown",
   "metadata": {},
   "source": [
    "### 创建一个会话"
   ]
  },
  {
   "cell_type": "code",
   "execution_count": 7,
   "metadata": {},
   "outputs": [],
   "source": [
    "# 使用我们的数据库引擎创建一个会话容器\n",
    "from sqlalchemy.orm import sessionmaker\n",
    "Session = sessionmaker(bind=engine)"
   ]
  },
  {
   "cell_type": "code",
   "execution_count": 8,
   "metadata": {},
   "outputs": [],
   "source": [
    "# 在容器中创建一个会话对象\n",
    "session = Session()"
   ]
  },
  {
   "cell_type": "markdown",
   "metadata": {},
   "source": [
    "### 增加和更新对象"
   ]
  },
  {
   "cell_type": "code",
   "execution_count": 9,
   "metadata": {},
   "outputs": [
    {
     "name": "stdout",
     "output_type": "stream",
     "text": [
      "2018-03-22 06:38:46,952 INFO sqlalchemy.engine.base.Engine BEGIN (implicit)\n",
      "2018-03-22 06:38:46,956 INFO sqlalchemy.engine.base.Engine INSERT INTO t_user (name, fullname, password) VALUES (%(name)s, %(fullname)s, %(password)s)\n",
      "2018-03-22 06:38:46,958 INFO sqlalchemy.engine.base.Engine {'name': 'ed', 'fullname': 'Ed Jones', 'password': '123456'}\n",
      "2018-03-22 06:38:46,961 INFO sqlalchemy.engine.base.Engine COMMIT\n"
     ]
    }
   ],
   "source": [
    "# 将新对象持久化到数据库\n",
    "session.add(ed_user)\n",
    "session.commit()"
   ]
  },
  {
   "cell_type": "code",
   "execution_count": 10,
   "metadata": {},
   "outputs": [
    {
     "name": "stdout",
     "output_type": "stream",
     "text": [
      "2018-03-22 06:38:46,973 INFO sqlalchemy.engine.base.Engine BEGIN (implicit)\n",
      "2018-03-22 06:38:46,979 INFO sqlalchemy.engine.base.Engine SELECT t_user.id AS t_user_id, t_user.name AS t_user_name, t_user.fullname AS t_user_fullname, t_user.password AS t_user_password \n",
      "FROM t_user \n",
      "WHERE t_user.name = %(name_1)s \n",
      " LIMIT %(param_1)s\n",
      "2018-03-22 06:38:46,980 INFO sqlalchemy.engine.base.Engine {'name_1': 'ed', 'param_1': 1}\n"
     ]
    },
    {
     "data": {
      "text/plain": [
       "<User (id=1, name='ed', fullname='Ed Jones', password='123456')"
      ]
     },
     "execution_count": 10,
     "metadata": {},
     "output_type": "execute_result"
    }
   ],
   "source": [
    "# 查询看结果\n",
    "session.query(User).filter_by(name='ed').first()"
   ]
  },
  {
   "cell_type": "code",
   "execution_count": 11,
   "metadata": {},
   "outputs": [],
   "source": [
    "# 批量添加数据\n",
    "session.add_all([\n",
    "    User(name='john', fullname='John Doe', password='xxxxxx'),\n",
    "    User(name='mike', fullname='Micheal Jackson', password='yyyyyy'),\n",
    "    User(name='sofie', fullname='Sofie Moore', password='zzzzzz')\n",
    "])"
   ]
  },
  {
   "cell_type": "code",
   "execution_count": 12,
   "metadata": {},
   "outputs": [],
   "source": [
    "# 修改ed的密码\n",
    "ed_user.password = '654321'"
   ]
  },
  {
   "cell_type": "code",
   "execution_count": 13,
   "metadata": {},
   "outputs": [
    {
     "data": {
      "text/plain": [
       "IdentitySet([<User (id=1, name='ed', fullname='Ed Jones', password='654321')])"
      ]
     },
     "execution_count": 13,
     "metadata": {},
     "output_type": "execute_result"
    }
   ],
   "source": [
    "# 查询会话的脏数据\n",
    "session.dirty"
   ]
  },
  {
   "cell_type": "code",
   "execution_count": 14,
   "metadata": {},
   "outputs": [
    {
     "name": "stdout",
     "output_type": "stream",
     "text": [
      "2018-03-22 06:38:47,028 INFO sqlalchemy.engine.base.Engine UPDATE t_user SET password=%(password)s WHERE t_user.id = %(t_user_id)s\n",
      "2018-03-22 06:38:47,032 INFO sqlalchemy.engine.base.Engine {'password': '654321', 't_user_id': 1}\n",
      "2018-03-22 06:38:47,036 INFO sqlalchemy.engine.base.Engine INSERT INTO t_user (name, fullname, password) VALUES (%(name)s, %(fullname)s, %(password)s)\n",
      "2018-03-22 06:38:47,038 INFO sqlalchemy.engine.base.Engine {'name': 'john', 'fullname': 'John Doe', 'password': 'xxxxxx'}\n",
      "2018-03-22 06:38:47,041 INFO sqlalchemy.engine.base.Engine INSERT INTO t_user (name, fullname, password) VALUES (%(name)s, %(fullname)s, %(password)s)\n",
      "2018-03-22 06:38:47,044 INFO sqlalchemy.engine.base.Engine {'name': 'mike', 'fullname': 'Micheal Jackson', 'password': 'yyyyyy'}\n",
      "2018-03-22 06:38:47,047 INFO sqlalchemy.engine.base.Engine INSERT INTO t_user (name, fullname, password) VALUES (%(name)s, %(fullname)s, %(password)s)\n",
      "2018-03-22 06:38:47,050 INFO sqlalchemy.engine.base.Engine {'name': 'sofie', 'fullname': 'Sofie Moore', 'password': 'zzzzzz'}\n",
      "2018-03-22 06:38:47,054 INFO sqlalchemy.engine.base.Engine COMMIT\n"
     ]
    }
   ],
   "source": [
    "session.commit()"
   ]
  },
  {
   "cell_type": "markdown",
   "metadata": {},
   "source": [
    "### 事务回滚"
   ]
  },
  {
   "cell_type": "code",
   "execution_count": 15,
   "metadata": {},
   "outputs": [
    {
     "name": "stdout",
     "output_type": "stream",
     "text": [
      "2018-03-22 06:38:47,070 INFO sqlalchemy.engine.base.Engine BEGIN (implicit)\n",
      "2018-03-22 06:38:47,074 INFO sqlalchemy.engine.base.Engine SELECT t_user.id AS t_user_id, t_user.fullname AS t_user_fullname, t_user.password AS t_user_password \n",
      "FROM t_user \n",
      "WHERE t_user.id = %(param_1)s\n",
      "2018-03-22 06:38:47,076 INFO sqlalchemy.engine.base.Engine {'param_1': 1}\n",
      "2018-03-22 06:38:47,079 INFO sqlalchemy.engine.base.Engine ROLLBACK\n"
     ]
    }
   ],
   "source": [
    "# 添加一条主键冲突的记录，commit()发生异常，捕获异常并回滚\n",
    "try :\n",
    "    ed_user.name='edwartz'\n",
    "    session.add(User(id=1, name='wrong'))\n",
    "    session.commit()\n",
    "except:\n",
    "    session.rollback()"
   ]
  },
  {
   "cell_type": "code",
   "execution_count": 16,
   "metadata": {},
   "outputs": [
    {
     "name": "stdout",
     "output_type": "stream",
     "text": [
      "2018-03-22 06:38:47,090 INFO sqlalchemy.engine.base.Engine BEGIN (implicit)\n",
      "2018-03-22 06:38:47,093 INFO sqlalchemy.engine.base.Engine SELECT t_user.id AS t_user_id, t_user.name AS t_user_name, t_user.fullname AS t_user_fullname, t_user.password AS t_user_password \n",
      "FROM t_user \n",
      "WHERE t_user.id = %(param_1)s\n",
      "2018-03-22 06:38:47,096 INFO sqlalchemy.engine.base.Engine {'param_1': 1}\n"
     ]
    },
    {
     "data": {
      "text/plain": [
       "'ed'"
      ]
     },
     "execution_count": 16,
     "metadata": {},
     "output_type": "execute_result"
    }
   ],
   "source": [
    "# 验证ed_user的name字段并未改变\n",
    "ed_user.name"
   ]
  },
  {
   "cell_type": "markdown",
   "metadata": {},
   "source": [
    "### 查询"
   ]
  },
  {
   "cell_type": "code",
   "execution_count": 17,
   "metadata": {},
   "outputs": [
    {
     "name": "stdout",
     "output_type": "stream",
     "text": [
      "2018-03-22 06:38:47,112 INFO sqlalchemy.engine.base.Engine SELECT t_user.id AS t_user_id, t_user.name AS t_user_name, t_user.fullname AS t_user_fullname, t_user.password AS t_user_password \n",
      "FROM t_user ORDER BY t_user.name DESC\n",
      "2018-03-22 06:38:47,118 INFO sqlalchemy.engine.base.Engine {}\n",
      "<User (id=4, name='sofie', fullname='Sofie Moore', password='zzzzzz')\n",
      "<User (id=3, name='mike', fullname='Micheal Jackson', password='yyyyyy')\n",
      "<User (id=2, name='john', fullname='John Doe', password='xxxxxx')\n",
      "<User (id=1, name='ed', fullname='Ed Jones', password='654321')\n"
     ]
    }
   ],
   "source": [
    "# 倒序查询user表\n",
    "from sqlalchemy.sql import desc\n",
    "for row in session.query(User).order_by(desc(User.name)):\n",
    "    print(row)"
   ]
  },
  {
   "cell_type": "code",
   "execution_count": 18,
   "metadata": {},
   "outputs": [
    {
     "name": "stdout",
     "output_type": "stream",
     "text": [
      "2018-03-22 06:38:47,131 INFO sqlalchemy.engine.base.Engine SELECT t_user.name AS t_user_name, t_user.fullname AS t_user_fullname \n",
      "FROM t_user\n",
      "2018-03-22 06:38:47,135 INFO sqlalchemy.engine.base.Engine {}\n",
      "ed Ed Jones\n",
      "john John Doe\n",
      "mike Micheal Jackson\n",
      "sofie Sofie Moore\n"
     ]
    }
   ],
   "source": [
    "# 指定查询的字段\n",
    "for name, fullname in session.query(User.name, User.fullname):\n",
    "    print(name, fullname)"
   ]
  },
  {
   "cell_type": "code",
   "execution_count": 19,
   "metadata": {},
   "outputs": [
    {
     "name": "stdout",
     "output_type": "stream",
     "text": [
      "2018-03-22 06:38:47,154 INFO sqlalchemy.engine.base.Engine SELECT t_user.name AS t_user_name, t_user.fullname AS t_user_fullname \n",
      "FROM t_user\n",
      "2018-03-22 06:38:47,157 INFO sqlalchemy.engine.base.Engine {}\n",
      "ed Ed Jones\n",
      "john John Doe\n",
      "mike Micheal Jackson\n",
      "sofie Sofie Moore\n",
      "2018-03-22 06:38:47,166 INFO sqlalchemy.engine.base.Engine SELECT t_user.name AS t_user_name, t_user.fullname AS t_user_fullname \n",
      "FROM t_user\n",
      "2018-03-22 06:38:47,167 INFO sqlalchemy.engine.base.Engine {}\n",
      "ed Ed Jones\n",
      "john John Doe\n",
      "mike Micheal Jackson\n",
      "sofie Sofie Moore\n"
     ]
    }
   ],
   "source": [
    "# 用字段名获取结果集行中的列\n",
    "for row in session.query(User.name, User.fullname):\n",
    "    print(row.name, row.fullname)\n",
    "# 也可以像普通tuple一样，用序号获取结果集中的列\n",
    "for row in session.query(User.name, User.fullname):\n",
    "    print(row[0], row[1])"
   ]
  },
  {
   "cell_type": "code",
   "execution_count": 20,
   "metadata": {},
   "outputs": [
    {
     "name": "stdout",
     "output_type": "stream",
     "text": [
      "2018-03-22 06:38:47,187 INFO sqlalchemy.engine.base.Engine SELECT t_user.name AS name_alias \n",
      "FROM t_user\n",
      "2018-03-22 06:38:47,190 INFO sqlalchemy.engine.base.Engine {}\n",
      "ed\n",
      "john\n",
      "mike\n",
      "sofie\n"
     ]
    }
   ],
   "source": [
    "# 使用label()给字段起别名\n",
    "for row in session.query(User.name.label('name_alias')):\n",
    "    print(row.name_alias)"
   ]
  },
  {
   "cell_type": "code",
   "execution_count": 21,
   "metadata": {},
   "outputs": [
    {
     "name": "stdout",
     "output_type": "stream",
     "text": [
      "2018-03-22 06:38:47,207 INFO sqlalchemy.engine.base.Engine SELECT ua.id AS ua_id, ua.name AS ua_name, ua.fullname AS ua_fullname, ua.password AS ua_password \n",
      "FROM t_user AS ua\n",
      "2018-03-22 06:38:47,212 INFO sqlalchemy.engine.base.Engine {}\n",
      "<User (id=1, name='ed', fullname='Ed Jones', password='654321')\n",
      "<User (id=2, name='john', fullname='John Doe', password='xxxxxx')\n",
      "<User (id=3, name='mike', fullname='Micheal Jackson', password='yyyyyy')\n",
      "<User (id=4, name='sofie', fullname='Sofie Moore', password='zzzzzz')\n"
     ]
    }
   ],
   "source": [
    "# 使用表别名\n",
    "from sqlalchemy.orm import aliased\n",
    "ua = aliased(User, name='ua')\n",
    "for row in session.query(ua, ua.name).all():\n",
    "    print(row.ua)"
   ]
  },
  {
   "cell_type": "code",
   "execution_count": 22,
   "metadata": {},
   "outputs": [
    {
     "name": "stdout",
     "output_type": "stream",
     "text": [
      "2018-03-22 06:38:47,227 INFO sqlalchemy.engine.base.Engine SELECT t_user.id AS t_user_id, t_user.name AS t_user_name, t_user.fullname AS t_user_fullname, t_user.password AS t_user_password \n",
      "FROM t_user ORDER BY t_user.name DESC \n",
      " LIMIT %(param_1)s, %(param_2)s\n",
      "2018-03-22 06:38:47,230 INFO sqlalchemy.engine.base.Engine {'param_1': 1, 'param_2': 2}\n",
      "mike yyyyyy\n",
      "john xxxxxx\n"
     ]
    }
   ],
   "source": [
    "# 使用Python的slicing对结果集进行limit输出\n",
    "for row in session.query(User).order_by(desc(User.name))[1:3]:\n",
    "    print(row.name, row.password)"
   ]
  },
  {
   "cell_type": "code",
   "execution_count": 23,
   "metadata": {},
   "outputs": [
    {
     "name": "stdout",
     "output_type": "stream",
     "text": [
      "2018-03-22 06:38:47,251 INFO sqlalchemy.engine.base.Engine SELECT concat(concat(t_user.name, %(name_1)s), t_user.password) AS title \n",
      "FROM t_user\n",
      "2018-03-22 06:38:47,255 INFO sqlalchemy.engine.base.Engine {'name_1': ','}\n",
      "ed,654321\n",
      "john,xxxxxx\n",
      "mike,yyyyyy\n",
      "sofie,zzzzzz\n"
     ]
    }
   ],
   "source": [
    "# 使用运算符\n",
    "for row in session.query((User.name+','+User.password).label('title')):\n",
    "    print(row.title)"
   ]
  },
  {
   "cell_type": "code",
   "execution_count": 24,
   "metadata": {},
   "outputs": [
    {
     "name": "stdout",
     "output_type": "stream",
     "text": [
      "2018-03-22 06:38:47,268 INFO sqlalchemy.engine.base.Engine SELECT t_user.id AS t_user_id, t_user.name AS t_user_name, t_user.fullname AS t_user_fullname, t_user.password AS t_user_password \n",
      "FROM t_user \n",
      "WHERE t_user.name = %(name_1)s\n",
      "2018-03-22 06:38:47,273 INFO sqlalchemy.engine.base.Engine {'name_1': 'ed'}\n",
      "Ed Jones\n"
     ]
    }
   ],
   "source": [
    "# 使用filter_by()过滤结果\n",
    "for row in session.query(User).filter_by(name='ed'):\n",
    "    print(row.fullname)"
   ]
  },
  {
   "cell_type": "code",
   "execution_count": 25,
   "metadata": {},
   "outputs": [
    {
     "name": "stdout",
     "output_type": "stream",
     "text": [
      "2018-03-22 06:38:47,296 INFO sqlalchemy.engine.base.Engine SELECT t_user.id AS t_user_id, t_user.name AS t_user_name, t_user.fullname AS t_user_fullname, t_user.password AS t_user_password \n",
      "FROM t_user \n",
      "WHERE t_user.name LIKE %(name_1)s\n",
      "2018-03-22 06:38:47,298 INFO sqlalchemy.engine.base.Engine {'name_1': '%e%'}\n",
      "Ed Jones\n",
      "Micheal Jackson\n",
      "Sofie Moore\n",
      "2018-03-22 06:38:47,303 INFO sqlalchemy.engine.base.Engine SELECT t_user.id AS t_user_id, t_user.name AS t_user_name, t_user.fullname AS t_user_fullname, t_user.password AS t_user_password \n",
      "FROM t_user \n",
      "WHERE lower(t_user.fullname) LIKE lower(%(fullname_1)s)\n",
      "2018-03-22 06:38:47,305 INFO sqlalchemy.engine.base.Engine {'fullname_1': '%j%'}\n",
      "Ed Jones\n",
      "John Doe\n",
      "Micheal Jackson\n"
     ]
    }
   ],
   "source": [
    "# 更通用的，使用filter()过滤结果，注意条件表达的不一样\n",
    "for row in session.query(User).filter(User.name.like('%e%')):\n",
    "    print(row.fullname)\n",
    "# like条件是否区分大小写取决于底层DB，因此如果确定需要不区分大小写，应该使用ilike()函数，注意两条SQL语句的不同\n",
    "for row in session.query(User).filter(User.fullname.ilike('%j%')):\n",
    "    print(row.fullname)"
   ]
  },
  {
   "cell_type": "code",
   "execution_count": 26,
   "metadata": {},
   "outputs": [
    {
     "name": "stdout",
     "output_type": "stream",
     "text": [
      "2018-03-22 06:38:47,324 INFO sqlalchemy.engine.base.Engine SELECT t_user.id AS t_user_id, t_user.name AS t_user_name, t_user.fullname AS t_user_fullname, t_user.password AS t_user_password \n",
      "FROM t_user \n",
      "WHERE t_user.name = %(name_1)s AND t_user.fullname = %(fullname_1)s\n",
      "2018-03-22 06:38:47,327 INFO sqlalchemy.engine.base.Engine {'name_1': 'ed', 'fullname_1': 'Ed Jones'}\n",
      "<User (id=1, name='ed', fullname='Ed Jones', password='654321')\n",
      "2018-03-22 06:38:47,331 INFO sqlalchemy.engine.base.Engine SELECT t_user.id AS t_user_id, t_user.name AS t_user_name, t_user.fullname AS t_user_fullname, t_user.password AS t_user_password \n",
      "FROM t_user \n",
      "WHERE t_user.name = %(name_1)s AND t_user.fullname = %(fullname_1)s\n",
      "2018-03-22 06:38:47,334 INFO sqlalchemy.engine.base.Engine {'name_1': 'ed', 'fullname_1': 'Ed Jones'}\n",
      "<User (id=1, name='ed', fullname='Ed Jones', password='654321')\n"
     ]
    }
   ],
   "source": [
    "# query对象的函数通常都是返回另一个query对象，因此可以继续使用filter()函数过滤结果，等同于SQL中的AND\n",
    "for row in session.query(User).filter(User.name=='ed').filter(User.fullname=='Ed Jones'):\n",
    "    print(row)\n",
    "# 下面的语句实现同样的效果\n",
    "from sqlalchemy.sql import and_\n",
    "for row in session.query(User).filter(and_(User.name=='ed', User.fullname=='Ed Jones')):\n",
    "    print(row)"
   ]
  },
  {
   "cell_type": "code",
   "execution_count": 27,
   "metadata": {},
   "outputs": [
    {
     "name": "stdout",
     "output_type": "stream",
     "text": [
      "SELECT t_user.id AS t_user_id, t_user.name AS t_user_name, t_user.fullname AS t_user_fullname, t_user.password AS t_user_password \n",
      "FROM t_user \n",
      "WHERE t_user.name IN (:name_1, :name_2)\n",
      "SELECT t_user.id AS t_user_id, t_user.name AS t_user_name, t_user.fullname AS t_user_fullname, t_user.password AS t_user_password \n",
      "FROM t_user \n",
      "WHERE t_user.name NOT IN (:name_1, :name_2)\n",
      "SELECT t_user.id AS t_user_id, t_user.name AS t_user_name, t_user.fullname AS t_user_fullname, t_user.password AS t_user_password \n",
      "FROM t_user \n",
      "WHERE t_user.fullname IS NULL\n",
      "SELECT t_user.id AS t_user_id, t_user.name AS t_user_name, t_user.fullname AS t_user_fullname, t_user.password AS t_user_password \n",
      "FROM t_user \n",
      "WHERE t_user.fullname IS NULL\n",
      "SELECT t_user.id AS t_user_id, t_user.name AS t_user_name, t_user.fullname AS t_user_fullname, t_user.password AS t_user_password \n",
      "FROM t_user \n",
      "WHERE t_user.fullname IS NOT NULL\n",
      "SELECT t_user.id AS t_user_id, t_user.name AS t_user_name, t_user.fullname AS t_user_fullname, t_user.password AS t_user_password \n",
      "FROM t_user \n",
      "WHERE t_user.fullname IS NOT NULL\n",
      "SELECT t_user.id AS t_user_id, t_user.name AS t_user_name, t_user.fullname AS t_user_fullname, t_user.password AS t_user_password \n",
      "FROM t_user \n",
      "WHERE t_user.name MATCH :name_1\n"
     ]
    }
   ],
   "source": [
    "from sqlalchemy.orm.query import Query\n",
    "query = Query(User)\n",
    "# IN条件\n",
    "print(query.filter(User.name.in_(['ed', 'sofie'])))\n",
    "# NOT IN条件\n",
    "print(query.filter(~User.name.in_(['ed', 'sofie'])))\n",
    "# IS NULL\n",
    "print(query.filter(User.fullname == None))\n",
    "print(query.filter(User.fullname.is_(None)))\n",
    "# IS NOT NULL\n",
    "print(query.filter(User.fullname != None))\n",
    "print(query.filter(User.fullname.isnot(None)))\n",
    "# MATCH 与底层数据库实现相关\n",
    "print(query.filter(User.name.match('so')))"
   ]
  },
  {
   "cell_type": "markdown",
   "metadata": {},
   "source": [
    "#### 返回Lists和标量"
   ]
  },
  {
   "cell_type": "code",
   "execution_count": 28,
   "metadata": {},
   "outputs": [
    {
     "name": "stdout",
     "output_type": "stream",
     "text": [
      "2018-03-22 06:38:47,381 INFO sqlalchemy.engine.base.Engine SELECT t_user.id AS t_user_id, t_user.name AS t_user_name, t_user.fullname AS t_user_fullname, t_user.password AS t_user_password \n",
      "FROM t_user\n",
      "2018-03-22 06:38:47,386 INFO sqlalchemy.engine.base.Engine {}\n"
     ]
    },
    {
     "data": {
      "text/plain": [
       "[<User (id=1, name='ed', fullname='Ed Jones', password='654321'),\n",
       " <User (id=2, name='john', fullname='John Doe', password='xxxxxx'),\n",
       " <User (id=3, name='mike', fullname='Micheal Jackson', password='yyyyyy'),\n",
       " <User (id=4, name='sofie', fullname='Sofie Moore', password='zzzzzz')]"
      ]
     },
     "execution_count": 28,
     "metadata": {},
     "output_type": "execute_result"
    }
   ],
   "source": [
    "# all() 返回全部结果集为一个List\n",
    "q = session.query(User)\n",
    "q.all()"
   ]
  },
  {
   "cell_type": "code",
   "execution_count": 29,
   "metadata": {},
   "outputs": [
    {
     "name": "stdout",
     "output_type": "stream",
     "text": [
      "2018-03-22 06:38:47,401 INFO sqlalchemy.engine.base.Engine SELECT t_user.id AS t_user_id, t_user.name AS t_user_name, t_user.fullname AS t_user_fullname, t_user.password AS t_user_password \n",
      "FROM t_user \n",
      " LIMIT %(param_1)s\n",
      "2018-03-22 06:38:47,405 INFO sqlalchemy.engine.base.Engine {'param_1': 1}\n"
     ]
    },
    {
     "data": {
      "text/plain": [
       "<User (id=1, name='ed', fullname='Ed Jones', password='654321')"
      ]
     },
     "execution_count": 29,
     "metadata": {},
     "output_type": "execute_result"
    }
   ],
   "source": [
    "# first()使用limit查询结果第一行并返回为标量\n",
    "q.first()"
   ]
  },
  {
   "cell_type": "code",
   "execution_count": 30,
   "metadata": {},
   "outputs": [
    {
     "name": "stdout",
     "output_type": "stream",
     "text": [
      "2018-03-22 06:38:47,422 INFO sqlalchemy.engine.base.Engine SELECT t_user.id AS t_user_id, t_user.name AS t_user_name, t_user.fullname AS t_user_fullname, t_user.password AS t_user_password \n",
      "FROM t_user\n",
      "2018-03-22 06:38:47,426 INFO sqlalchemy.engine.base.Engine {}\n"
     ]
    },
    {
     "ename": "MultipleResultsFound",
     "evalue": "Multiple rows were found for one()",
     "output_type": "error",
     "traceback": [
      "\u001b[0;31m---------------------------------------------------------------------------\u001b[0m",
      "\u001b[0;31mMultipleResultsFound\u001b[0m                      Traceback (most recent call last)",
      "\u001b[0;32m/opt/conda/lib/python3.6/site-packages/sqlalchemy/orm/query.py\u001b[0m in \u001b[0;36mone\u001b[0;34m(self)\u001b[0m\n\u001b[1;32m   2847\u001b[0m         \u001b[0;32mtry\u001b[0m\u001b[0;34m:\u001b[0m\u001b[0;34m\u001b[0m\u001b[0m\n\u001b[0;32m-> 2848\u001b[0;31m             \u001b[0mret\u001b[0m \u001b[0;34m=\u001b[0m \u001b[0mself\u001b[0m\u001b[0;34m.\u001b[0m\u001b[0mone_or_none\u001b[0m\u001b[0;34m(\u001b[0m\u001b[0;34m)\u001b[0m\u001b[0;34m\u001b[0m\u001b[0m\n\u001b[0m\u001b[1;32m   2849\u001b[0m         \u001b[0;32mexcept\u001b[0m \u001b[0morm_exc\u001b[0m\u001b[0;34m.\u001b[0m\u001b[0mMultipleResultsFound\u001b[0m\u001b[0;34m:\u001b[0m\u001b[0;34m\u001b[0m\u001b[0m\n",
      "\u001b[0;32m/opt/conda/lib/python3.6/site-packages/sqlalchemy/orm/query.py\u001b[0m in \u001b[0;36mone_or_none\u001b[0;34m(self)\u001b[0m\n\u001b[1;32m   2826\u001b[0m             raise orm_exc.MultipleResultsFound(\n\u001b[0;32m-> 2827\u001b[0;31m                 \"Multiple rows were found for one_or_none()\")\n\u001b[0m\u001b[1;32m   2828\u001b[0m \u001b[0;34m\u001b[0m\u001b[0m\n",
      "\u001b[0;31mMultipleResultsFound\u001b[0m: Multiple rows were found for one_or_none()",
      "\nDuring handling of the above exception, another exception occurred:\n",
      "\u001b[0;31mMultipleResultsFound\u001b[0m                      Traceback (most recent call last)",
      "\u001b[0;32m<ipython-input-30-1f119da3fd73>\u001b[0m in \u001b[0;36m<module>\u001b[0;34m()\u001b[0m\n\u001b[1;32m      1\u001b[0m \u001b[0;31m# 使用one()查询唯一的结果，找到多行抛出MultipleResultsFound\u001b[0m\u001b[0;34m\u001b[0m\u001b[0;34m\u001b[0m\u001b[0m\n\u001b[0;32m----> 2\u001b[0;31m \u001b[0mq\u001b[0m\u001b[0;34m.\u001b[0m\u001b[0mone\u001b[0m\u001b[0;34m(\u001b[0m\u001b[0;34m)\u001b[0m\u001b[0;34m\u001b[0m\u001b[0m\n\u001b[0m",
      "\u001b[0;32m/opt/conda/lib/python3.6/site-packages/sqlalchemy/orm/query.py\u001b[0m in \u001b[0;36mone\u001b[0;34m(self)\u001b[0m\n\u001b[1;32m   2849\u001b[0m         \u001b[0;32mexcept\u001b[0m \u001b[0morm_exc\u001b[0m\u001b[0;34m.\u001b[0m\u001b[0mMultipleResultsFound\u001b[0m\u001b[0;34m:\u001b[0m\u001b[0;34m\u001b[0m\u001b[0m\n\u001b[1;32m   2850\u001b[0m             raise orm_exc.MultipleResultsFound(\n\u001b[0;32m-> 2851\u001b[0;31m                 \"Multiple rows were found for one()\")\n\u001b[0m\u001b[1;32m   2852\u001b[0m         \u001b[0;32melse\u001b[0m\u001b[0;34m:\u001b[0m\u001b[0;34m\u001b[0m\u001b[0m\n\u001b[1;32m   2853\u001b[0m             \u001b[0;32mif\u001b[0m \u001b[0mret\u001b[0m \u001b[0;32mis\u001b[0m \u001b[0;32mNone\u001b[0m\u001b[0;34m:\u001b[0m\u001b[0;34m\u001b[0m\u001b[0m\n",
      "\u001b[0;31mMultipleResultsFound\u001b[0m: Multiple rows were found for one()"
     ]
    }
   ],
   "source": [
    "# 使用one()查询唯一的结果，找到多行抛出MultipleResultsFound\n",
    "q.one()"
   ]
  },
  {
   "cell_type": "code",
   "execution_count": 31,
   "metadata": {},
   "outputs": [
    {
     "name": "stdout",
     "output_type": "stream",
     "text": [
      "2018-03-22 06:38:53,377 INFO sqlalchemy.engine.base.Engine SELECT t_user.id AS t_user_id, t_user.name AS t_user_name, t_user.fullname AS t_user_fullname, t_user.password AS t_user_password \n",
      "FROM t_user \n",
      "WHERE t_user.id = %(id_1)s\n",
      "2018-03-22 06:38:53,379 INFO sqlalchemy.engine.base.Engine {'id_1': 100}\n"
     ]
    },
    {
     "ename": "NoResultFound",
     "evalue": "No row was found for one()",
     "output_type": "error",
     "traceback": [
      "\u001b[0;31m---------------------------------------------------------------------------\u001b[0m",
      "\u001b[0;31mNoResultFound\u001b[0m                             Traceback (most recent call last)",
      "\u001b[0;32m<ipython-input-31-98ea6d87f9e9>\u001b[0m in \u001b[0;36m<module>\u001b[0;34m()\u001b[0m\n\u001b[1;32m      1\u001b[0m \u001b[0;31m# 没有找到抛出NoResultFound\u001b[0m\u001b[0;34m\u001b[0m\u001b[0;34m\u001b[0m\u001b[0m\n\u001b[0;32m----> 2\u001b[0;31m \u001b[0msession\u001b[0m\u001b[0;34m.\u001b[0m\u001b[0mquery\u001b[0m\u001b[0;34m(\u001b[0m\u001b[0mUser\u001b[0m\u001b[0;34m)\u001b[0m\u001b[0;34m.\u001b[0m\u001b[0mfilter\u001b[0m\u001b[0;34m(\u001b[0m\u001b[0mUser\u001b[0m\u001b[0;34m.\u001b[0m\u001b[0mid\u001b[0m\u001b[0;34m==\u001b[0m\u001b[0;36m100\u001b[0m\u001b[0;34m)\u001b[0m\u001b[0;34m.\u001b[0m\u001b[0mone\u001b[0m\u001b[0;34m(\u001b[0m\u001b[0;34m)\u001b[0m\u001b[0;34m\u001b[0m\u001b[0m\n\u001b[0m",
      "\u001b[0;32m/opt/conda/lib/python3.6/site-packages/sqlalchemy/orm/query.py\u001b[0m in \u001b[0;36mone\u001b[0;34m(self)\u001b[0m\n\u001b[1;32m   2852\u001b[0m         \u001b[0;32melse\u001b[0m\u001b[0;34m:\u001b[0m\u001b[0;34m\u001b[0m\u001b[0m\n\u001b[1;32m   2853\u001b[0m             \u001b[0;32mif\u001b[0m \u001b[0mret\u001b[0m \u001b[0;32mis\u001b[0m \u001b[0;32mNone\u001b[0m\u001b[0;34m:\u001b[0m\u001b[0;34m\u001b[0m\u001b[0m\n\u001b[0;32m-> 2854\u001b[0;31m                 \u001b[0;32mraise\u001b[0m \u001b[0morm_exc\u001b[0m\u001b[0;34m.\u001b[0m\u001b[0mNoResultFound\u001b[0m\u001b[0;34m(\u001b[0m\u001b[0;34m\"No row was found for one()\"\u001b[0m\u001b[0;34m)\u001b[0m\u001b[0;34m\u001b[0m\u001b[0m\n\u001b[0m\u001b[1;32m   2855\u001b[0m             \u001b[0;32mreturn\u001b[0m \u001b[0mret\u001b[0m\u001b[0;34m\u001b[0m\u001b[0m\n\u001b[1;32m   2856\u001b[0m \u001b[0;34m\u001b[0m\u001b[0m\n",
      "\u001b[0;31mNoResultFound\u001b[0m: No row was found for one()"
     ]
    }
   ],
   "source": [
    "# 没有找到抛出NoResultFound\n",
    "session.query(User).filter(User.id==100).one()"
   ]
  },
  {
   "cell_type": "code",
   "execution_count": 32,
   "metadata": {},
   "outputs": [
    {
     "name": "stdout",
     "output_type": "stream",
     "text": [
      "2018-03-22 06:38:53,896 INFO sqlalchemy.engine.base.Engine SELECT t_user.id AS t_user_id, t_user.name AS t_user_name, t_user.fullname AS t_user_fullname, t_user.password AS t_user_password \n",
      "FROM t_user \n",
      "WHERE t_user.id = %(id_1)s\n",
      "2018-03-22 06:38:53,898 INFO sqlalchemy.engine.base.Engine {'id_1': 1}\n"
     ]
    },
    {
     "data": {
      "text/plain": [
       "<User (id=1, name='ed', fullname='Ed Jones', password='654321')"
      ]
     },
     "execution_count": 32,
     "metadata": {},
     "output_type": "execute_result"
    }
   ],
   "source": [
    "# 成功找到一条记录，返回标量\n",
    "session.query(User).filter(User.id==1).one()"
   ]
  },
  {
   "cell_type": "code",
   "execution_count": 33,
   "metadata": {},
   "outputs": [
    {
     "name": "stdout",
     "output_type": "stream",
     "text": [
      "2018-03-22 06:38:54,671 INFO sqlalchemy.engine.base.Engine SELECT t_user.id AS t_user_id, t_user.name AS t_user_name, t_user.fullname AS t_user_fullname, t_user.password AS t_user_password \n",
      "FROM t_user \n",
      "WHERE t_user.id = %(id_1)s\n",
      "2018-03-22 06:38:54,674 INFO sqlalchemy.engine.base.Engine {'id_1': 100}\n"
     ]
    }
   ],
   "source": [
    "# one_or_none()类似于one()，区别在于找不到记录时，不会抛出NoResultFound，而是返回None\n",
    "session.query(User).filter(User.id==100).one_or_none()"
   ]
  },
  {
   "cell_type": "markdown",
   "metadata": {},
   "source": [
    "### 连表查询"
   ]
  },
  {
   "cell_type": "code",
   "execution_count": 34,
   "metadata": {},
   "outputs": [],
   "source": [
    "# 定义Address实体类\n",
    "class Address(Base):\n",
    "    __tablename__ = 't_address'\n",
    "    \n",
    "    id = Column(Integer, primary_key=True)\n",
    "    user_id = Column(Integer)\n",
    "    email = Column(String(200))\n",
    "    \n",
    "    def __repr__(self):\n",
    "        return \"<Address (id=%d, user_id=%d, email='%s')>\" %(self.id, self.user_id, self.email)"
   ]
  },
  {
   "cell_type": "code",
   "execution_count": 35,
   "metadata": {},
   "outputs": [
    {
     "name": "stdout",
     "output_type": "stream",
     "text": [
      "2018-03-22 06:38:56,631 INFO sqlalchemy.engine.base.Engine DESCRIBE `t_user`\n",
      "2018-03-22 06:38:56,632 INFO sqlalchemy.engine.base.Engine {}\n",
      "2018-03-22 06:38:56,647 INFO sqlalchemy.engine.base.Engine DESCRIBE `t_address`\n",
      "2018-03-22 06:38:56,648 INFO sqlalchemy.engine.base.Engine {}\n",
      "2018-03-22 06:38:56,653 INFO sqlalchemy.engine.base.Engine ROLLBACK\n",
      "2018-03-22 06:38:56,658 INFO sqlalchemy.engine.base.Engine \n",
      "CREATE TABLE t_address (\n",
      "\tid INTEGER NOT NULL AUTO_INCREMENT, \n",
      "\tuser_id INTEGER, \n",
      "\temail VARCHAR(200), \n",
      "\tPRIMARY KEY (id)\n",
      ")\n",
      "\n",
      "\n",
      "2018-03-22 06:38:56,660 INFO sqlalchemy.engine.base.Engine {}\n",
      "2018-03-22 06:38:56,695 INFO sqlalchemy.engine.base.Engine COMMIT\n"
     ]
    }
   ],
   "source": [
    "# 创建t_address表\n",
    "Base.metadata.create_all(engine)"
   ]
  },
  {
   "cell_type": "code",
   "execution_count": 36,
   "metadata": {},
   "outputs": [
    {
     "name": "stdout",
     "output_type": "stream",
     "text": [
      "2018-03-22 06:38:57,220 INFO sqlalchemy.engine.base.Engine INSERT INTO t_address (user_id, email) VALUES (%(user_id)s, %(email)s)\n",
      "2018-03-22 06:38:57,222 INFO sqlalchemy.engine.base.Engine {'user_id': 1, 'email': 'ed@msn.com'}\n",
      "2018-03-22 06:38:57,226 INFO sqlalchemy.engine.base.Engine INSERT INTO t_address (user_id, email) VALUES (%(user_id)s, %(email)s)\n",
      "2018-03-22 06:38:57,227 INFO sqlalchemy.engine.base.Engine {'user_id': 1, 'email': 'ed.jones@yahoo.com'}\n",
      "2018-03-22 06:38:57,230 INFO sqlalchemy.engine.base.Engine INSERT INTO t_address (user_id, email) VALUES (%(user_id)s, %(email)s)\n",
      "2018-03-22 06:38:57,232 INFO sqlalchemy.engine.base.Engine {'user_id': 4, 'email': 'sofie@gmail.com'}\n",
      "2018-03-22 06:38:57,235 INFO sqlalchemy.engine.base.Engine INSERT INTO t_address (user_id, email) VALUES (%(user_id)s, %(email)s)\n",
      "2018-03-22 06:38:57,237 INFO sqlalchemy.engine.base.Engine {'user_id': 4, 'email': 'sofie@qq.com'}\n",
      "2018-03-22 06:38:57,240 INFO sqlalchemy.engine.base.Engine INSERT INTO t_address (user_id, email) VALUES (%(user_id)s, %(email)s)\n",
      "2018-03-22 06:38:57,241 INFO sqlalchemy.engine.base.Engine {'user_id': 4, 'email': 'sofie.moore@example.com'}\n",
      "2018-03-22 06:38:57,245 INFO sqlalchemy.engine.base.Engine COMMIT\n"
     ]
    }
   ],
   "source": [
    "# 添加样例数据\n",
    "session.add_all([\n",
    "    Address(user_id=1, email='ed@msn.com'),\n",
    "    Address(user_id=1, email='ed.jones@yahoo.com'),\n",
    "    Address(user_id=4, email='sofie@gmail.com'),\n",
    "    Address(user_id=4, email='sofie@qq.com'),\n",
    "    Address(user_id=4, email='sofie.moore@example.com'),\n",
    "])\n",
    "session.commit()"
   ]
  },
  {
   "cell_type": "code",
   "execution_count": 37,
   "metadata": {},
   "outputs": [
    {
     "name": "stdout",
     "output_type": "stream",
     "text": [
      "2018-03-22 06:38:57,991 INFO sqlalchemy.engine.base.Engine BEGIN (implicit)\n",
      "2018-03-22 06:38:57,994 INFO sqlalchemy.engine.base.Engine SELECT t_user.id AS t_user_id, t_user.name AS t_user_name, t_user.fullname AS t_user_fullname, t_user.password AS t_user_password, t_address.id AS t_address_id, t_address.user_id AS t_address_user_id, t_address.email AS t_address_email \n",
      "FROM t_user, t_address\n",
      "2018-03-22 06:38:57,996 INFO sqlalchemy.engine.base.Engine {}\n"
     ]
    },
    {
     "data": {
      "text/plain": [
       "[(<User (id=1, name='ed', fullname='Ed Jones', password='654321'),\n",
       "  <Address (id=1, user_id=1, email='ed@msn.com')>),\n",
       " (<User (id=2, name='john', fullname='John Doe', password='xxxxxx'),\n",
       "  <Address (id=1, user_id=1, email='ed@msn.com')>),\n",
       " (<User (id=3, name='mike', fullname='Micheal Jackson', password='yyyyyy'),\n",
       "  <Address (id=1, user_id=1, email='ed@msn.com')>),\n",
       " (<User (id=4, name='sofie', fullname='Sofie Moore', password='zzzzzz'),\n",
       "  <Address (id=1, user_id=1, email='ed@msn.com')>),\n",
       " (<User (id=1, name='ed', fullname='Ed Jones', password='654321'),\n",
       "  <Address (id=2, user_id=1, email='ed.jones@yahoo.com')>),\n",
       " (<User (id=2, name='john', fullname='John Doe', password='xxxxxx'),\n",
       "  <Address (id=2, user_id=1, email='ed.jones@yahoo.com')>),\n",
       " (<User (id=3, name='mike', fullname='Micheal Jackson', password='yyyyyy'),\n",
       "  <Address (id=2, user_id=1, email='ed.jones@yahoo.com')>),\n",
       " (<User (id=4, name='sofie', fullname='Sofie Moore', password='zzzzzz'),\n",
       "  <Address (id=2, user_id=1, email='ed.jones@yahoo.com')>),\n",
       " (<User (id=1, name='ed', fullname='Ed Jones', password='654321'),\n",
       "  <Address (id=3, user_id=4, email='sofie@gmail.com')>),\n",
       " (<User (id=2, name='john', fullname='John Doe', password='xxxxxx'),\n",
       "  <Address (id=3, user_id=4, email='sofie@gmail.com')>),\n",
       " (<User (id=3, name='mike', fullname='Micheal Jackson', password='yyyyyy'),\n",
       "  <Address (id=3, user_id=4, email='sofie@gmail.com')>),\n",
       " (<User (id=4, name='sofie', fullname='Sofie Moore', password='zzzzzz'),\n",
       "  <Address (id=3, user_id=4, email='sofie@gmail.com')>),\n",
       " (<User (id=1, name='ed', fullname='Ed Jones', password='654321'),\n",
       "  <Address (id=4, user_id=4, email='sofie@qq.com')>),\n",
       " (<User (id=2, name='john', fullname='John Doe', password='xxxxxx'),\n",
       "  <Address (id=4, user_id=4, email='sofie@qq.com')>),\n",
       " (<User (id=3, name='mike', fullname='Micheal Jackson', password='yyyyyy'),\n",
       "  <Address (id=4, user_id=4, email='sofie@qq.com')>),\n",
       " (<User (id=4, name='sofie', fullname='Sofie Moore', password='zzzzzz'),\n",
       "  <Address (id=4, user_id=4, email='sofie@qq.com')>),\n",
       " (<User (id=1, name='ed', fullname='Ed Jones', password='654321'),\n",
       "  <Address (id=5, user_id=4, email='sofie.moore@example.com')>),\n",
       " (<User (id=2, name='john', fullname='John Doe', password='xxxxxx'),\n",
       "  <Address (id=5, user_id=4, email='sofie.moore@example.com')>),\n",
       " (<User (id=3, name='mike', fullname='Micheal Jackson', password='yyyyyy'),\n",
       "  <Address (id=5, user_id=4, email='sofie.moore@example.com')>),\n",
       " (<User (id=4, name='sofie', fullname='Sofie Moore', password='zzzzzz'),\n",
       "  <Address (id=5, user_id=4, email='sofie.moore@example.com')>)]"
      ]
     },
     "execution_count": 37,
     "metadata": {},
     "output_type": "execute_result"
    }
   ],
   "source": [
    "# 笛卡尔乘积\n",
    "session.query(User, Address).all()"
   ]
  },
  {
   "cell_type": "code",
   "execution_count": 38,
   "metadata": {},
   "outputs": [
    {
     "name": "stdout",
     "output_type": "stream",
     "text": [
      "2018-03-22 06:38:58,432 INFO sqlalchemy.engine.base.Engine SELECT t_user.id AS t_user_id, t_user.name AS t_user_name, t_user.fullname AS t_user_fullname, t_user.password AS t_user_password, t_address.id AS t_address_id, t_address.user_id AS t_address_user_id, t_address.email AS t_address_email \n",
      "FROM t_user INNER JOIN t_address ON t_user.id = t_address.user_id\n",
      "2018-03-22 06:38:58,435 INFO sqlalchemy.engine.base.Engine {}\n"
     ]
    },
    {
     "data": {
      "text/plain": [
       "[(<User (id=1, name='ed', fullname='Ed Jones', password='654321'),\n",
       "  <Address (id=1, user_id=1, email='ed@msn.com')>),\n",
       " (<User (id=1, name='ed', fullname='Ed Jones', password='654321'),\n",
       "  <Address (id=2, user_id=1, email='ed.jones@yahoo.com')>),\n",
       " (<User (id=4, name='sofie', fullname='Sofie Moore', password='zzzzzz'),\n",
       "  <Address (id=3, user_id=4, email='sofie@gmail.com')>),\n",
       " (<User (id=4, name='sofie', fullname='Sofie Moore', password='zzzzzz'),\n",
       "  <Address (id=4, user_id=4, email='sofie@qq.com')>),\n",
       " (<User (id=4, name='sofie', fullname='Sofie Moore', password='zzzzzz'),\n",
       "  <Address (id=5, user_id=4, email='sofie.moore@example.com')>)]"
      ]
     },
     "execution_count": 38,
     "metadata": {},
     "output_type": "execute_result"
    }
   ],
   "source": [
    "# join()连接\n",
    "session.query(User, Address).join(Address, User.id==Address.user_id).all()"
   ]
  },
  {
   "cell_type": "code",
   "execution_count": 39,
   "metadata": {},
   "outputs": [
    {
     "name": "stdout",
     "output_type": "stream",
     "text": [
      "2018-03-22 06:38:59,167 INFO sqlalchemy.engine.base.Engine SELECT t_user.fullname AS t_user_fullname, t_address.email AS t_address_email \n",
      "FROM t_user LEFT OUTER JOIN t_address ON t_user.id = t_address.user_id\n",
      "2018-03-22 06:38:59,170 INFO sqlalchemy.engine.base.Engine {}\n",
      "[('Ed Jones', 'ed@msn.com'), ('Ed Jones', 'ed.jones@yahoo.com'), ('Sofie Moore', 'sofie@gmail.com'), ('Sofie Moore', 'sofie@qq.com'), ('Sofie Moore', 'sofie.moore@example.com'), ('John Doe', None), ('Micheal Jackson', None)]\n",
      "2018-03-22 06:38:59,176 INFO sqlalchemy.engine.base.Engine SELECT t_user.fullname AS t_user_fullname, t_address.email AS t_address_email \n",
      "FROM t_user LEFT OUTER JOIN t_address ON t_user.id = t_address.user_id\n",
      "2018-03-22 06:38:59,177 INFO sqlalchemy.engine.base.Engine {}\n",
      "[('Ed Jones', 'ed@msn.com'), ('Ed Jones', 'ed.jones@yahoo.com'), ('Sofie Moore', 'sofie@gmail.com'), ('Sofie Moore', 'sofie@qq.com'), ('Sofie Moore', 'sofie.moore@example.com'), ('John Doe', None), ('Micheal Jackson', None)]\n"
     ]
    }
   ],
   "source": [
    "# 左连接outerjoin()\n",
    "print(session.query(User.fullname, Address.email).outerjoin(Address, User.id==Address.user_id).all())\n",
    "print(session.query(User.fullname, Address.email).join(Address, User.id==Address.user_id, isouter=True).all())"
   ]
  },
  {
   "cell_type": "markdown",
   "metadata": {},
   "source": [
    "### 使用SQL语句"
   ]
  },
  {
   "cell_type": "code",
   "execution_count": 40,
   "metadata": {},
   "outputs": [
    {
     "name": "stdout",
     "output_type": "stream",
     "text": [
      "2018-03-22 06:39:01,149 INFO sqlalchemy.engine.base.Engine SELECT t_user.id AS t_user_id, t_user.name AS t_user_name, t_user.fullname AS t_user_fullname, t_user.password AS t_user_password \n",
      "FROM t_user \n",
      "WHERE id<3 ORDER BY name\n",
      "2018-03-22 06:39:01,152 INFO sqlalchemy.engine.base.Engine {}\n",
      "Ed Jones\n",
      "John Doe\n"
     ]
    }
   ],
   "source": [
    "# 用text()函数传入SQL语句\n",
    "from sqlalchemy import text\n",
    "for row in session.query(User).filter(text('id<3')).order_by(text('name')):\n",
    "    print(row.fullname)"
   ]
  },
  {
   "cell_type": "code",
   "execution_count": 41,
   "metadata": {},
   "outputs": [
    {
     "name": "stdout",
     "output_type": "stream",
     "text": [
      "2018-03-22 06:39:02,106 INFO sqlalchemy.engine.base.Engine select * from t_user where name=%(name)s\n",
      "2018-03-22 06:39:02,108 INFO sqlalchemy.engine.base.Engine {'name': 'ed'}\n"
     ]
    },
    {
     "data": {
      "text/plain": [
       "[<User (id=1, name='ed', fullname='Ed Jones', password='654321')]"
      ]
     },
     "execution_count": 41,
     "metadata": {},
     "output_type": "execute_result"
    }
   ],
   "source": [
    "# 使用from_statement和text传入整个SQL语句执行\n",
    "session.query(User).from_statement(text('select * from t_user where name=:name')).params(name='ed').all()"
   ]
  },
  {
   "cell_type": "code",
   "execution_count": 42,
   "metadata": {},
   "outputs": [
    {
     "name": "stdout",
     "output_type": "stream",
     "text": [
      "2018-03-22 06:39:02,665 INFO sqlalchemy.engine.base.Engine select a.fullname, b.email from t_user a join t_address b on a.id=b.user_id\n",
      "2018-03-22 06:39:02,668 INFO sqlalchemy.engine.base.Engine {}\n"
     ]
    },
    {
     "data": {
      "text/plain": [
       "[('Ed Jones', 'ed@msn.com'),\n",
       " ('Ed Jones', 'ed.jones@yahoo.com'),\n",
       " ('Sofie Moore', 'sofie@gmail.com'),\n",
       " ('Sofie Moore', 'sofie@qq.com'),\n",
       " ('Sofie Moore', 'sofie.moore@example.com')]"
      ]
     },
     "execution_count": 42,
     "metadata": {},
     "output_type": "execute_result"
    }
   ],
   "source": [
    "# 使用SQL语句连表查询\n",
    "session.query(User.fullname, Address.email).from_statement(text(\n",
    "    'select a.fullname, b.email from t_user a join t_address b '\n",
    "    'on a.id=b.user_id')\n",
    ").all()"
   ]
  },
  {
   "cell_type": "markdown",
   "metadata": {},
   "source": [
    "### 计数"
   ]
  },
  {
   "cell_type": "code",
   "execution_count": 43,
   "metadata": {},
   "outputs": [
    {
     "name": "stdout",
     "output_type": "stream",
     "text": [
      "2018-03-22 06:39:04,103 INFO sqlalchemy.engine.base.Engine SELECT count(*) AS count_1 \n",
      "FROM (SELECT t_user.id AS t_user_id, t_user.name AS t_user_name, t_user.fullname AS t_user_fullname, t_user.password AS t_user_password \n",
      "FROM t_user \n",
      "WHERE t_user.name LIKE %(name_1)s) AS anon_1\n",
      "2018-03-22 06:39:04,108 INFO sqlalchemy.engine.base.Engine {'name_1': '%e%'}\n"
     ]
    },
    {
     "data": {
      "text/plain": [
       "3"
      ]
     },
     "execution_count": 43,
     "metadata": {},
     "output_type": "execute_result"
    }
   ],
   "source": [
    "# 使用count()对结果集计数\n",
    "session.query(User).filter(User.name.like('%e%')).count()"
   ]
  },
  {
   "cell_type": "code",
   "execution_count": 44,
   "metadata": {},
   "outputs": [
    {
     "name": "stdout",
     "output_type": "stream",
     "text": [
      "2018-03-22 06:39:06,082 INFO sqlalchemy.engine.base.Engine SELECT t_user.name AS t_user_name, count(t_user.name) AS count_1 \n",
      "FROM t_user GROUP BY t_user.name\n",
      "2018-03-22 06:39:06,084 INFO sqlalchemy.engine.base.Engine {}\n"
     ]
    },
    {
     "data": {
      "text/plain": [
       "[('ed', 1), ('john', 1), ('mike', 1), ('sofie', 1)]"
      ]
     },
     "execution_count": 44,
     "metadata": {},
     "output_type": "execute_result"
    }
   ],
   "source": [
    "# 使用func模块的SQL count计数\n",
    "from sqlalchemy import func\n",
    "session.query(User.name, func.count(User.name)).group_by(User.name).all()"
   ]
  },
  {
   "cell_type": "code",
   "execution_count": 45,
   "metadata": {},
   "outputs": [
    {
     "name": "stdout",
     "output_type": "stream",
     "text": [
      "2018-03-22 06:39:07,002 INFO sqlalchemy.engine.base.Engine SELECT count(t_user.id) AS count_1 \n",
      "FROM t_user\n",
      "2018-03-22 06:39:07,004 INFO sqlalchemy.engine.base.Engine {}\n"
     ]
    },
    {
     "data": {
      "text/plain": [
       "4"
      ]
     },
     "execution_count": 45,
     "metadata": {},
     "output_type": "execute_result"
    }
   ],
   "source": [
    "# 全表计数\n",
    "session.query(func.count(User.id)).scalar()"
   ]
  },
  {
   "cell_type": "markdown",
   "metadata": {},
   "source": [
    "### 使用relationship"
   ]
  },
  {
   "cell_type": "code",
   "execution_count": 46,
   "metadata": {},
   "outputs": [],
   "source": [
    "# 创建两张表的relationship，在primaryjoin中设定foreign关系，并不会设定数据库表之间的外键约束\n",
    "from sqlalchemy.orm import relationship\n",
    "Address.user = relationship('User', primaryjoin='User.id==foreign(Address.user_id)')\n",
    "User.address = relationship('Address', primaryjoin='foreign(User.id)==Address.user_id', uselist=True)"
   ]
  },
  {
   "cell_type": "code",
   "execution_count": 47,
   "metadata": {},
   "outputs": [
    {
     "name": "stdout",
     "output_type": "stream",
     "text": [
      "2018-03-22 06:39:24,617 INFO sqlalchemy.engine.base.Engine SELECT t_address.id AS t_address_id, t_address.user_id AS t_address_user_id, t_address.email AS t_address_email \n",
      "FROM t_address \n",
      "WHERE %(param_1)s = t_address.user_id\n",
      "2018-03-22 06:39:24,620 INFO sqlalchemy.engine.base.Engine {'param_1': 1}\n"
     ]
    },
    {
     "data": {
      "text/plain": [
       "[<Address (id=1, user_id=1, email='ed@msn.com')>,\n",
       " <Address (id=2, user_id=1, email='ed.jones@yahoo.com')>]"
      ]
     },
     "execution_count": 47,
     "metadata": {},
     "output_type": "execute_result"
    }
   ],
   "source": [
    "# 查看ed的所有电子邮件地址\n",
    "ed_user.address"
   ]
  },
  {
   "cell_type": "code",
   "execution_count": 48,
   "metadata": {},
   "outputs": [
    {
     "name": "stdout",
     "output_type": "stream",
     "text": [
      "2018-03-22 06:39:25,244 INFO sqlalchemy.engine.base.Engine INSERT INTO t_address (user_id, email) VALUES (%(user_id)s, %(email)s)\n",
      "2018-03-22 06:39:25,249 INFO sqlalchemy.engine.base.Engine {'user_id': 1, 'email': 'xx@yy.zz'}\n",
      "2018-03-22 06:39:25,253 INFO sqlalchemy.engine.base.Engine COMMIT\n"
     ]
    }
   ],
   "source": [
    "# 添加一条地址给ed\n",
    "session.add(Address(user_id=1, email='xx@yy.zz'))\n",
    "session.commit()"
   ]
  },
  {
   "cell_type": "code",
   "execution_count": 49,
   "metadata": {},
   "outputs": [
    {
     "name": "stdout",
     "output_type": "stream",
     "text": [
      "2018-03-22 06:39:26,271 INFO sqlalchemy.engine.base.Engine BEGIN (implicit)\n",
      "2018-03-22 06:39:26,277 INFO sqlalchemy.engine.base.Engine SELECT t_user.id AS t_user_id, t_user.name AS t_user_name, t_user.fullname AS t_user_fullname, t_user.password AS t_user_password \n",
      "FROM t_user \n",
      "WHERE t_user.id = %(param_1)s\n",
      "2018-03-22 06:39:26,279 INFO sqlalchemy.engine.base.Engine {'param_1': 1}\n",
      "2018-03-22 06:39:26,282 INFO sqlalchemy.engine.base.Engine SELECT t_address.id AS t_address_id, t_address.user_id AS t_address_user_id, t_address.email AS t_address_email \n",
      "FROM t_address \n",
      "WHERE %(param_1)s = t_address.user_id\n",
      "2018-03-22 06:39:26,284 INFO sqlalchemy.engine.base.Engine {'param_1': 1}\n"
     ]
    },
    {
     "data": {
      "text/plain": [
       "[<Address (id=1, user_id=1, email='ed@msn.com')>,\n",
       " <Address (id=2, user_id=1, email='ed.jones@yahoo.com')>,\n",
       " <Address (id=6, user_id=1, email='xx@yy.zz')>]"
      ]
     },
     "execution_count": 49,
     "metadata": {},
     "output_type": "execute_result"
    }
   ],
   "source": [
    "# 对应的address属性相应发生改变\n",
    "ed_user.address"
   ]
  },
  {
   "cell_type": "code",
   "execution_count": 50,
   "metadata": {},
   "outputs": [
    {
     "name": "stdout",
     "output_type": "stream",
     "text": [
      "2018-03-22 06:39:28,333 INFO sqlalchemy.engine.base.Engine ROLLBACK\n",
      "2018-03-22 06:39:28,337 INFO sqlalchemy.engine.base.Engine BEGIN (implicit)\n",
      "2018-03-22 06:39:28,339 INFO sqlalchemy.engine.base.Engine SELECT t_address.id AS t_address_id, t_address.user_id AS t_address_user_id, t_address.email AS t_address_email \n",
      "FROM t_address \n",
      "WHERE t_address.id = %(id_1)s\n",
      "2018-03-22 06:39:28,341 INFO sqlalchemy.engine.base.Engine {'id_1': 6}\n",
      "2018-03-22 06:39:28,346 INFO sqlalchemy.engine.base.Engine UPDATE t_address SET user_id=%(user_id)s WHERE t_address.id = %(t_address_id)s\n",
      "2018-03-22 06:39:28,347 INFO sqlalchemy.engine.base.Engine {'user_id': 2, 't_address_id': 6}\n",
      "2018-03-22 06:39:28,350 INFO sqlalchemy.engine.base.Engine COMMIT\n"
     ]
    }
   ],
   "source": [
    "# 修改该条地址对应的user\n",
    "session.rollback()\n",
    "lemail = session.query(Address).filter(Address.id==6).one()\n",
    "lemail.user_id=2\n",
    "session.commit()"
   ]
  },
  {
   "cell_type": "code",
   "execution_count": 51,
   "metadata": {},
   "outputs": [
    {
     "name": "stdout",
     "output_type": "stream",
     "text": [
      "2018-03-22 06:39:29,290 INFO sqlalchemy.engine.base.Engine BEGIN (implicit)\n",
      "2018-03-22 06:39:29,293 INFO sqlalchemy.engine.base.Engine SELECT t_user.id AS t_user_id, t_user.name AS t_user_name, t_user.fullname AS t_user_fullname, t_user.password AS t_user_password \n",
      "FROM t_user \n",
      "WHERE t_user.id = %(param_1)s\n",
      "2018-03-22 06:39:29,294 INFO sqlalchemy.engine.base.Engine {'param_1': 1}\n",
      "2018-03-22 06:39:29,299 INFO sqlalchemy.engine.base.Engine SELECT t_address.id AS t_address_id, t_address.user_id AS t_address_user_id, t_address.email AS t_address_email \n",
      "FROM t_address \n",
      "WHERE %(param_1)s = t_address.user_id\n",
      "2018-03-22 06:39:29,301 INFO sqlalchemy.engine.base.Engine {'param_1': 1}\n"
     ]
    },
    {
     "data": {
      "text/plain": [
       "[<Address (id=1, user_id=1, email='ed@msn.com')>,\n",
       " <Address (id=2, user_id=1, email='ed.jones@yahoo.com')>]"
      ]
     },
     "execution_count": 51,
     "metadata": {},
     "output_type": "execute_result"
    }
   ],
   "source": [
    "# address属性相应发生改变\n",
    "ed_user.address"
   ]
  },
  {
   "cell_type": "code",
   "execution_count": 52,
   "metadata": {},
   "outputs": [
    {
     "data": {
      "text/plain": [
       "<User (id=1, name='ed', fullname='Ed Jones', password='654321')"
      ]
     },
     "execution_count": 52,
     "metadata": {},
     "output_type": "execute_result"
    }
   ],
   "source": [
    "ed_user.address[1].user"
   ]
  },
  {
   "cell_type": "markdown",
   "metadata": {},
   "source": [
    "#### JOIN高级用法"
   ]
  },
  {
   "cell_type": "code",
   "execution_count": 53,
   "metadata": {},
   "outputs": [
    {
     "name": "stdout",
     "output_type": "stream",
     "text": [
      "2018-03-22 06:39:32,168 INFO sqlalchemy.engine.base.Engine SELECT t_user.id AS t_user_id, t_user.name AS t_user_name, t_user.fullname AS t_user_fullname, t_user.password AS t_user_password, t_address.id AS t_address_id, t_address.user_id AS t_address_user_id, t_address.email AS t_address_email \n",
      "FROM t_user INNER JOIN t_address ON t_user.id = t_address.user_id\n",
      "2018-03-22 06:39:32,171 INFO sqlalchemy.engine.base.Engine {}\n"
     ]
    },
    {
     "data": {
      "text/plain": [
       "[(<User (id=1, name='ed', fullname='Ed Jones', password='654321'),\n",
       "  <Address (id=1, user_id=1, email='ed@msn.com')>),\n",
       " (<User (id=1, name='ed', fullname='Ed Jones', password='654321'),\n",
       "  <Address (id=2, user_id=1, email='ed.jones@yahoo.com')>),\n",
       " (<User (id=2, name='john', fullname='John Doe', password='xxxxxx'),\n",
       "  <Address (id=6, user_id=2, email='xx@yy.zz')>),\n",
       " (<User (id=4, name='sofie', fullname='Sofie Moore', password='zzzzzz'),\n",
       "  <Address (id=3, user_id=4, email='sofie@gmail.com')>),\n",
       " (<User (id=4, name='sofie', fullname='Sofie Moore', password='zzzzzz'),\n",
       "  <Address (id=4, user_id=4, email='sofie@qq.com')>),\n",
       " (<User (id=4, name='sofie', fullname='Sofie Moore', password='zzzzzz'),\n",
       "  <Address (id=5, user_id=4, email='sofie.moore@example.com')>)]"
      ]
     },
     "execution_count": 53,
     "metadata": {},
     "output_type": "execute_result"
    }
   ],
   "source": [
    "# join()函数中指定连接条件\n",
    "session.query(User, Address).join(Address, User.id==Address.user_id).all()"
   ]
  },
  {
   "cell_type": "code",
   "execution_count": 54,
   "metadata": {},
   "outputs": [
    {
     "name": "stdout",
     "output_type": "stream",
     "text": [
      "2018-03-22 06:39:33,490 INFO sqlalchemy.engine.base.Engine SELECT t_user.id AS t_user_id, t_user.name AS t_user_name, t_user.fullname AS t_user_fullname, t_user.password AS t_user_password, t_address.id AS t_address_id, t_address.user_id AS t_address_user_id, t_address.email AS t_address_email \n",
      "FROM t_user INNER JOIN t_address ON t_user.id = t_address.user_id\n",
      "2018-03-22 06:39:33,493 INFO sqlalchemy.engine.base.Engine {}\n"
     ]
    },
    {
     "data": {
      "text/plain": [
       "[(<User (id=1, name='ed', fullname='Ed Jones', password='654321'),\n",
       "  <Address (id=1, user_id=1, email='ed@msn.com')>),\n",
       " (<User (id=1, name='ed', fullname='Ed Jones', password='654321'),\n",
       "  <Address (id=2, user_id=1, email='ed.jones@yahoo.com')>),\n",
       " (<User (id=2, name='john', fullname='John Doe', password='xxxxxx'),\n",
       "  <Address (id=6, user_id=2, email='xx@yy.zz')>),\n",
       " (<User (id=4, name='sofie', fullname='Sofie Moore', password='zzzzzz'),\n",
       "  <Address (id=3, user_id=4, email='sofie@gmail.com')>),\n",
       " (<User (id=4, name='sofie', fullname='Sofie Moore', password='zzzzzz'),\n",
       "  <Address (id=4, user_id=4, email='sofie@qq.com')>),\n",
       " (<User (id=4, name='sofie', fullname='Sofie Moore', password='zzzzzz'),\n",
       "  <Address (id=5, user_id=4, email='sofie.moore@example.com')>)]"
      ]
     },
     "execution_count": 54,
     "metadata": {},
     "output_type": "execute_result"
    }
   ],
   "source": [
    "# join()中使用relationship\n",
    "session.query(User, Address).join(User.address).all()"
   ]
  },
  {
   "cell_type": "code",
   "execution_count": 55,
   "metadata": {},
   "outputs": [
    {
     "name": "stdout",
     "output_type": "stream",
     "text": [
      "2018-03-22 06:39:34,850 INFO sqlalchemy.engine.base.Engine SELECT t_user.id AS t_user_id, t_user.name AS t_user_name, t_user.fullname AS t_user_fullname, t_user.password AS t_user_password, t_address.id AS t_address_id, t_address.user_id AS t_address_user_id, t_address.email AS t_address_email \n",
      "FROM t_user INNER JOIN t_address ON t_user.id = t_address.user_id\n",
      "2018-03-22 06:39:34,852 INFO sqlalchemy.engine.base.Engine {}\n"
     ]
    },
    {
     "data": {
      "text/plain": [
       "[(<User (id=1, name='ed', fullname='Ed Jones', password='654321'),\n",
       "  <Address (id=1, user_id=1, email='ed@msn.com')>),\n",
       " (<User (id=1, name='ed', fullname='Ed Jones', password='654321'),\n",
       "  <Address (id=2, user_id=1, email='ed.jones@yahoo.com')>),\n",
       " (<User (id=2, name='john', fullname='John Doe', password='xxxxxx'),\n",
       "  <Address (id=6, user_id=2, email='xx@yy.zz')>),\n",
       " (<User (id=4, name='sofie', fullname='Sofie Moore', password='zzzzzz'),\n",
       "  <Address (id=3, user_id=4, email='sofie@gmail.com')>),\n",
       " (<User (id=4, name='sofie', fullname='Sofie Moore', password='zzzzzz'),\n",
       "  <Address (id=4, user_id=4, email='sofie@qq.com')>),\n",
       " (<User (id=4, name='sofie', fullname='Sofie Moore', password='zzzzzz'),\n",
       "  <Address (id=5, user_id=4, email='sofie.moore@example.com')>)]"
      ]
     },
     "execution_count": 55,
     "metadata": {},
     "output_type": "execute_result"
    }
   ],
   "source": [
    "# join()中使用relationship的字符串条件进行连接\n",
    "session.query(User, Address).join('address').all()"
   ]
  },
  {
   "cell_type": "markdown",
   "metadata": {},
   "source": [
    "#### 使用子查询"
   ]
  },
  {
   "cell_type": "code",
   "execution_count": 56,
   "metadata": {},
   "outputs": [
    {
     "name": "stdout",
     "output_type": "stream",
     "text": [
      "2018-03-22 06:39:36,768 INFO sqlalchemy.engine.base.Engine SELECT t_user.id AS t_user_id, t_user.name AS t_user_name, t_user.fullname AS t_user_fullname, t_user.password AS t_user_password, anon_1.address_count AS anon_1_address_count \n",
      "FROM t_user LEFT OUTER JOIN (SELECT t_address.user_id AS user_id, count(t_address.id) AS address_count \n",
      "FROM t_address GROUP BY t_address.user_id) AS anon_1 ON t_user.id = anon_1.user_id\n",
      "2018-03-22 06:39:36,770 INFO sqlalchemy.engine.base.Engine {}\n"
     ]
    },
    {
     "data": {
      "text/plain": [
       "[(<User (id=1, name='ed', fullname='Ed Jones', password='654321'), 2),\n",
       " (<User (id=2, name='john', fullname='John Doe', password='xxxxxx'), 1),\n",
       " (<User (id=3, name='mike', fullname='Micheal Jackson', password='yyyyyy'),\n",
       "  None),\n",
       " (<User (id=4, name='sofie', fullname='Sofie Moore', password='zzzzzz'), 3)]"
      ]
     },
     "execution_count": 56,
     "metadata": {},
     "output_type": "execute_result"
    }
   ],
   "source": [
    "# 查询每个用户拥有的email数量\n",
    "s = session.query(Address.user_id, func.count(Address.id).label('address_count')).group_by(Address.user_id).subquery()\n",
    "session.query(User, s.c.address_count).outerjoin(s, User.id==s.c.user_id).all()"
   ]
  },
  {
   "cell_type": "code",
   "execution_count": 57,
   "metadata": {},
   "outputs": [
    {
     "name": "stdout",
     "output_type": "stream",
     "text": [
      "2018-03-22 06:39:38,788 INFO sqlalchemy.engine.base.Engine SELECT t_user.id AS t_user_id, t_user.name AS t_user_name, t_user.fullname AS t_user_fullname, t_user.password AS t_user_password, anon_1.id AS anon_1_id, anon_1.user_id AS anon_1_user_id, anon_1.email AS anon_1_email \n",
      "FROM t_user INNER JOIN (SELECT t_address.id AS id, t_address.user_id AS user_id, t_address.email AS email \n",
      "FROM t_address \n",
      "WHERE t_address.email != %(email_1)s) AS anon_1 ON t_user.id = anon_1.user_id\n",
      "2018-03-22 06:39:38,791 INFO sqlalchemy.engine.base.Engine {'email_1': 'sofie@qq.com'}\n"
     ]
    },
    {
     "data": {
      "text/plain": [
       "[(<User (id=1, name='ed', fullname='Ed Jones', password='654321'),\n",
       "  <Address (id=2, user_id=1, email='ed.jones@yahoo.com')>),\n",
       " (<User (id=1, name='ed', fullname='Ed Jones', password='654321'),\n",
       "  <Address (id=1, user_id=1, email='ed@msn.com')>),\n",
       " (<User (id=2, name='john', fullname='John Doe', password='xxxxxx'),\n",
       "  <Address (id=6, user_id=2, email='xx@yy.zz')>),\n",
       " (<User (id=4, name='sofie', fullname='Sofie Moore', password='zzzzzz'),\n",
       "  <Address (id=5, user_id=4, email='sofie.moore@example.com')>),\n",
       " (<User (id=4, name='sofie', fullname='Sofie Moore', password='zzzzzz'),\n",
       "  <Address (id=3, user_id=4, email='sofie@gmail.com')>)]"
      ]
     },
     "execution_count": 57,
     "metadata": {},
     "output_type": "execute_result"
    }
   ],
   "source": [
    "# 将子查询的结果放入实体对象中，需要使用aliased()函数将子查询与实体类关联在一起\n",
    "s = session.query(Address).filter(Address.email!='sofie@qq.com').subquery()\n",
    "adt = aliased(Address, s)\n",
    "session.query(User, adt).join(adt, User.address).all()"
   ]
  },
  {
   "cell_type": "markdown",
   "metadata": {},
   "source": [
    "#### 使用exists"
   ]
  },
  {
   "cell_type": "code",
   "execution_count": 58,
   "metadata": {},
   "outputs": [
    {
     "name": "stdout",
     "output_type": "stream",
     "text": [
      "2018-03-22 06:39:40,924 INFO sqlalchemy.engine.base.Engine SELECT t_user.fullname AS t_user_fullname \n",
      "FROM t_user \n",
      "WHERE EXISTS (SELECT * \n",
      "FROM t_address \n",
      "WHERE t_address.user_id = t_user.id)\n",
      "2018-03-22 06:39:40,926 INFO sqlalchemy.engine.base.Engine {}\n"
     ]
    },
    {
     "data": {
      "text/plain": [
       "[('Ed Jones'), ('John Doe'), ('Sofie Moore')]"
      ]
     },
     "execution_count": 58,
     "metadata": {},
     "output_type": "execute_result"
    }
   ],
   "source": [
    "# exists条件\n",
    "from sqlalchemy.sql import exists\n",
    "s = exists().where(Address.user_id == User.id)\n",
    "session.query(User.fullname).filter(s).all()"
   ]
  },
  {
   "cell_type": "code",
   "execution_count": 59,
   "metadata": {},
   "outputs": [
    {
     "name": "stdout",
     "output_type": "stream",
     "text": [
      "2018-03-22 06:39:41,476 INFO sqlalchemy.engine.base.Engine SELECT t_user.fullname AS t_user_fullname \n",
      "FROM t_user \n",
      "WHERE EXISTS (SELECT 1 \n",
      "FROM t_address \n",
      "WHERE t_user.id = t_address.user_id)\n",
      "2018-03-22 06:39:41,479 INFO sqlalchemy.engine.base.Engine {}\n"
     ]
    },
    {
     "data": {
      "text/plain": [
       "[('Ed Jones'), ('John Doe'), ('Sofie Moore')]"
      ]
     },
     "execution_count": 59,
     "metadata": {},
     "output_type": "execute_result"
    }
   ],
   "source": [
    "# 使用relationship的any()函数也可以达到一样的效果\n",
    "session.query(User.fullname).filter(User.address.any()).all()"
   ]
  },
  {
   "cell_type": "code",
   "execution_count": 60,
   "metadata": {},
   "outputs": [
    {
     "name": "stdout",
     "output_type": "stream",
     "text": [
      "2018-03-22 06:39:42,176 INFO sqlalchemy.engine.base.Engine SELECT t_user.fullname AS t_user_fullname \n",
      "FROM t_user \n",
      "WHERE EXISTS (SELECT 1 \n",
      "FROM t_address \n",
      "WHERE t_user.id = t_address.user_id AND t_address.email LIKE %(email_1)s)\n",
      "2018-03-22 06:39:42,178 INFO sqlalchemy.engine.base.Engine {'email_1': '%gmail%'}\n"
     ]
    },
    {
     "data": {
      "text/plain": [
       "[('Sofie Moore')]"
      ]
     },
     "execution_count": 60,
     "metadata": {},
     "output_type": "execute_result"
    }
   ],
   "source": [
    "# any()函数中还可以加入条件\n",
    "session.query(User.fullname).filter(User.address.any(Address.email.like('%gmail%'))).all()"
   ]
  },
  {
   "cell_type": "code",
   "execution_count": 61,
   "metadata": {},
   "outputs": [
    {
     "name": "stdout",
     "output_type": "stream",
     "text": [
      "2018-03-22 06:39:43,022 INFO sqlalchemy.engine.base.Engine SELECT t_address.email AS t_address_email \n",
      "FROM t_address \n",
      "WHERE EXISTS (SELECT 1 \n",
      "FROM t_user \n",
      "WHERE t_user.id = t_address.user_id AND t_user.name = %(name_1)s)\n",
      "2018-03-22 06:39:43,026 INFO sqlalchemy.engine.base.Engine {'name_1': 'ed'}\n"
     ]
    },
    {
     "data": {
      "text/plain": [
       "[('ed@msn.com'), ('ed.jones@yahoo.com')]"
      ]
     },
     "execution_count": 61,
     "metadata": {},
     "output_type": "execute_result"
    }
   ],
   "source": [
    "# relationship的has()函数与any()相似，但是是用在多对一关系中\n",
    "session.query(Address.email).filter(Address.user.has(User.name=='ed')).all()"
   ]
  },
  {
   "cell_type": "markdown",
   "metadata": {},
   "source": [
    "#### relationship的运算符"
   ]
  },
  {
   "cell_type": "code",
   "execution_count": 62,
   "metadata": {},
   "outputs": [
    {
     "name": "stdout",
     "output_type": "stream",
     "text": [
      "2018-03-22 06:39:44,273 INFO sqlalchemy.engine.base.Engine SELECT t_address.id AS t_address_id, t_address.user_id AS t_address_user_id, t_address.email AS t_address_email \n",
      "FROM t_address \n",
      "WHERE %(param_1)s = t_address.user_id\n",
      "2018-03-22 06:39:44,275 INFO sqlalchemy.engine.base.Engine {'param_1': 1}\n"
     ]
    },
    {
     "data": {
      "text/plain": [
       "[<Address (id=1, user_id=1, email='ed@msn.com')>,\n",
       " <Address (id=2, user_id=1, email='ed.jones@yahoo.com')>]"
      ]
     },
     "execution_count": 62,
     "metadata": {},
     "output_type": "execute_result"
    }
   ],
   "source": [
    "# __eq()__ == 多对一关系中比较相等\n",
    "session.query(Address).filter(Address.user == ed_user).all()"
   ]
  },
  {
   "cell_type": "code",
   "execution_count": 63,
   "metadata": {},
   "outputs": [
    {
     "name": "stdout",
     "output_type": "stream",
     "text": [
      "2018-03-22 06:39:44,942 INFO sqlalchemy.engine.base.Engine SELECT t_address.id AS t_address_id, t_address.user_id AS t_address_user_id, t_address.email AS t_address_email \n",
      "FROM t_address \n",
      "WHERE t_address.user_id != %(user_id_1)s OR t_address.user_id IS NULL\n",
      "2018-03-22 06:39:44,945 INFO sqlalchemy.engine.base.Engine {'user_id_1': 1}\n"
     ]
    },
    {
     "data": {
      "text/plain": [
       "[<Address (id=3, user_id=4, email='sofie@gmail.com')>,\n",
       " <Address (id=4, user_id=4, email='sofie@qq.com')>,\n",
       " <Address (id=5, user_id=4, email='sofie.moore@example.com')>,\n",
       " <Address (id=6, user_id=2, email='xx@yy.zz')>]"
      ]
     },
     "execution_count": 63,
     "metadata": {},
     "output_type": "execute_result"
    }
   ],
   "source": [
    "# __ne()__ != 多对一关系中比较不等\n",
    "session.query(Address).filter(Address.user != ed_user).all()"
   ]
  },
  {
   "cell_type": "code",
   "execution_count": 64,
   "metadata": {},
   "outputs": [
    {
     "name": "stdout",
     "output_type": "stream",
     "text": [
      "2018-03-22 06:39:45,464 INFO sqlalchemy.engine.base.Engine SELECT t_address.id AS t_address_id, t_address.user_id AS t_address_user_id, t_address.email AS t_address_email \n",
      "FROM t_address \n",
      "WHERE t_address.user_id IS NULL\n",
      "2018-03-22 06:39:45,466 INFO sqlalchemy.engine.base.Engine {}\n"
     ]
    },
    {
     "data": {
      "text/plain": [
       "[]"
      ]
     },
     "execution_count": 64,
     "metadata": {},
     "output_type": "execute_result"
    }
   ],
   "source": [
    "# 空值比较\n",
    "session.query(Address).filter(Address.user == None).all()"
   ]
  },
  {
   "cell_type": "code",
   "execution_count": 65,
   "metadata": {},
   "outputs": [
    {
     "name": "stdout",
     "output_type": "stream",
     "text": [
      "2018-03-22 06:39:46,098 INFO sqlalchemy.engine.base.Engine SELECT t_address.id AS t_address_id, t_address.user_id AS t_address_user_id, t_address.email AS t_address_email \n",
      "FROM t_address \n",
      "WHERE t_address.email LIKE %(email_1)s\n",
      "2018-03-22 06:39:46,101 INFO sqlalchemy.engine.base.Engine {'email_1': '%gmail%'}\n",
      "2018-03-22 06:39:46,107 INFO sqlalchemy.engine.base.Engine SELECT t_user.id AS t_user_id, t_user.name AS t_user_name, t_user.fullname AS t_user_fullname, t_user.password AS t_user_password \n",
      "FROM t_user \n",
      "WHERE t_user.id = %(param_1)s\n",
      "2018-03-22 06:39:46,109 INFO sqlalchemy.engine.base.Engine {'param_1': 4}\n"
     ]
    },
    {
     "data": {
      "text/plain": [
       "[<User (id=4, name='sofie', fullname='Sofie Moore', password='zzzzzz')]"
      ]
     },
     "execution_count": 65,
     "metadata": {},
     "output_type": "execute_result"
    }
   ],
   "source": [
    "# contains()，一对多关系中比较是否包含\n",
    "gmail = session.query(Address).filter(Address.email.like('%gmail%')).one()\n",
    "session.query(User).filter(User.address.contains(gmail)).all()"
   ]
  }
 ],
 "metadata": {
  "kernelspec": {
   "display_name": "Python 3",
   "language": "python",
   "name": "python3"
  },
  "language_info": {
   "codemirror_mode": {
    "name": "ipython",
    "version": 3
   },
   "file_extension": ".py",
   "mimetype": "text/x-python",
   "name": "python",
   "nbconvert_exporter": "python",
   "pygments_lexer": "ipython3",
   "version": "3.6.2"
  }
 },
 "nbformat": 4,
 "nbformat_minor": 2
}
