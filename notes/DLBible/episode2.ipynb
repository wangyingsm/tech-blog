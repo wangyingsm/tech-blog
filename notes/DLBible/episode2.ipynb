{
 "cells": [
  {
   "cell_type": "markdown",
   "metadata": {},
   "source": [
    "## 第二章 概率与信息论\n",
    "### 频率派概率：表示可重复性事件发生的频率\n",
    "### 贝叶斯概率：表示事件的确定性水平或可信度\n",
    "### 离散概率\n",
    "- 概率质量函数PMF：离散随机变量渠道某种状态的概率\n",
    "- $P(x=x_0)$ 表示x取x0的概率\n",
    "- $x \\sim P(x)$ 表示x遵从P(x)概率函数分布\n",
    "- 联合概率分布：$P(x=x_0, y=y_0)$ 表示$x$取$x_0$且$y$取$y_0$时的概率\n",
    "\n",
    "    P的定义域必须是x所有可能状态的集合\n",
    "    P(x)的取值应为$[0, 1]$\n",
    "    归一化：$\\Sigma_{x \\in X}=1$\n",
    "- 均匀分布：$P(x)_{x \\in X} = \\frac{1}{k}$ (x有k种可能状态)"
   ]
  },
  {
   "cell_type": "markdown",
   "metadata": {},
   "source": [
    "### 连续概率\n",
    "- 概率密度函数PDF：\n",
    "- PDF通过积分可求出变量落在一个区间内的概率，如x落在区间[a, b]间的概率为$$\\int _a^b P(x)\\mathrm{d}x$$\n",
    "- 连续均匀分布：$P(x)_a^b=\\frac{1}{b-a}$"
   ]
  },
  {
   "cell_type": "markdown",
   "metadata": {},
   "source": [
    "### 边缘概率\n",
    "已知一组变量的联合概率分布，求得其中一个子集的概率分布，这种子集概率被称为边缘概率分布\n",
    "- 求和法则（根据离散变量x和y及它们的分布P(x, y)，计算P(x)）：$$\\forall x0 \\in X, P(x = x0) = \\Sigma_{k \\in Y} P(x=x0, y=k)$$\n",
    "- 积分法则（连续变量）：$P(x) = \\int P(x, y) \\mathrm{d}y$"
   ]
  },
  {
   "cell_type": "markdown",
   "metadata": {},
   "source": [
    "### 条件概率\n",
    "- 给定$x=x_0$时，$y=y_0$的条件概率为：$P(y=y_0|x=x_0)$\n",
    "- 公式为：$$P(y=y0|x=x0) = \\frac{P(y=y0, x=x0)}{P(x=x0)}$$\n",
    "- 条件概率仅在$P(x=x_0)>0$时有意义\n",
    "- 链式法则（乘法法则）：$$P(x_1,x_2,...,x_n)=P(x_1)\\Pi_{i=2}^{n}P(x_i|x_1,...,x_{i-1})$$"
   ]
  },
  {
   "cell_type": "markdown",
   "metadata": {},
   "source": [
    "### 独立性和条件独立性\n",
    "- 相互独立的随机变量：$$\\forall x \\in X, y \\in Y, P(x=x_0, y=y_0)=P(x=x_0)P(y=y_0)$$\n",
    "- 条件独立：$$\\forall x \\in X, y \\in Y, z \\in Z, P(x=x_0, y=y_0|z=z_0)=P(x=x_0|z=z_0)P(y=y_0|z=z_0)$$\n",
    "- $x \\bot y$表示x和y相互独立，$x \\bot y|z$表示给定z的情况下，x和y条件独立"
   ]
  },
  {
   "cell_type": "markdown",
   "metadata": {},
   "source": [
    "### 期望、方差和协方差\n",
    "- 离散分布对于函数f(x)的期望：$$\\Bbb{E}_{x \\sim P}[f(x)]=\\Sigma P(x)f(x)$$\n",
    "- 连续分布对于函数f(x)的期望：$$\\Bbb{E}_{x \\sim P}[f(x)]=\\int_{X}P(x)f(x)dx$$\n",
    "- 期望是线性的：$$\\Bbb{E}[\\alpha f(x)+\\beta g(x)]=\\alpha \\Bbb{E}f(x)+\\beta \\Bbb{E}g(x)$$\n",
    "- 方差：$$Var(f(x))=\\Bbb{E}[(f(x)-\\Bbb{E}[f(x)])^2]$$\n",
    "- 标准差: $$\\sqrt{Var(f(x))}$$\n",
    "- 协方差（covariance ）在某种意义上给出了两个变量线性相关性的强度以及这些变量的尺度：$$Cov(f(x),g(y))=\\Bbb{E}[(f(x)-\\Bbb{E}[f(x)])(g(y)-\\Bbb{E}[g(y)])]$$\n",
    "    协方差的绝对值很大说明变量值变化大且距离均值远\n",
    "    协方差是正说明两个变量同时取较大的值或较小的值，是负说明两个变量倾向于一个取较大值一个取较小值\n",
    "- 协方差矩阵：随机向量$\\Bbb{x}\\in\\Bbb{R}^n$的协方差矩阵定义为$$Cov(\\Bbb{x})_{i,j}=Cov(x_i,x_j)$$，其对角元素是方差$$Cov(x_i,x_i)=Var(x_i)$$"
   ]
  },
  {
   "cell_type": "markdown",
   "metadata": {},
   "source": [
    "### 常用概率分布\n",
    "#### 伯努利分布\n",
    "$$P(x=1)=\\phi$$\n",
    "$$P(x=0)=1-\\phi$$\n",
    "$$P(x=\\bf{x})=\\phi^{\\bf{x}}(1-\\phi)^{1-\\bf{x}}$$\n",
    "$$\\Bbb{E}_{X}(x)=\\phi$$\n",
    "$$Var_{X}(x)=\\phi(1-\\phi)$$"
   ]
  },
  {
   "cell_type": "markdown",
   "metadata": {},
   "source": [
    "#### Multinoulli 分布（范畴分布）\n",
    "- 是指k个离散值在区间的分布，k是有限的\n",
    "- 由向量$\\Bbb{p}\\in [0,1]^{k-1}$参数化，$x_k$的概率由$1-\\Bbb{1}^{T}\\Bbb{p}$计算得到"
   ]
  },
  {
   "cell_type": "markdown",
   "metadata": {},
   "source": [
    "#### 正态分布（高斯分布）\n",
    "- $\\cal{N}(x;\\mu,\\sigma^2)=\\sqrt{\\frac{1}{2\\pi\\sigma^2}}exp(-\\frac{1}{2\\sigma^2}(x-\\mu)^2)$\n",
    "- 标准正态分布：$\\mu=0,\\sigma=1$\n",
    "- $\\Bbb{E}[\\cal{N}]=\\mu$\n",
    "- $Var(\\cal{N})=\\sigma^2,Std(\\cal{N})=\\sigma$"
   ]
  },
  {
   "cell_type": "code",
   "execution_count": 39,
   "metadata": {},
   "outputs": [
    {
     "data": {
      "text/plain": [
       "[<matplotlib.lines.Line2D at 0x7fa967c1b828>]"
      ]
     },
     "execution_count": 39,
     "metadata": {},
     "output_type": "execute_result"
    },
    {
     "data": {
      "image/png": "[encoded data removed]",
      "text/plain": [
       "<matplotlib.figure.Figure at 0x7fa967cee4a8>"
      ]
     },
     "metadata": {},
     "output_type": "display_data"
    }
   ],
   "source": [
    "# 标准正太分布图形\n",
    "import math\n",
    "import numpy as np\n",
    "def gause_distribution(x, mu, sigma):\n",
    "    return (np.sqrt(1/(2*math.pi*sigma*sigma)))*np.power(math.e,((-1)/(2*sigma*sigma)*(x-mu)*(x-mu)))\n",
    "\n",
    "x=np.linspace(-3.5, 3.5, 10001)\n",
    "\n",
    "y = gause_distribution(x, 0, 1)\n",
    "\n",
    "import matplotlib.pyplot as plt\n",
    "\n",
    "plt.plot(x, y)"
   ]
  },
  {
   "cell_type": "markdown",
   "metadata": {},
   "source": [
    "#### 多维正态分布\n",
    "- 参数$\\Sigma$是一个正定对称矩阵\n",
    "- 参数$\\mu$仍是均值，但是为向量均值\n",
    "- $\\cal{N}(x; \\mu, \\Sigma)=\\sqrt{\\frac{1}{(2\\pi)^ndet(\\Sigma)}}exp(-\\frac{1}{2}(x-\\mu)^T\\Sigma^{-1}(x-\\mu))$\n",
    "- 参数$\\Sigma$给出分布的协方差\n",
    "- 精度矩阵：$\\beta$是概率密度函数的逆\n",
    "- $\\cal{N}(x; \\mu, \\beta^{-1})=\\sqrt{\\frac{det(\\beta)}{(2\\pi)^n}}exp(-\\frac{1}{2}(x-\\mu)^T\\Sigma^{-1}(x-\\mu))$\n",
    "- 常用的协方差矩阵为对角阵，更简单的为各向同性高斯分布，$\\Sigma$为一个标量乘以单位阵"
   ]
  },
  {
   "cell_type": "markdown",
   "metadata": {},
   "source": [
    "#### 指数分布和拉普拉斯分布\n",
    "- 指数分布：$p(x; \\lambda)=\\lambda\\Bbb{1}_{\\geq0}exp(-\\lambda x)$\n",
    "- 指示函数$\\Bbb{1}_{\\geq0}$表示当x小于0时概率为0\n",
    "- 拉普拉斯分布：$Laplace(x; u, \\gamma)=\\frac{1}{2\\gamma}exp(-\\frac{\\mid x-\\mu\\mid}{\\gamma})$"
   ]
  },
  {
   "cell_type": "code",
   "execution_count": 11,
   "metadata": {},
   "outputs": [
    {
     "data": {
      "text/plain": [
       "[<matplotlib.lines.Line2D at 0x7f5a4b98c438>]"
      ]
     },
     "execution_count": 11,
     "metadata": {},
     "output_type": "execute_result"
    },
    {
     "data": {
      "image/png": "[encoded data removed]",
      "text/plain": [
       "<matplotlib.figure.Figure at 0x7f5a4b842be0>"
      ]
     },
     "metadata": {},
     "output_type": "display_data"
    }
   ],
   "source": [
    "# 指数分布\n",
    "import numpy as np\n",
    "import math\n",
    "from matplotlib import pyplot as plt\n",
    "def exponent_distribution(x, lam):\n",
    "    return lam*np.int8(x>=0)*np.exp(-lam*x)\n",
    "\n",
    "x = np.linspace(-1, 5, 1001)\n",
    "y = exponent_distribution(x, 1)\n",
    "plt.plot(x, y)"
   ]
  },
  {
   "cell_type": "code",
   "execution_count": 15,
   "metadata": {},
   "outputs": [
    {
     "data": {
      "text/plain": [
       "[<matplotlib.lines.Line2D at 0x7f5a49520048>]"
      ]
     },
     "execution_count": 15,
     "metadata": {},
     "output_type": "execute_result"
    },
    {
     "data": {
      "image/png": "[encoded data removed]",
      "text/plain": [
       "<matplotlib.figure.Figure at 0x7f5a4957b1d0>"
      ]
     },
     "metadata": {},
     "output_type": "display_data"
    }
   ],
   "source": [
    "# 拉普拉斯分布\n",
    "def laplace_distribution(x, mu, gamma):\n",
    "    return np.exp(-(np.abs(x-mu))/gamma)/2/gamma\n",
    "\n",
    "x = np.linspace(-3, 3, 1001)\n",
    "y = laplace_distribution(x, 0, 1)\n",
    "plt.plot(x, y)"
   ]
  },
  {
   "cell_type": "markdown",
   "metadata": {},
   "source": [
    "#### 狄拉克分布和经验分布\n"
   ]
  }
 ],
 "metadata": {
  "kernelspec": {
   "display_name": "Python 3",
   "language": "python",
   "name": "python3"
  },
  "language_info": {
   "codemirror_mode": {
    "name": "ipython",
    "version": 3
   },
   "file_extension": ".py",
   "mimetype": "text/x-python",
   "name": "python",
   "nbconvert_exporter": "python",
   "pygments_lexer": "ipython3",
   "version": "3.6.3"
  }
 },
 "nbformat": 4,
 "nbformat_minor": 2
}
