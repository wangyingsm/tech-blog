{
 "cells": [
  {
   "cell_type": "markdown",
   "metadata": {},
   "source": [
    "## 第二章 概率与信息论\n",
    "### 频率派概率：表示可重复性事件发生的频率\n",
    "### 贝叶斯概率：表示事件的确定性水平或可信度\n",
    "### 离散概率\n",
    "- 概率质量函数PMF：离散随机变量渠道某种状态的概率\n",
    "- $P(x=x_0)$ 表示x取x0的概率\n",
    "- $x \\sim P(x)$ 表示x遵从P(x)概率函数分布\n",
    "- 联合概率分布：$P(x=x_0, y=y_0)$ 表示$x$取$x_0$且$y$取$y_0$时的概率\n",
    "\n",
    "    P的定义域必须是x所有可能状态的集合\n",
    "    P(x)的取值应为$[0, 1]$\n",
    "    归一化：$\\Sigma_{x \\in X}=1$\n",
    "- 均匀分布：$P(x)_{x \\in X} = \\frac{1}{k}$ (x有k种可能状态)"
   ]
  },
  {
   "cell_type": "markdown",
   "metadata": {},
   "source": [
    "### 连续概率\n",
    "- 概率密度函数PDF：\n",
    "- PDF通过积分可求出变量落在一个区间内的概率，如x落在区间[a, b]间的概率为$$\\int _a^b P(x)\\mathrm{d}x$$\n",
    "- 连续均匀分布：$P(x)_a^b=\\frac{1}{b-a}$"
   ]
  },
  {
   "cell_type": "markdown",
   "metadata": {},
   "source": [
    "### 边缘概率\n",
    "已知一组变量的联合概率分布，求得其中一个子集的概率分布，这种子集概率被称为边缘概率分布\n",
    "- 求和法则（根据离散变量x和y及它们的分布P(x, y)，计算P(x)）：$$\\forall x0 \\in X, P(x = x0) = \\Sigma_{k \\in Y} P(x=x0, y=k)$$\n",
    "- 积分法则（连续变量）：$P(x) = \\int P(x, y) \\mathrm{d}y$"
   ]
  },
  {
   "cell_type": "markdown",
   "metadata": {},
   "source": [
    "### 条件概率\n",
    "- 给定$x=x_0$时，$y=y_0$的条件概率为：$P(y=y_0|x=x_0)$\n",
    "- 公式为：$$P(y=y0|x=x0) = \\frac{P(y=y0, x=x0)}{P(x=x0)}$$\n",
    "- 条件概率仅在$P(x=x_0)>0$时有意义\n",
    "- 链式法则（乘法法则）：$$P(x_1,x_2,...,x_n)=P(x_1)\\Pi_{i=2}^{n}P(x_i|x_1,...,x_{i-1})$$"
   ]
  },
  {
   "cell_type": "markdown",
   "metadata": {},
   "source": [
    "### 独立性和条件独立性\n",
    "- 相互独立的随机变量：$$\\forall x \\in X, y \\in Y, P(x=x_0, y=y_0)=P(x=x_0)P(y=y_0)$$\n",
    "- 条件独立：$$\\forall x \\in X, y \\in Y, z \\in Z, P(x=x_0, y=y_0|z=z_0)=P(x=x_0|z=z_0)P(y=y_0|z=z_0)$$\n",
    "- $x \\bot y$表示x和y相互独立，$x \\bot y|z$表示给定z的情况下，x和y条件独立"
   ]
  },
  {
   "cell_type": "markdown",
   "metadata": {},
   "source": [
    "### 期望、方差和协方差\n",
    "- 离散分布对于函数f(x)的期望：$$\\Bbb{E}_{x \\sim P}[f(x)]=\\Sigma P(x)f(x)$$\n",
    "- 连续分布对于函数f(x)的期望：$$\\Bbb{E}_{x \\sim P}[f(x)]=\\int_{X}P(x)f(x)dx$$\n",
    "- 期望是线性的：$$\\Bbb{E}[\\alpha f(x)+\\beta g(x)]=\\alpha \\Bbb{E}f(x)+\\beta \\Bbb{E}g(x)$$\n",
    "- 方差：$$Var(f(x))=\\Bbb{E}[(f(x)-\\Bbb{E}[f(x)])^2]$$\n",
    "- 标准差: $$\\sqrt{Var(f(x))}$$\n",
    "- 协方差（covariance ）在某种意义上给出了两个变量线性相关性的强度以及这些变量的尺度：$$Cov(f(x),g(y))=\\Bbb{E}[(f(x)-\\Bbb{E}[f(x)])(g(y)-\\Bbb{E}[g(y)])]$$\n",
    "    协方差的绝对值很大说明变量值变化大且距离均值远\n",
    "    协方差是正说明两个变量同时取较大的值或较小的值，是负说明两个变量倾向于一个取较大值一个取较小值\n",
    "- 协方差矩阵：随机向量$\\Bbb{x}\\in\\Bbb{R}^n$的协方差矩阵定义为$$Cov(\\Bbb{x})_{i,j}=Cov(x_i,x_j)$$，其对角元素是方差$$Cov(x_i,x_i)=Var(x_i)$$"
   ]
  },
  {
   "cell_type": "markdown",
   "metadata": {},
   "source": [
    "### 常用概率分布\n",
    "#### 伯努利分布\n",
    "$$P(x=1)=\\phi$$\n",
    "$$P(x=0)=1-\\phi$$\n",
    "$$P(x=\\bf{x})=\\phi^{\\bf{x}}(1-\\phi)^{1-\\bf{x}}$$\n",
    "$$\\Bbb{E}_{X}(x)=\\phi$$\n",
    "$$Var_{X}(x)=\\phi(1-\\phi)$$"
   ]
  },
  {
   "cell_type": "markdown",
   "metadata": {},
   "source": [
    "#### Multinoulli 分布（范畴分布）\n"
   ]
  }
 ],
 "metadata": {
  "kernelspec": {
   "display_name": "Python 3",
   "language": "python",
   "name": "python3"
  },
  "language_info": {
   "codemirror_mode": {
    "name": "ipython",
    "version": 3
   },
   "file_extension": ".py",
   "mimetype": "text/x-python",
   "name": "python",
   "nbconvert_exporter": "python",
   "pygments_lexer": "ipython3",
   "version": "3.6.3"
  }
 },
 "nbformat": 4,
 "nbformat_minor": 2
}
