{
 "cells": [
  {
   "cell_type": "markdown",
   "metadata": {},
   "source": [
    "## 第二章 概率与信息论\n",
    "### 频率派概率：表示可重复性事件发生的频率\n",
    "### 贝叶斯概率：表示事件的确定性水平或可信度\n",
    "### 离散概率\n",
    "- 概率质量函数PMF：离散随机变量渠道某种状态的概率\n",
    "- $P(x=x_0)$ 表示x取x0的概率\n",
    "- $x \\sim P(x)$ 表示x遵从P(x)概率函数分布\n",
    "- 联合概率分布：$P(x=x_0, y=y_0)$ 表示$x$取$x_0$且$y$取$y_0$时的概率\n",
    "\n",
    "    P的定义域必须是x所有可能状态的集合\n",
    "    P(x)的取值应为$[0, 1]$\n",
    "    归一化：$\\Sigma_{x \\in X}=1$\n",
    "- 均匀分布：$P(x)_{x \\in X} = \\frac{1}{k}$ (x有k种可能状态)"
   ]
  },
  {
   "cell_type": "markdown",
   "metadata": {},
   "source": [
    "### 连续概率\n",
    "- 概率密度函数PDF：\n",
    "- PDF通过积分可求出变量落在一个区间内的概率，如x落在区间[a, b]间的概率为$$\\int _a^b P(x)\\mathrm{d}x$$\n",
    "- 连续均匀分布：$P(x)_a^b=\\frac{1}{b-a}$"
   ]
  },
  {
   "cell_type": "markdown",
   "metadata": {},
   "source": [
    "### 边缘概率\n",
    "已知一组变量的联合概率分布，求得其中一个子集的概率分布，这种子集概率被称为边缘概率分布\n",
    "- 求和法则（根据离散变量x和y及它们的分布P(x, y)，计算P(x)）：$$\\forall x0 \\in X, P(x = x0) = \\Sigma_{k \\in Y} P(x=x0, y=k)$$\n",
    "- 积分法则（连续变量）：$P(x) = \\int P(x, y) \\mathrm{d}y$"
   ]
  },
  {
   "cell_type": "markdown",
   "metadata": {},
   "source": [
    "### 条件概率\n",
    "- 给定$x=x_0$时，$y=y_0$的条件概率为：$P(y=y_0|x=x_0)$\n",
    "- 公式为：$$P(y=y0|x=x0) = \\frac{P(y=y0, x=x0)}{P(x=x0)}$$\n",
    "- 条件概率仅在$P(x=x_0)>0$时有意义\n",
    "- 链式法则（乘法法则）：$$P(x_1,x_2,...,x_n)=P(x_1)\\Pi_{i=2}^{n}P(x_i|x_1,...,x_{i-1})$$"
   ]
  },
  {
   "cell_type": "markdown",
   "metadata": {},
   "source": [
    "### 独立性和条件独立性\n",
    "- 相互独立的随机变量：$$\\forall x \\in X, y \\in Y, P(x=x_0, y=y_0)=P(x=x_0)P(y=y_0)$$\n",
    "- 条件独立：$$\\forall x \\in X, y \\in Y, z \\in Z, P(x=x_0, y=y_0|z=z_0)=P(x=x_0|z=z_0)P(y=y_0|z=z_0)$$\n",
    "- $x \\bot y$表示x和y相互独立，$x \\bot y|z$表示给定z的情况下，x和y条件独立"
   ]
  },
  {
   "cell_type": "markdown",
   "metadata": {},
   "source": [
    "### 期望、方差和协方差\n",
    "- 离散分布对于函数f(x)的期望：$$\\Bbb{E}_{x \\sim P}[f(x)]=\\Sigma P(x)f(x)$$\n",
    "- 连续分布对于函数f(x)的期望：$$\\Bbb{E}_{x \\sim P}[f(x)]=\\int_{X}P(x)f(x)dx$$\n",
    "- 期望是线性的：$$\\Bbb{E}[\\alpha f(x)+\\beta g(x)]=\\alpha \\Bbb{E}f(x)+\\beta \\Bbb{E}g(x)$$\n",
    "- 方差：$$Var(f(x))=\\Bbb{E}[(f(x)-\\Bbb{E}[f(x)])^2]$$\n",
    "- 标准差: $$\\sqrt{Var(f(x))}$$\n",
    "- 协方差（covariance ）在某种意义上给出了两个变量线性相关性的强度以及这些变量的尺度：$$Cov(f(x),g(y))=\\Bbb{E}[(f(x)-\\Bbb{E}[f(x)])(g(y)-\\Bbb{E}[g(y)])]$$\n",
    "    协方差的绝对值很大说明变量值变化大且距离均值远\n",
    "    协方差是正说明两个变量同时取较大的值或较小的值，是负说明两个变量倾向于一个取较大值一个取较小值\n",
    "- 协方差矩阵：随机向量$\\Bbb{x}\\in\\Bbb{R}^n$的协方差矩阵定义为$$Cov(\\Bbb{x})_{i,j}=Cov(x_i,x_j)$$，其对角元素是方差$$Cov(x_i,x_i)=Var(x_i)$$"
   ]
  },
  {
   "cell_type": "markdown",
   "metadata": {},
   "source": [
    "### 常用概率分布\n",
    "#### 伯努利分布\n",
    "$$P(x=1)=\\phi$$\n",
    "$$P(x=0)=1-\\phi$$\n",
    "$$P(x=\\bf{x})=\\phi^{\\bf{x}}(1-\\phi)^{1-\\bf{x}}$$\n",
    "$$\\Bbb{E}_{X}(x)=\\phi$$\n",
    "$$Var_{X}(x)=\\phi(1-\\phi)$$"
   ]
  },
  {
   "cell_type": "markdown",
   "metadata": {},
   "source": [
    "#### Multinoulli 分布（范畴分布）\n",
    "- 是指k个离散值在区间的分布，k是有限的\n",
    "- 由向量$\\Bbb{p}\\in [0,1]^{k-1}$参数化，$x_k$的概率由$1-\\Bbb{1}^{T}\\Bbb{p}$计算得到"
   ]
  },
  {
   "cell_type": "markdown",
   "metadata": {},
   "source": [
    "#### 正态分布（高斯分布）\n",
    "- $\\cal{N}(x;\\mu,\\sigma^2)=\\sqrt{\\frac{1}{2\\pi\\sigma^2}}exp(-\\frac{1}{2\\sigma^2}(x-\\mu)^2)$\n",
    "- 标准正态分布：$\\mu=0,\\sigma=1$\n",
    "- $\\Bbb{E}[\\cal{N}]=\\mu$\n",
    "- $Var(\\cal{N})=\\sigma^2,Std(\\cal{N})=\\sigma$"
   ]
  },
  {
   "cell_type": "code",
   "execution_count": 2,
   "metadata": {},
   "outputs": [
    {
     "data": {
      "image/png": "[encoded data removed]",
      "text/plain": [
       "<matplotlib.figure.Figure at 0x7f6270216c88>"
      ]
     },
     "metadata": {},
     "output_type": "display_data"
    }
   ],
   "source": [
    "# 标准正太分布图形\n",
    "import math\n",
    "import numpy as np\n",
    "def gause_distribution(x, mu, sigma):\n",
    "    return (np.sqrt(1/(2*math.pi*sigma*sigma)))*np.power(math.e,((-1)/(2*sigma*sigma)*(x-mu)*(x-mu)))\n",
    "\n",
    "x=np.linspace(-3.5, 3.5, 10001)\n",
    "\n",
    "y = gause_distribution(x, 0, 1)\n",
    "\n",
    "from matplotlib import pyplot as plt\n",
    "\n",
    "plt.plot(x, y)\n",
    "plt.show()"
   ]
  },
  {
   "cell_type": "markdown",
   "metadata": {},
   "source": [
    "#### 多维正态分布\n",
    "- 参数$\\Sigma$是一个正定对称矩阵\n",
    "- 参数$\\mu$仍是均值，但是为向量均值\n",
    "- $\\cal{N}(x; \\mu, \\Sigma)=\\sqrt{\\frac{1}{(2\\pi)^ndet(\\Sigma)}}exp(-\\frac{1}{2}(x-\\mu)^T\\Sigma^{-1}(x-\\mu))$\n",
    "- 参数$\\Sigma$给出分布的协方差\n",
    "- 精度矩阵：$\\beta$是概率密度函数的逆\n",
    "- $\\cal{N}(x; \\mu, \\beta^{-1})=\\sqrt{\\frac{det(\\beta)}{(2\\pi)^n}}exp(-\\frac{1}{2}(x-\\mu)^T\\Sigma^{-1}(x-\\mu))$\n",
    "- 常用的协方差矩阵为对角阵，更简单的为各向同性高斯分布，$\\Sigma$为一个标量乘以单位阵"
   ]
  },
  {
   "cell_type": "markdown",
   "metadata": {},
   "source": [
    "#### 指数分布和拉普拉斯分布\n",
    "- 指数分布：$p(x; \\lambda)=\\lambda\\Bbb{1}_{\\geq0}exp(-\\lambda x)$\n",
    "- 指示函数$\\Bbb{1}_{\\geq0}$表示当x小于0时概率为0\n",
    "- 拉普拉斯分布：$Laplace(x; u, \\gamma)=\\frac{1}{2\\gamma}exp(-\\frac{\\mid x-\\mu\\mid}{\\gamma})$"
   ]
  },
  {
   "cell_type": "code",
   "execution_count": 3,
   "metadata": {},
   "outputs": [
    {
     "data": {
      "image/png": "[encoded data removed]",
      "text/plain": [
       "<matplotlib.figure.Figure at 0x7f6272252da0>"
      ]
     },
     "metadata": {},
     "output_type": "display_data"
    }
   ],
   "source": [
    "# 指数分布\n",
    "import numpy as np\n",
    "import math\n",
    "from matplotlib import pyplot as plt\n",
    "def exponent_distribution(x, lam):\n",
    "    return lam*np.int8(x>=0)*np.exp(-lam*x)\n",
    "\n",
    "x = np.linspace(-1, 5, 1001)\n",
    "y = exponent_distribution(x, 1)\n",
    "plt.plot(x, y)\n",
    "plt.show()"
   ]
  },
  {
   "cell_type": "code",
   "execution_count": 4,
   "metadata": {},
   "outputs": [
    {
     "data": {
      "image/png": "[encoded data removed]",
      "text/plain": [
       "<matplotlib.figure.Figure at 0x7f62700eab00>"
      ]
     },
     "metadata": {},
     "output_type": "display_data"
    }
   ],
   "source": [
    "# 拉普拉斯分布\n",
    "def laplace_distribution(x, mu, gamma):\n",
    "    return np.exp(-(np.abs(x-mu))/gamma)/2/gamma\n",
    "\n",
    "x = np.linspace(-3, 3, 1001)\n",
    "y = laplace_distribution(x, 0, 1)\n",
    "plt.plot(x, y)\n",
    "plt.show()"
   ]
  },
  {
   "cell_type": "markdown",
   "metadata": {},
   "source": [
    "#### 狄拉克分布和经验分布\n",
    "- Dirac delta函数：$p(x)=\\delta(x-\\mu)$\n",
    "- delta函数定义为除0以外所有点的值都为0，但是$\\int\\delta(x)=1$，是一个广义函数\n",
    "- 经验分布：$\\hat{p}(x)=\\frac{1}{m}\\Sigma_{i=1}^{m}\\delta(x-x^i)$\n",
    "- 训练集上得到的经验分布指明了我们采样来源的分布。它是训练数据的最大概率密度函数"
   ]
  },
  {
   "cell_type": "markdown",
   "metadata": {},
   "source": [
    "#### 分布的混合\n",
    "- 混合分布：$P(x)=\\Sigma_{i}P(c=i)P(x|c=i)$\n",
    "- 经验分布其实就是以狄拉克分布为组件的混合分布\n",
    "- 潜变量：混合分布中的c即为潜变量，x和c的联合分布取决于c的分布和x、c的条件分布\n",
    "- 高斯混合分布：其中条件分布$P(x|c=i)$为高斯分布，每个i都有对应的均值$\\mu_i$和协方差矩阵$\\Sigma_i$\n",
    "- 高斯混合分布中的$P(c=i)$叫做先验概率，表示x未知时模型中c的信念；观测到x后得到的$P(c|x)$叫做后验概率\n",
    "- 高斯混合模型可以以任意精度模拟任何的平缓概率密度，因此被称为万能近似器"
   ]
  },
  {
   "cell_type": "markdown",
   "metadata": {},
   "source": [
    "### 常用函数的性质\n",
    "#### logistic sigmoid: \n",
    "- $\\sigma(x)=\\frac{1}{1+exp(-x)}$\n",
    "- sigmoid通常用来生成伯努利分布中的参数$\\phi$，因为它的范围是$(0,1)$\n",
    "- sigmoid在变量取绝对值非常大的数时会出现饱和现象，意味着函数变平，对输入的微小改变不敏感"
   ]
  },
  {
   "cell_type": "code",
   "execution_count": 5,
   "metadata": {},
   "outputs": [
    {
     "data": {
      "image/png": "[encoded data removed]",
      "text/plain": [
       "<matplotlib.figure.Figure at 0x7f62701e0f28>"
      ]
     },
     "metadata": {},
     "output_type": "display_data"
    }
   ],
   "source": [
    "import numpy as np\n",
    "from matplotlib import pyplot as plt\n",
    "def logistic_sigmoid(x): return 1/(1+np.exp(-x))\n",
    "x = np.linspace(-10, 10, 1001)\n",
    "y = logistic_sigmoid(x)\n",
    "plt.plot(x, y)\n",
    "plt.show()"
   ]
  },
  {
   "cell_type": "markdown",
   "metadata": {},
   "source": [
    "#### softplus\n",
    "- $\\zeta(x)=log(1+exp(x))$\n",
    "- softplus通常用来产生正态分布的$\\beta$和$\\sigma$参数，因为它的范围是$(0,\\infty)$\n",
    "- softplus实际上是$max(0,x)$函数的平滑形式"
   ]
  },
  {
   "cell_type": "code",
   "execution_count": 6,
   "metadata": {},
   "outputs": [
    {
     "data": {
      "image/png": "[encoded data removed]",
      "text/plain": [
       "<matplotlib.figure.Figure at 0x7f6270031ba8>"
      ]
     },
     "metadata": {},
     "output_type": "display_data"
    }
   ],
   "source": [
    "import numpy as np\n",
    "from matplotlib import pyplot as plt\n",
    "def softplus(x): return np.log(1+np.exp(x))\n",
    "x = np.linspace(-10, 10, 101)\n",
    "y = softplus(x)\n",
    "plt.plot(x, y)\n",
    "plt.show()"
   ]
  },
  {
   "cell_type": "markdown",
   "metadata": {},
   "source": [
    "#### 非常有用的性质\n",
    "- $\\sigma(x)=\\frac{exp(x)}{exp(x)+exp(0)}$\n",
    "- $\\frac{d}{dx}\\sigma(x)=\\sigma(x)(1-\\sigma(x))$\n",
    "- $1-\\sigma(x)=\\sigma(-x)$\n",
    "- $log\\sigma(x)=-\\zeta(-x)$\n",
    "- $\\frac{d}{dx}\\zeta(x)=\\sigma(x)$\n",
    "- $\\forall x\\in(0,1),\\sigma^{-1}(x)=log(\\frac{x}{1-x})$\n",
    "- $\\forall x>0,\\zeta^{-1}(x)=log(exp(x)-1)$\n",
    "- $\\zeta(x)=\\int_{-\\infty}^(x)\\sigma(y)dy$\n",
    "- $\\zeta(x)-\\zeta(-x)=x$\n",
    "- $\\simga^{-1}(x)$称为分对数"
   ]
  },
  {
   "cell_type": "code",
   "execution_count": 7,
   "metadata": {},
   "outputs": [
    {
     "name": "stdout",
     "output_type": "stream",
     "text": [
      "[ True  True  True  True  True  True  True  True  True  True  True  True\n",
      "  True  True  True  True  True  True  True  True  True  True  True  True\n",
      "  True  True  True  True  True  True  True  True  True  True  True  True\n",
      "  True  True  True  True  True  True  True  True  True  True  True  True\n",
      "  True  True  True  True  True  True  True  True  True  True  True  True\n",
      "  True  True  True  True  True  True  True  True  True  True  True  True\n",
      "  True  True  True  True  True  True  True  True  True  True  True  True\n",
      "  True  True  True  True  True  True  True  True  True  True  True  True\n",
      "  True  True  True  True  True]\n",
      "[ True  True  True  True  True  True  True  True  True  True  True  True\n",
      "  True  True  True  True  True  True  True  True  True  True  True  True\n",
      "  True  True  True  True  True  True  True  True  True  True  True  True\n",
      "  True  True  True  True  True  True  True  True  True  True  True  True\n",
      "  True  True  True  True  True  True  True  True  True  True  True  True\n",
      "  True  True  True  True  True  True  True  True  True  True  True  True\n",
      "  True  True  True  True  True  True  True  True  True  True  True  True\n",
      "  True  True  True  True  True  True  True  True  True  True  True  True\n",
      "  True  True  True  True  True]\n",
      "[ True  True  True  True  True  True  True  True  True  True  True  True\n",
      "  True  True  True  True  True  True  True  True  True  True  True  True\n",
      "  True  True  True  True  True  True  True  True  True  True  True  True\n",
      "  True  True  True  True  True  True  True  True  True  True  True  True\n",
      "  True  True  True  True  True  True  True  True  True  True  True  True\n",
      "  True  True  True  True  True  True  True  True  True  True  True  True\n",
      "  True  True  True  True  True  True  True  True  True  True  True  True\n",
      "  True  True  True  True  True  True  True  True  True  True  True  True\n",
      "  True  True  True  True  True]\n",
      "[-10.   -9.8  -9.6  -9.4  -9.2  -9.   -8.8  -8.6  -8.4  -8.2  -8.   -7.8\n",
      "  -7.6  -7.4  -7.2  -7.   -6.8  -6.6  -6.4  -6.2  -6.   -5.8  -5.6  -5.4\n",
      "  -5.2  -5.   -4.8  -4.6  -4.4  -4.2  -4.   -3.8  -3.6  -3.4  -3.2  -3.\n",
      "  -2.8  -2.6  -2.4  -2.2  -2.   -1.8  -1.6  -1.4  -1.2  -1.   -0.8  -0.6\n",
      "  -0.4  -0.2   0.    0.2   0.4   0.6   0.8   1.    1.2   1.4   1.6   1.8\n",
      "   2.    2.2   2.4   2.6   2.8   3.    3.2   3.4   3.6   3.8   4.    4.2\n",
      "   4.4   4.6   4.8   5.    5.2   5.4   5.6   5.8   6.    6.2   6.4   6.6\n",
      "   6.8   7.    7.2   7.4   7.6   7.8   8.    8.2   8.4   8.6   8.8   9.\n",
      "   9.2   9.4   9.6   9.8  10. ]\n"
     ]
    }
   ],
   "source": [
    "# 验证性质\n",
    "print(np.abs(logistic_sigmoid(x)-np.exp(x)/(np.exp(x)+np.exp(np.zeros_like(x))))<1e-10)\n",
    "print(np.abs((1-logistic_sigmoid(x)))-logistic_sigmoid(-x)<1e-10)\n",
    "print(np.abs(np.log(logistic_sigmoid(x))-(-softplus(-x)))<1e-10)\n",
    "print(softplus(x)-softplus(-x))"
   ]
  },
  {
   "cell_type": "markdown",
   "metadata": {},
   "source": [
    "### 贝叶斯规则\n",
    "- $P(x|y)=\\frac{P(x)P(y|x)}{P(y)}$\n",
    "- 其中$P(y)=\\Sigma_{x}P(y|x)P(x)$"
   ]
  },
  {
   "cell_type": "markdown",
   "metadata": {},
   "source": [
    "## 信息论\n",
    "- 自信息：$I(x)=-logP(x)$\n",
    "- 奈特（nats）：一奈特表示以$\\frac{1}{e}$的概率观测到一个事件时获得的信息量\n",
    "- 比特（bits）：一比特表示以$\\frac{1}{2}$的概率观测到一个事件时获得的信息量\n",
    "- 香农熵：$H(x)=\\Bbb{E}_{x~P}[I(x)]=-\\Bbb{E}_{x~P}[logP(x)]$\n",
    "- 当x是连续的，香农熵被称为微分熵\n",
    "- KL散度：$D_{KL}(P||Q)=\\Bbb{E}_{x~P}[log\\frac{P(x)}{Q(x)}]=\\Bbb{E}_{x~P}[logP(x)-logQ(x)]$\n",
    "- 交叉熵：$H(P,Q)=H(P)+D_{KL}(P||Q)=-\\Bbb{E}_{x~P}logQ(x)$\n",
    "- 计算KL散度和交叉熵时，经常碰到$0log0$，在信息论中，定义为$lim_{x\\to 0}xlogx=0$"
   ]
  },
  {
   "cell_type": "code",
   "execution_count": 8,
   "metadata": {},
   "outputs": [
    {
     "data": {
      "image/png": "[encoded data removed]",
      "text/plain": [
       "<matplotlib.figure.Figure at 0x7f628d4c45c0>"
      ]
     },
     "metadata": {},
     "output_type": "display_data"
    }
   ],
   "source": [
    "import numpy as np\n",
    "from matplotlib import pyplot as plt\n",
    "def shanon_entropy(p): return (p-1)*np.log(1-p)-p*np.log(p)\n",
    "x = np.linspace(0,1,101)\n",
    "y = shanon_entropy(x[1:-1])\n",
    "plt.plot(x[1:-1], y)\n",
    "plt.show()"
   ]
  },
  {
   "cell_type": "markdown",
   "metadata": {},
   "source": [
    "### 结构化概率模型\n",
    "- 图模型：将多个变量的联合分布分解为单个变量分布的集合，每个变量对应着图上的一个节点，图中连接两个节点的边代表两个变量的相互作用\n",
    "- 影响因子：$p(x)=\\Pi_ip(x_i|Pa_{\\frak{g}}(x_i))$"
   ]
  }
 ],
 "metadata": {
  "kernelspec": {
   "display_name": "Python 3",
   "language": "python",
   "name": "python3"
  },
  "language_info": {
   "codemirror_mode": {
    "name": "ipython",
    "version": 3
   },
   "file_extension": ".py",
   "mimetype": "text/x-python",
   "name": "python",
   "nbconvert_exporter": "python",
   "pygments_lexer": "ipython3",
   "version": "3.6.3"
  }
 },
 "nbformat": 4,
 "nbformat_minor": 2
}
