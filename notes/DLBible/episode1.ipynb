{
 "cells": [
  {
   "cell_type": "markdown",
   "metadata": {},
   "source": [
    "## 第一章 线性代数\n",
    "### 标量、向量、矩阵和张量\n",
    "- 标量就是一个单独的数\n",
    "- 向量是一列有序的数：$x=\\begin{bmatrix}x_1\\\\x_2\\\\\\vdots\\\\x_n\\end{bmatrix}$\n",
    "- 矩阵是一个二维数组，$A\\in\\Bbb{R}^{m\\times n}$表示矩阵高度为m，宽度为n。$A=\\begin{bmatrix}A_{1,1}&A_{1,2}\\\\A_{2,1}&A_{2,2}\\end{bmatrix}$\n",
    "- 张量是超过俩维的数组，张量中坐标为$(i,j,k)$的元素记为$A_{i,j,k}$\n",
    "- 转置：$(A^T)_{i,j}=A_{j,i}$\n",
    "- 标量于矩阵相乘或相加：$D=aB+c$，其中$D_{i,j}=aB_{i,j}+c$\n",
    "- 矩阵相加：两个矩阵形状一样的情况下$C=A+B$，其中$C_{i,j}=A_{i,j}+B_{i,j}$\n",
    "- 矩阵和向量相加：如果矩阵宽度与向量长度相同$C=A+b$，其中$C_{i,j}=A_{i,j}+b_j$，隐式自动复制的方式被称为广播"
   ]
  },
  {
   "cell_type": "code",
   "execution_count": 1,
   "metadata": {},
   "outputs": [
    {
     "name": "stdout",
     "output_type": "stream",
     "text": [
      "[[0 3 6]\n",
      " [1 4 7]\n",
      " [2 5 8]]\n",
      "[[ 1 11 21]\n",
      " [31 41 51]\n",
      " [61 71 81]]\n",
      "[[ 0  4  8]\n",
      " [ 4  8 12]\n",
      " [ 8 12 16]]\n",
      "[[11 13 15]\n",
      " [14 16 18]\n",
      " [17 19 21]]\n"
     ]
    }
   ],
   "source": [
    "import numpy as np\n",
    "import numpy.linalg as la\n",
    "#矩阵转置\n",
    "a = np.arange(9).reshape(3,3)\n",
    "print(a.T)\n",
    "#标量与矩阵乘法及加法\n",
    "print(10*a+1)\n",
    "#矩阵加法\n",
    "print(a+a.T)\n",
    "#矩阵和向量相加\n",
    "b = np.arange(11,14)\n",
    "print(a+b)"
   ]
  },
  {
   "cell_type": "markdown",
   "metadata": {},
   "source": [
    "### 矩阵相乘\n",
    "- 如果$A\\in\\Bbb{R}^{m\\times n},B\\in\\Bbb{R}^{n\\times p}$，则$C=AB,C\\in\\Bbb{R}^{m\\times p}$，其中$C_{i,j}=\\Sigma_kA_{i,k}B_{k,j}$\n",
    "- Hadamard乘积：$C=A\\bigodot B$，其中$C_{i,j}=A_{i,j}B_{i,j}$\n",
    "- 向量点积：$z=x^Ty$\n",
    "- 分配律：$A(B+C)=AB+AC$\n",
    "- 结合律：$ABC=A(BC)$\n",
    "- 两个向量点积满足交换律：$x^Ty=y^Tx$\n",
    "- 矩阵乘积转置：$(AB)^T=B^TA^T$\n",
    "- 线性方程组：$Ax=b$，其中$A\\in\\Bbb{R}^{m\\times n},b\\in\\Bbb{R}^m$\n",
    "- 线性方程组展开：$$\\begin{bmatrix}A_{1,1}x_1+A_{1,2}x_2+\\cdots A_{1,n}x_n=b_1\\\\A_{2,1}x_1+A_{2,2}x_2+\\cdots A_{2,n}x_n=b_2\\\\\\vdots\\\\A_{m,1}x_1+A_{m,2}x_2+\\cdots A_{m,n}x_n=b_m\\end{bmatrix}$$"
   ]
  },
  {
   "cell_type": "code",
   "execution_count": 2,
   "metadata": {},
   "outputs": [
    {
     "name": "stdout",
     "output_type": "stream",
     "text": [
      "[[20 23 26 29]\n",
      " [56 68 80 92]]\n",
      "[[20 23 26 29]\n",
      " [56 68 80 92]]\n",
      "[[0 5 8]\n",
      " [9 8 5]]\n",
      "True\n",
      "True\n",
      "20\n",
      "20\n",
      "True\n",
      "True\n",
      "[ 2.5  2.  -5.5]\n",
      "True\n"
     ]
    }
   ],
   "source": [
    "import numpy as np\n",
    "import numpy.linalg as la\n",
    "#矩阵乘法\n",
    "a = np.arange(6).reshape(2,3)\n",
    "b = np.arange(12).reshape(3,4)\n",
    "print(a@b)\n",
    "print(np.matmul(a, b))\n",
    "#Hadamard乘法\n",
    "print(a*np.arange(6,0,-1).reshape(2,3))\n",
    "#分配律\n",
    "c = np.arange(12,24).reshape(3,4)\n",
    "print(np.allclose(a@(b+c), a@b+a@c))\n",
    "#结合律\n",
    "c = np.arange(12,20).reshape(4,2)\n",
    "print(np.allclose(a@b@c, a@(b@c)))\n",
    "#向量点积\n",
    "d = np.arange(4)\n",
    "e = np.arange(1,5)\n",
    "print(d.dot(e))\n",
    "print(d@e)\n",
    "#向量点积交换律\n",
    "print(np.allclose(d.T@e, e.T@d))\n",
    "#矩阵乘积转置\n",
    "print(np.allclose((a@b).T, b.T@a.T))\n",
    "#线性方程组求解\n",
    "f = np.array([[1,2,1],[0,1,0],[2,-1,0]])\n",
    "b = np.array([1,2,3])\n",
    "x = la.inv(f)@b\n",
    "print(x)\n",
    "print(np.allclose(f@x, b))"
   ]
  },
  {
   "cell_type": "markdown",
   "metadata": {},
   "source": [
    "### 单位矩阵和逆矩阵\n",
    "- 单位矩阵$\\mit{I}$：$\\forall x\\in\\Bbb{R}^n,\\mit{I}_nx=x$\n",
    "- 矩阵逆：$A^{-1}A=\\mit{I}_n$\n",
    "- 可以通过逆矩阵简单的求解线性方程组：$x=A^{-1}b$"
   ]
  },
  {
   "cell_type": "code",
   "execution_count": 3,
   "metadata": {},
   "outputs": [
    {
     "name": "stdout",
     "output_type": "stream",
     "text": [
      "[[ 1.  0.  0.]\n",
      " [ 0.  1.  0.]\n",
      " [ 0.  0.  1.]]\n",
      "[[ 0.   0.5  0.5]\n",
      " [ 0.   1.   0. ]\n",
      " [ 1.  -2.5 -0.5]]\n"
     ]
    },
    {
     "data": {
      "text/plain": [
       "array([[ 1.,  0.,  0.],\n",
       "       [ 0.,  1.,  0.],\n",
       "       [ 0.,  0.,  1.]])"
      ]
     },
     "execution_count": 3,
     "metadata": {},
     "output_type": "execute_result"
    }
   ],
   "source": [
    "import numpy as np\n",
    "import numpy.linalg as la\n",
    "#单位矩阵\n",
    "print(np.eye(3))\n",
    "#逆矩阵\n",
    "a = np.array([[1,2,1],[0,1,0],[2,-1,0]])\n",
    "print(la.inv(a))\n",
    "la.inv(a)@a"
   ]
  },
  {
   "cell_type": "markdown",
   "metadata": {},
   "source": [
    "### 线性相关和生成子空间\n",
    "- 线性组合是指一组向量乘以其对应标量系数之后的和：$\\Sigma_ic_iv^{(i)}$\n",
    "- 生成子空间是原始向量线性组合后所能到达的点的集合\n",
    "- 向量$b$存在于矩阵$A$列向量的生成子空间中，则$Ax=b$有解，此生成子空间称为矩阵$A$的列空间或值域\n",
    "- 如果一组向量中某个向量是另一个向量的线性组合，则称该组向量是线性相关的，否则就称为该组向量是线性无关的\n",
    "- 如果需要矩阵$A$的值域涵盖整个空间$\\Bbb{R}^m$，必须满足$A$中至少包含一组$m$个线性无关的列向量\n",
    "- 如果矩阵$A$包含多于一组$m$个线性无关的列向量，则线性方程组有多于一个解\n",
    "- 因此线性方程组有唯一解（矩阵$A$可逆）的条件是：$A$是一个方阵，即$A\\in\\Bbb{R}^{m\\times m}$，且所有列向量都是线性无关的\n",
    "- 一个列向量线性相关的方阵称为奇异方阵"
   ]
  },
  {
   "cell_type": "markdown",
   "metadata": {},
   "source": [
    "### 范数\n",
    "- 范数：衡量向量大小的定义值，实际上就是点x（向量x）到原点的距离\n",
    "- $L^p$范数定义：$\\mid\\mid x \\mid\\mid_p=(\\Sigma_i\\mid x_i \\mid^p)^{\\frac{1}{p}}$\n",
    "- 范数实际上可以是满足下列性质的任何函数f：$$f(x)=0\\implies x=0$$ $$f(x+y)\\leq f(x)+f(y)$$ $$\\forall\\alpha\\in\\Bbb{R},f(\\alpha x)=\\mid\\alpha\\mid f(x)$$\n",
    "- $p=2$是，$L^2$范数被称为欧几里得范数。因为经常使用，常常简写为$\\mid\\mid x \\mid\\mid$\n",
    "- 平方$L_2$范数：$L^2$在计算上比$L_2$范数本身更简单，因为$L^2$范数的导数仅与每个对应元素相关\n",
    "- $L^2$范数在原点附近增长十分缓慢，此时通常使用$L^1$范数：$\\mid\\mid x \\mid\\mid_1=\\Sigma_i\\mid x_i \\mid$\n",
    "- $L^0$范数：向量中非零元素的个数\n",
    "- $L^\\infty$范数（最大范数）：$\\mid\\mid x \\mid\\mid_\\infty=max_i\\mid x_i \\mid$\n",
    "- Frobenius范数：衡量矩阵的大小，$\\mid\\mid A\\mid\\mid_F=\\sqrt{\\Sigma_{i,j}A_{i,j}^2}$\n",
    "- 两个向量的点积可以用范数表示：$x^Ty=\\mid\\mid x\\mid\\mid_2\\mid\\mid y\\mid\\mid_2\\cos{\\theta}$，$\\theta$表示两个向量之间的夹角"
   ]
  },
  {
   "cell_type": "code",
   "execution_count": 4,
   "metadata": {},
   "outputs": [
    {
     "name": "stdout",
     "output_type": "stream",
     "text": [
      "5.47722557505\n",
      "30.0\n",
      "10.0\n",
      "4.0\n",
      "4.0\n",
      "22.4944437584\n",
      "0.425115150949\n"
     ]
    }
   ],
   "source": [
    "import numpy as np\n",
    "import numpy.linalg as la\n",
    "a = np.arange(5)\n",
    "#L2范数\n",
    "print(la.norm(a))\n",
    "#平方L2范数\n",
    "print(la.norm(a)**2)\n",
    "#L1范数\n",
    "print(la.norm(a, 1))\n",
    "#L0范数\n",
    "print(la.norm(a, 0))\n",
    "#Lmax范数\n",
    "print(la.norm(a, np.inf))\n",
    "#Frobenius范数\n",
    "b = np.arange(12).reshape(4,3)\n",
    "print(la.norm(b, 'fro'))\n",
    "#用范数和点积求向量角度余弦\n",
    "c = np.array([1,-10,0,4,7])\n",
    "La = la.norm(a)\n",
    "Lc = la.norm(c)\n",
    "cosac = a.dot(c)/(La*Lc)\n",
    "print(cosac)"
   ]
  },
  {
   "cell_type": "markdown",
   "metadata": {},
   "source": [
    "### 特殊类型的矩阵和向量\n",
    "- 对角矩阵：除主对角线外其他元素都是零的矩阵，用$diag(x)$表示由向量x给出的主对角线元素的对角方阵\n",
    "- 对角方阵的逆矩阵存在的充分必要条件是对角方阵中对角线上的元素都是非零值：$diag(x)^{-1}=diag([\\frac{1}{x_1},\\cdots,\\frac{1}{x_n}]^T)$\n",
    "- 对称矩阵：转置和自身相等的矩阵$A=A^T$\n",
    "- 单位向量：具有单位范数的向量$\\mid\\mid x\\mid\\mid_2=1$\n",
    "- 如果$x^Ty=0$，我们称x, y正交。如果x, y的范数都不为零，那么x和y的夹角为90度。如果x和y是正交的单位向量，我们称x, y标准正交\n",
    "- 正交矩阵：行向量和列向量分别都是标准正交的方阵。$A^TA=AA^T=\\mit{I}$，即$A^{-1}=A^T$"
   ]
  },
  {
   "cell_type": "code",
   "execution_count": 5,
   "metadata": {},
   "outputs": [
    {
     "name": "stdout",
     "output_type": "stream",
     "text": [
      "[[1 0 0]\n",
      " [0 2 0]\n",
      " [0 0 3]]\n",
      "True\n",
      "1.0\n",
      "0.0 2.0\n",
      "0.0 1.0\n",
      "True\n"
     ]
    }
   ],
   "source": [
    "import numpy as np\n",
    "import numpy.linalg as la\n",
    "#对角矩阵\n",
    "print(np.diag([1,2,3]))\n",
    "#对称矩阵\n",
    "a = np.array([[1,0,-1],[0,2,-2],[-1,-2,3]])\n",
    "print(np.allclose(a.T, a))\n",
    "#单位向量\n",
    "b = np.array([0.5,-0.5,-0.5,0.5])\n",
    "print(la.norm(b))\n",
    "#正交和标准正交\n",
    "c = np.array([1,1,1,1])\n",
    "print(b.dot(c),la.norm(c))\n",
    "d = np.array([0.5,0.5,0.5,0.5])\n",
    "print(b.dot(d),la.norm(d))\n",
    "#正交矩阵\n",
    "e = np.array([[0,0,1],[1,0,0],[0,1,0]])\n",
    "print(np.allclose(la.inv(e), e.T))"
   ]
  },
  {
   "cell_type": "markdown",
   "metadata": {},
   "source": [
    "### 特征分解\n",
    "- 特征向量和特征值：$Av=\\lambda v$，v称为A矩阵的特征向量，标量$\\lambda$称为A矩阵的特征值\n",
    "- 单位特征向量：具有单位范数的特征向量\n",
    "- 特征分解：假设A有n个线性无关的特征向量，组合成一个矩阵$V=[v^{(1)},\\cdots,v^{(n)}]$，对应着n个特征值，组合成一个向量$\\lambda=[\\lambda_1,\\cdots,\\lambda_n]$，A的特征分解记为$A=Vdiag(\\lambda)V^{-1}$\n",
    "- 每个实对称矩阵都可以分解成实特征向量和实特征值：$A=Q\\bigwedge Q^T$，Q是A的特征向量组成的正交矩阵，$\\bigwedge$是特征值组成的对角矩阵。\n",
    "- 所有特征值都是正数的矩阵被称为正定，所有特征值都是非负数的矩阵被称为半正定，所有特征值都是负数的矩阵被称为负定，所有特征值都是非正数的矩阵被称为半负定\n",
    "- 一个矩阵是奇异的当且仅当矩阵的特征值含有零"
   ]
  },
  {
   "cell_type": "code",
   "execution_count": 6,
   "metadata": {},
   "outputs": [
    {
     "name": "stdout",
     "output_type": "stream",
     "text": [
      "[[-0.84326331  0.1019277  -0.52774779]\n",
      " [ 0.21493528 -0.8359921  -0.50489607]\n",
      " [ 0.49265588  0.53919195 -0.6830536 ]]\n",
      "[-1.26244658  0.46620643  6.79624015]\n",
      "True True True\n",
      "True True True\n",
      "True\n",
      "True\n",
      "True\n",
      "True\n",
      "True\n",
      "[[ 0.52774779  0.84326331  0.1019277 ]\n",
      " [ 0.50489607 -0.21493528 -0.8359921 ]\n",
      " [ 0.6830536  -0.49265588  0.53919195]]\n",
      "[ 6.79624015 -1.26244658  0.46620643]\n",
      "True True True\n",
      "True True True\n",
      "True\n",
      "True\n",
      "True\n",
      "True\n",
      "True\n",
      "34.3 µs ± 281 ns per loop (mean ± std. dev. of 7 runs, 10000 loops each)\n",
      "16.2 µs ± 115 ns per loop (mean ± std. dev. of 7 runs, 100000 loops each)\n"
     ]
    }
   ],
   "source": [
    "import numpy as np\n",
    "import numpy.linalg as la\n",
    "#特征向量和特征值\n",
    "def print_result(a, w, v):\n",
    "    print(v)\n",
    "    print(w)\n",
    "    #验证v是正交矩阵\n",
    "    print(v[:,0]@v[:,1]<1e-10, v[:,1]@v[:,2]<1e-10, v[:,0]@v[:,2]<1e-10)\n",
    "    print(v[0,:]@v[1,:]<1e-10, v[1,:]@v[2,:]<1e-10, v[0,:]@v[2,:]<1e-10)\n",
    "    #验证特征向量和特征值\n",
    "    print(np.allclose(a@v[:,0], w[0]*v[:,0]))\n",
    "    print(np.allclose(a@v[:,1], w[1]*v[:,1]))\n",
    "    print(np.allclose(a@v[:,2], w[2]*v[:,2]))\n",
    "    print(np.allclose(a@v, v@np.diag(w)))\n",
    "    print(np.allclose(a, v@np.diag(w)@v.T))\n",
    "a = np.array([[1,2,3],[2,2,2],[3,2,3]])\n",
    "w, v = la.eigh(a)\n",
    "print_result(a, w, v)\n",
    "w, v = la.eig(a)\n",
    "print_result(a, w, v)\n",
    "#numpy eig和eigh的效率对比，在明确矩阵是实对称矩阵的情况下，一定使用eigh\n",
    "%timeit la.eig(a)\n",
    "%timeit la.eigh(a)"
   ]
  },
  {
   "cell_type": "markdown",
   "metadata": {},
   "source": [
    "### 奇异值分解\n",
    "- 奇异值分解：$A=UDV^T,A\\in\\Bbb{R}^{m\\times n},U\\in\\Bbb{R}^{m\\times m},D\\in\\Bbb{R}^{m\\times n},V\\in\\Bbb{R}^{n\\times n}$\n",
    "- U和V都为正交矩阵，D为对角矩阵\n",
    "- 奇异值：D对角线上的值\n",
    "- 左奇异向量：U的列向量；右奇异向量：V的列向量\n",
    "- A的左奇异向量是$AA^T$的特征向量，A的右奇异向量是$A^TA$的特征向量\n",
    "- A的非零奇异值是$A^TA$特征值的平方根，也是$AA^T$特征值的平方根"
   ]
  },
  {
   "cell_type": "code",
   "execution_count": 7,
   "metadata": {},
   "outputs": [
    {
     "name": "stdout",
     "output_type": "stream",
     "text": [
      "[[-0.1473065  -0.90090739  0.40824829]\n",
      " [-0.50027528 -0.2881978  -0.81649658]\n",
      " [-0.85324407  0.32451178  0.40824829]]\n",
      "[  2.24092982e+01   1.95534034e+00   7.68985043e-16]\n",
      "[[-0.39390139 -0.46087474 -0.5278481  -0.59482145]\n",
      " [ 0.73813393  0.29596363 -0.14620666 -0.58837696]\n",
      " [-0.50775138  0.52390687  0.47544042 -0.4915959 ]\n",
      " [-0.20539847  0.65232016 -0.68844492  0.24152322]]\n",
      "True\n"
     ]
    }
   ],
   "source": [
    "import numpy as np\n",
    "import numpy.linalg as la\n",
    "#奇异值分解\n",
    "a = np.arange(12).reshape(3,4)\n",
    "u,d,v = la.svd(a)\n",
    "print(u)\n",
    "print(d)\n",
    "print(v)\n",
    "#验证\n",
    "print(np.allclose(a,u@np.c_[np.diag(d), np.zeros(3)]@v))"
   ]
  },
  {
   "cell_type": "markdown",
   "metadata": {},
   "source": [
    "### Moore-Penrose伪逆\n",
    "- Moore-Penrose伪逆：$A^+=\\lim_{\\alpha\\to 0}(A^TA+\\alpha I)^{-1}A^T$\n",
    "- 实际计算伪逆：$A^+=VD^+U^T$，U、D、T是矩阵A奇异值分解的结果，对角矩阵D的伪逆$D^+$是其非零元素取倒数之后再转置$D^+=diag(d_1,\\cdots,d_n)^T$\n",
    "- 当A的列数大于行数时，可以通过$x=A^+b$求解$Ax=b$线性方程组的一组解，且求得的x是所有可行解中$L^2$范数最小的一组\n",
    "- 当A的行数大于列数时，通过$x=A^+b$得到的x是$\\mid\\mid Ax-b\\mid\\mid_2$最小的一组"
   ]
  },
  {
   "cell_type": "code",
   "execution_count": 8,
   "metadata": {},
   "outputs": [
    {
     "name": "stdout",
     "output_type": "stream",
     "text": [
      "[[-0.43333333 -0.22777778 -0.02222222  0.18333333]\n",
      " [-0.03333333 -0.01111111  0.01111111  0.03333333]\n",
      " [ 0.36666667  0.20555556  0.04444444 -0.11666667]]\n",
      "True\n"
     ]
    }
   ],
   "source": [
    "import numpy as np\n",
    "import numpy.linalg as la\n",
    "#Moore-Penrose伪逆\n",
    "a = np.arange(12).reshape(4,3)\n",
    "b = np.array([1,2,3,4])\n",
    "pa = la.pinv(a)\n",
    "print(pa)\n",
    "#验证\n",
    "x = pa@b\n",
    "print(np.allclose(a@x, b))"
   ]
  },
  {
   "cell_type": "markdown",
   "metadata": {},
   "source": [
    "### 迹运算\n",
    "- 迹运算返回矩阵对角线元素的和：$Tr(A)=\\Sigma_iA_{i,i}$\n",
    "- Frobenius范数的迹运算定义：$\\mid\\mid A\\mid\\mid_F=\\sqrt{Tr(AA^T)}$\n",
    "- 迹运算在转置运算中保持不变：$Tr(A)=Tr(A^T)$\n",
    "- 多个矩阵相乘，只要保持循环次序不变，迹运算不变：$Tr(ABC)=tr(CAB)=Tr(BCA)$，更一般的$Tr(\\Pi_{i=1}^nA^{(i)})=Tr(A^{(n)}\\Pi_{i=1}^{n-1}A^{(i)})$\n",
    "- 标量的迹运算是自身：$\\alpha=Tr(\\alpha)$"
   ]
  },
  {
   "cell_type": "code",
   "execution_count": 9,
   "metadata": {},
   "outputs": [
    {
     "name": "stdout",
     "output_type": "stream",
     "text": [
      "12\n",
      "True\n",
      "True\n",
      "True\n",
      "True\n"
     ]
    }
   ],
   "source": [
    "import numpy as np\n",
    "import numpy.linalg as la\n",
    "a = np.arange(9).reshape(3,3)\n",
    "#迹运算\n",
    "tr = np.trace(a)\n",
    "print(tr)\n",
    "#验证\n",
    "print(la.norm(a, 'fro')==np.sqrt(np.trace(a@a.T)))\n",
    "print(tr==np.trace(a.T))\n",
    "b = np.arange(12, 21).reshape(3,3)\n",
    "c = np.arange(25, 34).reshape(3,3)\n",
    "print(np.trace(a@b@c)==np.trace(c@a@b))\n",
    "print(np.trace(c@a@b)==np.trace(b@c@a))"
   ]
  },
  {
   "cell_type": "markdown",
   "metadata": {},
   "source": [
    "### 行列式\n",
    "- 行列式：$det(A)$是矩阵特征值的乘积，表示矩阵参与乘法后空间扩大或缩小的系数"
   ]
  },
  {
   "cell_type": "code",
   "execution_count": 10,
   "metadata": {},
   "outputs": [
    {
     "name": "stdout",
     "output_type": "stream",
     "text": [
      "-4.0\n",
      "True\n"
     ]
    }
   ],
   "source": [
    "import numpy as np\n",
    "import numpy.linalg as la\n",
    "a = np.array([[1,2,3],[2,2,2],[3,2,3]])\n",
    "#行列式\n",
    "d = la.det(a)\n",
    "print(d)\n",
    "#验证\n",
    "w, v = la.eigh(a)\n",
    "print(np.multiply.reduce(w)==d)"
   ]
  }
 ],
 "metadata": {
  "kernelspec": {
   "display_name": "Python 3",
   "language": "python",
   "name": "python3"
  },
  "language_info": {
   "codemirror_mode": {
    "name": "ipython",
    "version": 3
   },
   "file_extension": ".py",
   "mimetype": "text/x-python",
   "name": "python",
   "nbconvert_exporter": "python",
   "pygments_lexer": "ipython3",
   "version": "3.6.3"
  }
 },
 "nbformat": 4,
 "nbformat_minor": 2
}
