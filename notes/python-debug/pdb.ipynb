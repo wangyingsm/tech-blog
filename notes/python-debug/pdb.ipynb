{
 "cells": [
  {
   "cell_type": "markdown",
   "metadata": {},
   "source": [
    "## 使用pdb调试Python程序"
   ]
  },
  {
   "cell_type": "code",
   "execution_count": 1,
   "metadata": {},
   "outputs": [],
   "source": [
    "import pdb"
   ]
  },
  {
   "cell_type": "code",
   "execution_count": 2,
   "metadata": {},
   "outputs": [],
   "source": [
    "def add(x, y):\n",
    "    return x + y"
   ]
  },
  {
   "cell_type": "code",
   "execution_count": 3,
   "metadata": {},
   "outputs": [],
   "source": [
    "def sample():\n",
    "    pdb.set_trace() # 设置断点\n",
    "    var = 10\n",
    "    print(\"One. Line 1..\")\n",
    "    print(\"Two. Line 2..\")\n",
    "    out = add('dump', var)\n",
    "    print(\"Three. Line 3..Done!\")\n",
    "    return out"
   ]
  },
  {
   "cell_type": "code",
   "execution_count": 4,
   "metadata": {},
   "outputs": [
    {
     "name": "stdout",
     "output_type": "stream",
     "text": [
      "> <ipython-input-3-b001bfe5a310>(3)sample()\n",
      "-> var = 10\n",
      "(Pdb) n\n",
      "> <ipython-input-3-b001bfe5a310>(4)sample()\n",
      "-> print(\"One. Line 1..\")\n",
      "(Pdb) \n",
      "One. Line 1..\n",
      "> <ipython-input-3-b001bfe5a310>(5)sample()\n",
      "-> print(\"Two. Line 2..\")\n",
      "(Pdb) p var\n",
      "10\n",
      "(Pdb) l\n",
      "  1  \tdef sample():\n",
      "  2  \t    pdb.set_trace()\n",
      "  3  \t    var = 10\n",
      "  4  \t    print(\"One. Line 1..\")\n",
      "  5  ->\t    print(\"Two. Line 2..\")\n",
      "  6  \t    out = add('dump', var)\n",
      "  7  \t    print(\"Three. Line 3..Done!\")\n",
      "  8  \t    return out\n",
      "[EOF]\n",
      "(Pdb) n\n",
      "Two. Line 2..\n",
      "> <ipython-input-3-b001bfe5a310>(6)sample()\n",
      "-> out = add('dump', var)\n",
      "(Pdb) s\n",
      "--Call--\n",
      "> <ipython-input-2-5f28f1822fab>(1)add()\n",
      "-> def add(x, y):\n",
      "(Pdb) r\n",
      "--Return--\n",
      "> <ipython-input-2-5f28f1822fab>(2)add()->None\n",
      "-> return x + y\n",
      "(Pdb) c\n"
     ]
    },
    {
     "ename": "TypeError",
     "evalue": "must be str, not int",
     "output_type": "error",
     "traceback": [
      "\u001b[0;31m---------------------------------------------------------------------------\u001b[0m",
      "\u001b[0;31mTypeError\u001b[0m                                 Traceback (most recent call last)",
      "\u001b[0;32m<ipython-input-4-6f614e1d4e6c>\u001b[0m in \u001b[0;36m<module>\u001b[0;34m()\u001b[0m\n\u001b[0;32m----> 1\u001b[0;31m \u001b[0msample\u001b[0m\u001b[0;34m(\u001b[0m\u001b[0;34m)\u001b[0m\u001b[0;34m\u001b[0m\u001b[0m\n\u001b[0m",
      "\u001b[0;32m<ipython-input-3-b001bfe5a310>\u001b[0m in \u001b[0;36msample\u001b[0;34m()\u001b[0m\n\u001b[1;32m      4\u001b[0m     \u001b[0mprint\u001b[0m\u001b[0;34m(\u001b[0m\u001b[0;34m\"One. Line 1..\"\u001b[0m\u001b[0;34m)\u001b[0m\u001b[0;34m\u001b[0m\u001b[0m\n\u001b[1;32m      5\u001b[0m     \u001b[0mprint\u001b[0m\u001b[0;34m(\u001b[0m\u001b[0;34m\"Two. Line 2..\"\u001b[0m\u001b[0;34m)\u001b[0m\u001b[0;34m\u001b[0m\u001b[0m\n\u001b[0;32m----> 6\u001b[0;31m     \u001b[0mout\u001b[0m \u001b[0;34m=\u001b[0m \u001b[0madd\u001b[0m\u001b[0;34m(\u001b[0m\u001b[0;34m'dump'\u001b[0m\u001b[0;34m,\u001b[0m \u001b[0mvar\u001b[0m\u001b[0;34m)\u001b[0m\u001b[0;34m\u001b[0m\u001b[0m\n\u001b[0m\u001b[1;32m      7\u001b[0m     \u001b[0mprint\u001b[0m\u001b[0;34m(\u001b[0m\u001b[0;34m\"Three. Line 3..Done!\"\u001b[0m\u001b[0;34m)\u001b[0m\u001b[0;34m\u001b[0m\u001b[0m\n\u001b[1;32m      8\u001b[0m     \u001b[0;32mreturn\u001b[0m \u001b[0mout\u001b[0m\u001b[0;34m\u001b[0m\u001b[0m\n",
      "\u001b[0;32m<ipython-input-2-5f28f1822fab>\u001b[0m in \u001b[0;36madd\u001b[0;34m(x, y)\u001b[0m\n\u001b[1;32m      1\u001b[0m \u001b[0;32mdef\u001b[0m \u001b[0madd\u001b[0m\u001b[0;34m(\u001b[0m\u001b[0mx\u001b[0m\u001b[0;34m,\u001b[0m \u001b[0my\u001b[0m\u001b[0;34m)\u001b[0m\u001b[0;34m:\u001b[0m\u001b[0;34m\u001b[0m\u001b[0m\n\u001b[0;32m----> 2\u001b[0;31m     \u001b[0;32mreturn\u001b[0m \u001b[0mx\u001b[0m \u001b[0;34m+\u001b[0m \u001b[0my\u001b[0m\u001b[0;34m\u001b[0m\u001b[0m\n\u001b[0m",
      "\u001b[0;31mTypeError\u001b[0m: must be str, not int"
     ]
    }
   ],
   "source": [
    "# 运行并调试\n",
    "sample()"
   ]
  },
  {
   "cell_type": "markdown",
   "metadata": {},
   "source": [
    "### 总结 - pdb命令\n",
    "\n",
    "| 命令 | 解释 |\n",
    "| :--: | :--- |\n",
    "| n | 运行下一行 |\n",
    "| <Enter> | 重复上一个命令 |\n",
    "| s| 进入函数运行 |\n",
    "| p <Var> | 打印变量值 |\n",
    "| r | 执行到函数返回 |\n",
    "| c | 恢复程序运行，不再中断 |\n",
    "| q | 退出pdb |"
   ]
  },
  {
   "cell_type": "code",
   "execution_count": null,
   "metadata": {},
   "outputs": [],
   "source": []
  }
 ],
 "metadata": {
  "kernelspec": {
   "display_name": "Python 3",
   "language": "python",
   "name": "python3"
  },
  "language_info": {
   "codemirror_mode": {
    "name": "ipython",
    "version": 3
   },
   "file_extension": ".py",
   "mimetype": "text/x-python",
   "name": "python",
   "nbconvert_exporter": "python",
   "pygments_lexer": "ipython3",
   "version": "3.6.2"
  }
 },
 "nbformat": 4,
 "nbformat_minor": 2
}
