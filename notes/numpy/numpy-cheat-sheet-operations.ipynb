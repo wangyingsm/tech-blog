{
 "cells": [
  {
   "cell_type": "markdown",
   "metadata": {},
   "source": [
    "# numpy cheatsheet - operations\n",
    "本文档包含绝大多数numpy操作数组的函数，但不包含ufunc，ufunc文档在另外的notebook中"
   ]
  },
  {
   "cell_type": "markdown",
   "metadata": {},
   "source": [
    "## 总体参数说明\n",
    "- a/array_like: 可以使用__array__函数返回成数组任何对象，包括```list, tuple, list[list...], tuple[tuple...], list[tuple...], tuple[list...]```\n",
    "- v: 向量参数\n",
    "- shape: numpy数组的各维度长度的tuple\n",
    "- out: 代入的numpy数组作为输出\n",
    "- dtype: numpy数组类型\n",
    "- order: C顺序或Fortran顺序\n",
    "- subok: True返回ndarray的子类，False返回ndarray\n",
    "- axis: 操作的维度，第一个维度为0，以此类推\n",
    "- axes：操作维度的集合"
   ]
  },
  {
   "cell_type": "code",
   "execution_count": 1,
   "metadata": {},
   "outputs": [],
   "source": [
    "# 引入numpy和matplotlib内联\n",
    "import numpy as np\n",
    "%matplotlib inline"
   ]
  },
  {
   "cell_type": "markdown",
   "metadata": {},
   "source": [
    "## 二进制运算\n",
    "### 位运算"
   ]
  },
  {
   "cell_type": "code",
   "execution_count": 2,
   "metadata": {},
   "outputs": [
    {
     "name": "stdout",
     "output_type": "stream",
     "text": [
      "[[0 0 2]\n",
      " [0 4 4]]\n",
      "[[0 0 2]\n",
      " [0 4 4]]\n",
      "[[ 9 11 11]\n",
      " [15 13 15]]\n",
      "[[ 9 11 11]\n",
      " [15 13 15]]\n",
      "[[ 9 11  9]\n",
      " [15  9 11]]\n",
      "[[ 9 11  9]\n",
      " [15  9 11]]\n",
      "[[-1 -2 -3]\n",
      " [-4 -5 -6]]\n",
      "[[-1 -2 -3]\n",
      " [-4 -5 -6]]\n",
      "[[-1 -2 -3]\n",
      " [-4 -5 -6]]\n",
      "[[-1 -2 -3]\n",
      " [-4  4  4]]\n"
     ]
    }
   ],
   "source": [
    "# bitwise_and(arr1, arr2 [, out, where])\n",
    "# bitwise_or(arr1, arr2 [, out, where])\n",
    "# bitwise_xor(arr1, arr2 [, out, where])\n",
    "# invert(arr [, out, where]) equiv bitwise_not(arr [, out, where])\n",
    "# where - 一个bool数组，决定哪些元素需要参与运算\n",
    "# 指定数组的与、或、异或、非运算\n",
    "arr1 = np.arange(6).reshape(2, 3)\n",
    "arr2 = np.arange(9, 15).reshape(2, 3)\n",
    "print(np.bitwise_and(arr1, arr2))\n",
    "print(arr1 & arr2) # 使用&运算完成bitwise_and\n",
    "print(np.bitwise_or(arr1, arr2))\n",
    "print(arr1 | arr2) # 使用|运算完成bitwsie_or\n",
    "print(np.bitwise_xor(arr1, arr2))\n",
    "print(arr1 ^ arr2) # 使用^运算完成bitwise_xor\n",
    "print(np.invert(arr1))\n",
    "print(np.bitwise_not(arr1))\n",
    "print(~arr1) #使用~运算完成invert或bitwise_not\n",
    "print(np.bitwise_and(arr1, arr2, where=(arr1>3)))"
   ]
  },
  {
   "cell_type": "code",
   "execution_count": 3,
   "metadata": {},
   "outputs": [
    {
     "name": "stdout",
     "output_type": "stream",
     "text": [
      "[[200 202 204]\n",
      " [206 208 210]]\n",
      "[[200 202 204]\n",
      " [206 208 210]]\n",
      "[[25 25 25]\n",
      " [25 26 26]]\n",
      "[[25 25 25]\n",
      " [25 26 26]]\n"
     ]
    }
   ],
   "source": [
    "# left_shift(arr, shift [, out, where])\n",
    "# right_shift(arr, shift [, out, where])\n",
    "# shift - 数组元素二进制位移的位数\n",
    "# 将数组的元素进行二进制的左移left_shift和二进制右移right_shift\n",
    "arr = np.arange(100, 106).reshape(2, 3)\n",
    "print(np.left_shift(arr, 1))\n",
    "print(arr<<1) # 使用<<运算完成left_shift\n",
    "print(np.right_shift(arr, 2))\n",
    "print(arr>>2) # 使用>>运算完成right_shift"
   ]
  },
  {
   "cell_type": "markdown",
   "metadata": {},
   "source": [
    "### 比特封装"
   ]
  },
  {
   "cell_type": "code",
   "execution_count": 4,
   "metadata": {},
   "outputs": [
    {
     "name": "stdout",
     "output_type": "stream",
     "text": [
      "[[[1 1]\n",
      "  [1 0]\n",
      "  [1 1]]\n",
      "\n",
      " [[0 1]\n",
      "  [0 0]\n",
      "  [0 0]]]\n",
      "[[[192]\n",
      "  [128]\n",
      "  [192]]\n",
      "\n",
      " [[ 64]\n",
      "  [  0]\n",
      "  [  0]]]\n",
      "[237   0]\n"
     ]
    }
   ],
   "source": [
    "# packbits(arr [, axis])\n",
    "# 将arr数组的元素沿axis维度组合成一个uint8的二进制数，如果元素不足8位，函数会自动在后面填充0补足8位\n",
    "arr = np.random.randint(0, 2, (2, 3, 2))\n",
    "print(arr)\n",
    "print(np.packbits(arr, axis=2))\n",
    "print(np.packbits(arr)) # arr扁平化后每8位组成一个数，最后不足8位的末尾用0补全"
   ]
  },
  {
   "cell_type": "code",
   "execution_count": 5,
   "metadata": {},
   "outputs": [
    {
     "name": "stdout",
     "output_type": "stream",
     "text": [
      "[[[0]\n",
      "  [1]\n",
      "  [2]]\n",
      "\n",
      " [[3]\n",
      "  [4]\n",
      "  [5]]]\n",
      "[[[0 0 0 0 0 0 0 0]\n",
      "  [0 0 0 0 0 0 0 1]\n",
      "  [0 0 0 0 0 0 1 0]]\n",
      "\n",
      " [[0 0 0 0 0 0 1 1]\n",
      "  [0 0 0 0 0 1 0 0]\n",
      "  [0 0 0 0 0 1 0 1]]]\n",
      "[0 0 0 0 0 0 0 0 0 0 0 0 0 0 0 1 0 0 0 0 0 0 1 0 0 0 0 0 0 0 1 1 0 0 0 0 0\n",
      " 1 0 0 0 0 0 0 0 1 0 1]\n"
     ]
    }
   ],
   "source": [
    "# unpackbits(arr [, axis])\n",
    "# 将uint8类型的数组arr的元素拆分成8个0/1表示的二进制数位\n",
    "arr = np.arange(6, dtype=np.uint8).reshape(2, 3, 1)\n",
    "print(arr)\n",
    "print(np.unpackbits(arr, axis=2))\n",
    "print(np.unpackbits(arr)) # 生成的二进制数组将会是1维扁平化的"
   ]
  },
  {
   "cell_type": "markdown",
   "metadata": {},
   "source": [
    "### 二进制格式化"
   ]
  },
  {
   "cell_type": "code",
   "execution_count": 6,
   "metadata": {},
   "outputs": [
    {
     "name": "stdout",
     "output_type": "stream",
     "text": [
      "1111\n",
      "-1111\n",
      "00001111\n",
      "11110001\n"
     ]
    }
   ],
   "source": [
    "# binary_repr(num [, width])\n",
    "# width - 需要转换为二进制表示的宽度，如果指定不为none的正整数值，则负数会以补码形式显示，否则负数为在前面加上-号，默认值none\n",
    "# 将num数值转换为二进制字符串表现形式，转换后二进制的位数由width指定\n",
    "print(np.binary_repr(15))\n",
    "print(np.binary_repr(-15))\n",
    "print(np.binary_repr(15, 8))\n",
    "print(np.binary_repr(-15, 8))"
   ]
  },
  {
   "cell_type": "markdown",
   "metadata": {},
   "source": [
    "## 字符串运算\n",
    "### 基本运算"
   ]
  },
  {
   "cell_type": "code",
   "execution_count": 7,
   "metadata": {},
   "outputs": [],
   "source": [
    "# 引入字符串运算库\n",
    "import numpy.core.defchararray as defchar"
   ]
  },
  {
   "cell_type": "code",
   "execution_count": 8,
   "metadata": {},
   "outputs": [
    {
     "name": "stdout",
     "output_type": "stream",
     "text": [
      "[['hello%s' '%sjohn']\n",
      " ['bye%s' '%sdoe']]\n",
      "[['' 'johnjohnjohnjohn']\n",
      " ['' 'doedoedoedoe']]\n",
      "[['hello' 'john']\n",
      " ['bye' 'doe']]\n"
     ]
    }
   ],
   "source": [
    "# core.defchararray.add(arr1, arr2) 相当于str的+运算，进行每个字符串元素相加\n",
    "# core.defchararray.multiply(arr1, arr2) 相当于str的*运算，进行arr1每个字符串元素的重复，重复次数由arr2的元素确定\n",
    "# core.defchararray.mod(arr1, arr2) 相当于str的%运算，将arr1每个字符串元素中的%模式替换成arr2中的元素值\n",
    "arr1 = np.array([['hello%s', '%s'], ['bye%s', '%s']])\n",
    "arr2 = np.array([['', 'john'], ['', 'doe']])\n",
    "print(defchar.add(arr1, arr2))\n",
    "print(defchar.multiply(arr2, 4))\n",
    "print(defchar.mod(arr1, arr2))"
   ]
  },
  {
   "cell_type": "code",
   "execution_count": 9,
   "metadata": {},
   "outputs": [
    {
     "name": "stdout",
     "output_type": "stream",
     "text": [
      "['Hello' 'World']\n",
      "['hello' 'world']\n",
      "['HELLO' 'WORLD']\n",
      "['HeLLo' 'WOrlD']\n",
      "['Hello' 'World']\n"
     ]
    }
   ],
   "source": [
    "# core.defchararray.capitalize(arr) 相当于str的capitalize函数，对每个字符串元素首字母大写后输出\n",
    "# core.defchararray.lower(arr) 相当于str的lower函数，将每个字符串元素转换为小写\n",
    "# core.defchararray.upper(arr) 相当于str的upper函数，将每个字符串元素转换为大写\n",
    "# core.defchararray.swapcase(arr) 相当于str的swapcase函数，将每个字符串元素小写转换为大写，大写转换为小写\n",
    "# core.defchararray.title(arr) 相当于str的title函数，将每个字符串元素转换为标题形式\n",
    "arr = np.array(['hEllO', 'woRLd'])\n",
    "print(defchar.capitalize(arr))\n",
    "print(defchar.lower(arr))\n",
    "print(defchar.upper(arr))\n",
    "print(defchar.swapcase(arr))\n",
    "print(defchar.title(arr))"
   ]
  },
  {
   "cell_type": "code",
   "execution_count": 10,
   "metadata": {},
   "outputs": [
    {
     "name": "stdout",
     "output_type": "stream",
     "text": [
      "[b'\\xe4\\xb8\\xad\\xe6\\x96\\x87' b'\\xe5\\xad\\x97\\xe7\\xac\\xa6\\xe4\\xb8\\xb2']\n",
      "['中文' '字符串']\n"
     ]
    }
   ],
   "source": [
    "# core.defchararray.decode(arr [, encoding, error])\n",
    "# core.defchararray.encode(arr [, encoding, error])\n",
    "# encoding - 编码的名称\n",
    "# 对每个字符串元素进行编码encode（返回bytearray）和解码decode（返回字符串）\n",
    "arr = np.array(['中文', '字符串'])\n",
    "d = defchar.encode(arr, encoding='utf8')\n",
    "print(d)\n",
    "print(defchar.decode(d, encoding='utf8'))"
   ]
  },
  {
   "cell_type": "code",
   "execution_count": 11,
   "metadata": {},
   "outputs": [
    {
     "name": "stdout",
     "output_type": "stream",
     "text": [
      "['h-e-l-l-o-,- -j-o-h-n' 'b+y+e+,+ +s+e+e+ +y+o+u+,+ +d+o+e']\n",
      "[list(['hello', ' john']) list(['bye', ' see you', ' doe'])]\n",
      "[list(['hello', ' john']) list(['bye, see you', ' doe'])]\n"
     ]
    }
   ],
   "source": [
    "# core.defchararray.join(sep, seq)\n",
    "# core.defchararray.split(arr [, sep, maxsplit])\n",
    "# core.defchararray.rsplit(arr [, sep, maxsplit])\n",
    "# sep - 分隔的字符串（数组），默认值none\n",
    "# seq - 用来连接的字符串数组\n",
    "# maxsplit - 最大拆分字符串个数\n",
    "# 相当于str的join、split、rsplit函数，将每个字符串元素组合、拆分、从右开始拆分\n",
    "arr = np.array(['hello, john', 'bye, see you, doe'])\n",
    "print(defchar.join(['-', '+'], arr))\n",
    "print(defchar.split(arr, ','))\n",
    "print(defchar.rsplit(arr, ',', 1))"
   ]
  },
  {
   "cell_type": "code",
   "execution_count": 12,
   "metadata": {},
   "outputs": [
    {
     "name": "stdout",
     "output_type": "stream",
     "text": [
      "['----hello, john-----' '-bye, see you, doe--']\n",
      "['hello, john---------' 'bye, see you, doe---']\n",
      "['---------hello, john' '---bye, see you, doe']\n",
      "[['00001' '00010']\n",
      " ['-0100' '-0001']]\n"
     ]
    }
   ],
   "source": [
    "# core.defchararray.center(arr, width [, fillchar]) 将每个字符串置于长度为width的新字符串中间，填充字符为fillchar（默认值空格）\n",
    "# core.defchararray.ljust(arr, width [, fillchar]) 将每个字符串置于长度为width的新字符串左边，填充字符为fillchar（默认值空格）\n",
    "# core.defchararray.rjust(arr, width [, fillchar]) 将每个字符串置于长度为width的新字符串右边，填充字符为fillchar（默认值空格）\n",
    "# core.defchararray.zfill(arr, width) 将每个字符串使用前置0填充值长度width\n",
    "print(defchar.center(arr, width=20, fillchar='-'))\n",
    "print(defchar.ljust(arr, width=20, fillchar='-'))\n",
    "print(defchar.rjust(arr, width=20, fillchar='-'))\n",
    "print(defchar.zfill([['1', '10'], ['-100', '-1']], 5))"
   ]
  },
  {
   "cell_type": "code",
   "execution_count": 13,
   "metadata": {},
   "outputs": [
    {
     "name": "stdout",
     "output_type": "stream",
     "text": [
      "['hello' 'dooooo']\n",
      "['hello   ' 'dooooo  ']\n",
      "['   hell' '  d']\n"
     ]
    }
   ],
   "source": [
    "# core.defchararray.strip(arr [, chars])\n",
    "# core.defchararray.lstrip(arr [, chars])\n",
    "# core.defchararray.rstrip(arr [, chars])\n",
    "# chars - 需要去除的符号组成的字符串，默认值none，表示空白符号\n",
    "# 相当于str的strip、lstrip、rstrip函数，将每个字符串元素前后符号（strip）、前符号（lstrip）、后符号（rstrip）去除\n",
    "arr = np.array(['   hello   ', '  dooooo  '])\n",
    "print(defchar.strip(arr))\n",
    "print(defchar.lstrip(arr))\n",
    "print(defchar.rstrip(arr, 'o '))"
   ]
  },
  {
   "cell_type": "code",
   "execution_count": 14,
   "metadata": {},
   "outputs": [
    {
     "name": "stdout",
     "output_type": "stream",
     "text": [
      "['hellggg' 'wgggrld']\n",
      "['01552' '32456']\n"
     ]
    }
   ],
   "source": [
    "# core.defchararray.replace(arr, old, new [, count]) 相当于str的replace函数，将每个字符串元素中的old替换成new\n",
    "# core.defchararray.translate(arr, table [, delchars]) 相当于str的translate函数，将每个字符串元素根据table表翻译成对应字符串，删除delchars\n",
    "arr = np.array(['hello', 'world'])\n",
    "print(defchar.replace(arr, 'o', 'ggg'))\n",
    "print(defchar.translate(arr, str.maketrans('heowrld', '0123456')))"
   ]
  },
  {
   "cell_type": "code",
   "execution_count": 15,
   "metadata": {},
   "outputs": [
    {
     "name": "stdout",
     "output_type": "stream",
     "text": [
      "[['john' '@' 'msn.com']\n",
      " ['doe' '@' 'sina.com.cn']]\n",
      "[['john@msn' '.' 'com']\n",
      " ['doe@sina.com' '.' 'cn']]\n",
      "[list(['hello', 'john']) list(['bye', 'see you', 'doe'])]\n"
     ]
    }
   ],
   "source": [
    "# core.defchararray.partition(arr, sep) 相当于str的partition函数，每个字符串从左找到sep，分割成三部分，seq左边内容、seq本身、sep右边内容\n",
    "# core.defchararray.rpartition(arr, sep) 相当于str的rpartition函数，每个字符串从右找到sep，分割成三部分，seq左边内容、seq本身、sep右边内容\n",
    "# core.defchararray.splitlines(arr) 相当于str的splitlines函数，将每个字符串元素分割成多行的list\n",
    "arr = np.array(['john@msn.com', 'doe@sina.com.cn'])\n",
    "print(defchar.partition(arr, '@'))\n",
    "print(defchar.rpartition(arr, '.'))\n",
    "arr = np.array(['hello\\njohn', 'bye\\nsee you\\ndoe'])\n",
    "print(defchar.splitlines(arr))"
   ]
  },
  {
   "cell_type": "markdown",
   "metadata": {},
   "source": [
    "### 字符串比较运算"
   ]
  },
  {
   "cell_type": "code",
   "execution_count": 16,
   "metadata": {},
   "outputs": [
    {
     "name": "stdout",
     "output_type": "stream",
     "text": [
      "[ True False]\n",
      "[ True False]\n",
      "[False  True]\n",
      "[False  True]\n",
      "[ True False]\n",
      "[ True False]\n",
      "[ True  True]\n",
      "[ True  True]\n",
      "[False False]\n",
      "[False False]\n",
      "[False  True]\n",
      "[False  True]\n"
     ]
    }
   ],
   "source": [
    "# equal(arr1, arr2) 等同于 arr1 == arr2\n",
    "# not_equal(arr1, arr2) 等同于 arr1 != arr2\n",
    "# greater_equal(arr1, arr2) 等同于 arr1 >= arr2\n",
    "# less_equal(arr1, arr2) 等同于 arr1 <= arr2\n",
    "# greater(arr1, arr2) 等同于 arr1 > arr2\n",
    "# less(arr1, arr2) 等同于 arr1 < arr2\n",
    "arr1 = np.array(['hello', 'john'])\n",
    "arr2 = np.array(['hello', 'world'])\n",
    "print(defchar.equal(arr1, arr2))\n",
    "print(arr1 == arr2)\n",
    "print(defchar.not_equal(arr1, arr2))\n",
    "print(arr1 != arr2)\n",
    "print(defchar.greater_equal(arr1, arr2))\n",
    "print(arr1 >= arr2)\n",
    "print(defchar.less_equal(arr1, arr2))\n",
    "print(arr1 <= arr2)\n",
    "print(defchar.greater(arr1, arr2))\n",
    "print(arr1 > arr2)\n",
    "print(defchar.less(arr1, arr2))\n",
    "print(arr1 < arr2)"
   ]
  },
  {
   "cell_type": "markdown",
   "metadata": {},
   "source": [
    "### 字符串信息"
   ]
  },
  {
   "cell_type": "code",
   "execution_count": 17,
   "metadata": {},
   "outputs": [
    {
     "name": "stdout",
     "output_type": "stream",
     "text": [
      "[[1 2]\n",
      " [0 1]]\n",
      "[[1 1]\n",
      " [0 1]]\n"
     ]
    }
   ],
   "source": [
    "# count(arr, sub [, start, end])\n",
    "# sub - 计算个数的子字符串\n",
    "# start - 开始计算的位置（包含）\n",
    "# end - 结束计算的位置（不包含）\n",
    "# 对每个字符串元素计算子串sub不重叠出现的次数，生成一个整数的数组返回\n",
    "arr = np.array([['hello', 'coll dell'], ['bye', 'jill delta']])\n",
    "print(defchar.count(arr, 'll'))\n",
    "print(defchar.count(arr, 'll', 0, 4))"
   ]
  },
  {
   "cell_type": "code",
   "execution_count": 18,
   "metadata": {},
   "outputs": [
    {
     "name": "stdout",
     "output_type": "stream",
     "text": [
      "[[ 2  2]\n",
      " [-1  2]]\n",
      "[[-1  7]\n",
      " [-1 -1]]\n",
      "[[1 6]\n",
      " [2 6]]\n",
      "[[ 2  7]\n",
      " [-1  2]]\n",
      "[[1 6]\n",
      " [2 6]]\n"
     ]
    }
   ],
   "source": [
    "# find(arr, sub [, start, end]) 相当于str的find函数\n",
    "# index(arr, sub [, start, end]) 相当于str的index函数\n",
    "# rfind(arr, sub [, start, end]) 相当于str的rfind函数\n",
    "# rindex(arr, sub [, start, end]) 相当于str的rindex函数\n",
    "# 在每个字符串元素中查找子串sub第一次出现的位置，如果没找到，find返回-1，index抛出错误。最终生成一个整数数组返回。\n",
    "# 在每个字符串元素中查找子串sub最后一次出现的位置，如果没找到，find返回-1，index抛出错误。最终生成一个整数数组返回。\n",
    "print(defchar.find(arr, 'll'))\n",
    "print(defchar.find(arr, 'll', 4, 10))\n",
    "print(defchar.index(arr, 'e'))\n",
    "print(defchar.rfind(arr, 'll'))\n",
    "print(defchar.rindex(arr, 'e'))"
   ]
  },
  {
   "cell_type": "code",
   "execution_count": 19,
   "metadata": {},
   "outputs": [
    {
     "name": "stdout",
     "output_type": "stream",
     "text": [
      "[[False False]\n",
      " [False  True]]\n",
      "[[ True  True]\n",
      " [False  True]]\n"
     ]
    }
   ],
   "source": [
    "# startswith(arr, sub [, start, end]) 相当于str的startswith函数\n",
    "# 判断每个字符串元素是否都以子串sub开始，生成一个bool数组返回\n",
    "print(defchar.startswith(arr, 'ji'))\n",
    "print(defchar.startswith(arr, 'll', start=2))"
   ]
  },
  {
   "cell_type": "code",
   "execution_count": 20,
   "metadata": {},
   "outputs": [
    {
     "name": "stdout",
     "output_type": "stream",
     "text": [
      "[ True False False]\n",
      "[ True False  True]\n",
      "[ True  True False]\n",
      "[ True  True False]\n",
      "[ True  True  True]\n",
      "[ True False  True]\n",
      "[ True False False  True]\n",
      "[False  True False False]\n",
      "[False False  True False]\n"
     ]
    }
   ],
   "source": [
    "# isalpha(arr) 相当于str的isalpha函数，判断每个字符串元素是否都是字母组成\n",
    "# isalnum(arr) 相当于str的isalnum函数，判断每个字符串元素是否都是字母数字组成\n",
    "# isdecimal(arr) 相当于str的isdecimal函数，判断每个字符串元素是否都是数学表示组成，包括Unicode数字，，全角数字（双字节）\n",
    "# isdigit(arr) 相当于str的isdigit函数，判断每个字符串元素是否都是数字组成，包括Unicode数字，byte数字（单字节），全角数字（双字节）\n",
    "# isnumeric(arr) 相当于unicode的isnumeric函数，判断每个字符串元素是否都是数字组成，包括Unicode数字，全角数字（双字节），汉字数字\n",
    "# isspace(arr) 相当于str的isspace函数，判断每个字符串元素是否都是空白字符组成\n",
    "# istitle(arr) 相当于str的istitle函数，判断每个字符串元素是否都是标题格式\n",
    "# islower(arr) 相当于str的islower函数，判断每个字符串元素是否都是小写字母组成\n",
    "# isupper(arr) 相当于str的isupper函数，判断每个字符串元素是否都是大写字母组成\n",
    "arr = np.array(['abcd', 'hello-world', 'c3p0'])\n",
    "print(defchar.isalpha(arr))\n",
    "print(defchar.isalnum(arr))\n",
    "arr = np.array(['12345', '１２３４５', '一万二千三百四十五'])\n",
    "print(defchar.isdecimal(arr))\n",
    "print(defchar.isdigit(arr))\n",
    "print(defchar.isnumeric(arr))\n",
    "arr = np.array(['   \\t   ', 'abc    ', '\\n\\t\\n\\t'])\n",
    "print(defchar.isspace(arr))\n",
    "arr = np.array(['Hello', 'world', 'SEE', 'You'])\n",
    "print(defchar.istitle(arr))\n",
    "print(defchar.islower(arr))\n",
    "print(defchar.isupper(arr))"
   ]
  },
  {
   "cell_type": "markdown",
   "metadata": {},
   "source": [
    "## 日期时间支持函数\n",
    "### 基础函数"
   ]
  },
  {
   "cell_type": "code",
   "execution_count": 21,
   "metadata": {},
   "outputs": [
    {
     "name": "stdout",
     "output_type": "stream",
     "text": [
      "['2018-04-06T13:00' '2018-04-06T13:30' '2018-04-06T14:00'\n",
      " '2018-04-06T14:30' '2018-04-06T15:00' '2018-04-06T15:30']\n",
      "['2018-04-06T13:00:00.000Z' '2018-04-06T13:30:00.000Z'\n",
      " '2018-04-06T14:00:00.000Z' '2018-04-06T14:30:00.000Z'\n",
      " '2018-04-06T15:00:00.000Z' '2018-04-06T15:30:00.000Z']\n",
      "['2018-04-06T13:00:00' '2018-04-06T13:05:00' '2018-04-06T13:10:00'\n",
      " '2018-04-06T13:15:00' '2018-04-06T13:20:00' '2018-04-06T13:25:00'\n",
      " '2018-04-06T13:30:00' '2018-04-06T13:35:00' '2018-04-06T13:40:00'\n",
      " '2018-04-06T13:45:00' '2018-04-06T13:50:00' '2018-04-06T13:55:00']\n",
      "['2018-04-06T21:00:00+0800' '2018-04-06T21:05:00+0800'\n",
      " '2018-04-06T21:10:00+0800' '2018-04-06T21:15:00+0800'\n",
      " '2018-04-06T21:20:00+0800' '2018-04-06T21:25:00+0800'\n",
      " '2018-04-06T21:30:00+0800' '2018-04-06T21:35:00+0800'\n",
      " '2018-04-06T21:40:00+0800' '2018-04-06T21:45:00+0800'\n",
      " '2018-04-06T21:50:00+0800' '2018-04-06T21:55:00+0800']\n"
     ]
    }
   ],
   "source": [
    "# datetime_as_string(arr [, unit, timezone, casting])\n",
    "# unit - 时间单位，默认值none，表示自动识别\n",
    "# timezone - 时区，naive（默认值）: 原始；UTC: UTC标准时区；local: 本地时区\n",
    "arr = np.arange('2018-04-06 13:00', '2018-04-06 16:00', 30, dtype=np.datetime64)\n",
    "print(arr)\n",
    "print(np.datetime_as_string(arr, unit='ms', timezone='UTC'))\n",
    "import pytz\n",
    "arr = np.arange('2018-04-06 13:00:00', 3600, 300, dtype=np.datetime64)\n",
    "print(arr)\n",
    "print(np.datetime_as_string(arr, timezone=pytz.timezone('Asia/Shanghai')))"
   ]
  },
  {
   "cell_type": "code",
   "execution_count": 22,
   "metadata": {},
   "outputs": [
    {
     "name": "stdout",
     "output_type": "stream",
     "text": [
      "['2018-04-01' '2018-04-02' '2018-04-03' '2018-04-04' '2018-04-05'\n",
      " '2018-04-06' '2018-04-07' '2018-04-08' '2018-04-09' '2018-04-10'\n",
      " '2018-04-11' '2018-04-12' '2018-04-13' '2018-04-14' '2018-04-15'\n",
      " '2018-04-16' '2018-04-17' '2018-04-18' '2018-04-19' '2018-04-20'\n",
      " '2018-04-21' '2018-04-22' '2018-04-23' '2018-04-24' '2018-04-25'\n",
      " '2018-04-26' '2018-04-27' '2018-04-28' '2018-04-29' '2018-04-30']\n",
      "[False  True  True  True False  True False False  True  True  True  True\n",
      "  True False False  True  True  True  True  True False False  True  True\n",
      "  True  True  True False False  True]\n"
     ]
    }
   ],
   "source": [
    "# is_busday(arr [, weekmask, holidays, busdaycal, out])\n",
    "# weekmask - 用来表示每周工作日的字符串或bool数组，1代表为工作日，0代表非工作日。默认值'1111100'\n",
    "# holidays - 公众节日的日期数组，默认值none\n",
    "# busdaycal - 表示工作日的日期数组\n",
    "# 用于判断日期数组是否为工作日\n",
    "arr = np.arange('2018-04-01', '2018-05-01', 1, dtype=np.datetime64)\n",
    "print(arr)\n",
    "print(np.is_busday(arr, holidays=['2018-04-05']))"
   ]
  },
  {
   "cell_type": "code",
   "execution_count": null,
   "metadata": {},
   "outputs": [],
   "source": []
  }
 ],
 "metadata": {
  "kernelspec": {
   "display_name": "Python 3",
   "language": "python",
   "name": "python3"
  },
  "language_info": {
   "codemirror_mode": {
    "name": "ipython",
    "version": 3
   },
   "file_extension": ".py",
   "mimetype": "text/x-python",
   "name": "python",
   "nbconvert_exporter": "python",
   "pygments_lexer": "ipython3",
   "version": "3.6.3"
  }
 },
 "nbformat": 4,
 "nbformat_minor": 2
}
