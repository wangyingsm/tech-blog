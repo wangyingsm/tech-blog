{
 "cells": [
  {
   "cell_type": "code",
   "execution_count": 1,
   "metadata": {},
   "outputs": [],
   "source": [
    "from __future__ import print_function"
   ]
  },
  {
   "cell_type": "code",
   "execution_count": 2,
   "metadata": {},
   "outputs": [
    {
     "data": {
      "text/plain": [
       "'1.13.3'"
      ]
     },
     "execution_count": 2,
     "metadata": {},
     "output_type": "execute_result"
    }
   ],
   "source": [
    "# Q1: 将 NumPy 导入为 np，并查看版本\n",
    "import numpy as np\n",
    "np.__version__"
   ]
  },
  {
   "cell_type": "code",
   "execution_count": 3,
   "metadata": {},
   "outputs": [
    {
     "name": "stdout",
     "output_type": "stream",
     "text": [
      "[0 1 2 3 4 5 6 7 8 9]\n"
     ]
    }
   ],
   "source": [
    "# Q2: 创建数字从 0 到 9 的 1 维数组。\n",
    "a = np.arange(10)\n",
    "print(a)"
   ]
  },
  {
   "cell_type": "code",
   "execution_count": 4,
   "metadata": {},
   "outputs": [
    {
     "name": "stdout",
     "output_type": "stream",
     "text": [
      "[[ True  True  True]\n",
      " [ True  True  True]\n",
      " [ True  True  True]]\n"
     ]
    }
   ],
   "source": [
    "# Q3: 创建所有 True 的 3×3 NumPy 数组\n",
    "a = np.ones((3, 3), dtype=np.bool)\n",
    "print(a)"
   ]
  },
  {
   "cell_type": "code",
   "execution_count": 5,
   "metadata": {},
   "outputs": [
    {
     "name": "stdout",
     "output_type": "stream",
     "text": [
      "[1 3 5 7 9]\n"
     ]
    }
   ],
   "source": [
    "# Q4: 从 arr 中提取所有奇数\n",
    "arr = np.array([0, 1, 2, 3, 4, 5, 6, 7, 8, 9])\n",
    "print(arr[arr%2==1])"
   ]
  },
  {
   "cell_type": "code",
   "execution_count": 6,
   "metadata": {},
   "outputs": [
    {
     "name": "stdout",
     "output_type": "stream",
     "text": [
      "[ 0 -1  2 -1  4 -1  6 -1  8 -1]\n"
     ]
    }
   ],
   "source": [
    "# Q5: 将 arr 中的所有奇数替换成 -1\n",
    "arr[arr%2==1]=-1\n",
    "print(arr)"
   ]
  },
  {
   "cell_type": "code",
   "execution_count": 7,
   "metadata": {},
   "outputs": [
    {
     "name": "stdout",
     "output_type": "stream",
     "text": [
      "[ 0 -1  2 -1  4 -1  6 -1  8 -1]\n",
      "[0 1 2 3 4 5 6 7 8 9]\n",
      "[ 0 -1  2 -1  4 -1  6 -1  8 -1]\n"
     ]
    }
   ],
   "source": [
    "# Q6: 将 arr 中所有奇数替换成 -1，且不改变 arr\n",
    "arr = np.array([0, 1, 2, 3, 4, 5, 6, 7, 8, 9])\n",
    "out = arr.copy()\n",
    "out[out%2==1] = -1\n",
    "print(out)\n",
    "print(arr)\n",
    "# 第二种方案\n",
    "out = np.where(arr%2==1, -1, arr)\n",
    "print(out)"
   ]
  },
  {
   "cell_type": "code",
   "execution_count": 8,
   "metadata": {},
   "outputs": [
    {
     "name": "stdout",
     "output_type": "stream",
     "text": [
      "[[0 1 2 3 4]\n",
      " [5 6 7 8 9]]\n",
      "[[0 1 2 3 4]\n",
      " [5 6 7 8 9]]\n"
     ]
    }
   ],
   "source": [
    "# Q7: 将 1 维数组转换成 2 维数组（两行）\n",
    "arr = np.array([0, 1, 2, 3, 4, 5, 6, 7, 8, 9]).reshape(2, 5)\n",
    "print(arr)\n",
    "# 第二种方案\n",
    "arr = np.array([0, 1, 2, 3, 4, 5, 6, 7, 8, 9]).reshape(2, -1)\n",
    "print(arr)"
   ]
  },
  {
   "cell_type": "code",
   "execution_count": 9,
   "metadata": {},
   "outputs": [
    {
     "name": "stdout",
     "output_type": "stream",
     "text": [
      "[[0 1 2 3 4]\n",
      " [5 6 7 8 9]\n",
      " [1 1 1 1 1]\n",
      " [1 1 1 1 1]]\n",
      "[[0 1 2 3 4]\n",
      " [5 6 7 8 9]\n",
      " [1 1 1 1 1]\n",
      " [1 1 1 1 1]]\n",
      "[[0 1 2 3 4]\n",
      " [5 6 7 8 9]\n",
      " [1 1 1 1 1]\n",
      " [1 1 1 1 1]]\n"
     ]
    }
   ],
   "source": [
    "# Q8: 垂直堆叠数组 a 和 b\n",
    "a = np.arange(10).reshape(2,-1)\n",
    "b = np.repeat(1, 10).reshape(2,-1)\n",
    "print(np.vstack([a, b]))\n",
    "# 第二种方案\n",
    "print(np.concatenate([a, b], axis=0))\n",
    "# 第三种方案\n",
    "print(np.r_[a, b])"
   ]
  },
  {
   "cell_type": "code",
   "execution_count": 10,
   "metadata": {},
   "outputs": [
    {
     "name": "stdout",
     "output_type": "stream",
     "text": [
      "[[0 1 2 3 4 1 1 1 1 1]\n",
      " [5 6 7 8 9 1 1 1 1 1]]\n",
      "[[0 1 2 3 4 1 1 1 1 1]\n",
      " [5 6 7 8 9 1 1 1 1 1]]\n",
      "[[0 1 2 3 4 1 1 1 1 1]\n",
      " [5 6 7 8 9 1 1 1 1 1]]\n"
     ]
    }
   ],
   "source": [
    "# Q9: 水平堆叠数组 a 和 b\n",
    "print(np.hstack([a, b]))\n",
    "# 第二种方案\n",
    "print(np.concatenate([a, b], axis = 1))\n",
    "# 第三种方案\n",
    "print(np.c_[a, b])"
   ]
  },
  {
   "cell_type": "code",
   "execution_count": 11,
   "metadata": {},
   "outputs": [
    {
     "name": "stdout",
     "output_type": "stream",
     "text": [
      "[1 1 1 2 2 2 3 3 3 1 2 3 1 2 3 1 2 3]\n"
     ]
    }
   ],
   "source": [
    "# Q10: 在不使用硬编码的前提下创建以下模式。仅使用 NumPy 函数和以下输入数组 a\n",
    "a = np.array([1,2,3])\n",
    "print(np.hstack((np.repeat(a, 3), np.tile(a, 3))))"
   ]
  },
  {
   "cell_type": "code",
   "execution_count": 12,
   "metadata": {},
   "outputs": [
    {
     "name": "stdout",
     "output_type": "stream",
     "text": [
      "[2 4]\n"
     ]
    }
   ],
   "source": [
    "# Q11: 获取数组 a 和 b 中的共同项\n",
    "a = np.array([1,2,3,2,3,4,3,4,5,6])\n",
    "b = np.array([7,2,10,2,7,4,9,4,9,8])\n",
    "print(np.intersect1d(a, b))"
   ]
  },
  {
   "cell_type": "code",
   "execution_count": 13,
   "metadata": {},
   "outputs": [
    {
     "name": "stdout",
     "output_type": "stream",
     "text": [
      "[1 2 3 4]\n"
     ]
    }
   ],
   "source": [
    "# Q12: 从数组 a 中移除出现在数组 b 中的所有项\n",
    "a = np.array([1,2,3,4,5])\n",
    "b = np.array([5,6,7,8,9])\n",
    "print(np.setdiff1d(a, b))"
   ]
  },
  {
   "cell_type": "code",
   "execution_count": 14,
   "metadata": {},
   "outputs": [
    {
     "name": "stdout",
     "output_type": "stream",
     "text": [
      "(array([1, 3, 5, 7]),)\n"
     ]
    }
   ],
   "source": [
    "# Q13: 获取数组 a 和 b 中匹配元素的位置\n",
    "a = np.array([1,2,3,2,3,4,3,4,5,6])\n",
    "b = np.array([7,2,10,2,7,4,9,4,9,8])\n",
    "print(np.where(a==b))"
   ]
  },
  {
   "cell_type": "code",
   "execution_count": 15,
   "metadata": {},
   "outputs": [
    {
     "name": "stdout",
     "output_type": "stream",
     "text": [
      "[ 5  6  7  8  9 10]\n",
      "[ 5  6  7  8  9 10]\n",
      "[ 5  6  7  8  9 10]\n"
     ]
    }
   ],
   "source": [
    "# Q14: 从数组 a 中提取 5 和 10 之间的所有项\n",
    "a = np.arange(15)\n",
    "print(a[np.where((a>=5) & (a<=10))])\n",
    "# 第二种方案\n",
    "print(a[np.where(np.logical_and(a>=5, a<=10))])\n",
    "# 第三种方案\n",
    "print(a[(a>=5) & (a<=10)])"
   ]
  },
  {
   "cell_type": "code",
   "execution_count": 16,
   "metadata": {},
   "outputs": [
    {
     "name": "stdout",
     "output_type": "stream",
     "text": [
      "[6 7 9 8 9 7 5]\n",
      "[[15 14 13 12 11]\n",
      " [10  9  8  8  9]\n",
      " [10 11 12 13 14]]\n"
     ]
    }
   ],
   "source": [
    "# Q15: 转换函数 maxx，使其从只能对比标量而变为对比两个数组\n",
    "def pair_maxx(a, b):\n",
    "    rel = (a>b).astype(np.int)\n",
    "    return rel*a+(1-rel)*b\n",
    "a = np.array([5, 7, 9, 8, 6, 4, 5])\n",
    "b = np.array([6, 3, 4, 8, 9, 7, 1])\n",
    "print(pair_maxx(a, b))\n",
    "# 第二种方案\n",
    "def maxx(a, b):\n",
    "    return a if a>b else b\n",
    "pair_maxx2 = np.vectorize(maxx)\n",
    "a = np.arange(15).reshape(3,-1)\n",
    "b = np.arange(15,0,-1).reshape(3,-1)\n",
    "print(pair_maxx2(a, b))"
   ]
  },
  {
   "cell_type": "code",
   "execution_count": 17,
   "metadata": {},
   "outputs": [
    {
     "name": "stdout",
     "output_type": "stream",
     "text": [
      "[[1 0 2]\n",
      " [4 3 5]\n",
      " [7 6 8]]\n"
     ]
    }
   ],
   "source": [
    "# Q16: 在数组 arr 中交换列 1 和列 2\n",
    "arr = np.arange(9).reshape(3,3)\n",
    "arr[:,[0, 1]]=arr[:,[1, 0]]\n",
    "print(arr)"
   ]
  },
  {
   "cell_type": "code",
   "execution_count": 18,
   "metadata": {},
   "outputs": [
    {
     "name": "stdout",
     "output_type": "stream",
     "text": [
      "[[6 7 8]\n",
      " [3 4 5]\n",
      " [0 1 2]]\n"
     ]
    }
   ],
   "source": [
    "# Q17: 反转 2D 数组 arr 中的所有行\n",
    "arr = np.arange(9).reshape(3,3)\n",
    "arr = arr[::-1,:]\n",
    "print(arr)"
   ]
  },
  {
   "cell_type": "code",
   "execution_count": 19,
   "metadata": {},
   "outputs": [
    {
     "name": "stdout",
     "output_type": "stream",
     "text": [
      "[[2 1 0]\n",
      " [5 4 3]\n",
      " [8 7 6]]\n"
     ]
    }
   ],
   "source": [
    "# Q18: 反转 2D 数组 arr 中的所有列\n",
    "arr = np.arange(9).reshape(3,3)\n",
    "arr = arr[:,::-1]\n",
    "print(arr)"
   ]
  },
  {
   "cell_type": "code",
   "execution_count": 20,
   "metadata": {},
   "outputs": [
    {
     "name": "stdout",
     "output_type": "stream",
     "text": [
      "[[ 5.59010493  6.24603998  6.81897745]\n",
      " [ 9.09087785  8.4345024   6.2518347 ]\n",
      " [ 5.06155489  7.65069839  5.38330601]\n",
      " [ 8.67227773  8.42278608  9.22054848]\n",
      " [ 9.31805916  7.20438088  7.38142533]]\n",
      "[[ 6.63973161  5.67514294  6.57470297]\n",
      " [ 6.22529889  9.66953197  5.57048713]\n",
      " [ 8.80189708  9.67052629  6.83721474]\n",
      " [ 7.80711214  8.53859361  6.55092571]\n",
      " [ 5.95772499  7.18087524  9.27232713]]\n"
     ]
    }
   ],
   "source": [
    "# Q19: 创建一个形态为 5×3 的 2 维数组，包含 5 和 10 之间的随机十进制小数\n",
    "arr = np.random.random((5, 3))*5+5\n",
    "print(arr)\n",
    "# 第二种方案\n",
    "arr = np.random.uniform(5, 10, size=(5,3))\n",
    "print(arr)"
   ]
  },
  {
   "cell_type": "code",
   "execution_count": 21,
   "metadata": {},
   "outputs": [
    {
     "name": "stdout",
     "output_type": "stream",
     "text": [
      "[[ 0.81   0.071  0.368]\n",
      " [ 0.771  0.19   0.953]\n",
      " [ 0.179  0.737  0.836]\n",
      " [ 0.215  0.391  0.952]\n",
      " [ 0.609  0.717  0.062]]\n"
     ]
    }
   ],
   "source": [
    "# Q20: 输出或显示 NumPy 数组 rand_arr 中小数点后三位的数字\n",
    "rand_arr = np.random.random((5,3))\n",
    "options = np.get_printoptions()\n",
    "np.set_printoptions(precision=3)\n",
    "print(rand_arr)\n",
    "np.set_printoptions(**options)"
   ]
  },
  {
   "cell_type": "code",
   "execution_count": 22,
   "metadata": {},
   "outputs": [
    {
     "name": "stdout",
     "output_type": "stream",
     "text": [
      "[[ 0.00073712  0.00084445  0.00093401]\n",
      " [ 0.00045469  0.00030427  0.0000788 ]\n",
      " [ 0.00022969  0.0001344   0.00049288]]\n"
     ]
    }
   ],
   "source": [
    "# Q21 通过禁用科学计数法（如 1e10）打印 NumPy 数组 rand_arr\n",
    "rand_arr = np.random.random([3,3])/1e3\n",
    "options = np.get_printoptions()\n",
    "np.set_printoptions(precision=8, suppress=True)\n",
    "print(rand_arr)\n",
    "np.set_printoptions(**options)"
   ]
  },
  {
   "cell_type": "code",
   "execution_count": 23,
   "metadata": {},
   "outputs": [
    {
     "name": "stdout",
     "output_type": "stream",
     "text": [
      "[ 0  1  2 ..., 12 13 14]\n"
     ]
    }
   ],
   "source": [
    "# Q22: 将 Python NumPy 数组 a 输出的项的数目限制在最多 6 个元素\n",
    "a = np.arange(15)\n",
    "options = np.get_printoptions()\n",
    "np.set_printoptions(threshold=6)\n",
    "print(a)\n",
    "np.set_printoptions(**options)"
   ]
  },
  {
   "cell_type": "code",
   "execution_count": 24,
   "metadata": {},
   "outputs": [
    {
     "name": "stdout",
     "output_type": "stream",
     "text": [
      "[  0   1   2   3   4   5   6   7   8   9  10  11  12  13  14  15  16  17\n",
      "  18  19  20  21  22  23  24  25  26  27  28  29  30  31  32  33  34  35\n",
      "  36  37  38  39  40  41  42  43  44  45  46  47  48  49  50  51  52  53\n",
      "  54  55  56  57  58  59  60  61  62  63  64  65  66  67  68  69  70  71\n",
      "  72  73  74  75  76  77  78  79  80  81  82  83  84  85  86  87  88  89\n",
      "  90  91  92  93  94  95  96  97  98  99 100 101 102 103 104 105 106 107\n",
      " 108 109 110 111 112 113 114 115 116 117 118 119 120 121 122 123 124 125\n",
      " 126 127 128 129 130 131 132 133 134 135 136 137 138 139 140 141 142 143\n",
      " 144 145 146 147 148 149 150 151 152 153 154 155 156 157 158 159 160 161\n",
      " 162 163 164 165 166 167 168 169 170 171 172 173 174 175 176 177 178 179\n",
      " 180 181 182 183 184 185 186 187 188 189 190 191 192 193 194 195 196 197\n",
      " 198 199 200 201 202 203 204 205 206 207 208 209 210 211 212 213 214 215\n",
      " 216 217 218 219 220 221 222 223 224 225 226 227 228 229 230 231 232 233\n",
      " 234 235 236 237 238 239 240 241 242 243 244 245 246 247 248 249 250 251\n",
      " 252 253 254 255 256 257 258 259 260 261 262 263 264 265 266 267 268 269\n",
      " 270 271 272 273 274 275 276 277 278 279 280 281 282 283 284 285 286 287\n",
      " 288 289 290 291 292 293 294 295 296 297 298 299 300 301 302 303 304 305\n",
      " 306 307 308 309 310 311 312 313 314 315 316 317 318 319 320 321 322 323\n",
      " 324 325 326 327 328 329 330 331 332 333 334 335 336 337 338 339 340 341\n",
      " 342 343 344 345 346 347 348 349 350 351 352 353 354 355 356 357 358 359\n",
      " 360 361 362 363 364 365 366 367 368 369 370 371 372 373 374 375 376 377\n",
      " 378 379 380 381 382 383 384 385 386 387 388 389 390 391 392 393 394 395\n",
      " 396 397 398 399 400 401 402 403 404 405 406 407 408 409 410 411 412 413\n",
      " 414 415 416 417 418 419 420 421 422 423 424 425 426 427 428 429 430 431\n",
      " 432 433 434 435 436 437 438 439 440 441 442 443 444 445 446 447 448 449\n",
      " 450 451 452 453 454 455 456 457 458 459 460 461 462 463 464 465 466 467\n",
      " 468 469 470 471 472 473 474 475 476 477 478 479 480 481 482 483 484 485\n",
      " 486 487 488 489 490 491 492 493 494 495 496 497 498 499 500 501 502 503\n",
      " 504 505 506 507 508 509 510 511 512 513 514 515 516 517 518 519 520 521\n",
      " 522 523 524 525 526 527 528 529 530 531 532 533 534 535 536 537 538 539\n",
      " 540 541 542 543 544 545 546 547 548 549 550 551 552 553 554 555 556 557\n",
      " 558 559 560 561 562 563 564 565 566 567 568 569 570 571 572 573 574 575\n",
      " 576 577 578 579 580 581 582 583 584 585 586 587 588 589 590 591 592 593\n",
      " 594 595 596 597 598 599 600 601 602 603 604 605 606 607 608 609 610 611\n",
      " 612 613 614 615 616 617 618 619 620 621 622 623 624 625 626 627 628 629\n",
      " 630 631 632 633 634 635 636 637 638 639 640 641 642 643 644 645 646 647\n",
      " 648 649 650 651 652 653 654 655 656 657 658 659 660 661 662 663 664 665\n",
      " 666 667 668 669 670 671 672 673 674 675 676 677 678 679 680 681 682 683\n",
      " 684 685 686 687 688 689 690 691 692 693 694 695 696 697 698 699 700 701\n",
      " 702 703 704 705 706 707 708 709 710 711 712 713 714 715 716 717 718 719\n",
      " 720 721 722 723 724 725 726 727 728 729 730 731 732 733 734 735 736 737\n",
      " 738 739 740 741 742 743 744 745 746 747 748 749 750 751 752 753 754 755\n",
      " 756 757 758 759 760 761 762 763 764 765 766 767 768 769 770 771 772 773\n",
      " 774 775 776 777 778 779 780 781 782 783 784 785 786 787 788 789 790 791\n",
      " 792 793 794 795 796 797 798 799 800 801 802 803 804 805 806 807 808 809\n",
      " 810 811 812 813 814 815 816 817 818 819 820 821 822 823 824 825 826 827\n",
      " 828 829 830 831 832 833 834 835 836 837 838 839 840 841 842 843 844 845\n",
      " 846 847 848 849 850 851 852 853 854 855 856 857 858 859 860 861 862 863\n",
      " 864 865 866 867 868 869 870 871 872 873 874 875 876 877 878 879 880 881\n",
      " 882 883 884 885 886 887 888 889 890 891 892 893 894 895 896 897 898 899\n",
      " 900 901 902 903 904 905 906 907 908 909 910 911 912 913 914 915 916 917\n",
      " 918 919 920 921 922 923 924 925 926 927 928 929 930 931 932 933 934 935\n",
      " 936 937 938 939 940 941 942 943 944 945 946 947 948 949 950 951 952 953\n",
      " 954 955 956 957 958 959 960 961 962 963 964 965 966 967 968 969 970 971\n",
      " 972 973 974 975 976 977 978 979 980 981 982 983 984 985 986 987 988 989\n",
      " 990 991 992 993 994 995 996 997 998 999]\n"
     ]
    }
   ],
   "source": [
    "# Q23: 在不截断数组的前提下打印出完整的 NumPy 数组 a\n",
    "a = np.arange(1000)\n",
    "options = np.get_printoptions()\n",
    "np.set_printoptions(threshold=np.nan)\n",
    "print(a)\n",
    "np.set_printoptions(**options)"
   ]
  },
  {
   "cell_type": "code",
   "execution_count": 25,
   "metadata": {},
   "outputs": [
    {
     "name": "stdout",
     "output_type": "stream",
     "text": [
      "[( 5.1,  3.5,  1.4,  0.2, b'Iris-setosa')\n",
      " ( 4.9,  3. ,  1.4,  0.2, b'Iris-setosa')\n",
      " ( 4.7,  3.2,  1.3,  0.2, b'Iris-setosa')\n",
      " ( 4.6,  3.1,  1.5,  0.2, b'Iris-setosa')\n",
      " ( 5. ,  3.6,  1.4,  0.2, b'Iris-setosa')\n",
      " ( 5.4,  3.9,  1.7,  0.4, b'Iris-setosa')\n",
      " ( 4.6,  3.4,  1.4,  0.3, b'Iris-setosa')\n",
      " ( 5. ,  3.4,  1.5,  0.2, b'Iris-setosa')\n",
      " ( 4.4,  2.9,  1.4,  0.2, b'Iris-setosa')\n",
      " ( 4.9,  3.1,  1.5,  0.1, b'Iris-setosa')\n",
      " ( 5.4,  3.7,  1.5,  0.2, b'Iris-setosa')\n",
      " ( 4.8,  3.4,  1.6,  0.2, b'Iris-setosa')\n",
      " ( 4.8,  3. ,  1.4,  0.1, b'Iris-setosa')\n",
      " ( 4.3,  3. ,  1.1,  0.1, b'Iris-setosa')\n",
      " ( 5.8,  4. ,  1.2,  0.2, b'Iris-setosa')\n",
      " ( 5.7,  4.4,  1.5,  0.4, b'Iris-setosa')\n",
      " ( 5.4,  3.9,  1.3,  0.4, b'Iris-setosa')\n",
      " ( 5.1,  3.5,  1.4,  0.3, b'Iris-setosa')\n",
      " ( 5.7,  3.8,  1.7,  0.3, b'Iris-setosa')\n",
      " ( 5.1,  3.8,  1.5,  0.3, b'Iris-setosa')\n",
      " ( 5.4,  3.4,  1.7,  0.2, b'Iris-setosa')\n",
      " ( 5.1,  3.7,  1.5,  0.4, b'Iris-setosa')\n",
      " ( 4.6,  3.6,  1. ,  0.2, b'Iris-setosa')\n",
      " ( 5.1,  3.3,  1.7,  0.5, b'Iris-setosa')\n",
      " ( 4.8,  3.4,  1.9,  0.2, b'Iris-setosa')\n",
      " ( 5. ,  3. ,  1.6,  0.2, b'Iris-setosa')\n",
      " ( 5. ,  3.4,  1.6,  0.4, b'Iris-setosa')\n",
      " ( 5.2,  3.5,  1.5,  0.2, b'Iris-setosa')\n",
      " ( 5.2,  3.4,  1.4,  0.2, b'Iris-setosa')\n",
      " ( 4.7,  3.2,  1.6,  0.2, b'Iris-setosa')\n",
      " ( 4.8,  3.1,  1.6,  0.2, b'Iris-setosa')\n",
      " ( 5.4,  3.4,  1.5,  0.4, b'Iris-setosa')\n",
      " ( 5.2,  4.1,  1.5,  0.1, b'Iris-setosa')\n",
      " ( 5.5,  4.2,  1.4,  0.2, b'Iris-setosa')\n",
      " ( 4.9,  3.1,  1.5,  0.1, b'Iris-setosa')\n",
      " ( 5. ,  3.2,  1.2,  0.2, b'Iris-setosa')\n",
      " ( 5.5,  3.5,  1.3,  0.2, b'Iris-setosa')\n",
      " ( 4.9,  3.1,  1.5,  0.1, b'Iris-setosa')\n",
      " ( 4.4,  3. ,  1.3,  0.2, b'Iris-setosa')\n",
      " ( 5.1,  3.4,  1.5,  0.2, b'Iris-setosa')\n",
      " ( 5. ,  3.5,  1.3,  0.3, b'Iris-setosa')\n",
      " ( 4.5,  2.3,  1.3,  0.3, b'Iris-setosa')\n",
      " ( 4.4,  3.2,  1.3,  0.2, b'Iris-setosa')\n",
      " ( 5. ,  3.5,  1.6,  0.6, b'Iris-setosa')\n",
      " ( 5.1,  3.8,  1.9,  0.4, b'Iris-setosa')\n",
      " ( 4.8,  3. ,  1.4,  0.3, b'Iris-setosa')\n",
      " ( 5.1,  3.8,  1.6,  0.2, b'Iris-setosa')\n",
      " ( 4.6,  3.2,  1.4,  0.2, b'Iris-setosa')\n",
      " ( 5.3,  3.7,  1.5,  0.2, b'Iris-setosa')\n",
      " ( 5. ,  3.3,  1.4,  0.2, b'Iris-setosa')\n",
      " ( 7. ,  3.2,  4.7,  1.4, b'Iris-versicolor')\n",
      " ( 6.4,  3.2,  4.5,  1.5, b'Iris-versicolor')\n",
      " ( 6.9,  3.1,  4.9,  1.5, b'Iris-versicolor')\n",
      " ( 5.5,  2.3,  4. ,  1.3, b'Iris-versicolor')\n",
      " ( 6.5,  2.8,  4.6,  1.5, b'Iris-versicolor')\n",
      " ( 5.7,  2.8,  4.5,  1.3, b'Iris-versicolor')\n",
      " ( 6.3,  3.3,  4.7,  1.6, b'Iris-versicolor')\n",
      " ( 4.9,  2.4,  3.3,  1. , b'Iris-versicolor')\n",
      " ( 6.6,  2.9,  4.6,  1.3, b'Iris-versicolor')\n",
      " ( 5.2,  2.7,  3.9,  1.4, b'Iris-versicolor')\n",
      " ( 5. ,  2. ,  3.5,  1. , b'Iris-versicolor')\n",
      " ( 5.9,  3. ,  4.2,  1.5, b'Iris-versicolor')\n",
      " ( 6. ,  2.2,  4. ,  1. , b'Iris-versicolor')\n",
      " ( 6.1,  2.9,  4.7,  1.4, b'Iris-versicolor')\n",
      " ( 5.6,  2.9,  3.6,  1.3, b'Iris-versicolor')\n",
      " ( 6.7,  3.1,  4.4,  1.4, b'Iris-versicolor')\n",
      " ( 5.6,  3. ,  4.5,  1.5, b'Iris-versicolor')\n",
      " ( 5.8,  2.7,  4.1,  1. , b'Iris-versicolor')\n",
      " ( 6.2,  2.2,  4.5,  1.5, b'Iris-versicolor')\n",
      " ( 5.6,  2.5,  3.9,  1.1, b'Iris-versicolor')\n",
      " ( 5.9,  3.2,  4.8,  1.8, b'Iris-versicolor')\n",
      " ( 6.1,  2.8,  4. ,  1.3, b'Iris-versicolor')\n",
      " ( 6.3,  2.5,  4.9,  1.5, b'Iris-versicolor')\n",
      " ( 6.1,  2.8,  4.7,  1.2, b'Iris-versicolor')\n",
      " ( 6.4,  2.9,  4.3,  1.3, b'Iris-versicolor')\n",
      " ( 6.6,  3. ,  4.4,  1.4, b'Iris-versicolor')\n",
      " ( 6.8,  2.8,  4.8,  1.4, b'Iris-versicolor')\n",
      " ( 6.7,  3. ,  5. ,  1.7, b'Iris-versicolor')\n",
      " ( 6. ,  2.9,  4.5,  1.5, b'Iris-versicolor')\n",
      " ( 5.7,  2.6,  3.5,  1. , b'Iris-versicolor')\n",
      " ( 5.5,  2.4,  3.8,  1.1, b'Iris-versicolor')\n",
      " ( 5.5,  2.4,  3.7,  1. , b'Iris-versicolor')\n",
      " ( 5.8,  2.7,  3.9,  1.2, b'Iris-versicolor')\n",
      " ( 6. ,  2.7,  5.1,  1.6, b'Iris-versicolor')\n",
      " ( 5.4,  3. ,  4.5,  1.5, b'Iris-versicolor')\n",
      " ( 6. ,  3.4,  4.5,  1.6, b'Iris-versicolor')\n",
      " ( 6.7,  3.1,  4.7,  1.5, b'Iris-versicolor')\n",
      " ( 6.3,  2.3,  4.4,  1.3, b'Iris-versicolor')\n",
      " ( 5.6,  3. ,  4.1,  1.3, b'Iris-versicolor')\n",
      " ( 5.5,  2.5,  4. ,  1.3, b'Iris-versicolor')\n",
      " ( 5.5,  2.6,  4.4,  1.2, b'Iris-versicolor')\n",
      " ( 6.1,  3. ,  4.6,  1.4, b'Iris-versicolor')\n",
      " ( 5.8,  2.6,  4. ,  1.2, b'Iris-versicolor')\n",
      " ( 5. ,  2.3,  3.3,  1. , b'Iris-versicolor')\n",
      " ( 5.6,  2.7,  4.2,  1.3, b'Iris-versicolor')\n",
      " ( 5.7,  3. ,  4.2,  1.2, b'Iris-versicolor')\n",
      " ( 5.7,  2.9,  4.2,  1.3, b'Iris-versicolor')\n",
      " ( 6.2,  2.9,  4.3,  1.3, b'Iris-versicolor')\n",
      " ( 5.1,  2.5,  3. ,  1.1, b'Iris-versicolor')\n",
      " ( 5.7,  2.8,  4.1,  1.3, b'Iris-versicolor')\n",
      " ( 6.3,  3.3,  6. ,  2.5, b'Iris-virginica')\n",
      " ( 5.8,  2.7,  5.1,  1.9, b'Iris-virginica')\n",
      " ( 7.1,  3. ,  5.9,  2.1, b'Iris-virginica')\n",
      " ( 6.3,  2.9,  5.6,  1.8, b'Iris-virginica')\n",
      " ( 6.5,  3. ,  5.8,  2.2, b'Iris-virginica')\n",
      " ( 7.6,  3. ,  6.6,  2.1, b'Iris-virginica')\n",
      " ( 4.9,  2.5,  4.5,  1.7, b'Iris-virginica')\n",
      " ( 7.3,  2.9,  6.3,  1.8, b'Iris-virginica')\n",
      " ( 6.7,  2.5,  5.8,  1.8, b'Iris-virginica')\n",
      " ( 7.2,  3.6,  6.1,  2.5, b'Iris-virginica')\n",
      " ( 6.5,  3.2,  5.1,  2. , b'Iris-virginica')\n",
      " ( 6.4,  2.7,  5.3,  1.9, b'Iris-virginica')\n",
      " ( 6.8,  3. ,  5.5,  2.1, b'Iris-virginica')\n",
      " ( 5.7,  2.5,  5. ,  2. , b'Iris-virginica')\n",
      " ( 5.8,  2.8,  5.1,  2.4, b'Iris-virginica')\n",
      " ( 6.4,  3.2,  5.3,  2.3, b'Iris-virginica')\n",
      " ( 6.5,  3. ,  5.5,  1.8, b'Iris-virginica')\n",
      " ( 7.7,  3.8,  6.7,  2.2, b'Iris-virginica')\n",
      " ( 7.7,  2.6,  6.9,  2.3, b'Iris-virginica')\n",
      " ( 6. ,  2.2,  5. ,  1.5, b'Iris-virginica')\n",
      " ( 6.9,  3.2,  5.7,  2.3, b'Iris-virginica')\n",
      " ( 5.6,  2.8,  4.9,  2. , b'Iris-virginica')\n",
      " ( 7.7,  2.8,  6.7,  2. , b'Iris-virginica')\n",
      " ( 6.3,  2.7,  4.9,  1.8, b'Iris-virginica')\n",
      " ( 6.7,  3.3,  5.7,  2.1, b'Iris-virginica')\n",
      " ( 7.2,  3.2,  6. ,  1.8, b'Iris-virginica')\n",
      " ( 6.2,  2.8,  4.8,  1.8, b'Iris-virginica')\n",
      " ( 6.1,  3. ,  4.9,  1.8, b'Iris-virginica')\n",
      " ( 6.4,  2.8,  5.6,  2.1, b'Iris-virginica')\n",
      " ( 7.2,  3. ,  5.8,  1.6, b'Iris-virginica')\n",
      " ( 7.4,  2.8,  6.1,  1.9, b'Iris-virginica')\n",
      " ( 7.9,  3.8,  6.4,  2. , b'Iris-virginica')\n",
      " ( 6.4,  2.8,  5.6,  2.2, b'Iris-virginica')\n",
      " ( 6.3,  2.8,  5.1,  1.5, b'Iris-virginica')\n",
      " ( 6.1,  2.6,  5.6,  1.4, b'Iris-virginica')\n",
      " ( 7.7,  3. ,  6.1,  2.3, b'Iris-virginica')\n",
      " ( 6.3,  3.4,  5.6,  2.4, b'Iris-virginica')\n",
      " ( 6.4,  3.1,  5.5,  1.8, b'Iris-virginica')\n",
      " ( 6. ,  3. ,  4.8,  1.8, b'Iris-virginica')\n",
      " ( 6.9,  3.1,  5.4,  2.1, b'Iris-virginica')\n",
      " ( 6.7,  3.1,  5.6,  2.4, b'Iris-virginica')\n",
      " ( 6.9,  3.1,  5.1,  2.3, b'Iris-virginica')\n",
      " ( 5.8,  2.7,  5.1,  1.9, b'Iris-virginica')\n",
      " ( 6.8,  3.2,  5.9,  2.3, b'Iris-virginica')\n",
      " ( 6.7,  3.3,  5.7,  2.5, b'Iris-virginica')\n",
      " ( 6.7,  3. ,  5.2,  2.3, b'Iris-virginica')\n",
      " ( 6.3,  2.5,  5. ,  1.9, b'Iris-virginica')\n",
      " ( 6.5,  3. ,  5.2,  2. , b'Iris-virginica')\n",
      " ( 6.2,  3.4,  5.4,  2.3, b'Iris-virginica')\n",
      " ( 5.9,  3. ,  5.1,  1.8, b'Iris-virginica')]\n"
     ]
    }
   ],
   "source": [
    "# Q24: 导入 iris 数据集，保持文本不变\n",
    "url = 'https://archive.ics.uci.edu/ml/machine-learning-databases/iris/iris.data'\n",
    "iris_1d = np.genfromtxt(url, delimiter=',', dtype=None)\n",
    "print(iris_1d)"
   ]
  },
  {
   "cell_type": "code",
   "execution_count": 26,
   "metadata": {},
   "outputs": [
    {
     "name": "stdout",
     "output_type": "stream",
     "text": [
      "[b'Iris-setosa' b'Iris-setosa' b'Iris-setosa' b'Iris-setosa' b'Iris-setosa'\n",
      " b'Iris-setosa' b'Iris-setosa' b'Iris-setosa' b'Iris-setosa' b'Iris-setosa'\n",
      " b'Iris-setosa' b'Iris-setosa' b'Iris-setosa' b'Iris-setosa' b'Iris-setosa'\n",
      " b'Iris-setosa' b'Iris-setosa' b'Iris-setosa' b'Iris-setosa' b'Iris-setosa'\n",
      " b'Iris-setosa' b'Iris-setosa' b'Iris-setosa' b'Iris-setosa' b'Iris-setosa'\n",
      " b'Iris-setosa' b'Iris-setosa' b'Iris-setosa' b'Iris-setosa' b'Iris-setosa'\n",
      " b'Iris-setosa' b'Iris-setosa' b'Iris-setosa' b'Iris-setosa' b'Iris-setosa'\n",
      " b'Iris-setosa' b'Iris-setosa' b'Iris-setosa' b'Iris-setosa' b'Iris-setosa'\n",
      " b'Iris-setosa' b'Iris-setosa' b'Iris-setosa' b'Iris-setosa' b'Iris-setosa'\n",
      " b'Iris-setosa' b'Iris-setosa' b'Iris-setosa' b'Iris-setosa' b'Iris-setosa'\n",
      " b'Iris-versicolor' b'Iris-versicolor' b'Iris-versicolor'\n",
      " b'Iris-versicolor' b'Iris-versicolor' b'Iris-versicolor'\n",
      " b'Iris-versicolor' b'Iris-versicolor' b'Iris-versicolor'\n",
      " b'Iris-versicolor' b'Iris-versicolor' b'Iris-versicolor'\n",
      " b'Iris-versicolor' b'Iris-versicolor' b'Iris-versicolor'\n",
      " b'Iris-versicolor' b'Iris-versicolor' b'Iris-versicolor'\n",
      " b'Iris-versicolor' b'Iris-versicolor' b'Iris-versicolor'\n",
      " b'Iris-versicolor' b'Iris-versicolor' b'Iris-versicolor'\n",
      " b'Iris-versicolor' b'Iris-versicolor' b'Iris-versicolor'\n",
      " b'Iris-versicolor' b'Iris-versicolor' b'Iris-versicolor'\n",
      " b'Iris-versicolor' b'Iris-versicolor' b'Iris-versicolor'\n",
      " b'Iris-versicolor' b'Iris-versicolor' b'Iris-versicolor'\n",
      " b'Iris-versicolor' b'Iris-versicolor' b'Iris-versicolor'\n",
      " b'Iris-versicolor' b'Iris-versicolor' b'Iris-versicolor'\n",
      " b'Iris-versicolor' b'Iris-versicolor' b'Iris-versicolor'\n",
      " b'Iris-versicolor' b'Iris-versicolor' b'Iris-versicolor'\n",
      " b'Iris-versicolor' b'Iris-versicolor' b'Iris-virginica' b'Iris-virginica'\n",
      " b'Iris-virginica' b'Iris-virginica' b'Iris-virginica' b'Iris-virginica'\n",
      " b'Iris-virginica' b'Iris-virginica' b'Iris-virginica' b'Iris-virginica'\n",
      " b'Iris-virginica' b'Iris-virginica' b'Iris-virginica' b'Iris-virginica'\n",
      " b'Iris-virginica' b'Iris-virginica' b'Iris-virginica' b'Iris-virginica'\n",
      " b'Iris-virginica' b'Iris-virginica' b'Iris-virginica' b'Iris-virginica'\n",
      " b'Iris-virginica' b'Iris-virginica' b'Iris-virginica' b'Iris-virginica'\n",
      " b'Iris-virginica' b'Iris-virginica' b'Iris-virginica' b'Iris-virginica'\n",
      " b'Iris-virginica' b'Iris-virginica' b'Iris-virginica' b'Iris-virginica'\n",
      " b'Iris-virginica' b'Iris-virginica' b'Iris-virginica' b'Iris-virginica'\n",
      " b'Iris-virginica' b'Iris-virginica' b'Iris-virginica' b'Iris-virginica'\n",
      " b'Iris-virginica' b'Iris-virginica' b'Iris-virginica' b'Iris-virginica'\n",
      " b'Iris-virginica' b'Iris-virginica' b'Iris-virginica' b'Iris-virginica']\n"
     ]
    }
   ],
   "source": [
    "# Q25: 从前一个问题导入的 1 维 iris 中提取文本列 species\n",
    "print(iris_1d['f4'])"
   ]
  },
  {
   "cell_type": "code",
   "execution_count": 27,
   "metadata": {},
   "outputs": [
    {
     "name": "stdout",
     "output_type": "stream",
     "text": [
      "[[ 5.1  3.5  1.4  0.2]\n",
      " [ 4.9  3.   1.4  0.2]\n",
      " [ 4.7  3.2  1.3  0.2]\n",
      " [ 4.6  3.1  1.5  0.2]\n",
      " [ 5.   3.6  1.4  0.2]\n",
      " [ 5.4  3.9  1.7  0.4]\n",
      " [ 4.6  3.4  1.4  0.3]\n",
      " [ 5.   3.4  1.5  0.2]\n",
      " [ 4.4  2.9  1.4  0.2]\n",
      " [ 4.9  3.1  1.5  0.1]\n",
      " [ 5.4  3.7  1.5  0.2]\n",
      " [ 4.8  3.4  1.6  0.2]\n",
      " [ 4.8  3.   1.4  0.1]\n",
      " [ 4.3  3.   1.1  0.1]\n",
      " [ 5.8  4.   1.2  0.2]\n",
      " [ 5.7  4.4  1.5  0.4]\n",
      " [ 5.4  3.9  1.3  0.4]\n",
      " [ 5.1  3.5  1.4  0.3]\n",
      " [ 5.7  3.8  1.7  0.3]\n",
      " [ 5.1  3.8  1.5  0.3]\n",
      " [ 5.4  3.4  1.7  0.2]\n",
      " [ 5.1  3.7  1.5  0.4]\n",
      " [ 4.6  3.6  1.   0.2]\n",
      " [ 5.1  3.3  1.7  0.5]\n",
      " [ 4.8  3.4  1.9  0.2]\n",
      " [ 5.   3.   1.6  0.2]\n",
      " [ 5.   3.4  1.6  0.4]\n",
      " [ 5.2  3.5  1.5  0.2]\n",
      " [ 5.2  3.4  1.4  0.2]\n",
      " [ 4.7  3.2  1.6  0.2]\n",
      " [ 4.8  3.1  1.6  0.2]\n",
      " [ 5.4  3.4  1.5  0.4]\n",
      " [ 5.2  4.1  1.5  0.1]\n",
      " [ 5.5  4.2  1.4  0.2]\n",
      " [ 4.9  3.1  1.5  0.1]\n",
      " [ 5.   3.2  1.2  0.2]\n",
      " [ 5.5  3.5  1.3  0.2]\n",
      " [ 4.9  3.1  1.5  0.1]\n",
      " [ 4.4  3.   1.3  0.2]\n",
      " [ 5.1  3.4  1.5  0.2]\n",
      " [ 5.   3.5  1.3  0.3]\n",
      " [ 4.5  2.3  1.3  0.3]\n",
      " [ 4.4  3.2  1.3  0.2]\n",
      " [ 5.   3.5  1.6  0.6]\n",
      " [ 5.1  3.8  1.9  0.4]\n",
      " [ 4.8  3.   1.4  0.3]\n",
      " [ 5.1  3.8  1.6  0.2]\n",
      " [ 4.6  3.2  1.4  0.2]\n",
      " [ 5.3  3.7  1.5  0.2]\n",
      " [ 5.   3.3  1.4  0.2]\n",
      " [ 7.   3.2  4.7  1.4]\n",
      " [ 6.4  3.2  4.5  1.5]\n",
      " [ 6.9  3.1  4.9  1.5]\n",
      " [ 5.5  2.3  4.   1.3]\n",
      " [ 6.5  2.8  4.6  1.5]\n",
      " [ 5.7  2.8  4.5  1.3]\n",
      " [ 6.3  3.3  4.7  1.6]\n",
      " [ 4.9  2.4  3.3  1. ]\n",
      " [ 6.6  2.9  4.6  1.3]\n",
      " [ 5.2  2.7  3.9  1.4]\n",
      " [ 5.   2.   3.5  1. ]\n",
      " [ 5.9  3.   4.2  1.5]\n",
      " [ 6.   2.2  4.   1. ]\n",
      " [ 6.1  2.9  4.7  1.4]\n",
      " [ 5.6  2.9  3.6  1.3]\n",
      " [ 6.7  3.1  4.4  1.4]\n",
      " [ 5.6  3.   4.5  1.5]\n",
      " [ 5.8  2.7  4.1  1. ]\n",
      " [ 6.2  2.2  4.5  1.5]\n",
      " [ 5.6  2.5  3.9  1.1]\n",
      " [ 5.9  3.2  4.8  1.8]\n",
      " [ 6.1  2.8  4.   1.3]\n",
      " [ 6.3  2.5  4.9  1.5]\n",
      " [ 6.1  2.8  4.7  1.2]\n",
      " [ 6.4  2.9  4.3  1.3]\n",
      " [ 6.6  3.   4.4  1.4]\n",
      " [ 6.8  2.8  4.8  1.4]\n",
      " [ 6.7  3.   5.   1.7]\n",
      " [ 6.   2.9  4.5  1.5]\n",
      " [ 5.7  2.6  3.5  1. ]\n",
      " [ 5.5  2.4  3.8  1.1]\n",
      " [ 5.5  2.4  3.7  1. ]\n",
      " [ 5.8  2.7  3.9  1.2]\n",
      " [ 6.   2.7  5.1  1.6]\n",
      " [ 5.4  3.   4.5  1.5]\n",
      " [ 6.   3.4  4.5  1.6]\n",
      " [ 6.7  3.1  4.7  1.5]\n",
      " [ 6.3  2.3  4.4  1.3]\n",
      " [ 5.6  3.   4.1  1.3]\n",
      " [ 5.5  2.5  4.   1.3]\n",
      " [ 5.5  2.6  4.4  1.2]\n",
      " [ 6.1  3.   4.6  1.4]\n",
      " [ 5.8  2.6  4.   1.2]\n",
      " [ 5.   2.3  3.3  1. ]\n",
      " [ 5.6  2.7  4.2  1.3]\n",
      " [ 5.7  3.   4.2  1.2]\n",
      " [ 5.7  2.9  4.2  1.3]\n",
      " [ 6.2  2.9  4.3  1.3]\n",
      " [ 5.1  2.5  3.   1.1]\n",
      " [ 5.7  2.8  4.1  1.3]\n",
      " [ 6.3  3.3  6.   2.5]\n",
      " [ 5.8  2.7  5.1  1.9]\n",
      " [ 7.1  3.   5.9  2.1]\n",
      " [ 6.3  2.9  5.6  1.8]\n",
      " [ 6.5  3.   5.8  2.2]\n",
      " [ 7.6  3.   6.6  2.1]\n",
      " [ 4.9  2.5  4.5  1.7]\n",
      " [ 7.3  2.9  6.3  1.8]\n",
      " [ 6.7  2.5  5.8  1.8]\n",
      " [ 7.2  3.6  6.1  2.5]\n",
      " [ 6.5  3.2  5.1  2. ]\n",
      " [ 6.4  2.7  5.3  1.9]\n",
      " [ 6.8  3.   5.5  2.1]\n",
      " [ 5.7  2.5  5.   2. ]\n",
      " [ 5.8  2.8  5.1  2.4]\n",
      " [ 6.4  3.2  5.3  2.3]\n",
      " [ 6.5  3.   5.5  1.8]\n",
      " [ 7.7  3.8  6.7  2.2]\n",
      " [ 7.7  2.6  6.9  2.3]\n",
      " [ 6.   2.2  5.   1.5]\n",
      " [ 6.9  3.2  5.7  2.3]\n",
      " [ 5.6  2.8  4.9  2. ]\n",
      " [ 7.7  2.8  6.7  2. ]\n",
      " [ 6.3  2.7  4.9  1.8]\n",
      " [ 6.7  3.3  5.7  2.1]\n",
      " [ 7.2  3.2  6.   1.8]\n",
      " [ 6.2  2.8  4.8  1.8]\n",
      " [ 6.1  3.   4.9  1.8]\n",
      " [ 6.4  2.8  5.6  2.1]\n",
      " [ 7.2  3.   5.8  1.6]\n",
      " [ 7.4  2.8  6.1  1.9]\n",
      " [ 7.9  3.8  6.4  2. ]\n",
      " [ 6.4  2.8  5.6  2.2]\n",
      " [ 6.3  2.8  5.1  1.5]\n",
      " [ 6.1  2.6  5.6  1.4]\n",
      " [ 7.7  3.   6.1  2.3]\n",
      " [ 6.3  3.4  5.6  2.4]\n",
      " [ 6.4  3.1  5.5  1.8]\n",
      " [ 6.   3.   4.8  1.8]\n",
      " [ 6.9  3.1  5.4  2.1]\n",
      " [ 6.7  3.1  5.6  2.4]\n",
      " [ 6.9  3.1  5.1  2.3]\n",
      " [ 5.8  2.7  5.1  1.9]\n",
      " [ 6.8  3.2  5.9  2.3]\n",
      " [ 6.7  3.3  5.7  2.5]\n",
      " [ 6.7  3.   5.2  2.3]\n",
      " [ 6.3  2.5  5.   1.9]\n",
      " [ 6.5  3.   5.2  2. ]\n",
      " [ 6.2  3.4  5.4  2.3]\n",
      " [ 5.9  3.   5.1  1.8]]\n",
      "[[ 5.1  3.5  1.4  0.2]\n",
      " [ 4.9  3.   1.4  0.2]\n",
      " [ 4.7  3.2  1.3  0.2]\n",
      " [ 4.6  3.1  1.5  0.2]\n",
      " [ 5.   3.6  1.4  0.2]\n",
      " [ 5.4  3.9  1.7  0.4]\n",
      " [ 4.6  3.4  1.4  0.3]\n",
      " [ 5.   3.4  1.5  0.2]\n",
      " [ 4.4  2.9  1.4  0.2]\n",
      " [ 4.9  3.1  1.5  0.1]\n",
      " [ 5.4  3.7  1.5  0.2]\n",
      " [ 4.8  3.4  1.6  0.2]\n",
      " [ 4.8  3.   1.4  0.1]\n",
      " [ 4.3  3.   1.1  0.1]\n",
      " [ 5.8  4.   1.2  0.2]\n",
      " [ 5.7  4.4  1.5  0.4]\n",
      " [ 5.4  3.9  1.3  0.4]\n",
      " [ 5.1  3.5  1.4  0.3]\n",
      " [ 5.7  3.8  1.7  0.3]\n",
      " [ 5.1  3.8  1.5  0.3]\n",
      " [ 5.4  3.4  1.7  0.2]\n",
      " [ 5.1  3.7  1.5  0.4]\n",
      " [ 4.6  3.6  1.   0.2]\n",
      " [ 5.1  3.3  1.7  0.5]\n",
      " [ 4.8  3.4  1.9  0.2]\n",
      " [ 5.   3.   1.6  0.2]\n",
      " [ 5.   3.4  1.6  0.4]\n",
      " [ 5.2  3.5  1.5  0.2]\n",
      " [ 5.2  3.4  1.4  0.2]\n",
      " [ 4.7  3.2  1.6  0.2]\n",
      " [ 4.8  3.1  1.6  0.2]\n",
      " [ 5.4  3.4  1.5  0.4]\n",
      " [ 5.2  4.1  1.5  0.1]\n",
      " [ 5.5  4.2  1.4  0.2]\n",
      " [ 4.9  3.1  1.5  0.1]\n",
      " [ 5.   3.2  1.2  0.2]\n",
      " [ 5.5  3.5  1.3  0.2]\n",
      " [ 4.9  3.1  1.5  0.1]\n",
      " [ 4.4  3.   1.3  0.2]\n",
      " [ 5.1  3.4  1.5  0.2]\n",
      " [ 5.   3.5  1.3  0.3]\n",
      " [ 4.5  2.3  1.3  0.3]\n",
      " [ 4.4  3.2  1.3  0.2]\n",
      " [ 5.   3.5  1.6  0.6]\n",
      " [ 5.1  3.8  1.9  0.4]\n",
      " [ 4.8  3.   1.4  0.3]\n",
      " [ 5.1  3.8  1.6  0.2]\n",
      " [ 4.6  3.2  1.4  0.2]\n",
      " [ 5.3  3.7  1.5  0.2]\n",
      " [ 5.   3.3  1.4  0.2]\n",
      " [ 7.   3.2  4.7  1.4]\n",
      " [ 6.4  3.2  4.5  1.5]\n",
      " [ 6.9  3.1  4.9  1.5]\n",
      " [ 5.5  2.3  4.   1.3]\n",
      " [ 6.5  2.8  4.6  1.5]\n",
      " [ 5.7  2.8  4.5  1.3]\n",
      " [ 6.3  3.3  4.7  1.6]\n",
      " [ 4.9  2.4  3.3  1. ]\n",
      " [ 6.6  2.9  4.6  1.3]\n",
      " [ 5.2  2.7  3.9  1.4]\n",
      " [ 5.   2.   3.5  1. ]\n",
      " [ 5.9  3.   4.2  1.5]\n",
      " [ 6.   2.2  4.   1. ]\n",
      " [ 6.1  2.9  4.7  1.4]\n",
      " [ 5.6  2.9  3.6  1.3]\n",
      " [ 6.7  3.1  4.4  1.4]\n",
      " [ 5.6  3.   4.5  1.5]\n",
      " [ 5.8  2.7  4.1  1. ]\n",
      " [ 6.2  2.2  4.5  1.5]\n",
      " [ 5.6  2.5  3.9  1.1]\n",
      " [ 5.9  3.2  4.8  1.8]\n",
      " [ 6.1  2.8  4.   1.3]\n",
      " [ 6.3  2.5  4.9  1.5]\n",
      " [ 6.1  2.8  4.7  1.2]\n",
      " [ 6.4  2.9  4.3  1.3]\n",
      " [ 6.6  3.   4.4  1.4]\n",
      " [ 6.8  2.8  4.8  1.4]\n",
      " [ 6.7  3.   5.   1.7]\n",
      " [ 6.   2.9  4.5  1.5]\n",
      " [ 5.7  2.6  3.5  1. ]\n",
      " [ 5.5  2.4  3.8  1.1]\n",
      " [ 5.5  2.4  3.7  1. ]\n",
      " [ 5.8  2.7  3.9  1.2]\n",
      " [ 6.   2.7  5.1  1.6]\n",
      " [ 5.4  3.   4.5  1.5]\n",
      " [ 6.   3.4  4.5  1.6]\n",
      " [ 6.7  3.1  4.7  1.5]\n",
      " [ 6.3  2.3  4.4  1.3]\n",
      " [ 5.6  3.   4.1  1.3]\n",
      " [ 5.5  2.5  4.   1.3]\n",
      " [ 5.5  2.6  4.4  1.2]\n",
      " [ 6.1  3.   4.6  1.4]\n",
      " [ 5.8  2.6  4.   1.2]\n",
      " [ 5.   2.3  3.3  1. ]\n",
      " [ 5.6  2.7  4.2  1.3]\n",
      " [ 5.7  3.   4.2  1.2]\n",
      " [ 5.7  2.9  4.2  1.3]\n",
      " [ 6.2  2.9  4.3  1.3]\n",
      " [ 5.1  2.5  3.   1.1]\n",
      " [ 5.7  2.8  4.1  1.3]\n",
      " [ 6.3  3.3  6.   2.5]\n",
      " [ 5.8  2.7  5.1  1.9]\n",
      " [ 7.1  3.   5.9  2.1]\n",
      " [ 6.3  2.9  5.6  1.8]\n",
      " [ 6.5  3.   5.8  2.2]\n",
      " [ 7.6  3.   6.6  2.1]\n",
      " [ 4.9  2.5  4.5  1.7]\n",
      " [ 7.3  2.9  6.3  1.8]\n",
      " [ 6.7  2.5  5.8  1.8]\n",
      " [ 7.2  3.6  6.1  2.5]\n",
      " [ 6.5  3.2  5.1  2. ]\n",
      " [ 6.4  2.7  5.3  1.9]\n",
      " [ 6.8  3.   5.5  2.1]\n",
      " [ 5.7  2.5  5.   2. ]\n",
      " [ 5.8  2.8  5.1  2.4]\n",
      " [ 6.4  3.2  5.3  2.3]\n",
      " [ 6.5  3.   5.5  1.8]\n",
      " [ 7.7  3.8  6.7  2.2]\n",
      " [ 7.7  2.6  6.9  2.3]\n",
      " [ 6.   2.2  5.   1.5]\n",
      " [ 6.9  3.2  5.7  2.3]\n",
      " [ 5.6  2.8  4.9  2. ]\n",
      " [ 7.7  2.8  6.7  2. ]\n",
      " [ 6.3  2.7  4.9  1.8]\n",
      " [ 6.7  3.3  5.7  2.1]\n",
      " [ 7.2  3.2  6.   1.8]\n",
      " [ 6.2  2.8  4.8  1.8]\n",
      " [ 6.1  3.   4.9  1.8]\n",
      " [ 6.4  2.8  5.6  2.1]\n",
      " [ 7.2  3.   5.8  1.6]\n",
      " [ 7.4  2.8  6.1  1.9]\n",
      " [ 7.9  3.8  6.4  2. ]\n",
      " [ 6.4  2.8  5.6  2.2]\n",
      " [ 6.3  2.8  5.1  1.5]\n",
      " [ 6.1  2.6  5.6  1.4]\n",
      " [ 7.7  3.   6.1  2.3]\n",
      " [ 6.3  3.4  5.6  2.4]\n",
      " [ 6.4  3.1  5.5  1.8]\n",
      " [ 6.   3.   4.8  1.8]\n",
      " [ 6.9  3.1  5.4  2.1]\n",
      " [ 6.7  3.1  5.6  2.4]\n",
      " [ 6.9  3.1  5.1  2.3]\n",
      " [ 5.8  2.7  5.1  1.9]\n",
      " [ 6.8  3.2  5.9  2.3]\n",
      " [ 6.7  3.3  5.7  2.5]\n",
      " [ 6.7  3.   5.2  2.3]\n",
      " [ 6.3  2.5  5.   1.9]\n",
      " [ 6.5  3.   5.2  2. ]\n",
      " [ 6.2  3.4  5.4  2.3]\n",
      " [ 5.9  3.   5.1  1.8]]\n"
     ]
    }
   ],
   "source": [
    "# Q26: 忽略 species 文本字段，将 1 维 iris 转换成 2 维数组 iris_2d\n",
    "iris_2d = np.column_stack((iris_1d['f0'], iris_1d['f1'], iris_1d['f2'], \n",
    "                     iris_1d['f3']))\n",
    "print(iris_2d)\n",
    "# 第二种方案\n",
    "iris_2d = np.array(list(row.tolist()[:4] for row in iris_1d))\n",
    "print(iris_2d)"
   ]
  },
  {
   "cell_type": "code",
   "execution_count": 28,
   "metadata": {},
   "outputs": [
    {
     "name": "stdout",
     "output_type": "stream",
     "text": [
      "5.84333333333\n",
      "5.8\n",
      "0.825301291785\n"
     ]
    }
   ],
   "source": [
    "# Q27: 找出 iris sepallength（第一列）的平均值、中位数和标准差\n",
    "print(np.mean(iris_2d[:,0]))\n",
    "print(np.median(iris_2d[:,0]))\n",
    "print(np.std(iris_2d[:,0]))"
   ]
  },
  {
   "cell_type": "code",
   "execution_count": 29,
   "metadata": {},
   "outputs": [
    {
     "name": "stdout",
     "output_type": "stream",
     "text": [
      "[ 0.22222222  0.16666667  0.11111111  0.08333333  0.19444444  0.30555556\n",
      "  0.08333333  0.19444444  0.02777778  0.16666667  0.30555556  0.13888889\n",
      "  0.13888889  0.          0.41666667  0.38888889  0.30555556  0.22222222\n",
      "  0.38888889  0.22222222  0.30555556  0.22222222  0.08333333  0.22222222\n",
      "  0.13888889  0.19444444  0.19444444  0.25        0.25        0.11111111\n",
      "  0.13888889  0.30555556  0.25        0.33333333  0.16666667  0.19444444\n",
      "  0.33333333  0.16666667  0.02777778  0.22222222  0.19444444  0.05555556\n",
      "  0.02777778  0.19444444  0.22222222  0.13888889  0.22222222  0.08333333\n",
      "  0.27777778  0.19444444  0.75        0.58333333  0.72222222  0.33333333\n",
      "  0.61111111  0.38888889  0.55555556  0.16666667  0.63888889  0.25\n",
      "  0.19444444  0.44444444  0.47222222  0.5         0.36111111  0.66666667\n",
      "  0.36111111  0.41666667  0.52777778  0.36111111  0.44444444  0.5\n",
      "  0.55555556  0.5         0.58333333  0.63888889  0.69444444  0.66666667\n",
      "  0.47222222  0.38888889  0.33333333  0.33333333  0.41666667  0.47222222\n",
      "  0.30555556  0.47222222  0.66666667  0.55555556  0.36111111  0.33333333\n",
      "  0.33333333  0.5         0.41666667  0.19444444  0.36111111  0.38888889\n",
      "  0.38888889  0.52777778  0.22222222  0.38888889  0.55555556  0.41666667\n",
      "  0.77777778  0.55555556  0.61111111  0.91666667  0.16666667  0.83333333\n",
      "  0.66666667  0.80555556  0.61111111  0.58333333  0.69444444  0.38888889\n",
      "  0.41666667  0.58333333  0.61111111  0.94444444  0.94444444  0.47222222\n",
      "  0.72222222  0.36111111  0.94444444  0.55555556  0.66666667  0.80555556\n",
      "  0.52777778  0.5         0.58333333  0.80555556  0.86111111  1.\n",
      "  0.58333333  0.55555556  0.5         0.94444444  0.55555556  0.58333333\n",
      "  0.47222222  0.72222222  0.66666667  0.72222222  0.41666667  0.69444444\n",
      "  0.66666667  0.66666667  0.55555556  0.61111111  0.52777778  0.44444444]\n",
      "[ 0.22222222  0.16666667  0.11111111  0.08333333  0.19444444  0.30555556\n",
      "  0.08333333  0.19444444  0.02777778  0.16666667  0.30555556  0.13888889\n",
      "  0.13888889  0.          0.41666667  0.38888889  0.30555556  0.22222222\n",
      "  0.38888889  0.22222222  0.30555556  0.22222222  0.08333333  0.22222222\n",
      "  0.13888889  0.19444444  0.19444444  0.25        0.25        0.11111111\n",
      "  0.13888889  0.30555556  0.25        0.33333333  0.16666667  0.19444444\n",
      "  0.33333333  0.16666667  0.02777778  0.22222222  0.19444444  0.05555556\n",
      "  0.02777778  0.19444444  0.22222222  0.13888889  0.22222222  0.08333333\n",
      "  0.27777778  0.19444444  0.75        0.58333333  0.72222222  0.33333333\n",
      "  0.61111111  0.38888889  0.55555556  0.16666667  0.63888889  0.25\n",
      "  0.19444444  0.44444444  0.47222222  0.5         0.36111111  0.66666667\n",
      "  0.36111111  0.41666667  0.52777778  0.36111111  0.44444444  0.5\n",
      "  0.55555556  0.5         0.58333333  0.63888889  0.69444444  0.66666667\n",
      "  0.47222222  0.38888889  0.33333333  0.33333333  0.41666667  0.47222222\n",
      "  0.30555556  0.47222222  0.66666667  0.55555556  0.36111111  0.33333333\n",
      "  0.33333333  0.5         0.41666667  0.19444444  0.36111111  0.38888889\n",
      "  0.38888889  0.52777778  0.22222222  0.38888889  0.55555556  0.41666667\n",
      "  0.77777778  0.55555556  0.61111111  0.91666667  0.16666667  0.83333333\n",
      "  0.66666667  0.80555556  0.61111111  0.58333333  0.69444444  0.38888889\n",
      "  0.41666667  0.58333333  0.61111111  0.94444444  0.94444444  0.47222222\n",
      "  0.72222222  0.36111111  0.94444444  0.55555556  0.66666667  0.80555556\n",
      "  0.52777778  0.5         0.58333333  0.80555556  0.86111111  1.\n",
      "  0.58333333  0.55555556  0.5         0.94444444  0.55555556  0.58333333\n",
      "  0.47222222  0.72222222  0.66666667  0.72222222  0.41666667  0.69444444\n",
      "  0.66666667  0.66666667  0.55555556  0.61111111  0.52777778  0.44444444]\n"
     ]
    }
   ],
   "source": [
    "# Q28: 创建 iris sepallength 的归一化格式，使其值在 0 到 1 之间\n",
    "max0 = np.max(iris_2d[:,0])\n",
    "min0 = np.min(iris_2d[:,0])\n",
    "print((iris_2d[:,0]-min0)/(max0-min0))\n",
    "# 第二种方案\n",
    "print((iris_2d[:,0]-min0)/np.ptp(iris_2d[:,0]))"
   ]
  },
  {
   "cell_type": "code",
   "execution_count": 30,
   "metadata": {},
   "outputs": [
    {
     "name": "stdout",
     "output_type": "stream",
     "text": [
      "[ 0.00221959  0.00181724  0.00148783  0.00134625  0.00200836  0.00299613\n",
      "  0.00134625  0.00200836  0.00110221  0.00181724  0.00299613  0.00164431\n",
      "  0.00164431  0.00099732  0.0044697   0.00404435  0.00299613  0.00221959\n",
      "  0.00404435  0.00221959  0.00299613  0.00221959  0.00134625  0.00221959\n",
      "  0.00164431  0.00200836  0.00200836  0.00245302  0.00245302  0.00148783\n",
      "  0.00164431  0.00299613  0.00245302  0.00331123  0.00181724  0.00200836\n",
      "  0.00331123  0.00181724  0.00110221  0.00221959  0.00200836  0.00121813\n",
      "  0.00110221  0.00200836  0.00221959  0.00164431  0.00221959  0.00134625\n",
      "  0.00271101  0.00200836  0.01483991  0.00814432  0.01342771  0.00331123\n",
      "  0.00900086  0.00404435  0.00736928  0.00181724  0.00994749  0.00245302\n",
      "  0.00200836  0.00493978  0.0054593   0.00603346  0.00365948  0.01099368\n",
      "  0.00365948  0.0044697   0.006668    0.00365948  0.00493978  0.00603346\n",
      "  0.00736928  0.00603346  0.00814432  0.00994749  0.01214989  0.01099368\n",
      "  0.0054593   0.00404435  0.00331123  0.00331123  0.0044697   0.0054593\n",
      "  0.00299613  0.0054593   0.01099368  0.00736928  0.00365948  0.00331123\n",
      "  0.00331123  0.00603346  0.0044697   0.00200836  0.00365948  0.00404435\n",
      "  0.00404435  0.006668    0.00221959  0.00404435  0.00736928  0.0044697\n",
      "  0.01640064  0.00736928  0.00900086  0.02704008  0.00181724  0.02003179\n",
      "  0.01099368  0.01812551  0.00900086  0.00814432  0.01214989  0.00404435\n",
      "  0.0044697   0.00814432  0.00900086  0.02988391  0.02988391  0.0054593\n",
      "  0.01342771  0.00365948  0.02988391  0.00736928  0.01099368  0.01812551\n",
      "  0.006668    0.00603346  0.00814432  0.01812551  0.02213855  0.0365003\n",
      "  0.00814432  0.00736928  0.00603346  0.02988391  0.00736928  0.00814432\n",
      "  0.0054593   0.01342771  0.01099368  0.01342771  0.0044697   0.01214989\n",
      "  0.01099368  0.01099368  0.00736928  0.00900086  0.006668    0.00493978]\n",
      "[ 0.00221959  0.00181724  0.00148783  0.00134625  0.00200836  0.00299613\n",
      "  0.00134625  0.00200836  0.00110221  0.00181724  0.00299613  0.00164431\n",
      "  0.00164431  0.00099732  0.0044697   0.00404435  0.00299613  0.00221959\n",
      "  0.00404435  0.00221959  0.00299613  0.00221959  0.00134625  0.00221959\n",
      "  0.00164431  0.00200836  0.00200836  0.00245302  0.00245302  0.00148783\n",
      "  0.00164431  0.00299613  0.00245302  0.00331123  0.00181724  0.00200836\n",
      "  0.00331123  0.00181724  0.00110221  0.00221959  0.00200836  0.00121813\n",
      "  0.00110221  0.00200836  0.00221959  0.00164431  0.00221959  0.00134625\n",
      "  0.00271101  0.00200836  0.01483991  0.00814432  0.01342771  0.00331123\n",
      "  0.00900086  0.00404435  0.00736928  0.00181724  0.00994749  0.00245302\n",
      "  0.00200836  0.00493978  0.0054593   0.00603346  0.00365948  0.01099368\n",
      "  0.00365948  0.0044697   0.006668    0.00365948  0.00493978  0.00603346\n",
      "  0.00736928  0.00603346  0.00814432  0.00994749  0.01214989  0.01099368\n",
      "  0.0054593   0.00404435  0.00331123  0.00331123  0.0044697   0.0054593\n",
      "  0.00299613  0.0054593   0.01099368  0.00736928  0.00365948  0.00331123\n",
      "  0.00331123  0.00603346  0.0044697   0.00200836  0.00365948  0.00404435\n",
      "  0.00404435  0.006668    0.00221959  0.00404435  0.00736928  0.0044697\n",
      "  0.01640064  0.00736928  0.00900086  0.02704008  0.00181724  0.02003179\n",
      "  0.01099368  0.01812551  0.00900086  0.00814432  0.01214989  0.00404435\n",
      "  0.0044697   0.00814432  0.00900086  0.02988391  0.02988391  0.0054593\n",
      "  0.01342771  0.00365948  0.02988391  0.00736928  0.01099368  0.01812551\n",
      "  0.006668    0.00603346  0.00814432  0.01812551  0.02213855  0.0365003\n",
      "  0.00814432  0.00736928  0.00603346  0.02988391  0.00736928  0.00814432\n",
      "  0.0054593   0.01342771  0.01099368  0.01342771  0.0044697   0.01214989\n",
      "  0.01099368  0.01099368  0.00736928  0.00900086  0.006668    0.00493978]\n"
     ]
    }
   ],
   "source": [
    "# Q29: 计算 sepallength 的 softmax 分数\n",
    "print(np.exp(iris_2d[:,0]-max0)/np.sum(np.exp(iris_2d[:,0]-max0)))\n",
    "# 第二种方案\n",
    "print(np.exp(iris_2d[:,0])/np.sum(np.exp(iris_2d[:,0])))"
   ]
  },
  {
   "cell_type": "code",
   "execution_count": 31,
   "metadata": {},
   "outputs": [
    {
     "name": "stdout",
     "output_type": "stream",
     "text": [
      "[ 4.6    7.255]\n"
     ]
    }
   ],
   "source": [
    "# Q30: 找到第一列sepallength 的5%和95%位置的值\n",
    "print(np.percentile(iris_2d[:,0], q=[5, 95]))"
   ]
  },
  {
   "cell_type": "code",
   "execution_count": 32,
   "metadata": {},
   "outputs": [
    {
     "name": "stdout",
     "output_type": "stream",
     "text": [
      "[[ 5.1  3.5  1.4  0.2]\n",
      " [ 4.9  3.   1.4  0.2]\n",
      " [ 4.7  3.2  1.3  0.2]\n",
      " [ 4.6  3.1  1.5  0.2]\n",
      " [ 5.   3.6  1.4  0.2]\n",
      " [ 5.4  3.9  1.7  0.4]\n",
      " [ 4.6  3.4  1.4  0.3]\n",
      " [ 5.   3.4  1.5  0.2]\n",
      " [ 4.4  2.9  1.4  nan]\n",
      " [ 4.9  3.1  1.5  0.1]\n",
      " [ 5.4  3.7  1.5  0.2]\n",
      " [ 4.8  3.4  1.6  0.2]\n",
      " [ 4.8  3.   1.4  0.1]\n",
      " [ 4.3  3.   1.1  0.1]\n",
      " [ nan  4.   1.2  0.2]\n",
      " [ 5.7  4.4  1.5  0.4]\n",
      " [ 5.4  3.9  1.3  0.4]\n",
      " [ 5.1  3.5  1.4  0.3]\n",
      " [ 5.7  3.8  1.7  0.3]\n",
      " [ 5.1  3.8  1.5  0.3]\n",
      " [ 5.4  3.4  1.7  0.2]\n",
      " [ 5.1  3.7  1.5  0.4]\n",
      " [ 4.6  3.6  1.   0.2]\n",
      " [ 5.1  3.3  1.7  0.5]\n",
      " [ 4.8  3.4  1.9  0.2]\n",
      " [ 5.   3.   1.6  0.2]\n",
      " [ 5.   3.4  1.6  0.4]\n",
      " [ 5.2  3.5  1.5  0.2]\n",
      " [ 5.2  3.4  1.4  nan]\n",
      " [ 4.7  nan  nan  0.2]\n",
      " [ 4.8  3.1  1.6  0.2]\n",
      " [ 5.4  3.4  1.5  0.4]\n",
      " [ 5.2  4.1  1.5  0.1]\n",
      " [ 5.5  4.2  1.4  0.2]\n",
      " [ 4.9  3.1  1.5  0.1]\n",
      " [ 5.   3.2  1.2  0.2]\n",
      " [ 5.5  3.5  1.3  nan]\n",
      " [ 4.9  3.1  1.5  0.1]\n",
      " [ 4.4  3.   1.3  0.2]\n",
      " [ 5.1  3.4  1.5  0.2]\n",
      " [ 5.   3.5  1.3  0.3]\n",
      " [ 4.5  2.3  1.3  0.3]\n",
      " [ 4.4  3.2  1.3  0.2]\n",
      " [ 5.   3.5  1.6  0.6]\n",
      " [ 5.1  3.8  1.9  0.4]\n",
      " [ 4.8  3.   1.4  0.3]\n",
      " [ 5.1  3.8  1.6  0.2]\n",
      " [ 4.6  3.2  1.4  0.2]\n",
      " [ 5.3  3.7  1.5  0.2]\n",
      " [ 5.   3.3  1.4  0.2]\n",
      " [ 7.   3.2  4.7  1.4]\n",
      " [ 6.4  3.2  4.5  1.5]\n",
      " [ 6.9  3.1  4.9  1.5]\n",
      " [ 5.5  2.3  4.   1.3]\n",
      " [ 6.5  2.8  4.6  1.5]\n",
      " [ 5.7  2.8  4.5  1.3]\n",
      " [ 6.3  3.3  4.7  1.6]\n",
      " [ 4.9  2.4  3.3  1. ]\n",
      " [ 6.6  2.9  4.6  1.3]\n",
      " [ 5.2  2.7  3.9  1.4]\n",
      " [ 5.   2.   3.5  1. ]\n",
      " [ 5.9  3.   4.2  1.5]\n",
      " [ 6.   2.2  4.   1. ]\n",
      " [ 6.1  2.9  4.7  1.4]\n",
      " [ 5.6  2.9  3.6  1.3]\n",
      " [ 6.7  3.1  4.4  1.4]\n",
      " [ 5.6  3.   4.5  1.5]\n",
      " [ 5.8  2.7  4.1  1. ]\n",
      " [ 6.2  2.2  4.5  1.5]\n",
      " [ 5.6  2.5  3.9  1.1]\n",
      " [ 5.9  3.2  4.8  1.8]\n",
      " [ 6.1  2.8  4.   1.3]\n",
      " [ 6.3  2.5  4.9  1.5]\n",
      " [ 6.1  2.8  4.7  1.2]\n",
      " [ 6.4  2.9  4.3  1.3]\n",
      " [ nan  3.   4.4  1.4]\n",
      " [ 6.8  2.8  4.8  1.4]\n",
      " [ nan  3.   5.   1.7]\n",
      " [ 6.   2.9  4.5  1.5]\n",
      " [ 5.7  2.6  3.5  1. ]\n",
      " [ 5.5  2.4  3.8  1.1]\n",
      " [ 5.5  2.4  3.7  1. ]\n",
      " [ 5.8  2.7  3.9  1.2]\n",
      " [ 6.   2.7  5.1  1.6]\n",
      " [ 5.4  3.   4.5  1.5]\n",
      " [ 6.   3.4  4.5  1.6]\n",
      " [ 6.7  3.1  4.7  nan]\n",
      " [ 6.3  2.3  4.4  1.3]\n",
      " [ 5.6  3.   4.1  1.3]\n",
      " [ 5.5  2.5  4.   1.3]\n",
      " [ nan  2.6  4.4  1.2]\n",
      " [ 6.1  3.   4.6  1.4]\n",
      " [ 5.8  2.6  4.   1.2]\n",
      " [ 5.   nan  3.3  1. ]\n",
      " [ 5.6  2.7  4.2  1.3]\n",
      " [ 5.7  3.   4.2  1.2]\n",
      " [ 5.7  2.9  4.2  1.3]\n",
      " [ 6.2  2.9  4.3  1.3]\n",
      " [ 5.1  2.5  3.   1.1]\n",
      " [ 5.7  2.8  4.1  1.3]\n",
      " [ 6.3  3.3  6.   2.5]\n",
      " [ 5.8  2.7  5.1  1.9]\n",
      " [ nan  3.   5.9  2.1]\n",
      " [ 6.3  2.9  5.6  1.8]\n",
      " [ 6.5  3.   5.8  2.2]\n",
      " [ 7.6  3.   6.6  2.1]\n",
      " [ 4.9  nan  4.5  1.7]\n",
      " [ 7.3  2.9  6.3  1.8]\n",
      " [ 6.7  2.5  5.8  1.8]\n",
      " [ 7.2  3.6  6.1  2.5]\n",
      " [ 6.5  3.2  5.1  2. ]\n",
      " [ 6.4  2.7  5.3  1.9]\n",
      " [ 6.8  3.   5.5  2.1]\n",
      " [ 5.7  2.5  5.   2. ]\n",
      " [ 5.8  2.8  5.1  2.4]\n",
      " [ 6.4  3.2  5.3  2.3]\n",
      " [ 6.5  3.   5.5  1.8]\n",
      " [ 7.7  3.8  6.7  2.2]\n",
      " [ 7.7  2.6  6.9  2.3]\n",
      " [ 6.   2.2  5.   1.5]\n",
      " [ 6.9  3.2  5.7  2.3]\n",
      " [ nan  2.8  4.9  2. ]\n",
      " [ 7.7  2.8  6.7  2. ]\n",
      " [ 6.3  2.7  nan  1.8]\n",
      " [ 6.7  3.3  5.7  2.1]\n",
      " [ 7.2  3.2  6.   1.8]\n",
      " [ 6.2  2.8  4.8  1.8]\n",
      " [ 6.1  3.   4.9  1.8]\n",
      " [ 6.4  2.8  5.6  2.1]\n",
      " [ 7.2  3.   5.8  1.6]\n",
      " [ 7.4  2.8  6.1  1.9]\n",
      " [ 7.9  3.8  6.4  2. ]\n",
      " [ 6.4  2.8  nan  2.2]\n",
      " [ 6.3  2.8  5.1  1.5]\n",
      " [ 6.1  2.6  5.6  1.4]\n",
      " [ 7.7  3.   6.1  2.3]\n",
      " [ 6.3  3.4  5.6  2.4]\n",
      " [ 6.4  3.1  5.5  1.8]\n",
      " [ 6.   3.   4.8  1.8]\n",
      " [ 6.9  3.1  5.4  2.1]\n",
      " [ 6.7  3.1  5.6  2.4]\n",
      " [ 6.9  3.1  nan  2.3]\n",
      " [ 5.8  2.7  5.1  1.9]\n",
      " [ 6.8  3.2  5.9  2.3]\n",
      " [ 6.7  3.3  5.7  2.5]\n",
      " [ 6.7  3.   5.2  2.3]\n",
      " [ 6.3  2.5  5.   1.9]\n",
      " [ 6.5  3.   5.2  nan]\n",
      " [ nan  3.4  5.4  2.3]\n",
      " [ 5.9  3.   5.1  1.8]]\n"
     ]
    }
   ],
   "source": [
    "# Q31: 在 iris_2d 数据集中的 20 个随机位置插入 np.nan 值\n",
    "iris_2d[np.random.choice(iris_2d.shape[0], size=20), np.random.choice(iris_2d.shape[1], size=20)] = np.nan\n",
    "print(iris_2d)"
   ]
  },
  {
   "cell_type": "code",
   "execution_count": 33,
   "metadata": {},
   "outputs": [
    {
     "name": "stdout",
     "output_type": "stream",
     "text": [
      "7\n",
      "(array([ 14,  75,  77,  90, 102, 121, 148]),)\n"
     ]
    }
   ],
   "source": [
    "# Q32: 在 iris_2d 的 sepallength（第一列）中找出缺失值的数目和位置\n",
    "print(np.count_nonzero(np.isnan(iris_2d[:,0])))\n",
    "print(np.where(np.isnan(iris_2d[:,0])))"
   ]
  },
  {
   "cell_type": "code",
   "execution_count": 34,
   "metadata": {},
   "outputs": [
    {
     "name": "stdout",
     "output_type": "stream",
     "text": [
      "(150,)\n",
      "[[ 4.8  3.4  1.6  0.2]\n",
      " [ 4.8  3.4  1.9  0.2]\n",
      " [ 4.7  3.2  1.6  0.2]\n",
      " [ 4.8  3.1  1.6  0.2]\n",
      " [ 4.9  2.4  3.3  1. ]\n",
      " [ 4.9  2.5  4.5  1.7]]\n"
     ]
    }
   ],
   "source": [
    "# Q33: 过滤 iris_2d 中满足 petallength（第三列）> 1.5 和 sepallength（第一列）< 5.0 的行\n",
    "url = 'https://archive.ics.uci.edu/ml/machine-learning-databases/iris/iris.data'\n",
    "iris_2d = np.genfromtxt(url, delimiter=',', dtype='float', usecols=[0,1,2,3])\n",
    "mask = (iris_2d[:,0]<5.0) & (iris_2d[:,2]>1.5)\n",
    "print(mask.shape)\n",
    "print(iris_2d[mask])"
   ]
  },
  {
   "cell_type": "code",
   "execution_count": 35,
   "metadata": {},
   "outputs": [
    {
     "name": "stdout",
     "output_type": "stream",
     "text": [
      "133\n",
      "[[ 5.1  3.5  1.4  0.2]\n",
      " [ 4.9  3.   1.4  0.2]\n",
      " [ 4.7  3.2  1.3  0.2]\n",
      " [ 4.6  3.1  1.5  0.2]\n",
      " [ 5.   3.6  1.4  0.2]\n",
      " [ 5.4  3.9  1.7  0.4]\n",
      " [ 4.6  3.4  1.4  0.3]\n",
      " [ 5.   3.4  1.5  0.2]\n",
      " [ 4.4  2.9  1.4  0.2]\n",
      " [ 4.9  3.1  1.5  0.1]\n",
      " [ 5.4  3.7  1.5  0.2]\n",
      " [ 4.8  3.4  1.6  0.2]\n",
      " [ 4.8  3.   1.4  0.1]\n",
      " [ 4.3  3.   1.1  0.1]\n",
      " [ 5.8  4.   1.2  0.2]\n",
      " [ 5.7  4.4  1.5  0.4]\n",
      " [ 5.4  3.9  1.3  0.4]\n",
      " [ 5.1  3.5  1.4  0.3]\n",
      " [ 5.7  3.8  1.7  0.3]\n",
      " [ 5.4  3.4  1.7  0.2]\n",
      " [ 5.1  3.7  1.5  0.4]\n",
      " [ 4.6  3.6  1.   0.2]\n",
      " [ 5.1  3.3  1.7  0.5]\n",
      " [ 5.   3.   1.6  0.2]\n",
      " [ 5.   3.4  1.6  0.4]\n",
      " [ 5.2  3.5  1.5  0.2]\n",
      " [ 5.2  3.4  1.4  0.2]\n",
      " [ 4.7  3.2  1.6  0.2]\n",
      " [ 4.8  3.1  1.6  0.2]\n",
      " [ 5.4  3.4  1.5  0.4]\n",
      " [ 5.2  4.1  1.5  0.1]\n",
      " [ 5.5  4.2  1.4  0.2]\n",
      " [ 4.9  3.1  1.5  0.1]\n",
      " [ 5.   3.2  1.2  0.2]\n",
      " [ 5.5  3.5  1.3  0.2]\n",
      " [ 4.9  3.1  1.5  0.1]\n",
      " [ 4.4  3.   1.3  0.2]\n",
      " [ 5.1  3.4  1.5  0.2]\n",
      " [ 5.   3.5  1.3  0.3]\n",
      " [ 4.5  2.3  1.3  0.3]\n",
      " [ 4.4  3.2  1.3  0.2]\n",
      " [ 5.   3.5  1.6  0.6]\n",
      " [ 5.1  3.8  1.9  0.4]\n",
      " [ 4.8  3.   1.4  0.3]\n",
      " [ 5.1  3.8  1.6  0.2]\n",
      " [ 4.6  3.2  1.4  0.2]\n",
      " [ 5.3  3.7  1.5  0.2]\n",
      " [ 5.   3.3  1.4  0.2]\n",
      " [ 7.   3.2  4.7  1.4]\n",
      " [ 6.4  3.2  4.5  1.5]\n",
      " [ 6.9  3.1  4.9  1.5]\n",
      " [ 5.5  2.3  4.   1.3]\n",
      " [ 6.5  2.8  4.6  1.5]\n",
      " [ 5.7  2.8  4.5  1.3]\n",
      " [ 6.3  3.3  4.7  1.6]\n",
      " [ 4.9  2.4  3.3  1. ]\n",
      " [ 6.6  2.9  4.6  1.3]\n",
      " [ 5.2  2.7  3.9  1.4]\n",
      " [ 5.   2.   3.5  1. ]\n",
      " [ 5.9  3.   4.2  1.5]\n",
      " [ 6.   2.2  4.   1. ]\n",
      " [ 6.1  2.9  4.7  1.4]\n",
      " [ 6.7  3.1  4.4  1.4]\n",
      " [ 5.6  3.   4.5  1.5]\n",
      " [ 5.8  2.7  4.1  1. ]\n",
      " [ 6.2  2.2  4.5  1.5]\n",
      " [ 5.9  3.2  4.8  1.8]\n",
      " [ 6.1  2.8  4.   1.3]\n",
      " [ 6.1  2.8  4.7  1.2]\n",
      " [ 6.4  2.9  4.3  1.3]\n",
      " [ 6.8  2.8  4.8  1.4]\n",
      " [ 6.7  3.   5.   1.7]\n",
      " [ 6.   2.9  4.5  1.5]\n",
      " [ 5.7  2.6  3.5  1. ]\n",
      " [ 5.5  2.4  3.8  1.1]\n",
      " [ 5.8  2.7  3.9  1.2]\n",
      " [ 6.   2.7  5.1  1.6]\n",
      " [ 5.4  3.   4.5  1.5]\n",
      " [ 6.   3.4  4.5  1.6]\n",
      " [ 6.7  3.1  4.7  1.5]\n",
      " [ 6.3  2.3  4.4  1.3]\n",
      " [ 5.6  3.   4.1  1.3]\n",
      " [ 5.5  2.5  4.   1.3]\n",
      " [ 5.5  2.6  4.4  1.2]\n",
      " [ 6.1  3.   4.6  1.4]\n",
      " [ 5.6  2.7  4.2  1.3]\n",
      " [ 5.7  3.   4.2  1.2]\n",
      " [ 5.7  2.9  4.2  1.3]\n",
      " [ 6.2  2.9  4.3  1.3]\n",
      " [ 5.1  2.5  3.   1.1]\n",
      " [ 5.7  2.8  4.1  1.3]\n",
      " [ 6.3  3.3  6.   2.5]\n",
      " [ 5.8  2.7  5.1  1.9]\n",
      " [ 7.1  3.   5.9  2.1]\n",
      " [ 6.3  2.9  5.6  1.8]\n",
      " [ 4.9  2.5  4.5  1.7]\n",
      " [ 7.3  2.9  6.3  1.8]\n",
      " [ 6.7  2.5  5.8  1.8]\n",
      " [ 7.2  3.6  6.1  2.5]\n",
      " [ 6.5  3.2  5.1  2. ]\n",
      " [ 6.4  2.7  5.3  1.9]\n",
      " [ 6.8  3.   5.5  2.1]\n",
      " [ 5.7  2.5  5.   2. ]\n",
      " [ 6.4  3.2  5.3  2.3]\n",
      " [ 6.5  3.   5.5  1.8]\n",
      " [ 7.7  3.8  6.7  2.2]\n",
      " [ 6.   2.2  5.   1.5]\n",
      " [ 6.9  3.2  5.7  2.3]\n",
      " [ 5.6  2.8  4.9  2. ]\n",
      " [ 7.7  2.8  6.7  2. ]\n",
      " [ 6.3  2.7  4.9  1.8]\n",
      " [ 6.7  3.3  5.7  2.1]\n",
      " [ 7.2  3.2  6.   1.8]\n",
      " [ 6.2  2.8  4.8  1.8]\n",
      " [ 7.2  3.   5.8  1.6]\n",
      " [ 7.4  2.8  6.1  1.9]\n",
      " [ 7.9  3.8  6.4  2. ]\n",
      " [ 6.4  2.8  5.6  2.2]\n",
      " [ 6.3  2.8  5.1  1.5]\n",
      " [ 6.1  2.6  5.6  1.4]\n",
      " [ 7.7  3.   6.1  2.3]\n",
      " [ 6.4  3.1  5.5  1.8]\n",
      " [ 6.   3.   4.8  1.8]\n",
      " [ 6.9  3.1  5.4  2.1]\n",
      " [ 6.9  3.1  5.1  2.3]\n",
      " [ 5.8  2.7  5.1  1.9]\n",
      " [ 6.8  3.2  5.9  2.3]\n",
      " [ 6.7  3.3  5.7  2.5]\n",
      " [ 6.7  3.   5.2  2.3]\n",
      " [ 6.3  2.5  5.   1.9]\n",
      " [ 6.5  3.   5.2  2. ]\n",
      " [ 6.2  3.4  5.4  2.3]\n",
      " [ 5.9  3.   5.1  1.8]]\n"
     ]
    }
   ],
   "source": [
    "# Q34: 选择 iris_2d 中不包含 nan 值的行\n",
    "iris_2d = np.genfromtxt(url, delimiter=',', dtype='float', usecols=[0,1,2,3])\n",
    "iris_2d[np.random.choice(iris_2d.shape[0], size=20), np.random.choice(iris_2d.shape[1], size=20)] = np.nan\n",
    "mask = np.logical_not(np.any(np.isnan(iris_2d), axis=1))\n",
    "print(mask.sum())\n",
    "print(iris_2d[mask])"
   ]
  },
  {
   "cell_type": "code",
   "execution_count": 36,
   "metadata": {},
   "outputs": [
    {
     "name": "stdout",
     "output_type": "stream",
     "text": [
      "0.871754157305\n",
      "(0.87175415730487116, 1.0384540627941809e-47)\n"
     ]
    }
   ],
   "source": [
    "# Q35: 找出 iris_2d 中 SepalLength（第一列）和 PetalLength（第三列）之间的关联性\n",
    "iris_2d = np.genfromtxt(url, delimiter=',', dtype='float', usecols=[0,1,2,3])\n",
    "print(np.corrcoef(iris_2d[:,0], iris_2d[:,2])[0, 1])\n",
    "# 第二种方案\n",
    "from scipy.stats.stats import pearsonr\n",
    "print(pearsonr(iris_2d[:, 0], iris_2d[:, 2]))"
   ]
  },
  {
   "cell_type": "code",
   "execution_count": 37,
   "metadata": {},
   "outputs": [
    {
     "data": {
      "text/plain": [
       "False"
      ]
     },
     "execution_count": 37,
     "metadata": {},
     "output_type": "execute_result"
    }
   ],
   "source": [
    "# Q36: 确定 iris_2d 是否有缺失值\n",
    "np.any(np.isnan(iris_2d))"
   ]
  },
  {
   "cell_type": "code",
   "execution_count": 38,
   "metadata": {},
   "outputs": [
    {
     "name": "stdout",
     "output_type": "stream",
     "text": [
      "[[ 5.1  3.5  0.   0.2]\n",
      " [ 4.9  3.   1.4  0.2]\n",
      " [ 4.7  3.2  1.3  0.2]\n",
      " [ 4.6  3.1  1.5  0.2]\n",
      " [ 5.   3.6  1.4  0.2]\n",
      " [ 5.4  3.9  1.7  0.4]\n",
      " [ 4.6  3.4  1.4  0.3]\n",
      " [ 5.   0.   1.5  0.2]\n",
      " [ 4.4  2.9  1.4  0.2]\n",
      " [ 4.9  3.1  1.5  0.1]\n",
      " [ 5.4  3.7  1.5  0.2]\n",
      " [ 4.8  3.4  1.6  0.2]\n",
      " [ 4.8  3.   1.4  0.1]\n",
      " [ 4.3  3.   1.1  0.1]\n",
      " [ 5.8  4.   1.2  0.2]\n",
      " [ 5.7  4.4  1.5  0.4]\n",
      " [ 5.4  3.9  1.3  0.4]\n",
      " [ 5.1  3.5  1.4  0.3]\n",
      " [ 5.7  3.8  1.7  0.3]\n",
      " [ 5.1  3.8  0.   0.3]\n",
      " [ 5.4  3.4  1.7  0.2]\n",
      " [ 5.1  3.7  1.5  0.4]\n",
      " [ 4.6  3.6  1.   0. ]\n",
      " [ 5.1  3.3  1.7  0.5]\n",
      " [ 4.8  3.4  1.9  0.2]\n",
      " [ 5.   0.   1.6  0.2]\n",
      " [ 5.   3.4  1.6  0.4]\n",
      " [ 5.2  3.5  1.5  0.2]\n",
      " [ 5.2  3.4  1.4  0.2]\n",
      " [ 0.   3.2  1.6  0.2]\n",
      " [ 4.8  3.1  1.6  0. ]\n",
      " [ 5.4  3.4  1.5  0.4]\n",
      " [ 5.2  4.1  1.5  0.1]\n",
      " [ 5.5  4.2  0.   0.2]\n",
      " [ 4.9  3.1  1.5  0.1]\n",
      " [ 5.   3.2  1.2  0.2]\n",
      " [ 5.5  3.5  1.3  0. ]\n",
      " [ 4.9  3.1  1.5  0. ]\n",
      " [ 4.4  3.   1.3  0.2]\n",
      " [ 5.1  3.4  1.5  0.2]\n",
      " [ 5.   3.5  1.3  0.3]\n",
      " [ 4.5  2.3  1.3  0.3]\n",
      " [ 4.4  3.2  1.3  0.2]\n",
      " [ 5.   3.5  1.6  0.6]\n",
      " [ 5.1  3.8  1.9  0.4]\n",
      " [ 4.8  3.   1.4  0.3]\n",
      " [ 5.1  3.8  1.6  0.2]\n",
      " [ 4.6  3.2  1.4  0.2]\n",
      " [ 5.3  0.   1.5  0.2]\n",
      " [ 5.   3.3  1.4  0.2]\n",
      " [ 7.   0.   4.7  1.4]\n",
      " [ 6.4  3.2  4.5  1.5]\n",
      " [ 6.9  3.1  4.9  1.5]\n",
      " [ 5.5  2.3  4.   1.3]\n",
      " [ 6.5  2.8  4.6  1.5]\n",
      " [ 5.7  2.8  4.5  1.3]\n",
      " [ 6.3  3.3  4.7  1.6]\n",
      " [ 4.9  2.4  3.3  1. ]\n",
      " [ 6.6  0.   4.6  1.3]\n",
      " [ 5.2  2.7  3.9  1.4]\n",
      " [ 5.   2.   0.   1. ]\n",
      " [ 5.9  3.   4.2  1.5]\n",
      " [ 6.   2.2  4.   1. ]\n",
      " [ 6.1  2.9  4.7  1.4]\n",
      " [ 5.6  2.9  3.6  1.3]\n",
      " [ 6.7  3.1  4.4  1.4]\n",
      " [ 5.6  3.   4.5  1.5]\n",
      " [ 5.8  2.7  4.1  1. ]\n",
      " [ 6.2  0.   4.5  1.5]\n",
      " [ 0.   2.5  3.9  1.1]\n",
      " [ 5.9  3.2  4.8  1.8]\n",
      " [ 6.1  2.8  4.   1.3]\n",
      " [ 6.3  2.5  4.9  1.5]\n",
      " [ 6.1  2.8  4.7  1.2]\n",
      " [ 6.4  2.9  4.3  1.3]\n",
      " [ 6.6  3.   4.4  1.4]\n",
      " [ 6.8  2.8  4.8  1.4]\n",
      " [ 6.7  3.   5.   1.7]\n",
      " [ 6.   2.9  4.5  1.5]\n",
      " [ 5.7  2.6  3.5  1. ]\n",
      " [ 5.5  2.4  3.8  1.1]\n",
      " [ 5.5  2.4  3.7  1. ]\n",
      " [ 5.8  2.7  3.9  1.2]\n",
      " [ 6.   2.7  5.1  1.6]\n",
      " [ 5.4  3.   4.5  1.5]\n",
      " [ 6.   3.4  4.5  1.6]\n",
      " [ 6.7  3.1  4.7  1.5]\n",
      " [ 6.3  2.3  4.4  1.3]\n",
      " [ 5.6  3.   4.1  1.3]\n",
      " [ 5.5  2.5  4.   1.3]\n",
      " [ 5.5  2.6  4.4  1.2]\n",
      " [ 6.1  3.   4.6  1.4]\n",
      " [ 5.8  2.6  0.   1.2]\n",
      " [ 5.   2.3  3.3  1. ]\n",
      " [ 5.6  2.7  4.2  1.3]\n",
      " [ 5.7  3.   4.2  1.2]\n",
      " [ 5.7  2.9  4.2  1.3]\n",
      " [ 6.2  2.9  4.3  1.3]\n",
      " [ 5.1  2.5  3.   1.1]\n",
      " [ 5.7  2.8  4.1  1.3]\n",
      " [ 6.3  3.3  6.   2.5]\n",
      " [ 5.8  2.7  5.1  1.9]\n",
      " [ 7.1  3.   5.9  2.1]\n",
      " [ 6.3  2.9  5.6  1.8]\n",
      " [ 6.5  3.   5.8  2.2]\n",
      " [ 7.6  3.   6.6  2.1]\n",
      " [ 4.9  2.5  4.5  1.7]\n",
      " [ 7.3  2.9  6.3  1.8]\n",
      " [ 6.7  2.5  5.8  1.8]\n",
      " [ 7.2  3.6  6.1  2.5]\n",
      " [ 6.5  3.2  0.   0. ]\n",
      " [ 6.4  2.7  5.3  1.9]\n",
      " [ 6.8  3.   5.5  2.1]\n",
      " [ 5.7  2.5  5.   2. ]\n",
      " [ 5.8  2.8  5.1  2.4]\n",
      " [ 6.4  3.2  5.3  2.3]\n",
      " [ 6.5  3.   5.5  1.8]\n",
      " [ 7.7  3.8  6.7  2.2]\n",
      " [ 7.7  2.6  6.9  2.3]\n",
      " [ 6.   2.2  5.   1.5]\n",
      " [ 6.9  3.2  5.7  2.3]\n",
      " [ 5.6  2.8  4.9  2. ]\n",
      " [ 7.7  2.8  6.7  2. ]\n",
      " [ 6.3  2.7  4.9  1.8]\n",
      " [ 6.7  3.3  5.7  2.1]\n",
      " [ 7.2  3.2  6.   1.8]\n",
      " [ 6.2  2.8  4.8  1.8]\n",
      " [ 6.1  3.   4.9  1.8]\n",
      " [ 6.4  2.8  5.6  2.1]\n",
      " [ 7.2  3.   5.8  1.6]\n",
      " [ 7.4  2.8  6.1  1.9]\n",
      " [ 7.9  3.8  6.4  2. ]\n",
      " [ 6.4  2.8  5.6  2.2]\n",
      " [ 6.3  2.8  5.1  1.5]\n",
      " [ 6.1  2.6  5.6  1.4]\n",
      " [ 7.7  3.   6.1  2.3]\n",
      " [ 6.3  3.4  5.6  2.4]\n",
      " [ 6.4  3.1  5.5  1.8]\n",
      " [ 6.   3.   4.8  1.8]\n",
      " [ 6.9  3.1  5.4  2.1]\n",
      " [ 6.7  3.1  5.6  2.4]\n",
      " [ 0.   3.1  5.1  2.3]\n",
      " [ 5.8  2.7  5.1  1.9]\n",
      " [ 6.8  3.2  5.9  2.3]\n",
      " [ 6.7  3.3  5.7  2.5]\n",
      " [ 6.7  3.   5.2  2.3]\n",
      " [ 6.3  2.5  5.   1.9]\n",
      " [ 6.5  3.   5.2  2. ]\n",
      " [ 6.2  3.4  5.4  2.3]\n",
      " [ 5.9  3.   5.1  1.8]]\n"
     ]
    }
   ],
   "source": [
    "# Q37: 在 NumPy 数组中将所有 nan 替换成 0\n",
    "iris_2d = np.genfromtxt(url, delimiter=',', dtype='float', usecols=[0,1,2,3])\n",
    "iris_2d[np.random.choice(iris_2d.shape[0], size=20), np.random.choice(iris_2d.shape[1], size=20)] = np.nan\n",
    "iris_2d[np.isnan(iris_2d)] = 0\n",
    "print(iris_2d)"
   ]
  },
  {
   "cell_type": "code",
   "execution_count": 39,
   "metadata": {},
   "outputs": [
    {
     "name": "stdout",
     "output_type": "stream",
     "text": [
      "(array([b'Iris-setosa', b'Iris-versicolor', b'Iris-virginica'], dtype=object), array([50, 50, 50]))\n"
     ]
    }
   ],
   "source": [
    "# Q38: 在 iris 的 species 列中找出唯一值及其数量\n",
    "iris = np.genfromtxt(url, delimiter=',', dtype='object')\n",
    "print(np.unique(iris[:, 4], return_counts=True))"
   ]
  },
  {
   "cell_type": "code",
   "execution_count": 40,
   "metadata": {},
   "outputs": [
    {
     "name": "stdout",
     "output_type": "stream",
     "text": [
      "[ 1.4  1.4  1.3  1.5  1.4  1.7  1.4  1.5  1.4  1.5  1.5  1.6  1.4  1.1  1.2\n",
      "  1.5  1.3  1.4  1.7  1.5  1.7  1.5  1.   1.7  1.9  1.6  1.6  1.5  1.4  1.6\n",
      "  1.6  1.5  1.5  1.4  1.5  1.2  1.3  1.5  1.3  1.5  1.3  1.3  1.3  1.6  1.9\n",
      "  1.4  1.6  1.4  1.5  1.4  4.7  4.5  4.9  4.   4.6  4.5  4.7  3.3  4.6  3.9\n",
      "  3.5  4.2  4.   4.7  3.6  4.4  4.5  4.1  4.5  3.9  4.8  4.   4.9  4.7  4.3\n",
      "  4.4  4.8  5.   4.5  3.5  3.8  3.7  3.9  5.1  4.5  4.5  4.7  4.4  4.1  4.\n",
      "  4.4  4.6  4.   3.3  4.2  4.2  4.2  4.3  3.   4.1  6.   5.1  5.9  5.6  5.8\n",
      "  6.6  4.5  6.3  5.8  6.1  5.1  5.3  5.5  5.   5.1  5.3  5.5  6.7  6.9  5.\n",
      "  5.7  4.9  6.7  4.9  5.7  6.   4.8  4.9  5.6  5.8  6.1  6.4  5.6  5.1  5.6\n",
      "  6.1  5.6  5.5  4.8  5.4  5.6  5.1  5.1  5.9  5.7  5.2  5.   5.2  5.4  5.1]\n",
      "['small' 'small' 'small' 'small' 'small' 'small' 'small' 'small' 'small'\n",
      " 'small' 'small' 'small' 'small' 'small' 'small' 'small' 'small' 'small'\n",
      " 'small' 'small' 'small' 'small' 'small' 'small' 'small' 'small' 'small'\n",
      " 'small' 'small' 'small' 'small' 'small' 'small' 'small' 'small' 'small'\n",
      " 'small' 'small' 'small' 'small' 'small' 'small' 'small' 'small' 'small'\n",
      " 'small' 'small' 'small' 'small' 'small' 'medium' 'medium' 'medium'\n",
      " 'medium' 'medium' 'medium' 'medium' 'medium' 'medium' 'medium' 'medium'\n",
      " 'medium' 'medium' 'medium' 'medium' 'medium' 'medium' 'medium' 'medium'\n",
      " 'medium' 'medium' 'medium' 'medium' 'medium' 'medium' 'medium' 'medium'\n",
      " 'large' 'medium' 'medium' 'medium' 'medium' 'medium' 'large' 'medium'\n",
      " 'medium' 'medium' 'medium' 'medium' 'medium' 'medium' 'medium' 'medium'\n",
      " 'medium' 'medium' 'medium' 'medium' 'medium' 'medium' 'medium' 'large'\n",
      " 'large' 'large' 'large' 'large' 'large' 'medium' 'large' 'large' 'large'\n",
      " 'large' 'large' 'large' 'large' 'large' 'large' 'large' 'large' 'large'\n",
      " 'large' 'large' 'medium' 'large' 'medium' 'large' 'large' 'medium'\n",
      " 'medium' 'large' 'large' 'large' 'large' 'large' 'large' 'large' 'large'\n",
      " 'large' 'large' 'medium' 'large' 'large' 'large' 'large' 'large' 'large'\n",
      " 'large' 'large' 'large' 'large' 'large']\n",
      "['small' 'small' 'small' 'small' 'small' 'small' 'small' 'small' 'small'\n",
      " 'small' 'small' 'small' 'small' 'small' 'small' 'small' 'small' 'small'\n",
      " 'small' 'small' 'small' 'small' 'small' 'small' 'small' 'small' 'small'\n",
      " 'small' 'small' 'small' 'small' 'small' 'small' 'small' 'small' 'small'\n",
      " 'small' 'small' 'small' 'small' 'small' 'small' 'small' 'small' 'small'\n",
      " 'small' 'small' 'small' 'small' 'small' 'medium' 'medium' 'medium'\n",
      " 'medium' 'medium' 'medium' 'medium' 'medium' 'medium' 'medium' 'medium'\n",
      " 'medium' 'medium' 'medium' 'medium' 'medium' 'medium' 'medium' 'medium'\n",
      " 'medium' 'medium' 'medium' 'medium' 'medium' 'medium' 'medium' 'medium'\n",
      " 'large' 'medium' 'medium' 'medium' 'medium' 'medium' 'large' 'medium'\n",
      " 'medium' 'medium' 'medium' 'medium' 'medium' 'medium' 'medium' 'medium'\n",
      " 'medium' 'medium' 'medium' 'medium' 'medium' 'medium' 'medium' 'large'\n",
      " 'large' 'large' 'large' 'large' 'large' 'medium' 'large' 'large' 'large'\n",
      " 'large' 'large' 'large' 'large' 'large' 'large' 'large' 'large' 'large'\n",
      " 'large' 'large' 'medium' 'large' 'medium' 'large' 'large' 'medium'\n",
      " 'medium' 'large' 'large' 'large' 'large' 'large' 'large' 'large' 'large'\n",
      " 'large' 'large' 'medium' 'large' 'large' 'large' 'large' 'large' 'large'\n",
      " 'large' 'large' 'large' 'large' 'large']\n"
     ]
    }
   ],
   "source": [
    "# Q39: 将 iris_2d 的 petallength（第三列）转换以构建一个文本数组，按如下规则进行转换：\n",
    "#    Less than 3 –> ‘small’\n",
    "#    3-5 –> 'medium'\n",
    "#    '>=5 –> 'large'\n",
    "iris_2d = np.genfromtxt(url, delimiter=',', dtype='float', usecols=[0,1,2,3])\n",
    "print(iris_2d[:,2])\n",
    "arr = np.zeros_like(iris_2d[:,2], dtype=np.chararray)\n",
    "arr[np.where(iris_2d[:,2]<3)] = 'small'\n",
    "arr[np.where((iris_2d[:,2]>=3) & (iris_2d[:,2]<5))] = 'medium'\n",
    "arr[np.where(iris_2d[:,2]>=5)] = 'large'\n",
    "print(arr)\n",
    "# 第二种方案\n",
    "pl = np.digitize(iris_2d[:,2], [3, 5])\n",
    "labels = {0:'small', 1:'medium', 2:'large'}\n",
    "lpl = np.array([labels[l] for l in pl])\n",
    "print(lpl)"
   ]
  },
  {
   "cell_type": "code",
   "execution_count": 41,
   "metadata": {},
   "outputs": [
    {
     "name": "stdout",
     "output_type": "stream",
     "text": [
      "[[  5.10000000e+00   3.50000000e+00   1.40000000e+00   2.00000000e-01\n",
      "    3.81326516e+01]\n",
      " [  4.90000000e+00   3.00000000e+00   1.40000000e+00   2.00000000e-01\n",
      "    3.52004985e+01]\n",
      " [  4.70000000e+00   3.20000000e+00   1.30000000e+00   2.00000000e-01\n",
      "    3.00723721e+01]\n",
      " [  4.60000000e+00   3.10000000e+00   1.50000000e+00   2.00000000e-01\n",
      "    3.32380503e+01]\n",
      " [  5.00000000e+00   3.60000000e+00   1.40000000e+00   2.00000000e-01\n",
      "    3.66519143e+01]\n",
      " [  5.40000000e+00   3.90000000e+00   1.70000000e+00   4.00000000e-01\n",
      "    5.19116770e+01]\n",
      " [  4.60000000e+00   3.40000000e+00   1.40000000e+00   3.00000000e-01\n",
      "    3.10221803e+01]\n",
      " [  5.00000000e+00   3.40000000e+00   1.50000000e+00   2.00000000e-01\n",
      "    3.92699082e+01]\n",
      " [  4.40000000e+00   2.90000000e+00   1.40000000e+00   2.00000000e-01\n",
      "    2.83832424e+01]\n",
      " [  4.90000000e+00   3.10000000e+00   1.50000000e+00   1.00000000e-01\n",
      "    3.77148198e+01]\n",
      " [  5.40000000e+00   3.70000000e+00   1.50000000e+00   2.00000000e-01\n",
      "    4.58044209e+01]\n",
      " [  4.80000000e+00   3.40000000e+00   1.60000000e+00   2.00000000e-01\n",
      "    3.86038905e+01]\n",
      " [  4.80000000e+00   3.00000000e+00   1.40000000e+00   1.00000000e-01\n",
      "    3.37784042e+01]\n",
      " [  4.30000000e+00   3.00000000e+00   1.10000000e+00   1.00000000e-01\n",
      "    2.12989510e+01]\n",
      " [  5.80000000e+00   4.00000000e+00   1.20000000e+00   2.00000000e-01\n",
      "    4.22732707e+01]\n",
      " [  5.70000000e+00   4.40000000e+00   1.50000000e+00   4.00000000e-01\n",
      "    5.10351727e+01]\n",
      " [  5.40000000e+00   3.90000000e+00   1.30000000e+00   4.00000000e-01\n",
      "    3.96971648e+01]\n",
      " [  5.10000000e+00   3.50000000e+00   1.40000000e+00   3.00000000e-01\n",
      "    3.81326516e+01]\n",
      " [  5.70000000e+00   3.80000000e+00   1.70000000e+00   3.00000000e-01\n",
      "    5.78398623e+01]\n",
      " [  5.10000000e+00   3.80000000e+00   1.50000000e+00   3.00000000e-01\n",
      "    4.08564125e+01]\n",
      " [  5.40000000e+00   3.40000000e+00   1.70000000e+00   2.00000000e-01\n",
      "    5.19116770e+01]\n",
      " [  5.10000000e+00   3.70000000e+00   1.50000000e+00   4.00000000e-01\n",
      "    4.08564125e+01]\n",
      " [  4.60000000e+00   3.60000000e+00   1.00000000e+00   2.00000000e-01\n",
      "    2.21587002e+01]\n",
      " [  5.10000000e+00   3.30000000e+00   1.70000000e+00   5.00000000e-01\n",
      "    4.63039341e+01]\n",
      " [  4.80000000e+00   3.40000000e+00   1.90000000e+00   2.00000000e-01\n",
      "    4.58421200e+01]\n",
      " [  5.00000000e+00   3.00000000e+00   1.60000000e+00   2.00000000e-01\n",
      "    4.18879020e+01]\n",
      " [  5.00000000e+00   3.40000000e+00   1.60000000e+00   4.00000000e-01\n",
      "    4.18879020e+01]\n",
      " [  5.20000000e+00   3.50000000e+00   1.50000000e+00   2.00000000e-01\n",
      "    4.24743327e+01]\n",
      " [  5.20000000e+00   3.40000000e+00   1.40000000e+00   2.00000000e-01\n",
      "    3.96427105e+01]\n",
      " [  4.70000000e+00   3.20000000e+00   1.60000000e+00   2.00000000e-01\n",
      "    3.70121502e+01]\n",
      " [  4.80000000e+00   3.10000000e+00   1.60000000e+00   2.00000000e-01\n",
      "    3.86038905e+01]\n",
      " [  5.40000000e+00   3.40000000e+00   1.50000000e+00   4.00000000e-01\n",
      "    4.58044209e+01]\n",
      " [  5.20000000e+00   4.10000000e+00   1.50000000e+00   1.00000000e-01\n",
      "    4.24743327e+01]\n",
      " [  5.50000000e+00   4.20000000e+00   1.40000000e+00   2.00000000e-01\n",
      "    4.43488163e+01]\n",
      " [  4.90000000e+00   3.10000000e+00   1.50000000e+00   1.00000000e-01\n",
      "    3.77148198e+01]\n",
      " [  5.00000000e+00   3.20000000e+00   1.20000000e+00   2.00000000e-01\n",
      "    3.14159265e+01]\n",
      " [  5.50000000e+00   3.50000000e+00   1.30000000e+00   2.00000000e-01\n",
      "    4.11810437e+01]\n",
      " [  4.90000000e+00   3.10000000e+00   1.50000000e+00   1.00000000e-01\n",
      "    3.77148198e+01]\n",
      " [  4.40000000e+00   3.00000000e+00   1.30000000e+00   2.00000000e-01\n",
      "    2.63558680e+01]\n",
      " [  5.10000000e+00   3.40000000e+00   1.50000000e+00   2.00000000e-01\n",
      "    4.08564125e+01]\n",
      " [  5.00000000e+00   3.50000000e+00   1.30000000e+00   3.00000000e-01\n",
      "    3.40339204e+01]\n",
      " [  4.50000000e+00   2.30000000e+00   1.30000000e+00   3.00000000e-01\n",
      "    2.75674755e+01]\n",
      " [  4.40000000e+00   3.20000000e+00   1.30000000e+00   2.00000000e-01\n",
      "    2.63558680e+01]\n",
      " [  5.00000000e+00   3.50000000e+00   1.60000000e+00   6.00000000e-01\n",
      "    4.18879020e+01]\n",
      " [  5.10000000e+00   3.80000000e+00   1.90000000e+00   4.00000000e-01\n",
      "    5.17514558e+01]\n",
      " [  4.80000000e+00   3.00000000e+00   1.40000000e+00   3.00000000e-01\n",
      "    3.37784042e+01]\n",
      " [  5.10000000e+00   3.80000000e+00   1.60000000e+00   2.00000000e-01\n",
      "    4.35801733e+01]\n",
      " [  4.60000000e+00   3.20000000e+00   1.40000000e+00   2.00000000e-01\n",
      "    3.10221803e+01]\n",
      " [  5.30000000e+00   3.70000000e+00   1.50000000e+00   2.00000000e-01\n",
      "    4.41236688e+01]\n",
      " [  5.00000000e+00   3.30000000e+00   1.40000000e+00   2.00000000e-01\n",
      "    3.66519143e+01]\n",
      " [  7.00000000e+00   3.20000000e+00   4.70000000e+00   1.40000000e+00\n",
      "    2.41169596e+02]\n",
      " [  6.40000000e+00   3.20000000e+00   4.50000000e+00   1.50000000e+00\n",
      "    1.93019453e+02]\n",
      " [  6.90000000e+00   3.10000000e+00   4.90000000e+00   1.50000000e+00\n",
      "    2.44299670e+02]\n",
      " [  5.50000000e+00   2.30000000e+00   4.00000000e+00   1.30000000e+00\n",
      "    1.26710904e+02]\n",
      " [  6.50000000e+00   2.80000000e+00   4.60000000e+00   1.50000000e+00\n",
      "    2.03522844e+02]\n",
      " [  5.70000000e+00   2.80000000e+00   4.50000000e+00   1.30000000e+00\n",
      "    1.53105518e+02]\n",
      " [  6.30000000e+00   3.30000000e+00   4.70000000e+00   1.60000000e+00\n",
      "    1.95347373e+02]\n",
      " [  4.90000000e+00   2.40000000e+00   3.30000000e+00   1.00000000e+00\n",
      "    8.29726036e+01]\n",
      " [  6.60000000e+00   2.90000000e+00   4.60000000e+00   1.30000000e+00\n",
      "    2.09833257e+02]\n",
      " [  5.20000000e+00   2.70000000e+00   3.90000000e+00   1.40000000e+00\n",
      "    1.10433265e+02]\n",
      " [  5.00000000e+00   2.00000000e+00   3.50000000e+00   1.00000000e+00\n",
      "    9.16297857e+01]\n",
      " [  5.90000000e+00   3.00000000e+00   4.20000000e+00   1.50000000e+00\n",
      "    1.53102376e+02]\n",
      " [  6.00000000e+00   2.20000000e+00   4.00000000e+00   1.00000000e+00\n",
      "    1.50796447e+02]\n",
      " [  6.10000000e+00   2.90000000e+00   4.70000000e+00   1.40000000e+00\n",
      "    1.83141238e+02]\n",
      " [  5.60000000e+00   2.90000000e+00   3.60000000e+00   1.30000000e+00\n",
      "    1.18224415e+02]\n",
      " [  6.70000000e+00   3.10000000e+00   4.40000000e+00   1.40000000e+00\n",
      "    2.06838272e+02]\n",
      " [  5.60000000e+00   3.00000000e+00   4.50000000e+00   1.50000000e+00\n",
      "    1.47780518e+02]\n",
      " [  5.80000000e+00   2.70000000e+00   4.10000000e+00   1.00000000e+00\n",
      "    1.44433675e+02]\n",
      " [  6.20000000e+00   2.20000000e+00   4.50000000e+00   1.50000000e+00\n",
      "    1.81144232e+02]\n",
      " [  5.60000000e+00   2.50000000e+00   3.90000000e+00   1.10000000e+00\n",
      "    1.28076449e+02]\n",
      " [  5.90000000e+00   3.20000000e+00   4.80000000e+00   1.80000000e+00\n",
      "    1.74974144e+02]\n",
      " [  6.10000000e+00   2.80000000e+00   4.00000000e+00   1.30000000e+00\n",
      "    1.55864884e+02]\n",
      " [  6.30000000e+00   2.50000000e+00   4.90000000e+00   1.50000000e+00\n",
      "    2.03660027e+02]\n",
      " [  6.10000000e+00   2.80000000e+00   4.70000000e+00   1.20000000e+00\n",
      "    1.83141238e+02]\n",
      " [  6.40000000e+00   2.90000000e+00   4.30000000e+00   1.30000000e+00\n",
      "    1.84440810e+02]\n",
      " [  6.60000000e+00   3.00000000e+00   4.40000000e+00   1.40000000e+00\n",
      "    2.00710071e+02]\n",
      " [  6.80000000e+00   2.80000000e+00   4.80000000e+00   1.40000000e+00\n",
      "    2.32427591e+02]\n",
      " [  6.70000000e+00   3.00000000e+00   5.00000000e+00   1.70000000e+00\n",
      "    2.35043490e+02]\n",
      " [  6.00000000e+00   2.90000000e+00   4.50000000e+00   1.50000000e+00\n",
      "    1.69646003e+02]\n",
      " [  5.70000000e+00   2.60000000e+00   3.50000000e+00   1.00000000e+00\n",
      "    1.19082070e+02]\n",
      " [  5.50000000e+00   2.40000000e+00   3.80000000e+00   1.10000000e+00\n",
      "    1.20375359e+02]\n",
      " [  5.50000000e+00   2.40000000e+00   3.70000000e+00   1.00000000e+00\n",
      "    1.17207586e+02]\n",
      " [  5.80000000e+00   2.70000000e+00   3.90000000e+00   1.20000000e+00\n",
      "    1.37388130e+02]\n",
      " [  6.00000000e+00   2.70000000e+00   5.10000000e+00   1.60000000e+00\n",
      "    1.92265470e+02]\n",
      " [  5.40000000e+00   3.00000000e+00   4.50000000e+00   1.50000000e+00\n",
      "    1.37413263e+02]\n",
      " [  6.00000000e+00   3.40000000e+00   4.50000000e+00   1.60000000e+00\n",
      "    1.69646003e+02]\n",
      " [  6.70000000e+00   3.10000000e+00   4.70000000e+00   1.50000000e+00\n",
      "    2.20940881e+02]\n",
      " [  6.30000000e+00   2.30000000e+00   4.40000000e+00   1.30000000e+00\n",
      "    1.82878392e+02]\n",
      " [  5.60000000e+00   3.00000000e+00   4.10000000e+00   1.30000000e+00\n",
      "    1.34644472e+02]\n",
      " [  5.50000000e+00   2.50000000e+00   4.00000000e+00   1.30000000e+00\n",
      "    1.26710904e+02]\n",
      " [  5.50000000e+00   2.60000000e+00   4.40000000e+00   1.20000000e+00\n",
      "    1.39381994e+02]\n",
      " [  6.10000000e+00   3.00000000e+00   4.60000000e+00   1.40000000e+00\n",
      "    1.79244616e+02]\n",
      " [  5.80000000e+00   2.60000000e+00   4.00000000e+00   1.20000000e+00\n",
      "    1.40910902e+02]\n",
      " [  5.00000000e+00   2.30000000e+00   3.30000000e+00   1.00000000e+00\n",
      "    8.63937980e+01]\n",
      " [  5.60000000e+00   2.70000000e+00   4.20000000e+00   1.30000000e+00\n",
      "    1.37928484e+02]\n",
      " [  5.70000000e+00   3.00000000e+00   4.20000000e+00   1.20000000e+00\n",
      "    1.42898483e+02]\n",
      " [  5.70000000e+00   2.90000000e+00   4.20000000e+00   1.30000000e+00\n",
      "    1.42898483e+02]\n",
      " [  6.20000000e+00   2.90000000e+00   4.30000000e+00   1.30000000e+00\n",
      "    1.73093378e+02]\n",
      " [  5.10000000e+00   2.50000000e+00   3.00000000e+00   1.10000000e+00\n",
      "    8.17128249e+01]\n",
      " [  5.70000000e+00   2.80000000e+00   4.10000000e+00   1.30000000e+00\n",
      "    1.39496139e+02]\n",
      " [  6.30000000e+00   3.30000000e+00   6.00000000e+00   2.50000000e+00\n",
      "    2.49379625e+02]\n",
      " [  5.80000000e+00   2.70000000e+00   5.10000000e+00   1.90000000e+00\n",
      "    1.79661401e+02]\n",
      " [  7.10000000e+00   3.00000000e+00   5.90000000e+00   2.10000000e+00\n",
      "    3.11456448e+02]\n",
      " [  6.30000000e+00   2.90000000e+00   5.60000000e+00   1.80000000e+00\n",
      "    2.32754317e+02]\n",
      " [  6.50000000e+00   3.00000000e+00   5.80000000e+00   2.20000000e+00\n",
      "    2.56615760e+02]\n",
      " [  7.60000000e+00   3.00000000e+00   6.60000000e+00   2.10000000e+00\n",
      "    3.99208462e+02]\n",
      " [  4.90000000e+00   2.50000000e+00   4.50000000e+00   1.70000000e+00\n",
      "    1.13144459e+02]\n",
      " [  7.30000000e+00   2.90000000e+00   6.30000000e+00   1.80000000e+00\n",
      "    3.51572492e+02]\n",
      " [  6.70000000e+00   2.50000000e+00   5.80000000e+00   1.80000000e+00\n",
      "    2.72650449e+02]\n",
      " [  7.20000000e+00   3.60000000e+00   6.10000000e+00   2.50000000e+00\n",
      "    3.31148998e+02]\n",
      " [  6.50000000e+00   3.20000000e+00   5.10000000e+00   2.00000000e+00\n",
      "    2.25644892e+02]\n",
      " [  6.40000000e+00   2.70000000e+00   5.30000000e+00   1.90000000e+00\n",
      "    2.27334022e+02]\n",
      " [  6.80000000e+00   3.00000000e+00   5.50000000e+00   2.10000000e+00\n",
      "    2.66323281e+02]\n",
      " [  5.70000000e+00   2.50000000e+00   5.00000000e+00   2.00000000e+00\n",
      "    1.70117242e+02]\n",
      " [  5.80000000e+00   2.80000000e+00   5.10000000e+00   2.40000000e+00\n",
      "    1.79661401e+02]\n",
      " [  6.40000000e+00   3.20000000e+00   5.30000000e+00   2.30000000e+00\n",
      "    2.27334022e+02]\n",
      " [  6.50000000e+00   3.00000000e+00   5.50000000e+00   1.80000000e+00\n",
      "    2.43342531e+02]\n",
      " [  7.70000000e+00   3.80000000e+00   6.70000000e+00   2.20000000e+00\n",
      "    4.15991897e+02]\n",
      " [  7.70000000e+00   2.60000000e+00   6.90000000e+00   2.30000000e+00\n",
      "    4.28409565e+02]\n",
      " [  6.00000000e+00   2.20000000e+00   5.00000000e+00   1.50000000e+00\n",
      "    1.88495559e+02]\n",
      " [  6.90000000e+00   3.20000000e+00   5.70000000e+00   2.30000000e+00\n",
      "    2.84185330e+02]\n",
      " [  5.60000000e+00   2.80000000e+00   4.90000000e+00   2.00000000e+00\n",
      "    1.60916565e+02]\n",
      " [  7.70000000e+00   2.80000000e+00   6.70000000e+00   2.00000000e+00\n",
      "    4.15991897e+02]\n",
      " [  6.30000000e+00   2.70000000e+00   4.90000000e+00   1.80000000e+00\n",
      "    2.03660027e+02]\n",
      " [  6.70000000e+00   3.30000000e+00   5.70000000e+00   2.10000000e+00\n",
      "    2.67949579e+02]\n",
      " [  7.20000000e+00   3.20000000e+00   6.00000000e+00   1.80000000e+00\n",
      "    3.25720326e+02]\n",
      " [  6.20000000e+00   2.80000000e+00   4.80000000e+00   1.80000000e+00\n",
      "    1.93220515e+02]\n",
      " [  6.10000000e+00   3.00000000e+00   4.90000000e+00   1.80000000e+00\n",
      "    1.90934482e+02]\n",
      " [  6.40000000e+00   2.80000000e+00   5.60000000e+00   2.10000000e+00\n",
      "    2.40201986e+02]\n",
      " [  7.20000000e+00   3.00000000e+00   5.80000000e+00   1.60000000e+00\n",
      "    3.14862982e+02]\n",
      " [  7.40000000e+00   2.80000000e+00   6.10000000e+00   1.90000000e+00\n",
      "    3.49801681e+02]\n",
      " [  7.90000000e+00   3.80000000e+00   6.40000000e+00   2.00000000e+00\n",
      "    4.18275835e+02]\n",
      " [  6.40000000e+00   2.80000000e+00   5.60000000e+00   2.20000000e+00\n",
      "    2.40201986e+02]\n",
      " [  6.30000000e+00   2.80000000e+00   5.10000000e+00   1.50000000e+00\n",
      "    2.11972681e+02]\n",
      " [  6.10000000e+00   2.60000000e+00   5.60000000e+00   1.40000000e+00\n",
      "    2.18210837e+02]\n",
      " [  7.70000000e+00   3.00000000e+00   6.10000000e+00   2.30000000e+00\n",
      "    3.78738891e+02]\n",
      " [  6.30000000e+00   3.40000000e+00   5.60000000e+00   2.40000000e+00\n",
      "    2.32754317e+02]\n",
      " [  6.40000000e+00   3.10000000e+00   5.50000000e+00   1.80000000e+00\n",
      "    2.35912664e+02]\n",
      " [  6.00000000e+00   3.00000000e+00   4.80000000e+00   1.80000000e+00\n",
      "    1.80955737e+02]\n",
      " [  6.90000000e+00   3.10000000e+00   5.40000000e+00   2.10000000e+00\n",
      "    2.69228207e+02]\n",
      " [  6.70000000e+00   3.10000000e+00   5.60000000e+00   2.40000000e+00\n",
      "    2.63248709e+02]\n",
      " [  6.90000000e+00   3.10000000e+00   5.10000000e+00   2.30000000e+00\n",
      "    2.54271085e+02]\n",
      " [  5.80000000e+00   2.70000000e+00   5.10000000e+00   1.90000000e+00\n",
      "    1.79661401e+02]\n",
      " [  6.80000000e+00   3.20000000e+00   5.90000000e+00   2.30000000e+00\n",
      "    2.85692247e+02]\n",
      " [  6.70000000e+00   3.30000000e+00   5.70000000e+00   2.50000000e+00\n",
      "    2.67949579e+02]\n",
      " [  6.70000000e+00   3.00000000e+00   5.20000000e+00   2.30000000e+00\n",
      "    2.44445230e+02]\n",
      " [  6.30000000e+00   2.50000000e+00   5.00000000e+00   1.90000000e+00\n",
      "    2.07816354e+02]\n",
      " [  6.50000000e+00   3.00000000e+00   5.20000000e+00   2.00000000e+00\n",
      "    2.30069302e+02]\n",
      " [  6.20000000e+00   3.40000000e+00   5.40000000e+00   2.30000000e+00\n",
      "    2.17373079e+02]\n",
      " [  5.90000000e+00   3.00000000e+00   5.10000000e+00   1.80000000e+00\n",
      "    1.85910028e+02]]\n"
     ]
    }
   ],
   "source": [
    "# Q40: 为 iris_2d 中的 volume 列创建一个新的列，volume 指 (pi x petallength x sepal_length^2)/3\n",
    "volume = np.pi * iris_2d[:,2] * iris_2d[:,0]**2 / 3.0\n",
    "print(np.c_[iris_2d, volume])"
   ]
  },
  {
   "cell_type": "code",
   "execution_count": 42,
   "metadata": {},
   "outputs": [
    {
     "name": "stdout",
     "output_type": "stream",
     "text": [
      "(array(['Iris-setosa', 'Iris-versicolor', 'Iris-virginica'],\n",
      "      dtype='<U15'), array([72, 37, 41]))\n",
      "(array([b'Iris-setosa', b'Iris-versicolor', b'Iris-virginica'], dtype=object), array([85, 34, 31]))\n"
     ]
    }
   ],
   "source": [
    "# Q41: 随机采样 iris 数据集中的 species 列，使得 setose 的数量是 versicolor 和 virginica 数量的两倍\n",
    "iris = np.genfromtxt(url, delimiter=',', dtype='object')\n",
    "species = iris[:,4]\n",
    "\n",
    "a = np.array(['Iris-setosa', 'Iris-versicolor', 'Iris-virginica'])\n",
    "species_out = np.random.choice(a, 150, p=[0.5, 0.25, 0.25])\n",
    "print(np.unique(species_out, return_counts=True))\n",
    "\n",
    "# 第二种方案\n",
    "probs = np.r_[np.linspace(0, 0.500, num=50), np.linspace(0.501, .750, num=50), np.linspace(.751, 1.0, num=50)]\n",
    "index = np.searchsorted(probs, np.random.random(150))\n",
    "species_out = species[index]\n",
    "print(np.unique(species_out, return_counts=True))"
   ]
  },
  {
   "cell_type": "code",
   "execution_count": 43,
   "metadata": {},
   "outputs": [
    {
     "name": "stdout",
     "output_type": "stream",
     "text": [
      "1.7\n"
     ]
    }
   ],
   "source": [
    "# Q42: 在 species setosa 的 petallength 列中找到第二最大值\n",
    "filtered_iris = iris[iris[:,4]==b'Iris-setosa'][:,2].astype(np.float)\n",
    "print(np.unique(np.sort(filtered_iris))[-2])"
   ]
  },
  {
   "cell_type": "code",
   "execution_count": 44,
   "metadata": {},
   "outputs": [
    {
     "name": "stdout",
     "output_type": "stream",
     "text": [
      "[[ 4.3  3.   1.1  0.1]\n",
      " [ 4.4  3.2  1.3  0.2]\n",
      " [ 4.4  3.   1.3  0.2]\n",
      " [ 4.4  2.9  1.4  0.2]\n",
      " [ 4.5  2.3  1.3  0.3]\n",
      " [ 4.6  3.6  1.   0.2]\n",
      " [ 4.6  3.1  1.5  0.2]\n",
      " [ 4.6  3.4  1.4  0.3]\n",
      " [ 4.6  3.2  1.4  0.2]\n",
      " [ 4.7  3.2  1.3  0.2]\n",
      " [ 4.7  3.2  1.6  0.2]\n",
      " [ 4.8  3.   1.4  0.1]\n",
      " [ 4.8  3.   1.4  0.3]\n",
      " [ 4.8  3.4  1.9  0.2]\n",
      " [ 4.8  3.4  1.6  0.2]\n",
      " [ 4.8  3.1  1.6  0.2]\n",
      " [ 4.9  2.4  3.3  1. ]\n",
      " [ 4.9  2.5  4.5  1.7]\n",
      " [ 4.9  3.1  1.5  0.1]\n",
      " [ 4.9  3.1  1.5  0.1]\n",
      " [ 4.9  3.1  1.5  0.1]\n",
      " [ 4.9  3.   1.4  0.2]\n",
      " [ 5.   3.5  1.3  0.3]\n",
      " [ 5.   3.4  1.6  0.4]\n",
      " [ 5.   3.3  1.4  0.2]\n",
      " [ 5.   3.2  1.2  0.2]\n",
      " [ 5.   3.5  1.6  0.6]\n",
      " [ 5.   2.   3.5  1. ]\n",
      " [ 5.   3.4  1.5  0.2]\n",
      " [ 5.   2.3  3.3  1. ]\n",
      " [ 5.   3.6  1.4  0.2]\n",
      " [ 5.   3.   1.6  0.2]\n",
      " [ 5.1  3.8  1.9  0.4]\n",
      " [ 5.1  3.8  1.6  0.2]\n",
      " [ 5.1  2.5  3.   1.1]\n",
      " [ 5.1  3.5  1.4  0.2]\n",
      " [ 5.1  3.4  1.5  0.2]\n",
      " [ 5.1  3.5  1.4  0.3]\n",
      " [ 5.1  3.3  1.7  0.5]\n",
      " [ 5.1  3.7  1.5  0.4]\n",
      " [ 5.1  3.8  1.5  0.3]\n",
      " [ 5.2  4.1  1.5  0.1]\n",
      " [ 5.2  3.4  1.4  0.2]\n",
      " [ 5.2  3.5  1.5  0.2]\n",
      " [ 5.2  2.7  3.9  1.4]\n",
      " [ 5.3  3.7  1.5  0.2]\n",
      " [ 5.4  3.   4.5  1.5]\n",
      " [ 5.4  3.9  1.7  0.4]\n",
      " [ 5.4  3.4  1.7  0.2]\n",
      " [ 5.4  3.4  1.5  0.4]\n",
      " [ 5.4  3.7  1.5  0.2]\n",
      " [ 5.4  3.9  1.3  0.4]\n",
      " [ 5.5  3.5  1.3  0.2]\n",
      " [ 5.5  2.6  4.4  1.2]\n",
      " [ 5.5  4.2  1.4  0.2]\n",
      " [ 5.5  2.3  4.   1.3]\n",
      " [ 5.5  2.4  3.7  1. ]\n",
      " [ 5.5  2.4  3.8  1.1]\n",
      " [ 5.5  2.5  4.   1.3]\n",
      " [ 5.6  3.   4.1  1.3]\n",
      " [ 5.6  2.8  4.9  2. ]\n",
      " [ 5.6  3.   4.5  1.5]\n",
      " [ 5.6  2.5  3.9  1.1]\n",
      " [ 5.6  2.7  4.2  1.3]\n",
      " [ 5.6  2.9  3.6  1.3]\n",
      " [ 5.7  2.6  3.5  1. ]\n",
      " [ 5.7  2.9  4.2  1.3]\n",
      " [ 5.7  2.8  4.1  1.3]\n",
      " [ 5.7  4.4  1.5  0.4]\n",
      " [ 5.7  2.8  4.5  1.3]\n",
      " [ 5.7  2.5  5.   2. ]\n",
      " [ 5.7  3.8  1.7  0.3]\n",
      " [ 5.7  3.   4.2  1.2]\n",
      " [ 5.8  2.7  4.1  1. ]\n",
      " [ 5.8  4.   1.2  0.2]\n",
      " [ 5.8  2.6  4.   1.2]\n",
      " [ 5.8  2.8  5.1  2.4]\n",
      " [ 5.8  2.7  5.1  1.9]\n",
      " [ 5.8  2.7  3.9  1.2]\n",
      " [ 5.8  2.7  5.1  1.9]\n",
      " [ 5.9  3.   5.1  1.8]\n",
      " [ 5.9  3.   4.2  1.5]\n",
      " [ 5.9  3.2  4.8  1.8]\n",
      " [ 6.   2.9  4.5  1.5]\n",
      " [ 6.   2.7  5.1  1.6]\n",
      " [ 6.   3.   4.8  1.8]\n",
      " [ 6.   3.4  4.5  1.6]\n",
      " [ 6.   2.2  4.   1. ]\n",
      " [ 6.   2.2  5.   1.5]\n",
      " [ 6.1  3.   4.9  1.8]\n",
      " [ 6.1  2.6  5.6  1.4]\n",
      " [ 6.1  2.8  4.   1.3]\n",
      " [ 6.1  2.9  4.7  1.4]\n",
      " [ 6.1  2.8  4.7  1.2]\n",
      " [ 6.1  3.   4.6  1.4]\n",
      " [ 6.2  2.2  4.5  1.5]\n",
      " [ 6.2  2.9  4.3  1.3]\n",
      " [ 6.2  3.4  5.4  2.3]\n",
      " [ 6.2  2.8  4.8  1.8]\n",
      " [ 6.3  2.5  4.9  1.5]\n",
      " [ 6.3  2.7  4.9  1.8]\n",
      " [ 6.3  2.5  5.   1.9]\n",
      " [ 6.3  3.3  4.7  1.6]\n",
      " [ 6.3  2.8  5.1  1.5]\n",
      " [ 6.3  3.3  6.   2.5]\n",
      " [ 6.3  2.3  4.4  1.3]\n",
      " [ 6.3  3.4  5.6  2.4]\n",
      " [ 6.3  2.9  5.6  1.8]\n",
      " [ 6.4  2.8  5.6  2.2]\n",
      " [ 6.4  2.8  5.6  2.1]\n",
      " [ 6.4  3.1  5.5  1.8]\n",
      " [ 6.4  3.2  4.5  1.5]\n",
      " [ 6.4  3.2  5.3  2.3]\n",
      " [ 6.4  2.9  4.3  1.3]\n",
      " [ 6.4  2.7  5.3  1.9]\n",
      " [ 6.5  3.   5.8  2.2]\n",
      " [ 6.5  3.   5.5  1.8]\n",
      " [ 6.5  3.   5.2  2. ]\n",
      " [ 6.5  2.8  4.6  1.5]\n",
      " [ 6.5  3.2  5.1  2. ]\n",
      " [ 6.6  2.9  4.6  1.3]\n",
      " [ 6.6  3.   4.4  1.4]\n",
      " [ 6.7  3.1  4.7  1.5]\n",
      " [ 6.7  3.1  5.6  2.4]\n",
      " [ 6.7  2.5  5.8  1.8]\n",
      " [ 6.7  3.   5.   1.7]\n",
      " [ 6.7  3.1  4.4  1.4]\n",
      " [ 6.7  3.3  5.7  2.5]\n",
      " [ 6.7  3.   5.2  2.3]\n",
      " [ 6.7  3.3  5.7  2.1]\n",
      " [ 6.8  3.2  5.9  2.3]\n",
      " [ 6.8  2.8  4.8  1.4]\n",
      " [ 6.8  3.   5.5  2.1]\n",
      " [ 6.9  3.1  5.4  2.1]\n",
      " [ 6.9  3.1  5.1  2.3]\n",
      " [ 6.9  3.1  4.9  1.5]\n",
      " [ 6.9  3.2  5.7  2.3]\n",
      " [ 7.   3.2  4.7  1.4]\n",
      " [ 7.1  3.   5.9  2.1]\n",
      " [ 7.2  3.   5.8  1.6]\n",
      " [ 7.2  3.2  6.   1.8]\n",
      " [ 7.2  3.6  6.1  2.5]\n",
      " [ 7.3  2.9  6.3  1.8]\n",
      " [ 7.4  2.8  6.1  1.9]\n",
      " [ 7.6  3.   6.6  2.1]\n",
      " [ 7.7  2.8  6.7  2. ]\n",
      " [ 7.7  2.6  6.9  2.3]\n",
      " [ 7.7  3.8  6.7  2.2]\n",
      " [ 7.7  3.   6.1  2.3]\n",
      " [ 7.9  3.8  6.4  2. ]]\n"
     ]
    }
   ],
   "source": [
    "# Q43: 基于 sepallength 列将 iris 数据集排序\n",
    "filtered_iris = iris[:,:-1].astype(np.float)\n",
    "print(filtered_iris[filtered_iris[:,0].argsort()])"
   ]
  },
  {
   "cell_type": "code",
   "execution_count": 45,
   "metadata": {},
   "outputs": [
    {
     "name": "stdout",
     "output_type": "stream",
     "text": [
      "b'1.5'\n"
     ]
    }
   ],
   "source": [
    "# Q44: 在 iris 数据集中找到 petallength（第三列）中最频繁出现的值\n",
    "uvalues, count = np.unique(iris[:, 2], return_counts=True)\n",
    "print(uvalues[count.argmax()])"
   ]
  },
  {
   "cell_type": "code",
   "execution_count": 46,
   "metadata": {},
   "outputs": [
    {
     "name": "stdout",
     "output_type": "stream",
     "text": [
      "50\n",
      "50\n"
     ]
    }
   ],
   "source": [
    "# Q45: 在 iris 数据集的 petalwidth（第四列）中找到第一个值大于 1.0 的数的位置\n",
    "print(np.where(iris[:,3].astype(np.float)>1.0)[0][0])\n",
    "\n",
    "# 第二种方案\n",
    "print(np.argmax(iris[:,3].astype(np.float)>1.0))"
   ]
  },
  {
   "cell_type": "code",
   "execution_count": 47,
   "metadata": {},
   "outputs": [
    {
     "name": "stdout",
     "output_type": "stream",
     "text": [
      "[ 26.73250857  33.71878646  47.67306483  19.59236067  20.2659054\n",
      "  30.84327793  25.53267529  37.90372892  46.509291    40.11936057\n",
      "  43.86139291  33.28931807  32.19805807  23.75879242   8.89812918\n",
      "  39.46576027  27.34287061  41.00980123  39.01025293  21.78047021]\n",
      "[ 26.73250857  30.          30.          19.59236067  20.2659054   30.\n",
      "  25.53267529  30.          30.          30.          30.          30.          30.\n",
      "  23.75879242  10.          30.          27.34287061  30.          30.\n",
      "  21.78047021]\n",
      "[ 47.53168827  34.264062    15.09827149   7.12505963  41.51104519\n",
      "   7.70646928  35.20410194  18.21389166  47.16276891   3.56455031\n",
      "  12.00973441   6.00485012  22.77416824  20.56569057  18.69423823\n",
      "  21.77066275  31.06714468  43.32812649  32.81584954  23.47510223]\n",
      "[ 30.          30.          15.09827149  10.          30.          10.          30.\n",
      "  18.21389166  30.          10.          12.00973441  10.          22.77416824\n",
      "  20.56569057  18.69423823  21.77066275  30.          30.          30.\n",
      "  23.47510223]\n",
      "[ 19.86378871  37.09026709  13.63455498  12.54192064   3.19317058\n",
      "  21.01936897   4.37425015  32.84829431  24.62735935  13.95238255\n",
      "  25.13417993  34.32872002  15.26029192  40.99250833   9.15814464\n",
      "  31.41811465  14.14577241  36.34223573  42.94721804  48.07772587]\n",
      "[ 19.86378871  30.          13.63455498  12.54192064  10.          21.01936897\n",
      "  10.          30.          24.62735935  13.95238255  25.13417993  30.\n",
      "  15.26029192  30.          10.          30.          14.14577241  30.          30.\n",
      "  30.        ]\n"
     ]
    }
   ],
   "source": [
    "# Q46: 对于数组 a，将所有大于 30 的值替换为 30，将所有小于 10 的值替换为 10\n",
    "a = np.random.uniform(1,50, 20)\n",
    "print(a)\n",
    "a[a>30] = 30\n",
    "a[a<10] = 10\n",
    "print(a)\n",
    "\n",
    "# 第二种方案\n",
    "a = np.random.uniform(1,50, 20)\n",
    "print(a)\n",
    "print(np.clip(a, 10, 30))\n",
    "\n",
    "# 第三种方案\n",
    "a = np.random.uniform(1,50, 20)\n",
    "print(a)\n",
    "a = np.where(a>30, 30, np.where(a<10, 10, a))\n",
    "print(a)"
   ]
  },
  {
   "cell_type": "code",
   "execution_count": 48,
   "metadata": {},
   "outputs": [
    {
     "name": "stdout",
     "output_type": "stream",
     "text": [
      "[ 5 18 19  6 13]\n",
      "[ 5 18 19  6 13]\n"
     ]
    }
   ],
   "source": [
    "# Q47: 在给定数组 a 中找到 top-5 最大值的位置\n",
    "a = np.random.uniform(1,50, 20)\n",
    "print(np.argsort(a)[-5:])\n",
    "\n",
    "# 第二种方案\n",
    "print(np.argpartition(a, -5)[-5:])"
   ]
  },
  {
   "cell_type": "code",
   "execution_count": 49,
   "metadata": {},
   "outputs": [
    {
     "name": "stdout",
     "output_type": "stream",
     "text": [
      "[[3 2 0 1 0 0 0 3 1 0]\n",
      " [1 0 0 2 1 1 2 1 2 0]\n",
      " [1 3 1 0 2 0 0 0 2 1]\n",
      " [2 1 1 0 0 3 0 2 0 1]\n",
      " [3 2 0 1 0 1 1 0 0 2]\n",
      " [0 0 2 2 1 1 0 0 2 2]]\n",
      "[[1 0 1 1 0 0 0 2 0 3 0 2 1 0 1 0]\n",
      " [0 2 0 0 2 1 0 1 0 0 1 2 1 2 0 0]\n",
      " [0 4 0 0 0 0 1 1 2 2 0 0 0 0 1 1]]\n"
     ]
    }
   ],
   "source": [
    "# Q48: 逐行计算唯一值的数量\n",
    "def count_rowwise_values(arr):\n",
    "    unique_rows_counts = [np.unique(row, return_counts=True) for row in arr]\n",
    "    all_values = np.unique(arr)\n",
    "    return np.array([[int(y[x==i]) if i in x else 0 for i in all_values] for x, y in unique_rows_counts])\n",
    "arr = np.random.randint(1,11,size=(6, 10))\n",
    "print(count_rowwise_values(arr))\n",
    "arr = np.array([np.array(list('bill clinton')), np.array(list('narendramodi')), np.array(list('jjayalalitha'))])\n",
    "print(count_rowwise_values(arr))"
   ]
  },
  {
   "cell_type": "code",
   "execution_count": 50,
   "metadata": {},
   "outputs": [
    {
     "name": "stdout",
     "output_type": "stream",
     "text": [
      "[0 1 2 3 4 5 6 7 8 9]\n",
      "[0 1 2 3 4 5 6 7 8 9]\n"
     ]
    }
   ],
   "source": [
    "# Q49: 将 array_of_arrays 转换为平面线性 1 维数组\n",
    "arr1 = np.arange(3)\n",
    "arr2 = np.arange(3,7)\n",
    "arr3 = np.arange(7,10)\n",
    "\n",
    "array_of_arrays = np.array([arr1, arr2, arr3])\n",
    "\n",
    "print(np.array(sum(map(np.ndarray.tolist, array_of_arrays), [])))\n",
    "\n",
    "# 第二种方案\n",
    "print(np.concatenate(array_of_arrays))"
   ]
  },
  {
   "cell_type": "code",
   "execution_count": 51,
   "metadata": {
    "scrolled": true
   },
   "outputs": [
    {
     "name": "stdout",
     "output_type": "stream",
     "text": [
      "[[1 1 1 1 1 1]\n",
      " [2 2 2 2 2 2]]\n",
      "[2 1 1 2 2 1]\n",
      "[[ 0.  1.]\n",
      " [ 1.  0.]\n",
      " [ 1.  0.]\n",
      " [ 0.  1.]\n",
      " [ 0.  1.]\n",
      " [ 1.  0.]]\n",
      "[[0 1]\n",
      " [1 0]\n",
      " [1 0]\n",
      " [0 1]\n",
      " [0 1]\n",
      " [1 0]]\n"
     ]
    }
   ],
   "source": [
    "# Q50: 计算 one-hot 编码\n",
    "from sklearn.preprocessing import OneHotEncoder\n",
    "arr = np.random.randint(1,4, size=6)\n",
    "row = np.unique(arr)[np.newaxis, :]\n",
    "modes = np.tile(row, 6).reshape(6, -1).T\n",
    "print(modes)\n",
    "print(arr)\n",
    "enc = OneHotEncoder()\n",
    "enc.fit(modes)\n",
    "print(enc.transform(arr[np.newaxis,:]).toarray().reshape(6, -1))\n",
    "\n",
    "# 第二种方案\n",
    "print((arr[:, None] == np.unique(arr)).view(np.int8))"
   ]
  },
  {
   "cell_type": "code",
   "execution_count": 52,
   "metadata": {
    "scrolled": true
   },
   "outputs": [
    {
     "name": "stdout",
     "output_type": "stream",
     "text": [
      "['Iris-setosa' 'Iris-setosa' 'Iris-setosa' 'Iris-setosa' 'Iris-setosa'\n",
      " 'Iris-setosa' 'Iris-versicolor' 'Iris-versicolor' 'Iris-virginica'\n",
      " 'Iris-virginica' 'Iris-virginica' 'Iris-virginica' 'Iris-virginica'\n",
      " 'Iris-virginica' 'Iris-virginica' 'Iris-virginica' 'Iris-virginica'\n",
      " 'Iris-virginica' 'Iris-virginica' 'Iris-virginica']\n",
      "[ 0  1  2  3  4  5  0  1  0  1  2  3  4  5  6  7  8  9 10 11]\n",
      "[ 0  1  2  3  4  5  0  1  0  1  2  3  4  5  6  7  8  9 10 11]\n"
     ]
    }
   ],
   "source": [
    "# Q51: 对分组后的类别设置行号\n",
    "species = np.genfromtxt(url, delimiter=',', dtype='str', usecols=4)\n",
    "species_small = np.sort(np.random.choice(species, size=20))\n",
    "print(species_small)\n",
    "def gen_row_numbers(a):\n",
    "    r = np.zeros_like(a, dtype=np.int8)\n",
    "    n = 0\n",
    "    for i in range(len(a)):\n",
    "        if a[i] == a[i-1]:\n",
    "            r[i] = n\n",
    "            n += 1\n",
    "        else:\n",
    "            n = 0\n",
    "            r[i] = n\n",
    "            n += 1\n",
    "    return r\n",
    "print(gen_row_numbers(species_small))\n",
    "# 第二种方案，利用enumerate\n",
    "print(np.array([i for val in np.unique(species_small) for i, _ in enumerate(species_small[species_small==val])]))"
   ]
  },
  {
   "cell_type": "code",
   "execution_count": 53,
   "metadata": {},
   "outputs": [
    {
     "name": "stdout",
     "output_type": "stream",
     "text": [
      "['Iris-setosa' 'Iris-setosa' 'Iris-setosa' 'Iris-setosa' 'Iris-setosa'\n",
      " 'Iris-versicolor' 'Iris-versicolor' 'Iris-versicolor' 'Iris-versicolor'\n",
      " 'Iris-versicolor' 'Iris-versicolor' 'Iris-versicolor' 'Iris-versicolor'\n",
      " 'Iris-versicolor' 'Iris-versicolor' 'Iris-virginica' 'Iris-virginica'\n",
      " 'Iris-virginica' 'Iris-virginica' 'Iris-virginica']\n",
      "[0 0 0 0 0 1 1 1 1 1 1 1 1 1 1 2 2 2 2 2]\n",
      "[0 0 0 0 0 1 1 1 1 1 1 1 1 1 1 2 2 2 2 2]\n"
     ]
    }
   ],
   "source": [
    "# Q52: 对分组后的类别设置组号\n",
    "species = np.genfromtxt(url, delimiter=',', dtype='str', usecols=4)\n",
    "species_small = np.sort(np.random.choice(species, size=20))\n",
    "print(species_small)\n",
    "def gen_group_numbers(a):\n",
    "    m = {val: index for index, val in enumerate(np.unique(a))}\n",
    "    return np.array([m[i] for i in a])\n",
    "print(gen_group_numbers(species_small))\n",
    "# 第二种方案，使用argwhere\n",
    "def gen_group_numbers_2(a):\n",
    "    result = []\n",
    "    uniqs = np.unique(a)\n",
    "    for u in uniqs:\n",
    "        for s in a[a == u]:\n",
    "            gnum = np.argwhere(uniqs == s).tolist()[0][0]\n",
    "            result.append(gnum)\n",
    "    return np.array(result)\n",
    "print(gen_group_numbers_2(species_small))"
   ]
  },
  {
   "cell_type": "code",
   "execution_count": 54,
   "metadata": {},
   "outputs": [
    {
     "name": "stdout",
     "output_type": "stream",
     "text": [
      "[ 9 15  3 15 15 19  6  8  4 13]\n",
      "[4 6 0 7 8 9 2 3 1 5]\n",
      "[4 6 0 7 8 9 2 3 1 5]\n"
     ]
    }
   ],
   "source": [
    "# Q53: 求一维数值向量的排名值，采用TAOCP中的逆序算法求得\n",
    "a = np.random.randint(20, size=10)\n",
    "print(a)\n",
    "print(np.array([sum(a<a[i])+sum(a[:i]==a[i]) for i in range(len(a))]))\n",
    "# 第二种方案，使用argsort\n",
    "print(a.argsort().argsort())"
   ]
  },
  {
   "cell_type": "code",
   "execution_count": 55,
   "metadata": {},
   "outputs": [
    {
     "name": "stdout",
     "output_type": "stream",
     "text": [
      "[[[12 11  7]\n",
      "  [ 8 14 16]]\n",
      "\n",
      " [[19 10  1]\n",
      "  [ 5 14  9]]]\n",
      "[[[ 7  6  2]\n",
      "  [ 3  8 10]]\n",
      "\n",
      " [[11  5  0]\n",
      "  [ 1  9  4]]]\n",
      "[[[ 7  6  2]\n",
      "  [ 3  8 10]]\n",
      "\n",
      " [[11  5  0]\n",
      "  [ 1  9  4]]]\n"
     ]
    }
   ],
   "source": [
    "# Q53: 求多维数值向量的排名值\n",
    "a = np.random.randint(20, size=12).reshape(2,2,3)\n",
    "print(a)\n",
    "print(a.flatten().argsort().argsort().reshape(a.shape))\n",
    "# 第二种方案，使用ravel返回view，而非copy\n",
    "print(a.ravel().argsort().argsort().reshape(a.shape))"
   ]
  },
  {
   "cell_type": "code",
   "execution_count": 56,
   "metadata": {},
   "outputs": [
    {
     "name": "stdout",
     "output_type": "stream",
     "text": [
      "[[7 4 2]\n",
      " [8 3 5]\n",
      " [9 2 7]\n",
      " [2 8 6]\n",
      " [1 2 6]]\n",
      "[7 8 9 8 6]\n",
      "[7 8 9 8 6]\n",
      "[7 8 9 8 6]\n"
     ]
    }
   ],
   "source": [
    "# Q54: 求二维numpy数组每行的最大值\n",
    "a = np.random.randint(1, 10, (5, 3))\n",
    "print(a)\n",
    "am = np.max(a, axis=1)\n",
    "print(am)\n",
    "# 第二种方案，amax函数\n",
    "am = np.amax(a, axis=1)\n",
    "print(am)\n",
    "# 第三种方案，使用apply_along_axis函数\n",
    "am = np.apply_along_axis(np.max, axis=1, arr=a)\n",
    "print(am)"
   ]
  },
  {
   "cell_type": "code",
   "execution_count": 57,
   "metadata": {},
   "outputs": [
    {
     "name": "stdout",
     "output_type": "stream",
     "text": [
      "[[2 2 2 7 9]\n",
      " [4 8 6 7 7]\n",
      " [5 4 9 5 4]\n",
      " [8 8 1 4 5]\n",
      " [1 9 7 3 3]]\n",
      "[ 0.22222222  0.5         0.44444444  0.125       0.11111111]\n",
      "[ 0.22222222  0.5         0.44444444  0.125       0.11111111]\n",
      "[ 0.22222222  0.5         0.44444444  0.125       0.11111111]\n"
     ]
    }
   ],
   "source": [
    "# Q55: 求二维numpy数组每行最小值和最大值的比值\n",
    "a = np.random.randint(1, 10, (5, 5))\n",
    "print(a)\n",
    "ap = np.min(a, axis=1)/np.max(a, axis=1)\n",
    "print(ap)\n",
    "# 第二种方案，使用amin和amax函数\n",
    "ap = np.amin(a, axis=1)/np.amax(a, axis=1)\n",
    "print(ap)\n",
    "# 第三种方案，使用apply_along_axis函数\n",
    "ap = np.apply_along_axis(lambda x: min(x)/max(x), axis=1, arr=a)\n",
    "print(ap)"
   ]
  },
  {
   "cell_type": "code",
   "execution_count": 58,
   "metadata": {},
   "outputs": [
    {
     "name": "stdout",
     "output_type": "stream",
     "text": [
      "[0 3 4 0 1 3 1 2 0 2]\n",
      "[False False False  True False  True  True False  True  True]\n",
      "[False False False  True False  True  True False  True  True]\n"
     ]
    }
   ],
   "source": [
    "# Q56: 找出numpy数组中重复的项，第一次出现的项表示成False，重复出现的项表示成True\n",
    "a = np.random.randint(0, 5, 10)\n",
    "print(a)\n",
    "out = np.zeros_like(a, dtype=np.bool)\n",
    "b = np.sort(a)\n",
    "c = np.array([b[i]==b[i-1] for i in range(len(b))])\n",
    "out[np.argsort(a)]=c\n",
    "print(out)\n",
    "# 第二种方案，利用unique函数返回唯一值首次出现的序号\n",
    "out = np.ones_like(a, dtype=np.bool)\n",
    "uq_index = np.unique(a, return_index=True)[1]\n",
    "out[uq_index] = False\n",
    "print(out)"
   ]
  },
  {
   "cell_type": "code",
   "execution_count": 59,
   "metadata": {},
   "outputs": [
    {
     "name": "stdout",
     "output_type": "stream",
     "text": [
      "[[b'Iris-setosa', 3.4180000000000001], [b'Iris-versicolor', 2.7700000000000005], [b'Iris-virginica', 2.9740000000000002]]\n"
     ]
    }
   ],
   "source": [
    "# Q57: 求numpy数组按照某列分组后的平均值，如下的iris数据集按照species分组之后sepalwidth的平均值\n",
    "iris = np.genfromtxt(url, delimiter=',', dtype='object', \n",
    "                     names=('sepallength', 'sepalwidth', 'petallength', 'petalwidth', 'species'))\n",
    "r = [[spc, np.mean(iris[iris['species']==spc]['sepalwidth'].astype(np.float))]\n",
    "     for spc in np.unique(iris['species'])]\n",
    "print(r)"
   ]
  },
  {
   "cell_type": "code",
   "execution_count": 60,
   "metadata": {},
   "outputs": [
    {
     "name": "stdout",
     "output_type": "stream",
     "text": [
      "(303, 452, 3)\n"
     ]
    },
    {
     "data": {
      "image/png": "[encoded data removed]",
      "text/plain": [
       "<PIL.JpegImagePlugin.JpegImageFile image mode=RGB size=452x303 at 0x7FC3B34656A0>"
      ]
     },
     "execution_count": 60,
     "metadata": {},
     "output_type": "execute_result"
    }
   ],
   "source": [
    "# Q58: 将PIL图像转换为numpy数组\n",
    "URL = 'https://upload.wikimedia.org/wikipedia/commons/8/8b/Denali_Mt_McKinley.jpg'\n",
    "from PIL import Image\n",
    "from io import BytesIO\n",
    "import requests\n",
    "r = requests.get(URL)\n",
    "img = Image.open(BytesIO(r.content))\n",
    "img_array = np.asarray(img)\n",
    "print(img_array.shape)\n",
    "img"
   ]
  },
  {
   "cell_type": "code",
   "execution_count": 61,
   "metadata": {},
   "outputs": [
    {
     "name": "stdout",
     "output_type": "stream",
     "text": [
      "[ 1.  2.  3.  5.  6.  7.]\n"
     ]
    }
   ],
   "source": [
    "# Q59: 去掉numpy数组中所有的nan值\n",
    "a = np.array([1,2,3,np.nan,5,6,7,np.nan])\n",
    "print(a[~np.isnan(a)])"
   ]
  },
  {
   "cell_type": "code",
   "execution_count": 62,
   "metadata": {},
   "outputs": [
    {
     "name": "stdout",
     "output_type": "stream",
     "text": [
      "6.7082039325\n",
      "6.7082039325\n"
     ]
    }
   ],
   "source": [
    "# Q60: 计算两个numpy数组的欧几里得距离\n",
    "a = np.array([1,2,3,4,5])\n",
    "b = np.array([4,5,6,7,8])\n",
    "print(np.sqrt(np.sum((a-b)**2)))\n",
    "# 第二种方案，使用linalg线性代数算法集的L2范数\n",
    "from numpy.linalg import norm\n",
    "print(norm(a - b))"
   ]
  },
  {
   "cell_type": "code",
   "execution_count": 63,
   "metadata": {},
   "outputs": [
    {
     "name": "stdout",
     "output_type": "stream",
     "text": [
      "[2 5]\n",
      "[2 5]\n"
     ]
    }
   ],
   "source": [
    "# Q61: 找到numpy数组中的局部最大值位置\n",
    "a = np.array([1, 3, 7, 1, 2, 6, 0, 0])\n",
    "print(np.where(np.array([a[i-1 if i-1>0 else 0]<a[i]>a[i+1 if i+1<len(a) else -1] \n",
    "                   for i in range(len(a))]))[0])\n",
    "# 第二种方案，使用diff求导\n",
    "print(np.where(np.diff(np.sign(np.diff(a)))==-2)[0]+1)"
   ]
  },
  {
   "cell_type": "code",
   "execution_count": 64,
   "metadata": {},
   "outputs": [
    {
     "name": "stdout",
     "output_type": "stream",
     "text": [
      "[[2 2 2]\n",
      " [2 2 2]\n",
      " [2 2 2]]\n"
     ]
    }
   ],
   "source": [
    "# Q62: 将一个二维数组按行依次减去一个一维数组的值\n",
    "a_2d = np.array([[3,3,3],[4,4,4],[5,5,5]])\n",
    "b_1d = np.array([1,2,3])\n",
    "print(a_2d-b_1d[:,None])"
   ]
  },
  {
   "cell_type": "code",
   "execution_count": 65,
   "metadata": {},
   "outputs": [
    {
     "data": {
      "text/plain": [
       "8"
      ]
     },
     "execution_count": 65,
     "metadata": {},
     "output_type": "execute_result"
    }
   ],
   "source": [
    "# Q63: 找到数组中第5个出现的1\n",
    "x = np.array([1, 2, 1, 1, 3, 4, 3, 1, 1, 2, 1, 1, 2])\n",
    "np.where(x==1)[0][4]"
   ]
  },
  {
   "cell_type": "code",
   "execution_count": 66,
   "metadata": {},
   "outputs": [
    {
     "name": "stdout",
     "output_type": "stream",
     "text": [
      "2018-02-25 22:10:10\n",
      "2018-02-25 22:10:10\n"
     ]
    }
   ],
   "source": [
    "# Q64: 将numpy的datetime64类型转为datetime类型\n",
    "dt64 = np.datetime64('2018-02-25 22:10:10')\n",
    "import datetime\n",
    "print(dt64.tolist())\n",
    "# 第二种方案\n",
    "print(dt64.astype(datetime.datetime))"
   ]
  },
  {
   "cell_type": "code",
   "execution_count": 67,
   "metadata": {},
   "outputs": [
    {
     "name": "stdout",
     "output_type": "stream",
     "text": [
      "[6 7 3 3 9 2 2 8 7 4]\n",
      "[ 5.33333333  4.33333333  5.          4.66666667  4.33333333  4.\n",
      "  5.66666667  6.33333333]\n",
      "[ 5.33333333  4.33333333  5.          4.66666667  4.33333333  4.\n",
      "  5.66666667  6.33333333]\n"
     ]
    }
   ],
   "source": [
    "# Q65: 求数组的滑动窗口平均值，滑动窗口大小为3\n",
    "Z = np.random.randint(10, size=10)\n",
    "print(Z)\n",
    "print(np.array([np.mean(Z[i:i+3]) for i in range(len(Z)-2)]))\n",
    "# 第二种方案，使用convolve卷积函数计算\n",
    "print(np.convolve(Z, np.ones((3))/3, mode='valid'))"
   ]
  },
  {
   "cell_type": "code",
   "execution_count": 68,
   "metadata": {},
   "outputs": [
    {
     "name": "stdout",
     "output_type": "stream",
     "text": [
      "[ 5  8 11 14 17 20 23 26 29 32]\n"
     ]
    }
   ],
   "source": [
    "# Q66: 创建一个numpy数组，起始值为5，长度为10，步长为3\n",
    "print(np.arange(5, 5+10*3, 3))"
   ]
  },
  {
   "cell_type": "code",
   "execution_count": 69,
   "metadata": {},
   "outputs": [
    {
     "name": "stdout",
     "output_type": "stream",
     "text": [
      "['2018-02-01' '2018-02-04' '2018-02-07' '2018-02-10' '2018-02-13'\n",
      " '2018-02-16' '2018-02-19' '2018-02-22']\n",
      "['2018-02-01' '2018-02-02' '2018-02-03' '2018-02-04' '2018-02-05'\n",
      " '2018-02-06' '2018-02-07' '2018-02-08' '2018-02-09' '2018-02-10'\n",
      " '2018-02-11' '2018-02-12' '2018-02-13' '2018-02-14' '2018-02-15'\n",
      " '2018-02-16' '2018-02-17' '2018-02-18' '2018-02-19' '2018-02-20'\n",
      " '2018-02-21' '2018-02-22']\n"
     ]
    }
   ],
   "source": [
    "# Q67: 将一个日期numpy数组中间缺失的日期值补充完整\n",
    "dates = np.arange(np.datetime64('2018-02-01'), np.datetime64('2018-02-25'), 3)\n",
    "print(dates)\n",
    "print(np.arange(dates.min(), dates.max()+1))"
   ]
  },
  {
   "cell_type": "code",
   "execution_count": 70,
   "metadata": {},
   "outputs": [
    {
     "name": "stdout",
     "output_type": "stream",
     "text": [
      "[ 0  1  2  3  4  5  6  7  8  9 10 11 12 13 14]\n",
      "[[ 0  1  2  3]\n",
      " [ 2  3  4  5]\n",
      " [ 4  5  6  7]\n",
      " [ 6  7  8  9]\n",
      " [ 8  9 10 11]\n",
      " [10 11 12 13]]\n"
     ]
    }
   ],
   "source": [
    "# Q68: 将一个一维数组按照移动窗口和步长组合成一个二维数组，下面例子中窗口大小为4，步长为2 \n",
    "arr = np.arange(15)\n",
    "print(arr)\n",
    "print(np.array([arr[i:i+4] for i in range(0, len(arr)-4+1, 2)]))"
   ]
  },
  {
   "cell_type": "code",
   "execution_count": null,
   "metadata": {},
   "outputs": [],
   "source": [
    "# 等待网站更新"
   ]
  }
 ],
 "metadata": {
  "kernelspec": {
   "display_name": "Python 3",
   "language": "python",
   "name": "python3"
  },
  "language_info": {
   "codemirror_mode": {
    "name": "ipython",
    "version": 3
   },
   "file_extension": ".py",
   "mimetype": "text/x-python",
   "name": "python",
   "nbconvert_exporter": "python",
   "pygments_lexer": "ipython3",
   "version": "3.6.3"
  }
 },
 "nbformat": 4,
 "nbformat_minor": 2
}
