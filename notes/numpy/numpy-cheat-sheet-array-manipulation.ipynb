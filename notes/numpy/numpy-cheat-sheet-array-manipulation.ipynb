{
 "cells": [
  {
   "cell_type": "markdown",
   "metadata": {},
   "source": [
    "# numpy cheatsheet - array manipulation routines\n",
    "本文档包含绝大多数numpy操作数组的函数，但不包含ufunc，ufunc文档在另外的notebook中"
   ]
  },
  {
   "cell_type": "code",
   "execution_count": 1,
   "metadata": {},
   "outputs": [],
   "source": [
    "# 引入numpy和matplotlib内联\n",
    "import numpy as np\n",
    "%matplotlib inline"
   ]
  },
  {
   "cell_type": "markdown",
   "metadata": {},
   "source": [
    "## 总体参数说明\n",
    "- a/array_like: 可以使用__array__函数返回成数组任何对象，包括```list, tuple, list[list...], tuple[tuple...], list[tuple...], tuple[list...]```\n",
    "- v: 向量参数\n",
    "- shape: numpy数组的各维度长度的tuple\n",
    "- out: 代入的numpy数组作为输出\n",
    "- dtype: numpy数组类型\n",
    "- order: C顺序或Fortran顺序\n",
    "- subok: True返回ndarray的子类，False返回ndarray\n",
    "- axis: 操作的维度，第一个维度为0，以此类推\n",
    "- axes：操作维度的集合"
   ]
  },
  {
   "cell_type": "markdown",
   "metadata": {},
   "source": [
    "## 基本操作"
   ]
  },
  {
   "cell_type": "code",
   "execution_count": 2,
   "metadata": {},
   "outputs": [
    {
     "name": "stdout",
     "output_type": "stream",
     "text": [
      "[[ 1.  2.  3.]\n",
      " [ 4.  5.  6.]\n",
      " [ 7.  8.  9.]]\n",
      "[[ 0.  0.  0.]\n",
      " [ 0.  0.  6.]\n",
      " [ 7.  8.  9.]]\n"
     ]
    }
   ],
   "source": [
    "# copyto(dst, src [, casting, where])\n",
    "# dst - 目标的numpy数组\n",
    "# src - 源array_like参数\n",
    "# casting - 'no': 数据类型不做任何转换；'equiv': 仅允许字节顺序的转换；'safe': 仅允许能保留数据值的转换；\n",
    "#           'same_kind'（默认值）: 仅允许相同数据类型间的转换，如整数到整数；'unsafe': 允许任何转换\n",
    "# where - 一个boolean的数组，True的元素代表该位置的数据将会被拷贝到目标中\n",
    "# 将源数组数据拷贝到目标数组中，如果需要的话，广播方式将被采用\n",
    "python_list = [[1,2,3],[4,5,6],[7,8,9]]\n",
    "src = np.array(python_list)\n",
    "dst = np.zeros((3, 3))\n",
    "np.copyto(dst, src)\n",
    "print(dst)\n",
    "dst = np.zeros((3, 3))\n",
    "np.copyto(dst, src, where=src>5)\n",
    "print(dst)"
   ]
  },
  {
   "cell_type": "markdown",
   "metadata": {},
   "source": [
    "## 改变数组的形状"
   ]
  },
  {
   "cell_type": "code",
   "execution_count": 3,
   "metadata": {},
   "outputs": [
    {
     "name": "stdout",
     "output_type": "stream",
     "text": [
      "[[ 0  1  2  3]\n",
      " [ 4  5  6  7]\n",
      " [ 8  9 10 11]]\n"
     ]
    }
   ],
   "source": [
    "# reshape(a, shape [, order])\n",
    "# 将数组改变为shape形状，shape中的所有元素的乘积应该等于a.shape中所有元素的乘积\n",
    "arr = np.reshape(np.arange(12), (3, 4))\n",
    "print(arr)"
   ]
  },
  {
   "cell_type": "code",
   "execution_count": 4,
   "metadata": {},
   "outputs": [
    {
     "name": "stdout",
     "output_type": "stream",
     "text": [
      "[ 0  1  2  3  4  5  6  7  8  9 10 11]\n",
      "[ 0  1  2  3  4  5  6  7  8  9 10 11]\n"
     ]
    }
   ],
   "source": [
    "# ravel(a [, order])\n",
    "# ndarray.flatten([order])\n",
    "# 将a扁平化后变成一个一维向量数组，ravel尽量返回a的视图，特殊情况下才返回a的拷贝，flatten始终返回a的拷贝\n",
    "arr = np.ravel(np.arange(12).reshape(3, 4))\n",
    "print(arr)\n",
    "arr = np.arange(12).reshape(3, 4).flatten()\n",
    "print(arr)"
   ]
  },
  {
   "cell_type": "code",
   "execution_count": 5,
   "metadata": {},
   "outputs": [
    {
     "name": "stdout",
     "output_type": "stream",
     "text": [
      "5\n",
      "9\n"
     ]
    }
   ],
   "source": [
    "# ndarray.flat\n",
    "# 数组扁平化后的迭代器\n",
    "arr = np.arange(12).reshape(3, 4)\n",
    "print(arr.flat[5])\n",
    "print(arr.T.flat[5])"
   ]
  },
  {
   "cell_type": "markdown",
   "metadata": {},
   "source": [
    "## 矩阵转置类型操作"
   ]
  },
  {
   "cell_type": "code",
   "execution_count": 6,
   "metadata": {},
   "outputs": [
    {
     "name": "stdout",
     "output_type": "stream",
     "text": [
      "[[[ 0  1]\n",
      "  [ 2  3]\n",
      "  [ 4  5]]\n",
      "\n",
      " [[ 6  7]\n",
      "  [ 8  9]\n",
      "  [10 11]]]\n",
      "[[[ 0  1]\n",
      "  [ 6  7]]\n",
      "\n",
      " [[ 2  3]\n",
      "  [ 8  9]]\n",
      "\n",
      " [[ 4  5]\n",
      "  [10 11]]]\n",
      "[[[ 0  2  4]\n",
      "  [ 6  8 10]]\n",
      "\n",
      " [[ 1  3  5]\n",
      "  [ 7  9 11]]]\n"
     ]
    }
   ],
   "source": [
    "# moveaxis(a, source, destination)\n",
    "# source - int或int的tuple，源维度的序号（列表）\n",
    "# destination - int或int的tuple，目标维度的序号（列表）\n",
    "# 将数组中的维度移动到目标维度上\n",
    "arr = np.arange(12).reshape(2, 3, 2)\n",
    "print(arr)\n",
    "print(np.moveaxis(arr, 0, 1))\n",
    "print(np.moveaxis(arr, (0, 1), (1, 2)))"
   ]
  },
  {
   "cell_type": "code",
   "execution_count": 7,
   "metadata": {},
   "outputs": [
    {
     "name": "stdout",
     "output_type": "stream",
     "text": [
      "[[[ 0  1]\n",
      "  [ 2  3]\n",
      "  [ 4  5]]\n",
      "\n",
      " [[ 6  7]\n",
      "  [ 8  9]\n",
      "  [10 11]]]\n",
      "[[[ 0  6]\n",
      "  [ 2  8]\n",
      "  [ 4 10]]\n",
      "\n",
      " [[ 1  7]\n",
      "  [ 3  9]\n",
      "  [ 5 11]]]\n"
     ]
    }
   ],
   "source": [
    "# swapaxes(a, axis1, axis2)\n",
    "# axis1, axis2 - 用于交换位置的两个维度序号\n",
    "# 将数组a中的两个维度交换位置\n",
    "arr = np.arange(12).reshape(2, 3, 2)\n",
    "print(arr)\n",
    "print(np.swapaxes(arr, 0, 2))"
   ]
  },
  {
   "cell_type": "code",
   "execution_count": 8,
   "metadata": {},
   "outputs": [
    {
     "name": "stdout",
     "output_type": "stream",
     "text": [
      "[[1 3]\n",
      " [2 4]]\n",
      "[[[ 0  6]\n",
      "  [ 2  8]\n",
      "  [ 4 10]]\n",
      "\n",
      " [[ 1  7]\n",
      "  [ 3  9]\n",
      "  [ 5 11]]]\n"
     ]
    }
   ],
   "source": [
    "# transpose(a [, axes])\n",
    "# 获得数组的置换结果\n",
    "arr = np.array([[1,2],[3,4]])\n",
    "print(np.transpose(arr))\n",
    "arr = np.arange(12).reshape(2, 3, 2)\n",
    "print(np.transpose(arr, (-1, 1, 0)))"
   ]
  },
  {
   "cell_type": "code",
   "execution_count": 9,
   "metadata": {},
   "outputs": [
    {
     "name": "stdout",
     "output_type": "stream",
     "text": [
      "[[1 3]\n",
      " [2 4]]\n",
      "[[[ 0  6]\n",
      "  [ 2  8]\n",
      "  [ 4 10]]\n",
      "\n",
      " [[ 1  7]\n",
      "  [ 3  9]\n",
      "  [ 5 11]]]\n"
     ]
    }
   ],
   "source": [
    "# ndarray.T\n",
    "# 与self.transpose相同，除了当数组是一维时将会返回self自身\n",
    "arr = np.array([[1,2],[3,4]])\n",
    "print(arr.T)\n",
    "arr = np.arange(12).reshape(2, 3, 2)\n",
    "print(arr.T)"
   ]
  },
  {
   "cell_type": "markdown",
   "metadata": {},
   "source": [
    "## 修改数组的维度"
   ]
  },
  {
   "cell_type": "code",
   "execution_count": 10,
   "metadata": {},
   "outputs": [
    {
     "name": "stdout",
     "output_type": "stream",
     "text": [
      "[1]\n",
      "[[1 2]\n",
      " [3 4]]\n",
      "[array([1]), array([2, 3])]\n",
      "[[1]]\n",
      "[[1 2]\n",
      " [3 4]]\n",
      "[array([[1]]), array([[2, 3]])]\n",
      "[[[1]]]\n",
      "[[[1]\n",
      "  [2]]\n",
      "\n",
      " [[3]\n",
      "  [4]]]\n",
      "[array([[[1]]]), array([[[2],\n",
      "        [3]]])]\n"
     ]
    }
   ],
   "source": [
    "# atleast_1d(*arys)\n",
    "# atleast_2d(*arys)\n",
    "# atleast_3d(*arys)\n",
    "# arys - 输入的数据，如果是标量，将会转换为对应1/2/3维数组，如果输入的数组已经满足维度要求，则保留原结构\n",
    "# 将输入转换为至少一维的numpy数组\n",
    "arr = np.atleast_1d(1)\n",
    "print(arr)\n",
    "arr = np.atleast_1d([[1,2],[3,4]])\n",
    "print(arr)\n",
    "arr = np.atleast_1d(1, [2, 3])\n",
    "print(arr)\n",
    "arr = np.atleast_2d(1)\n",
    "print(arr)\n",
    "arr = np.atleast_2d([[1,2],[3,4]])\n",
    "print(arr)\n",
    "arr = np.atleast_2d(1, [2, 3])\n",
    "print(arr)\n",
    "arr = np.atleast_3d(1)\n",
    "print(arr)\n",
    "arr = np.atleast_3d([[1,2],[3,4]])\n",
    "print(arr)\n",
    "arr = np.atleast_3d(1, [2, 3])\n",
    "print(arr)"
   ]
  },
  {
   "cell_type": "code",
   "execution_count": 11,
   "metadata": {},
   "outputs": [
    {
     "name": "stdout",
     "output_type": "stream",
     "text": [
      "[[1 2 3]\n",
      " [1 2 3]\n",
      " [1 2 3]]\n",
      "[[[[ 0  1]\n",
      "   [ 2  3]\n",
      "   [ 4  5]]\n",
      "\n",
      "  [[ 6  7]\n",
      "   [ 8  9]\n",
      "   [10 11]]]\n",
      "\n",
      "\n",
      " [[[ 0  1]\n",
      "   [ 2  3]\n",
      "   [ 4  5]]\n",
      "\n",
      "  [[ 6  7]\n",
      "   [ 8  9]\n",
      "   [10 11]]]\n",
      "\n",
      "\n",
      " [[[ 0  1]\n",
      "   [ 2  3]\n",
      "   [ 4  5]]\n",
      "\n",
      "  [[ 6  7]\n",
      "   [ 8  9]\n",
      "   [10 11]]]]\n"
     ]
    }
   ],
   "source": [
    "# broadcast_to(a, shape [, subok])\n",
    "# 将a数组以numpy广播方式扩展到shape形状\n",
    "arr = np.array([1, 2, 3])\n",
    "print(np.broadcast_to(arr, (3, 3)))\n",
    "arr = np.arange(12).reshape(2, 3, 2)\n",
    "print(np.broadcast_to(arr, (3, 2, 3, 2)))"
   ]
  },
  {
   "cell_type": "code",
   "execution_count": 12,
   "metadata": {},
   "outputs": [
    {
     "name": "stdout",
     "output_type": "stream",
     "text": [
      "[array([[1, 2, 3],\n",
      "       [1, 2, 3],\n",
      "       [1, 2, 3]]), array([[1, 1, 1],\n",
      "       [2, 2, 2],\n",
      "       [3, 3, 3]])]\n",
      "[array([[[1, 2, 3],\n",
      "        [1, 2, 3],\n",
      "        [1, 2, 3]],\n",
      "\n",
      "       [[1, 2, 3],\n",
      "        [1, 2, 3],\n",
      "        [1, 2, 3]],\n",
      "\n",
      "       [[1, 2, 3],\n",
      "        [1, 2, 3],\n",
      "        [1, 2, 3]]]), array([[[1, 1, 1],\n",
      "        [2, 2, 2],\n",
      "        [3, 3, 3]],\n",
      "\n",
      "       [[1, 1, 1],\n",
      "        [2, 2, 2],\n",
      "        [3, 3, 3]],\n",
      "\n",
      "       [[1, 1, 1],\n",
      "        [2, 2, 2],\n",
      "        [3, 3, 3]]]), array([[[0, 0, 0],\n",
      "        [1, 1, 1],\n",
      "        [2, 2, 2]],\n",
      "\n",
      "       [[3, 3, 3],\n",
      "        [4, 4, 4],\n",
      "        [5, 5, 5]],\n",
      "\n",
      "       [[6, 6, 6],\n",
      "        [7, 7, 7],\n",
      "        [8, 8, 8]]])]\n"
     ]
    }
   ],
   "source": [
    "# broadcast_arrays(*arys [, subok])\n",
    "# arys - 用于进行广播扩展的数组\n",
    "# 将输入的多个数组进行广播扩展，返回一个非连续分配空间的视图\n",
    "arr1 = np.array([[1, 2, 3]])\n",
    "arr2 = np.array([[1], [2], [3]])\n",
    "print(np.broadcast_arrays(arr1, arr2))\n",
    "arr3 = np.arange(9).reshape(3, 3, 1)\n",
    "print(np.broadcast_arrays(arr1, arr2, arr3))"
   ]
  },
  {
   "cell_type": "code",
   "execution_count": 13,
   "metadata": {},
   "outputs": [
    {
     "name": "stdout",
     "output_type": "stream",
     "text": [
      "[[[1 2]\n",
      "  [3 4]]]\n",
      "[[[1 2]\n",
      "  [3 4]]]\n",
      "[[[1 2]\n",
      "  [3 4]]]\n",
      "[[[1 2]]\n",
      "\n",
      " [[3 4]]]\n",
      "[[[1 2]]\n",
      "\n",
      " [[3 4]]]\n"
     ]
    }
   ],
   "source": [
    "# expand_dims(a, axis)\n",
    "# 为数组a增加一个维度，维度的位置由axis参数设定，通常等同于a[...,np.newaxis,...]操作\n",
    "arr = np.array([[1,2],[3,4]])\n",
    "print(np.expand_dims(arr, axis=0))\n",
    "print(arr[np.newaxis,...])\n",
    "print(arr[None,...])\n",
    "print(np.expand_dims(arr, axis=1))\n",
    "print(arr[:,None,:])"
   ]
  },
  {
   "cell_type": "code",
   "execution_count": 14,
   "metadata": {},
   "outputs": [
    {
     "name": "stdout",
     "output_type": "stream",
     "text": [
      "[1 2 3]\n",
      "[[1]\n",
      " [2]\n",
      " [3]]\n",
      "[[1 2 3]]\n"
     ]
    }
   ],
   "source": [
    "# squeeze(a [, axis])\n",
    "# 减少数组的维度，被减少的维度必须长度为1，可以通过axis参数设置被减少的维度序号（列表）\n",
    "arr = np.array([[[1],[2],[3]]])\n",
    "print(np.squeeze(arr))\n",
    "print(np.squeeze(arr, axis=0))\n",
    "print(np.squeeze(arr, axis=2))"
   ]
  },
  {
   "cell_type": "markdown",
   "metadata": {},
   "source": [
    "## 合并数组"
   ]
  },
  {
   "cell_type": "code",
   "execution_count": 15,
   "metadata": {},
   "outputs": [
    {
     "name": "stdout",
     "output_type": "stream",
     "text": [
      "[1 2 3 4 5]\n",
      "[[[  0   1]\n",
      "  [  2   3]\n",
      "  [  4   5]\n",
      "  [100 101]\n",
      "  [102 103]]\n",
      "\n",
      " [[  6   7]\n",
      "  [  8   9]\n",
      "  [ 10  11]\n",
      "  [104 105]\n",
      "  [106 107]]]\n"
     ]
    }
   ],
   "source": [
    "# concatenate((a1, a2, ...) [, axis, out])\n",
    "# a1, a2, ... - 需要合并的数组sequence，这些数组必须在除axis维度外其他维度形状一致\n",
    "# 将多个数组合并成一个数组\n",
    "arr1 = np.array([1, 2, 3])\n",
    "arr2 = np.array([4, 5])\n",
    "print(np.concatenate((arr1, arr2)))\n",
    "arr1 = np.arange(12).reshape(2, 3, 2)\n",
    "arr2 = np.arange(100, 108).reshape(2, 2, 2)\n",
    "print(np.concatenate((arr1, arr2), axis=1))"
   ]
  },
  {
   "cell_type": "code",
   "execution_count": 16,
   "metadata": {},
   "outputs": [
    {
     "name": "stdout",
     "output_type": "stream",
     "text": [
      "[[1 2 3]\n",
      " [4 5 6]]\n",
      "[[[[  0 100]\n",
      "   [  1 101]]\n",
      "\n",
      "  [[  2 102]\n",
      "   [  3 103]]\n",
      "\n",
      "  [[  4 104]\n",
      "   [  5 105]]]\n",
      "\n",
      "\n",
      " [[[  6 106]\n",
      "   [  7 107]]\n",
      "\n",
      "  [[  8 108]\n",
      "   [  9 109]]\n",
      "\n",
      "  [[ 10 110]\n",
      "   [ 11 111]]]]\n"
     ]
    }
   ],
   "source": [
    "# stack((a1, a2, ...) [, axis, out])\n",
    "# a1, a2, ... - 需要叠放的数组sequence，这些数组必须具有相同的形状\n",
    "# 将多个数组叠放在一起，组成一个具有新的维度的数组\n",
    "arr1 = np.array([1, 2, 3])\n",
    "arr2 = np.array([4, 5, 6])\n",
    "print(np.stack((arr1, arr2)))\n",
    "arr1 = np.arange(12).reshape(2, 3, 2)\n",
    "arr2 = np.arange(100, 112).reshape(2, 3, 2)\n",
    "print(np.stack((arr1, arr2), axis=-1)) # 新的shape应该是(2, 3, 2, 2)"
   ]
  },
  {
   "cell_type": "code",
   "execution_count": 17,
   "metadata": {},
   "outputs": [
    {
     "name": "stdout",
     "output_type": "stream",
     "text": [
      "[[[1 4]\n",
      "  [2 5]\n",
      "  [3 6]]]\n",
      "[1 2 3 4 5 6]\n",
      "[[1 2 3]\n",
      " [4 5 6]]\n",
      "[[[  0   1 100 101]\n",
      "  [  2   3 102 103]\n",
      "  [  4   5 104 105]]\n",
      "\n",
      " [[  6   7 106 107]\n",
      "  [  8   9 108 109]\n",
      "  [ 10  11 110 111]]]\n",
      "[[[  0   1]\n",
      "  [  2   3]\n",
      "  [  4   5]\n",
      "  [100 101]\n",
      "  [102 103]\n",
      "  [104 105]]\n",
      "\n",
      " [[  6   7]\n",
      "  [  8   9]\n",
      "  [ 10  11]\n",
      "  [106 107]\n",
      "  [108 109]\n",
      "  [110 111]]]\n",
      "[[[  0   1]\n",
      "  [  2   3]\n",
      "  [  4   5]]\n",
      "\n",
      " [[  6   7]\n",
      "  [  8   9]\n",
      "  [ 10  11]]\n",
      "\n",
      " [[100 101]\n",
      "  [102 103]\n",
      "  [104 105]]\n",
      "\n",
      " [[106 107]\n",
      "  [108 109]\n",
      "  [110 111]]]\n"
     ]
    }
   ],
   "source": [
    "# dstack((a1, a2, ...)) - 将数组叠放在第三维度上\n",
    "# hstack((a1, a2, ...)) - 将数组叠放在第二维度上，如果数组都是一维向量，则叠放在第一维度上\n",
    "# vstack((a1, a2, ...)) - 将数组叠放在第一维度上\n",
    "# 所有的数组除了在要叠放的维度上可以长度不一致外，其他维度必须形状相同\n",
    "arr1 = np.array([1, 2, 3])\n",
    "arr2 = np.array([4, 5, 6])\n",
    "print(np.dstack((arr1, arr2)))\n",
    "print(np.hstack((arr1, arr2)))\n",
    "print(np.vstack((arr1, arr2)))\n",
    "arr1 = np.arange(12).reshape(2, 3, 2)\n",
    "arr2 = np.arange(100, 112).reshape(2, 3, 2)\n",
    "print(np.dstack((arr1, arr2)))\n",
    "print(np.hstack((arr1, arr2)))\n",
    "print(np.vstack((arr1, arr2)))"
   ]
  },
  {
   "cell_type": "code",
   "execution_count": 18,
   "metadata": {},
   "outputs": [
    {
     "name": "stdout",
     "output_type": "stream",
     "text": [
      "[[ 0.  0.  0.  1.  2.  3.]\n",
      " [ 4.  5.  6.  0.  0.  0.]]\n"
     ]
    }
   ],
   "source": [
    "# block(arys)\n",
    "# arys - array_like组成的list，表示需要合并的各部分区块\n",
    "# 使用list定义的区块合并一个新的numpy数组\n",
    "arr1 = np.array([1, 2, 3])\n",
    "arr2 = np.array([4, 5, 6])\n",
    "print(np.block([[np.zeros(3), arr1], [arr2, np.zeros(3)]]))"
   ]
  },
  {
   "cell_type": "markdown",
   "metadata": {},
   "source": [
    "## 分割数组"
   ]
  },
  {
   "cell_type": "code",
   "execution_count": 19,
   "metadata": {},
   "outputs": [
    {
     "name": "stdout",
     "output_type": "stream",
     "text": [
      "[array([[0, 1],\n",
      "       [6, 7]]), array([[2, 3],\n",
      "       [8, 9]]), array([[ 4,  5],\n",
      "       [10, 11]])]\n",
      "[array([[0],\n",
      "       [6]]), array([[1, 2],\n",
      "       [7, 8]]), array([[ 3,  4,  5],\n",
      "       [ 9, 10, 11]])]\n",
      "[array([0, 1, 2]), array([3, 4, 5]), array([6, 7]), array([8, 9]), array([10, 11])]\n"
     ]
    }
   ],
   "source": [
    "# split(a, indices_or_sections [, axis])\n",
    "# array_split(a, indices_or_sections [, axis])\n",
    "# indices_or_sections - sections，该参数为整数，表示数组应该沿axis维度平均分为多少份，\n",
    "#                                 如果不能平均分割，split会抛出错误，array_split会尽量平均分割\n",
    "#                       indices, 该参数为一维有序数组，表示数组沿axis维度分割的分割点\n",
    "arr = np.arange(12).reshape(2, 6)\n",
    "print(np.split(arr, 3, axis=1))\n",
    "print(np.split(arr, [1, 3], axis=1))\n",
    "print(np.array_split(arr.ravel(), 5))"
   ]
  },
  {
   "cell_type": "code",
   "execution_count": 20,
   "metadata": {},
   "outputs": [
    {
     "name": "stdout",
     "output_type": "stream",
     "text": [
      "[array([[[ 0,  1],\n",
      "        [ 6,  7],\n",
      "        [12, 13]],\n",
      "\n",
      "       [[18, 19],\n",
      "        [24, 25],\n",
      "        [30, 31]]]), array([[[ 2,  3],\n",
      "        [ 8,  9],\n",
      "        [14, 15]],\n",
      "\n",
      "       [[20, 21],\n",
      "        [26, 27],\n",
      "        [32, 33]]]), array([[[ 4,  5],\n",
      "        [10, 11],\n",
      "        [16, 17]],\n",
      "\n",
      "       [[22, 23],\n",
      "        [28, 29],\n",
      "        [34, 35]]])]\n",
      "[array([[[ 0],\n",
      "        [ 6],\n",
      "        [12]],\n",
      "\n",
      "       [[18],\n",
      "        [24],\n",
      "        [30]]]), array([[[ 1,  2],\n",
      "        [ 7,  8],\n",
      "        [13, 14]],\n",
      "\n",
      "       [[19, 20],\n",
      "        [25, 26],\n",
      "        [31, 32]]]), array([[[ 3,  4,  5],\n",
      "        [ 9, 10, 11],\n",
      "        [15, 16, 17]],\n",
      "\n",
      "       [[21, 22, 23],\n",
      "        [27, 28, 29],\n",
      "        [33, 34, 35]]])]\n",
      "[array([[[ 0,  1,  2,  3,  4,  5]],\n",
      "\n",
      "       [[18, 19, 20, 21, 22, 23]]]), array([[[ 6,  7,  8,  9, 10, 11]],\n",
      "\n",
      "       [[24, 25, 26, 27, 28, 29]]]), array([[[12, 13, 14, 15, 16, 17]],\n",
      "\n",
      "       [[30, 31, 32, 33, 34, 35]]])]\n",
      "[array([[[ 0,  1,  2,  3,  4,  5],\n",
      "        [ 6,  7,  8,  9, 10, 11],\n",
      "        [12, 13, 14, 15, 16, 17]]]), array([[[18, 19, 20, 21, 22, 23],\n",
      "        [24, 25, 26, 27, 28, 29],\n",
      "        [30, 31, 32, 33, 34, 35]]])]\n"
     ]
    }
   ],
   "source": [
    "# dsplit(a, indices_or_sections) 将数组沿第三维度分割\n",
    "# hsplit(a, indices_or_sections) 将数组沿第二维度分割\n",
    "# vsplit(a, indices_or_sections) 将数组沿第一维度分割\n",
    "arr = np.arange(36).reshape(2, 3, 6)\n",
    "print(np.dsplit(arr, 3))\n",
    "print(np.dsplit(arr, [1, 3]))\n",
    "print(np.hsplit(arr, 3))\n",
    "print(np.vsplit(arr, 2))"
   ]
  },
  {
   "cell_type": "markdown",
   "metadata": {},
   "source": [
    "## 重复铺放数组"
   ]
  },
  {
   "cell_type": "code",
   "execution_count": 21,
   "metadata": {},
   "outputs": [
    {
     "name": "stdout",
     "output_type": "stream",
     "text": [
      "[[[ 0  1  0  1]\n",
      "  [ 2  3  2  3]\n",
      "  [ 4  5  4  5]]\n",
      "\n",
      " [[ 6  7  6  7]\n",
      "  [ 8  9  8  9]\n",
      "  [10 11 10 11]]]\n",
      "[[[ 0  1]\n",
      "  [ 0  1]\n",
      "  [ 2  3]\n",
      "  [ 2  3]\n",
      "  [ 4  5]\n",
      "  [ 4  5]]\n",
      "\n",
      " [[ 6  7]\n",
      "  [ 6  7]\n",
      "  [ 8  9]\n",
      "  [ 8  9]\n",
      "  [10 11]\n",
      "  [10 11]]]\n"
     ]
    }
   ],
   "source": [
    "# tile(a, reps)\n",
    "# repeat(a, reps [, axis])\n",
    "# reps - 重复次数\n",
    "# tile重复放置reps次a数组形成一个新数组；repeat重复a数组中沿axis维度的元素reps次形成新数组\n",
    "arr = np.arange(12).reshape(2, 3, 2)\n",
    "print(np.tile(arr, 2)) # shape为(2, 3, 4)\n",
    "print(np.repeat(arr, 2, axis=1)) # shape为(2, 6, 2)"
   ]
  },
  {
   "cell_type": "markdown",
   "metadata": {},
   "source": [
    "## 增加和删除元素"
   ]
  },
  {
   "cell_type": "code",
   "execution_count": 22,
   "metadata": {},
   "outputs": [
    {
     "name": "stdout",
     "output_type": "stream",
     "text": [
      "[[[ 2  3]\n",
      "  [ 4  5]]\n",
      "\n",
      " [[ 8  9]\n",
      "  [10 11]]]\n",
      "[]\n",
      "[ 0  2  4  6  7  8  9 10 11]\n"
     ]
    }
   ],
   "source": [
    "# delete(a, indices [, axis])\n",
    "# indices - 在维度axis上需要删除的序号，序号列表或slice语法\n",
    "# axis - 维度序号，默认值为None，表示将a变为一维向量后进行删除\n",
    "# 将数组a在axis维度上删除某些维度向量，返回一个新的数组\n",
    "arr = np.arange(12).reshape(2, 3, 2)\n",
    "print(np.delete(arr, 0, axis=1))\n",
    "print(np.delete(arr, np.s_[:3], axis=1))\n",
    "print(np.delete(arr, [1,3,5]))"
   ]
  },
  {
   "cell_type": "code",
   "execution_count": 23,
   "metadata": {},
   "outputs": [
    {
     "name": "stdout",
     "output_type": "stream",
     "text": [
      "[[1 0 2]\n",
      " [3 0 4]]\n",
      "[[[ 0 10  1]\n",
      "  [ 2 11  3]\n",
      "  [ 4 12  5]]\n",
      "\n",
      " [[ 6 13  7]\n",
      "  [ 8 14  9]\n",
      "  [10 15 11]]]\n",
      "[[[ 0  1 10]\n",
      "  [ 2  3 11]\n",
      "  [ 4  5 12]]\n",
      "\n",
      " [[ 6  7 13]\n",
      "  [ 8  9 14]\n",
      "  [10 11 15]]]\n"
     ]
    }
   ],
   "source": [
    "# insert(a, indices, values [, axis])\n",
    "# append(a, values [, axis])\n",
    "# values - 增加的值向量或标量（广播方式）\n",
    "# insert在数组a的axis维度上indices前插入值，append在数组的axis维度末尾增加值，值由values指定\n",
    "arr = np.array([[1,2],[3,4]])\n",
    "print(np.insert(arr, 1, 0, axis=1))\n",
    "arr = np.arange(12).reshape(2, 3, 2)\n",
    "print(np.insert(arr, 1, [[10, 11, 12], [13, 14, 15]], axis=2))\n",
    "print(np.append(arr, np.arange(10, 16).reshape(2,3,1) , axis=2))"
   ]
  },
  {
   "cell_type": "code",
   "execution_count": 24,
   "metadata": {},
   "outputs": [
    {
     "name": "stdout",
     "output_type": "stream",
     "text": [
      "[[0 1 2 3 4]\n",
      " [5 0 1 2 3]\n",
      " [4 5 0 1 2]]\n",
      "[[0 1 2 3 4]\n",
      " [5 0 0 0 0]\n",
      " [0 0 0 0 0]]\n"
     ]
    }
   ],
   "source": [
    "# resize(arr, shape)\n",
    "# ndarray.resize(shape)\n",
    "# 将arr数组改成新的形状shape，如果shape比现在arr的形状大，resize会重复arr的数据进行填充，ndarray.resize会填充0\n",
    "# resize返回新的数组，ndarray.resize不返回值，直接修改参数数组\n",
    "arr = np.array([[0,1,2],[3,4,5]])\n",
    "print(np.resize(arr, (3, 5)))\n",
    "arr.resize((3, 5))\n",
    "print(arr)"
   ]
  },
  {
   "cell_type": "code",
   "execution_count": 25,
   "metadata": {},
   "outputs": [
    {
     "name": "stdout",
     "output_type": "stream",
     "text": [
      "[1 2 3 0 0 1]\n",
      "[1 2 3 0 0 1 0 0]\n"
     ]
    }
   ],
   "source": [
    "# trim_zeros(arr [, trim])\n",
    "# trim - 'fb': 去除一维数组的前导和后导0值；'f': 去除前导0；'b': 去除后导0\n",
    "# 去除一维数组的前导或后导0值\n",
    "arr = np.array([0,0,0,1,2,3,0,0,1,0,0])\n",
    "print(np.trim_zeros(arr))\n",
    "print(np.trim_zeros(arr, trim='f'))"
   ]
  },
  {
   "cell_type": "code",
   "execution_count": 26,
   "metadata": {},
   "outputs": [
    {
     "name": "stdout",
     "output_type": "stream",
     "text": [
      "[[0 0 1 1 1]\n",
      " [1 0 0 0 0]]\n",
      "[[0 0 1]\n",
      " [0 1 0]]\n",
      "[[2 2 2 2 1]\n",
      " [0 0 4 3 4]\n",
      " [2 0 3 1 2]]\n",
      "[0 1 2 3 4]\n",
      "[5 4 0 8 7]\n",
      "[2 2 2 2 1 0 0 4 3 4 2 0 3 1 2]\n",
      "[3 2 6 2 2]\n",
      "[[2 2 2 2 1]\n",
      " [0 0 4 3 4]\n",
      " [2 0 3 1 2]]\n"
     ]
    }
   ],
   "source": [
    "# unique(arr [, return_index, return_inverse, return_counts, axis])\n",
    "# return_index - False（默认值）: 不返回arr中第一个出现唯一值的序号\n",
    "# return_inverse - False（默认值）: 不返回可用于重构arr数组的序号\n",
    "# return_count - False（默认值）: 不返回唯一值的个数\n",
    "# axis - 求唯一值的维度，None（默认值）: 先将数组arr扁平化成一维数组再求唯一值\n",
    "# 获得数组中的唯一值，返回值包括唯一值数组、第一次出现的序号数组、用于重构数组的序号数组和唯一值个数\n",
    "np.random.seed(100)\n",
    "arr = np.random.randint(0, 2, (2, 5))\n",
    "print(arr)\n",
    "print(np.unique(arr, axis=1))\n",
    "arr = np.random.randint(0, 5, (3, 5))\n",
    "print(arr)\n",
    "uniqs, indices, inverses, count = np.unique(arr, return_index=True, return_inverse=True, return_counts=True)\n",
    "print(uniqs)\n",
    "print(indices)\n",
    "print(inverses)\n",
    "print(count)\n",
    "print(uniqs[inverses].reshape(arr.shape)) # 重构原数组"
   ]
  },
  {
   "cell_type": "markdown",
   "metadata": {},
   "source": [
    "## 重新排列元素"
   ]
  },
  {
   "cell_type": "code",
   "execution_count": 27,
   "metadata": {},
   "outputs": [
    {
     "name": "stdout",
     "output_type": "stream",
     "text": [
      "[[[ 0  1]\n",
      "  [ 2  3]\n",
      "  [ 4  5]]\n",
      "\n",
      " [[ 6  7]\n",
      "  [ 8  9]\n",
      "  [10 11]]]\n",
      "[[[ 4  5]\n",
      "  [ 2  3]\n",
      "  [ 0  1]]\n",
      "\n",
      " [[10 11]\n",
      "  [ 8  9]\n",
      "  [ 6  7]]]\n",
      "[[[ 4  5]\n",
      "  [ 2  3]\n",
      "  [ 0  1]]\n",
      "\n",
      " [[10 11]\n",
      "  [ 8  9]\n",
      "  [ 6  7]]]\n"
     ]
    }
   ],
   "source": [
    "# flip(arr, axis)\n",
    "# 将数组沿axis维度倒序输出，得到一个新的数组\n",
    "arr = np.arange(12).reshape(2, 3, 2)\n",
    "print(arr)\n",
    "print(np.flip(arr, 1))\n",
    "print(arr[:,::-1,:]) # 使用slicing语法获得相同效果"
   ]
  },
  {
   "cell_type": "code",
   "execution_count": 28,
   "metadata": {},
   "outputs": [
    {
     "name": "stdout",
     "output_type": "stream",
     "text": [
      "[[3 4 4]\n",
      " [1 3 4]\n",
      " [4 3 3]]\n",
      "[[4 4 3]\n",
      " [4 3 1]\n",
      " [3 3 4]]\n",
      "[[4 4 3]\n",
      " [4 3 1]\n",
      " [3 3 4]]\n",
      "[[4 3 3]\n",
      " [1 3 4]\n",
      " [3 4 4]]\n",
      "[[4 3 3]\n",
      " [1 3 4]\n",
      " [3 4 4]]\n"
     ]
    }
   ],
   "source": [
    "# fliplr(arr)\n",
    "# flipud(arr)\n",
    "# 将一个二维矩阵的行（fliplr）或列（flipud）的顺序倒序，返回一个新数组\n",
    "arr = np.random.randint(0, 5, (3, 3))\n",
    "print(arr)\n",
    "print(np.fliplr(arr))\n",
    "print(arr[:,::-1]) # 使用slicing语法实现fliplr\n",
    "print(np.flipud(arr))\n",
    "print(arr[::-1,:]) # 使用slicing语法实现flipud"
   ]
  },
  {
   "cell_type": "code",
   "execution_count": 29,
   "metadata": {},
   "outputs": [
    {
     "name": "stdout",
     "output_type": "stream",
     "text": [
      "[[[ 0  1]\n",
      "  [ 2  3]\n",
      "  [ 4  5]]\n",
      "\n",
      " [[ 6  7]\n",
      "  [ 8  9]\n",
      "  [10 11]]]\n",
      "[[[ 0  1  2]\n",
      "  [ 3  4  5]]\n",
      "\n",
      " [[ 6  7  8]\n",
      "  [ 9 10 11]]]\n"
     ]
    }
   ],
   "source": [
    "# reshape(arr, shape [, order])\n",
    "# ndarray.reshape(shape [, order])\n",
    "# 将数组转换为新的形状shape，新的形状必须与旧的形状元素个数一致\n",
    "arr = np.arange(12)\n",
    "print(np.reshape(arr, (2,3,2)))\n",
    "print(np.reshape(arr, (-1,2,3))) # 使用-1做某个维度的参数"
   ]
  },
  {
   "cell_type": "code",
   "execution_count": 30,
   "metadata": {},
   "outputs": [
    {
     "name": "stdout",
     "output_type": "stream",
     "text": [
      "[[[ 0  1]\n",
      "  [ 2  3]\n",
      "  [ 4  5]]\n",
      "\n",
      " [[ 6  7]\n",
      "  [ 8  9]\n",
      "  [10 11]]]\n",
      "[[[10 11]\n",
      "  [ 0  1]\n",
      "  [ 2  3]]\n",
      "\n",
      " [[ 4  5]\n",
      "  [ 6  7]\n",
      "  [ 8  9]]]\n",
      "[[[ 1  0]\n",
      "  [ 3  2]\n",
      "  [ 5  4]]\n",
      "\n",
      " [[ 7  6]\n",
      "  [ 9  8]\n",
      "  [11 10]]]\n"
     ]
    }
   ],
   "source": [
    "# roll(arr, shift [, axis])\n",
    "# shift - 滚动的次数\n",
    "# axis - None（默认值）: 将数组扁平化后再进行roll操作，然后变回数组的原始形状\n",
    "# 循环滚动数组中沿axis方向的元素\n",
    "arr = np.arange(12).reshape(2, 3, 2)\n",
    "print(arr)\n",
    "print(np.roll(arr, 2))\n",
    "print(np.roll(arr, 1, axis=2))"
   ]
  },
  {
   "cell_type": "code",
   "execution_count": 33,
   "metadata": {},
   "outputs": [
    {
     "name": "stdout",
     "output_type": "stream",
     "text": [
      "[[0 1 2]\n",
      " [3 4 5]]\n",
      "[[2 5]\n",
      " [1 4]\n",
      " [0 3]]\n",
      "[[3 0]\n",
      " [4 1]\n",
      " [5 2]]\n",
      "[[[ 0  1]\n",
      "  [ 2  3]\n",
      "  [ 4  5]]\n",
      "\n",
      " [[ 6  7]\n",
      "  [ 8  9]\n",
      "  [10 11]]]\n",
      "[[[ 1  3  5]\n",
      "  [ 0  2  4]]\n",
      "\n",
      " [[ 7  9 11]\n",
      "  [ 6  8 10]]]\n",
      "[[[ 7  6]\n",
      "  [ 9  8]\n",
      "  [11 10]]\n",
      "\n",
      " [[ 1  0]\n",
      "  [ 3  2]\n",
      "  [ 5  4]]]\n"
     ]
    }
   ],
   "source": [
    "# rot90(arr [, k, axes])\n",
    "# k - 转动次数\n",
    "# axes - 定义转动平面的维度数组，默认值(0, 1)\n",
    "# 将二维或以上数组沿axes定义的平面转动90度，转动方向从第一个维度到第二个维度\n",
    "arr = np.arange(6).reshape(2, 3)\n",
    "print(arr)\n",
    "print(np.rot90(arr, k=1))\n",
    "print(np.rot90(arr, k=-1))\n",
    "arr = np.arange(12).reshape(2, 3, 2)\n",
    "print(arr)\n",
    "print(np.rot90(arr, 1, axes=(1,2)))\n",
    "print(np.rot90(arr, 2, axes=(0,2)))"
   ]
  },
  {
   "cell_type": "code",
   "execution_count": null,
   "metadata": {},
   "outputs": [],
   "source": []
  }
 ],
 "metadata": {
  "kernelspec": {
   "display_name": "Python 3",
   "language": "python",
   "name": "python3"
  },
  "language_info": {
   "codemirror_mode": {
    "name": "ipython",
    "version": 3
   },
   "file_extension": ".py",
   "mimetype": "text/x-python",
   "name": "python",
   "nbconvert_exporter": "python",
   "pygments_lexer": "ipython3",
   "version": "3.6.3"
  }
 },
 "nbformat": 4,
 "nbformat_minor": 2
}
