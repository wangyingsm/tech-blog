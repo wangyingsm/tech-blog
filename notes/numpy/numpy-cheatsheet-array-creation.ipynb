{
 "cells": [
  {
   "cell_type": "markdown",
   "metadata": {},
   "source": [
    "# numpy cheatsheet - array creation routines\n",
    "本文档包含绝大多数numpy创建数组的函数，但不包含ufunc，ufunc文档在另外的notebook中"
   ]
  },
  {
   "cell_type": "markdown",
   "metadata": {},
   "source": [
    "## 总体参数说明\n",
    "- a/array_like: 可以使用__array__函数返回成数组任何对象，包括```list, tuple, list[list...], tuple[tuple...], list[tuple...], tuple[list...]```\n",
    "- v: 向量参数\n",
    "- shape: numpy数组的各维度长度的tuple\n",
    "- out: 代入的numpy数组作为输出\n",
    "- dtype: numpy数组类型\n",
    "- order: C顺序或Fortran顺序\n",
    "- subok: True返回ndarray的子类，False返回ndarray\n"
   ]
  },
  {
   "cell_type": "code",
   "execution_count": 1,
   "metadata": {},
   "outputs": [],
   "source": [
    "# 导入numpy和matplotlib内联到jupyter中\n",
    "import numpy as np\n",
    "%matplotlib inline"
   ]
  },
  {
   "cell_type": "markdown",
   "metadata": {},
   "source": [
    "## 数组创建函数\n",
    "### 壹和零"
   ]
  },
  {
   "cell_type": "code",
   "execution_count": 2,
   "metadata": {},
   "outputs": [
    {
     "name": "stdout",
     "output_type": "stream",
     "text": [
      "[[-120  -21  -13  103   -6]\n",
      " [ 127    0    0  -16   25]\n",
      " [  91    3    0    0    0]]\n",
      "[[  6.95216878e-310   6.95216878e-310   0.00000000e+000   0.00000000e+000\n",
      "    0.00000000e+000]\n",
      " [  0.00000000e+000   0.00000000e+000   0.00000000e+000   0.00000000e+000\n",
      "    0.00000000e+000]\n",
      " [  0.00000000e+000   0.00000000e+000   0.00000000e+000   0.00000000e+000\n",
      "    6.32404027e-322]]\n"
     ]
    }
   ],
   "source": [
    "# empty(shape [, dtype, order]) \n",
    "# empty_like(a [, dtype, order, subok])\n",
    "# 创建一个数组，不初始化数组元素的数据\n",
    "arr = np.empty((3, 5), dtype=np.int8)\n",
    "print(arr)\n",
    "b = np.empty_like(arr, dtype=np.float)\n",
    "print(b)"
   ]
  },
  {
   "cell_type": "code",
   "execution_count": 3,
   "metadata": {},
   "outputs": [
    {
     "name": "stdout",
     "output_type": "stream",
     "text": [
      "[[ 1.  0.  0.  0.  0.]\n",
      " [ 0.  1.  0.  0.  0.]\n",
      " [ 0.  0.  1.  0.  0.]\n",
      " [ 0.  0.  0.  1.  0.]\n",
      " [ 0.  0.  0.  0.  1.]]\n",
      "[[0 0 0 0]\n",
      " [1 0 0 0]\n",
      " [0 1 0 0]\n",
      " [0 0 1 0]\n",
      " [0 0 0 1]]\n"
     ]
    }
   ],
   "source": [
    "# eye(N [, M, k, dtype, order])\n",
    "# N - 矩阵的行数\n",
    "# M - 矩阵的列数，默认N\n",
    "# k - 对角线位置，默认0，正数对角线偏上，负数对角线偏下\n",
    "# 创建一个对角矩阵\n",
    "arr = np.eye(5)\n",
    "print(arr)\n",
    "arr = np.eye(5, 4, -1, dtype=np.int)\n",
    "print(arr)"
   ]
  },
  {
   "cell_type": "code",
   "execution_count": 4,
   "metadata": {},
   "outputs": [
    {
     "name": "stdout",
     "output_type": "stream",
     "text": [
      "[[ 1.  0.  0.  0.  0.]\n",
      " [ 0.  1.  0.  0.  0.]\n",
      " [ 0.  0.  1.  0.  0.]\n",
      " [ 0.  0.  0.  1.  0.]\n",
      " [ 0.  0.  0.  0.  1.]]\n",
      "[[1 0 0 0 0]\n",
      " [0 1 0 0 0]\n",
      " [0 0 1 0 0]\n",
      " [0 0 0 1 0]\n",
      " [0 0 0 0 1]]\n"
     ]
    }
   ],
   "source": [
    "# identity(N [, dtype])\n",
    "# N - 矩阵行和列的长度\n",
    "# 创建一个单位矩阵\n",
    "v = np.identity(5)\n",
    "print(v)\n",
    "v = np.identity(5, dtype=np.int)\n",
    "print(v)"
   ]
  },
  {
   "cell_type": "code",
   "execution_count": 5,
   "metadata": {},
   "outputs": [
    {
     "name": "stdout",
     "output_type": "stream",
     "text": [
      "[[ 1.  1.  1.  1.  1.]\n",
      " [ 1.  1.  1.  1.  1.]\n",
      " [ 1.  1.  1.  1.  1.]]\n",
      "[[1 1 1 1 1]\n",
      " [1 1 1 1 1]\n",
      " [1 1 1 1 1]]\n"
     ]
    }
   ],
   "source": [
    "# ones(shape [, dtype, order])\n",
    "# ones_like(a [, dtype, order, subok])\n",
    "# 创建一个全部为1的数组\n",
    "arr = np.ones((3, 5))\n",
    "print(arr)\n",
    "arr = np.ones_like(arr, dtype=np.int)\n",
    "print(arr)"
   ]
  },
  {
   "cell_type": "code",
   "execution_count": 6,
   "metadata": {},
   "outputs": [
    {
     "name": "stdout",
     "output_type": "stream",
     "text": [
      "[[ 0.  0.  0.  0.  0.]\n",
      " [ 0.  0.  0.  0.  0.]\n",
      " [ 0.  0.  0.  0.  0.]]\n",
      "[[0 0 0 0 0]\n",
      " [0 0 0 0 0]\n",
      " [0 0 0 0 0]]\n"
     ]
    }
   ],
   "source": [
    "# zeros(shape [, dtype, order])\n",
    "# zeros_like(a [, dtype, order, subok])\n",
    "# 创建一个全部为0的数组\n",
    "arr = np.zeros((3, 5))\n",
    "print(arr)\n",
    "arr = np.zeros_like(arr, dtype=np.int)\n",
    "print(arr)"
   ]
  },
  {
   "cell_type": "code",
   "execution_count": 7,
   "metadata": {},
   "outputs": [
    {
     "name": "stdout",
     "output_type": "stream",
     "text": [
      "[[ 100.  100.  100.  100.  100.]\n",
      " [ 100.  100.  100.  100.  100.]\n",
      " [ 100.  100.  100.  100.  100.]]\n",
      "[[99 99 99 99 99]\n",
      " [99 99 99 99 99]\n",
      " [99 99 99 99 99]]\n"
     ]
    }
   ],
   "source": [
    "# full(shape, value [, dtype, order])\n",
    "# full_like(a, value [, dtype, order, subok])\n",
    "# value - 填充数据使用的元素值\n",
    "# 创建一个全部元素都为value的数据\n",
    "arr = np.full((3, 5), 100.)\n",
    "print(arr)\n",
    "arr = np.full_like(arr, 99., dtype=np.int)\n",
    "print(arr)"
   ]
  },
  {
   "cell_type": "markdown",
   "metadata": {},
   "source": [
    "### 从已存在的数据中导入"
   ]
  },
  {
   "cell_type": "code",
   "execution_count": 8,
   "metadata": {},
   "outputs": [
    {
     "name": "stdout",
     "output_type": "stream",
     "text": [
      "[[1 2]\n",
      " [3 4]]\n",
      "[[1, 2], [3, 4]]\n",
      "[[100   2]\n",
      " [  3   4]]\n",
      "(1, 2, 2)\n",
      "(2, 2, 1)\n"
     ]
    }
   ],
   "source": [
    "# array(object [, dtype, copy, order, subok, ndmin])\n",
    "# object - 任何具有__array__函数并返回成一个数组的Python对象\n",
    "# copy - 默认True，函数返回该数组的一份拷贝，False，函数返回的仅为数组的一个视图\n",
    "# ndmin - 返回的数组至少需要的维度值，缺少的维度将使用1填充\n",
    "# 从已有的可生成数组的对象中创建一个numpy数组\n",
    "python_list = [[1, 2], [3, 4]]\n",
    "arr = np.array(python_list)\n",
    "print(arr)\n",
    "arr[0, 0] = 100\n",
    "print(python_list)\n",
    "print(arr)\n",
    "# 注意ndmin会将缺少的维度加到最前面\n",
    "arr = np.array(python_list, ndmin=3)\n",
    "print(arr.shape)\n",
    "# 如果需要后面加入缺少的维度，使用reshape\n",
    "arr = np.array(python_list)\n",
    "b = arr.reshape(arr.shape + (1,))\n",
    "print(b.shape)"
   ]
  },
  {
   "cell_type": "code",
   "execution_count": 9,
   "metadata": {},
   "outputs": [
    {
     "name": "stdout",
     "output_type": "stream",
     "text": [
      "[[1 2]\n",
      " [3 4]]\n",
      "<class 'numpy.ndarray'>\n",
      "<class 'numpy.matrixlib.defmatrix.matrix'>\n",
      "[[1 2]\n",
      " [3 4]]\n",
      "<class 'numpy.ndarray'>\n"
     ]
    }
   ],
   "source": [
    "# asarray(a [, dtype, order])\n",
    "# asanyarray(a [, dtype, order])\n",
    "# ascontiguousarray(a [, dtype])\n",
    "# asfortranarray(a, [, dtype])\n",
    "# 将一个array_like转换成numpy数组，asarray转换为array对象，asanyarray转换为array对象或子对象（如果a本身就是numpy array的子对象）\n",
    "# ascontiguousarray按照C语言顺序转换为numpy数组，asfortranarray按照Fortran语言顺序转换为numpy数组\n",
    "arr = np.asarray(python_list)\n",
    "print(arr)\n",
    "mt = np.matrix(python_list)\n",
    "arr = np.asarray(mt)\n",
    "print(type(arr))\n",
    "arr = np.asanyarray(mt)\n",
    "print(type(arr))\n",
    "arr = np.ascontiguousarray(mt)\n",
    "print(arr)\n",
    "print(type(arr))"
   ]
  },
  {
   "cell_type": "code",
   "execution_count": 10,
   "metadata": {},
   "outputs": [
    {
     "name": "stdout",
     "output_type": "stream",
     "text": [
      "[[1 2]\n",
      " [3 4]]\n",
      "<class 'numpy.matrixlib.defmatrix.matrix'>\n"
     ]
    }
   ],
   "source": [
    "# asmatrix(a [, dtype])\n",
    "# 将一个array_like转换为numpy matrix对象\n",
    "mt = np.asmatrix(python_list)\n",
    "print(mt)\n",
    "print(type(mt))"
   ]
  },
  {
   "cell_type": "code",
   "execution_count": 11,
   "metadata": {},
   "outputs": [
    {
     "name": "stdout",
     "output_type": "stream",
     "text": [
      "[[1 2]\n",
      " [3 4]]\n"
     ]
    }
   ],
   "source": [
    "# copy(a [, order])\n",
    "# 返回一个array_like的拷贝\n",
    "arr = np.copy(python_list)\n",
    "print(arr)"
   ]
  },
  {
   "cell_type": "code",
   "execution_count": 12,
   "metadata": {},
   "outputs": [
    {
     "name": "stdout",
     "output_type": "stream",
     "text": [
      "[51 52 53 54 55]\n",
      "[3 4 5 6 7]\n",
      "[3 4 5 6 7]\n"
     ]
    }
   ],
   "source": [
    "# frombuffer(buffer [, dtype, order, count, offset])\n",
    "# buffer - 一个带有buffer接口的对象\n",
    "# count - buffer中用来转换为numpy数组的缓冲长度\n",
    "# offset - buffer的偏移量，即开始转换的位置\n",
    "numbers = b'0123456789'\n",
    "arr = np.frombuffer(numbers, dtype=np.int8, count=5, offset=3)\n",
    "print(arr)\n",
    "binstr = b'\\x00\\x01\\x02\\x03\\x04\\x05\\x06\\x07\\x08\\x09'\n",
    "arr = np.frombuffer(binstr, dtype=np.int8, count=5, offset=3)\n",
    "print(arr)\n",
    "binary = 0x10203040506070809.to_bytes(10, 'big')\n",
    "arr = np.frombuffer(binary, dtype=np.int8, count=5, offset=3)\n",
    "print(arr)"
   ]
  },
  {
   "cell_type": "code",
   "execution_count": 13,
   "metadata": {},
   "outputs": [
    {
     "name": "stdout",
     "output_type": "stream",
     "text": [
      "[1 2 3 4]\n"
     ]
    }
   ],
   "source": [
    "# fromfile(file [, dtype, count, sep])\n",
    "# file - 转换numpy数组的文件\n",
    "# count - 文件中读取用于转换的数据个数，默认-1代表全部\n",
    "# sep - 文本文件中的数据分隔符号，如果为''，文件将以二进制方式读取\n",
    "# 将文件中的数据转换为一个numpy数组\n",
    "arr = np.array(python_list)\n",
    "import os\n",
    "filename = '/tmp/tmpnumpyfile'\n",
    "arr.tofile(filename)\n",
    "print(np.fromfile(filename, dtype=np.int))\n",
    "os.remove(filename)"
   ]
  },
  {
   "cell_type": "code",
   "execution_count": 14,
   "metadata": {},
   "outputs": [
    {
     "name": "stdout",
     "output_type": "stream",
     "text": [
      "[[ 0  1  2  3  4]\n",
      " [10 11 12 13 14]\n",
      " [20 21 22 23 24]\n",
      " [30 31 32 33 34]\n",
      " [40 41 42 43 44]]\n"
     ]
    }
   ],
   "source": [
    "# fromfunction(func, shape, [, dtype, **kwargs])\n",
    "# func - 用于创建numpy数组的函数，至少包含两个参数：行号i与列号j\n",
    "# kwargs - 额外传递给func的参数\n",
    "# 使用函数创建一个numpy数组\n",
    "arr = np.fromfunction(lambda i, j: 10*i+j, (5, 5), dtype=np.int)\n",
    "print(arr)"
   ]
  },
  {
   "cell_type": "code",
   "execution_count": 15,
   "metadata": {},
   "outputs": [
    {
     "name": "stdout",
     "output_type": "stream",
     "text": [
      "[ 0  1  1  2  3  5  8 13 21 34]\n"
     ]
    }
   ],
   "source": [
    "# fromiter(iter, dtype [, count])\n",
    "# iter - 一个python iterable迭代器\n",
    "# count - 从迭代器中取出的数据个数\n",
    "# 将一个迭代器的数据转换为一个一维numpy数组\n",
    "def fibonaci():\n",
    "    start, step = 0, 1\n",
    "    yield start\n",
    "    yield step\n",
    "    while True:\n",
    "        yield start + step\n",
    "        start, step = step, start + step\n",
    "arr = np.fromiter(fibonaci(), dtype=np.int, count=10)\n",
    "print(arr)"
   ]
  },
  {
   "cell_type": "code",
   "execution_count": 16,
   "metadata": {},
   "outputs": [
    {
     "name": "stdout",
     "output_type": "stream",
     "text": [
      "[1 2 3 4]\n",
      "[  1.00000000e+000   9.88131292e-324   1.48219694e-323   1.97626258e-323]\n"
     ]
    }
   ],
   "source": [
    "# fromstring(string [, dtype, count, sep])\n",
    "# string - 用来转换numpy数组的字符串\n",
    "# count - 转换的数据个数，默认-1表示全部\n",
    "# sep - 字符串数据的分隔符号，默认''\n",
    "# 将一个字符串数据转换为一维numpy数组\n",
    "arr = np.fromstring('1 2 3 4', dtype=np.int, sep=' ')\n",
    "print(arr)\n",
    "arr = np.fromstring('''1, 2\n",
    "3, 4,  5''', sep=' ', count=4)\n",
    "print(arr)"
   ]
  },
  {
   "cell_type": "code",
   "execution_count": 17,
   "metadata": {},
   "outputs": [
    {
     "name": "stdout",
     "output_type": "stream",
     "text": [
      "[[1 2]\n",
      " [3 4]]\n",
      "[(b'Jack', b'M', 15,  85.5       ) (b'Mary', b'F', 21,  51.20000076)]\n"
     ]
    }
   ],
   "source": [
    "# loadtxt(file [, dtype, comments, delimiter, converters, skiprows, usecols, unpack, ndmin, encoding])\n",
    "# file - 读取数据的文本文件\n",
    "# comments - 读取时忽略的行注释符号，默认'#'\n",
    "# delimiter - 读取文本文件行的分隔符号，默认空白字符（任意数量）\n",
    "# converters - 用于转换每一列数据的函数dict，如{0: lambda x: float(x or 0)}\n",
    "# skiprows - 文件起始跳过读取的行数，默认0\n",
    "# usecols - 需要读取的列tuple，默认None代表全部\n",
    "# ndmin - 转换后numpy数组的最少维度数量，可选值0,1,2\n",
    "# encoding - 文本文件的编码，默认bytes\n",
    "# 读取文本文件并将其创建成一个numpy数组\n",
    "from io import StringIO\n",
    "strfile = StringIO('1 2\\n3 4')\n",
    "arr = np.loadtxt(strfile, dtype=np.int, delimiter=' ')\n",
    "print(arr)\n",
    "strfile = StringIO('''name,gender,age,height,weight,email\n",
    "Jack,M,15,171,85.5,jack@msn.com\n",
    "Mary,F,21,166,51.2,mary@yahoo.com''')\n",
    "arr = np.loadtxt(strfile, dtype={'names':('name','gender','age','weight'),\n",
    "                                'formats':('S10','S1','i1','f4')},\n",
    "                skiprows=1, usecols=(0,1,2,4), delimiter=',')\n",
    "print(arr)"
   ]
  },
  {
   "cell_type": "code",
   "execution_count": 18,
   "metadata": {},
   "outputs": [
    {
     "data": {
      "text/plain": [
       "array([(b'Jack', b'M', 15, 171,  85.5       , b'jack@msn.com'),\n",
       "       (b'Mary', b'F', 21, 166,  51.20000076, b'mary@yahoo.com')],\n",
       "      dtype=[('NAME', 'S10'), ('GENDER', 'S1'), ('AGE', 'i1'), ('HEIGHT', '<i2'), ('WEIGHT', '<f4'), ('EMAIL', 'S50')])"
      ]
     },
     "execution_count": 18,
     "metadata": {},
     "output_type": "execute_result"
    }
   ],
   "source": [
    "# genfromtxt(fname [, dtype, comments, delimiter, converters, skip_header, skip_footer, missing_values, \n",
    "#            filling_values, usecols, names, excludelist, deletechars, replace_space, autostrip,\n",
    "#            case_sensitive, default_fmt, unpack, usemask, loose, invalid_raise, max_rows, encoding])\n",
    "# 所有与loadtxt函数同名的参数代表一致的意义\n",
    "# fname - 文件、文件名、pathlib.Path对象(URI)、字符串list、生成器generator都可以被接受\n",
    "# skip_header - 文件头忽略的行数，默认0\n",
    "# skip_footer - 文件结尾忽略的行数，默认0\n",
    "# missing_values - 一个字符串的set，包含所有表示缺失值的字符串，默认None\n",
    "# filling_values - 一个set，包含所有缺失值所对应的默认值，默认None\n",
    "# names - True: 使用文件头跳过之后的首行作为numpy数组的的列名称；None（默认值）：使用dtype里面设置的名称，或默认名称；\n",
    "#         字符串：使用逗号分隔的字符串作为numpy数组的列名称；字符串序列：使用序列中的字符串作为numpy数组的列名称\n",
    "# excludelist - 需要去除的名称字符串序列，默认None\n",
    "# deletechars - 名称中需要删除的字符串，默认None\n",
    "# replace_space - 名称中如果含有空白，使用该参数替代，默认'_'\n",
    "# autostrip - 是否自动去除前后导空白符号，默认False\n",
    "# case_sensitive - True: 名称大小写敏感；False或'upper': 名称转为大写；'lower': 名称转为小写\n",
    "# default_fmt: 默认名称的格式，默认'f%i'，即'f1','f2'...\n",
    "# usemask: 是否返回一个masked array，默认False\n",
    "# loose: True(默认值): 当发现错误的数据时，不要抛出错误（异常）\n",
    "# invalid_raise: True（默认值）: 当某行列数不一致时，抛出错误（异常）\n",
    "# max_rows: 读取文件进行转换的最大行数，默认值None代表全部\n",
    "from io import BytesIO\n",
    "strfile = BytesIO(b'''name,gender,age,height,weight,email\n",
    "Jack,M,15,171,85.5,jack@msn.com\n",
    "Mary,F,21,166,51.2,mary@yahoo.com''')\n",
    "arr = np.genfromtxt(strfile, dtype=('S10','S1','i1','i2','f4','S50'), \n",
    "                    names=True, \n",
    "                    delimiter=',', case_sensitive=False)\n",
    "arr"
   ]
  },
  {
   "cell_type": "markdown",
   "metadata": {},
   "source": [
    "### 使用范围创建数组"
   ]
  },
  {
   "cell_type": "code",
   "execution_count": 19,
   "metadata": {},
   "outputs": [
    {
     "name": "stdout",
     "output_type": "stream",
     "text": [
      "[0 1 2 3 4 5 6 7 8 9]\n",
      "['2017-01-01' '2017-01-08' '2017-01-15' '2017-01-22' '2017-01-29']\n"
     ]
    }
   ],
   "source": [
    "# arange([start, ] stop [, step, dtype])\n",
    "# start - 范围开始值，默认0\n",
    "# stop - 范围结束值，不包含\n",
    "# step - 步长值，默认1\n",
    "# 使用范围创建一个numpy数组\n",
    "arr = np.arange(10)\n",
    "print(arr)\n",
    "arr = np.arange(np.datetime64('2017-01-01'), np.datetime64('2017-01-31'), 7, dtype='datetime64')\n",
    "print(arr)"
   ]
  },
  {
   "cell_type": "code",
   "execution_count": 20,
   "metadata": {},
   "outputs": [
    {
     "name": "stdout",
     "output_type": "stream",
     "text": [
      "[-10.  -8.  -6.  -4.  -2.   0.   2.   4.   6.   8.  10.]\n",
      "[  1.   4.   7.  10.  13.  16.  19.  22.  25.  28.]\n",
      "3.0\n"
     ]
    }
   ],
   "source": [
    "# linspace(start, stop [, num, endpoint, retstep, dtype])\n",
    "# start - 范围开始值\n",
    "# stop - 范围结束值\n",
    "# num - 分割的点数量，默认50\n",
    "# endpoint - True（默认值）: 包含结束值\n",
    "# retstep - 是否返回步长值，如果True，第二个返回值为步长值，默认False\n",
    "# 使用范围平均分割创建numpy数组\n",
    "arr = np.linspace(-10, 10, num=11)\n",
    "print(arr)\n",
    "arr, step = np.linspace(1, 31, num=10, endpoint=False, retstep=True, dtype='f8')\n",
    "print(arr)\n",
    "print(step)"
   ]
  },
  {
   "cell_type": "code",
   "execution_count": 21,
   "metadata": {},
   "outputs": [
    {
     "name": "stdout",
     "output_type": "stream",
     "text": [
      "[  1.00000000e-10   1.00000000e-08   1.00000000e-06   1.00000000e-04\n",
      "   1.00000000e-02   1.00000000e+00   1.00000000e+02   1.00000000e+04\n",
      "   1.00000000e+06   1.00000000e+08   1.00000000e+10]\n",
      "[  2.71828183e+00   5.45981500e+01   1.09663316e+03   2.20264658e+04\n",
      "   4.42413392e+05   8.88611052e+06   1.78482301e+08   3.58491285e+09\n",
      "   7.20048993e+10   1.44625706e+12]\n"
     ]
    }
   ],
   "source": [
    "# logspace(start, stop [, num, endpoint, base, dtype])\n",
    "# 同名参数与linspace意义一致\n",
    "# base - log空间的底\n",
    "# 使用log空间分割创建numpy数组\n",
    "arr = np.logspace(-10, 10, num=11)\n",
    "print(arr)\n",
    "arr = np.logspace(1, 31, num=10, endpoint=False, base=np.e, dtype='f8')\n",
    "print(arr)"
   ]
  },
  {
   "cell_type": "code",
   "execution_count": 22,
   "metadata": {},
   "outputs": [
    {
     "name": "stdout",
     "output_type": "stream",
     "text": [
      "[    1.    10.   100.  1000.]\n",
      "[-256. -128.  -64.  -32.  -16.   -8.   -4.   -2.]\n"
     ]
    }
   ],
   "source": [
    "# geomspace(start, stop [, num, endpoint, dtype])\n",
    "# start - 指定范围起始值，但与logspace不同，该值无需使用base ** start计算得到\n",
    "# end - 指定范围结束值，但与logspace不同，该值无需使用base ** stop计算得到\n",
    "arr = np.geomspace(1, 1000, num=4)\n",
    "print(arr)\n",
    "arr = np.geomspace(-256, -1, num=8, endpoint=False, dtype='f4')\n",
    "print(arr)"
   ]
  },
  {
   "cell_type": "code",
   "execution_count": 23,
   "metadata": {},
   "outputs": [
    {
     "name": "stdout",
     "output_type": "stream",
     "text": [
      "[[-1.  -0.8 -0.6 -0.4 -0.2  0.   0.2  0.4  0.6  0.8  1. ]\n",
      " [-1.  -0.8 -0.6 -0.4 -0.2  0.   0.2  0.4  0.6  0.8  1. ]\n",
      " [-1.  -0.8 -0.6 -0.4 -0.2  0.   0.2  0.4  0.6  0.8  1. ]\n",
      " [-1.  -0.8 -0.6 -0.4 -0.2  0.   0.2  0.4  0.6  0.8  1. ]\n",
      " [-1.  -0.8 -0.6 -0.4 -0.2  0.   0.2  0.4  0.6  0.8  1. ]]\n",
      "[[-2. -2. -2. -2. -2. -2. -2. -2. -2. -2. -2.]\n",
      " [-1. -1. -1. -1. -1. -1. -1. -1. -1. -1. -1.]\n",
      " [ 0.  0.  0.  0.  0.  0.  0.  0.  0.  0.  0.]\n",
      " [ 1.  1.  1.  1.  1.  1.  1.  1.  1.  1.  1.]\n",
      " [ 2.  2.  2.  2.  2.  2.  2.  2.  2.  2.  2.]]\n"
     ]
    },
    {
     "data": {
      "image/png": "[encoded data removed]",
      "text/plain": [
       "<matplotlib.figure.Figure at 0x7ffa3b7207f0>"
      ]
     },
     "metadata": {},
     "output_type": "display_data"
    }
   ],
   "source": [
    "# meshgrid(*xn, **kwargs)\n",
    "# 使用xn向量族生成n维空间的网格。\n",
    "x = np.linspace(-1, 1, num=11) #共11个值\n",
    "y = np.linspace(-2, 2, num=5) #共5个值\n",
    "xx, yy = np.meshgrid(x, y) # xx和yy都是一个5*11的矩阵，其中x向量填充xx的行，y向量填充yy的列\n",
    "print(xx)\n",
    "print(yy)\n",
    "x = np.arange(-5, 5, 0.1)\n",
    "y = np.arange(-5, 5, 0.1)\n",
    "xx, yy = np.meshgrid(x, y)\n",
    "z = np.sin(xx**2 + yy**2)/(xx**2+yy**2)\n",
    "import matplotlib.pyplot as plt\n",
    "plt.contourf(x, y, z)\n",
    "plt.show()"
   ]
  },
  {
   "cell_type": "markdown",
   "metadata": {},
   "source": [
    "### 创建矩阵"
   ]
  },
  {
   "cell_type": "code",
   "execution_count": 24,
   "metadata": {},
   "outputs": [
    {
     "name": "stdout",
     "output_type": "stream",
     "text": [
      "[[1 0 0 0]\n",
      " [0 2 0 0]\n",
      " [0 0 3 0]\n",
      " [0 0 0 4]]\n",
      "[[0 0 0 0 0]\n",
      " [1 0 0 0 0]\n",
      " [0 2 0 0 0]\n",
      " [0 0 3 0 0]\n",
      " [0 0 0 4 0]]\n"
     ]
    }
   ],
   "source": [
    "# diag(v [, k])\n",
    "# k - 对角线处于矩阵的位置，0（默认值）：主对角线位置；正数：主对角线上方；负数：主对角线下方\n",
    "# 使用向量创建一个对角矩阵\n",
    "arr = np.diag([1, 2, 3, 4])\n",
    "print(arr)\n",
    "arr = np.diag([1, 2, 3, 4], k=-1)\n",
    "print(arr)"
   ]
  },
  {
   "cell_type": "code",
   "execution_count": 25,
   "metadata": {},
   "outputs": [
    {
     "name": "stdout",
     "output_type": "stream",
     "text": [
      "[[1 0 0 0]\n",
      " [0 2 0 0]\n",
      " [0 0 3 0]\n",
      " [0 0 0 4]]\n",
      "[[0 0 0 0 0]\n",
      " [1 0 0 0 0]\n",
      " [0 2 0 0 0]\n",
      " [0 0 3 0 0]\n",
      " [0 0 0 4 0]]\n"
     ]
    }
   ],
   "source": [
    "# diagflat(a [, k])\n",
    "# 将a扁平化后变成向量，然后作为对角线向量创建一个对角矩阵\n",
    "arr = np.diagflat([[1, 2], [3, 4]])\n",
    "print(arr)\n",
    "arr = np.diagflat([[1, 2], [3, 4]], k=-1)\n",
    "print(arr)"
   ]
  },
  {
   "cell_type": "code",
   "execution_count": 26,
   "metadata": {},
   "outputs": [
    {
     "name": "stdout",
     "output_type": "stream",
     "text": [
      "[[ 0.  0.  0.  0.  0.]\n",
      " [ 1.  0.  0.  0.  0.]\n",
      " [ 1.  1.  0.  0.  0.]\n",
      " [ 1.  1.  1.  0.  0.]\n",
      " [ 1.  1.  1.  1.  0.]]\n",
      "[[1 1 0]\n",
      " [1 1 1]\n",
      " [1 1 1]\n",
      " [1 1 1]\n",
      " [1 1 1]]\n"
     ]
    }
   ],
   "source": [
    "# tri(N [, M, k, dtype])\n",
    "# N - 矩阵的行数\n",
    "# M - 矩阵的列数\n",
    "# 创建一个对角线位置及以下位置都是1，其他元素都是0的三角矩阵\n",
    "arr = np.tri(5, k=-1)\n",
    "print(arr)\n",
    "arr = np.tri(5, 3, k=1, dtype='i8')\n",
    "print(arr)"
   ]
  },
  {
   "cell_type": "code",
   "execution_count": 27,
   "metadata": {},
   "outputs": [
    {
     "name": "stdout",
     "output_type": "stream",
     "text": [
      "[[1 0 0]\n",
      " [4 5 0]\n",
      " [7 8 9]]\n",
      "[[0 0 0]\n",
      " [4 0 0]\n",
      " [7 8 0]]\n",
      "[[1 2 3]\n",
      " [0 5 6]\n",
      " [0 0 9]]\n",
      "[[1 2 3]\n",
      " [4 5 6]\n",
      " [0 8 9]]\n"
     ]
    }
   ],
   "source": [
    "# tril(a [, k])\n",
    "# 创建a的拷贝，将a对角线位置k以上位置的元素全部变为0\n",
    "# triu(a [, k])\n",
    "# 创建a的拷贝，将a对角线位置k以下位置的元素全部变为0\n",
    "arr = np.array([[1,2,3],[4,5,6],[7,8,9]])\n",
    "print(np.tril(arr))\n",
    "print(np.tril(arr, -1))\n",
    "print(np.triu(arr))\n",
    "print(np.triu(arr, -1))"
   ]
  },
  {
   "cell_type": "code",
   "execution_count": 28,
   "metadata": {},
   "outputs": [
    {
     "name": "stdout",
     "output_type": "stream",
     "text": [
      "[[  1   1   1   1]\n",
      " [ 27   9   3   1]\n",
      " [343  49   7   1]\n",
      " [729  81   9   1]]\n",
      "[[ 1  1  1]\n",
      " [ 9  3  1]\n",
      " [49  7  1]\n",
      " [81  9  1]]\n",
      "[[  1   1   1   1]\n",
      " [  1   3   9  27]\n",
      " [  1   7  49 343]\n",
      " [  1   9  81 729]]\n",
      "4608.0\n",
      "4608\n"
     ]
    }
   ],
   "source": [
    "# vander(v [, N, increasing])\n",
    "# N - 生成的范德蒙矩阵的列数，默认值为None，表示矩阵是一个行列都为len(v)的方阵\n",
    "# increasing - False（默认值）: 生成的范德蒙矩阵列从左到右是降序的；True: 升序\n",
    "v = np.array([1, 3, 7, 9])\n",
    "arr = np.vander(v)\n",
    "print(arr)\n",
    "arr = np.vander(v, 3)\n",
    "print(arr)\n",
    "arr = np.vander(v, increasing=True)\n",
    "print(arr)\n",
    "# 范德蒙矩阵的行列式是生成向量各元素之间差的连乘乘积\n",
    "print(np.linalg.det(arr))\n",
    "print(np.multiply.reduce([v[i]-v[j] for i in range(len(v)) for j in range(i+1, len(v))]))"
   ]
  },
  {
   "cell_type": "code",
   "execution_count": null,
   "metadata": {},
   "outputs": [],
   "source": []
  }
 ],
 "metadata": {
  "kernelspec": {
   "display_name": "Python 3",
   "language": "python",
   "name": "python3"
  },
  "language_info": {
   "codemirror_mode": {
    "name": "ipython",
    "version": 3
   },
   "file_extension": ".py",
   "mimetype": "text/x-python",
   "name": "python",
   "nbconvert_exporter": "python",
   "pygments_lexer": "ipython3",
   "version": "3.6.3"
  }
 },
 "nbformat": 4,
 "nbformat_minor": 2
}
