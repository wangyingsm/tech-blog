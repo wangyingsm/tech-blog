{
 "cells": [
  {
   "cell_type": "markdown",
   "metadata": {},
   "source": [
    "# numpy cheat sheet - Linear algebra & Discrete Fourier Transform"
   ]
  },
  {
   "cell_type": "markdown",
   "metadata": {},
   "source": [
    "## 总体参数说明\n",
    "- a/array_like: 可以使用__array__函数返回成数组任何对象，包括```list, tuple, list[list...], tuple[tuple...], list[tuple...], tuple[list...]```\n",
    "- v: 向量参数\n",
    "- shape: numpy数组的各维度长度的tuple\n",
    "- out: 代入的numpy数组作为输出\n",
    "- dtype: numpy数组类型\n",
    "- order: C顺序或Fortran顺序\n",
    "- subok: True返回ndarray的子类，False返回ndarray\n",
    "- axis: 操作的维度，第一个维度为0，以此类推\n",
    "- axes：操作维度的集合"
   ]
  },
  {
   "cell_type": "code",
   "execution_count": 1,
   "metadata": {},
   "outputs": [],
   "source": [
    "# 引入numpy和matplotlib内联\n",
    "import numpy as np\n",
    "%matplotlib inline"
   ]
  },
  {
   "cell_type": "markdown",
   "metadata": {},
   "source": [
    "## 线性代数"
   ]
  },
  {
   "cell_type": "code",
   "execution_count": 2,
   "metadata": {},
   "outputs": [],
   "source": [
    "# 引入线性代数库\n",
    "import numpy.linalg as la"
   ]
  },
  {
   "cell_type": "markdown",
   "metadata": {},
   "source": [
    "### 矩阵和向量乘积"
   ]
  },
  {
   "cell_type": "code",
   "execution_count": 3,
   "metadata": {},
   "outputs": [
    {
     "name": "stdout",
     "output_type": "stream",
     "text": [
      "70\n",
      "[[23 29]\n",
      " [68 92]]\n",
      "[[23 29]\n",
      " [68 92]]\n",
      "[[23 29]\n",
      " [68 92]]\n",
      "[[ 0  2  4]\n",
      " [ 6  8 10]]\n",
      "[[ 0  2  4]\n",
      " [ 6  8 10]]\n",
      "[[ 0  2  4]\n",
      " [ 6  8 10]]\n",
      "[2 2]\n",
      "[[[ 10  13]\n",
      "  [ 28  31]]\n",
      "\n",
      " [[ 28  40]\n",
      "  [100 112]]]\n"
     ]
    }
   ],
   "source": [
    "# dot(arr1, arr2 [, out])\n",
    "# 计算两个数组的矢量乘积，点积\n",
    "# 如果两个数组是1维向量，计算两个向量的内积\n",
    "# 如果两个数组是2维矩阵，计算矩阵点积，但更推荐使用matmul或者@运算\n",
    "# 如果其中一个数组是标量，计算按元素的标量乘积，但更推荐使用multiply或者*运算\n",
    "# 如果arr1是一个n维张量，arr2是一个1维向量，计算arr1最后一个维度和b的内积和\n",
    "# 如果arr1是一个n维张量，arr2是一个m维张量，计算arr1最后一个维度和arr2倒数第二个维度的内积和\n",
    "arr1 = np.arange(5)\n",
    "arr2 = np.array([1,3,5,7,9])\n",
    "print(np.dot(arr1, arr2)) # 两个向量的内积\n",
    "arr1 = np.arange(6).reshape(2, 3)\n",
    "arr2 = np.array([[1,3],[5,7],[9,11]])\n",
    "print(np.dot(arr1, arr2)) # 两个矩阵的点积\n",
    "print(np.matmul(arr1, arr2))\n",
    "print(arr1@arr2)\n",
    "print(np.dot(arr1, 2)) # 矢量和标量的乘积\n",
    "print(np.multiply(arr1, 2))\n",
    "print(arr1*2)\n",
    "arr2 = np.array([-1, 0, 1])\n",
    "print(np.dot(arr1, arr2)) # 张量和向量的点积\n",
    "arr2 = np.arange(12).reshape(2, 3, 2)\n",
    "print(np.dot(arr1, arr2)) # 张量和张量的点积"
   ]
  },
  {
   "cell_type": "code",
   "execution_count": 4,
   "metadata": {},
   "outputs": [
    {
     "name": "stdout",
     "output_type": "stream",
     "text": [
      "[ 4272 12304 20336 28368]\n",
      "[ 4272 12304 20336 28368]\n"
     ]
    }
   ],
   "source": [
    "# linalg.multi_dot(arrs)\n",
    "# 链式计算多个数组的点积，该函数会自动选择最快的运算顺序\n",
    "arr1 = np.arange(16).reshape(4, 4)\n",
    "arr2 = np.arange(12).reshape(4, 3)\n",
    "arr3 = np.arange(6).reshape(3, 2)\n",
    "arr4 = np.arange(4).reshape(2, 2)\n",
    "arr5 = np.array([1, 2])\n",
    "print(la.multi_dot((arr1, arr2, arr3, arr4, arr5)))\n",
    "print(arr1@arr2@arr3@arr4@arr5)"
   ]
  },
  {
   "cell_type": "code",
   "execution_count": 5,
   "metadata": {},
   "outputs": [
    {
     "name": "stdout",
     "output_type": "stream",
     "text": [
      "46.7 µs ± 2.94 µs per loop (mean ± std. dev. of 7 runs, 10000 loops each)\n"
     ]
    }
   ],
   "source": [
    "# 比较dot和@运算的性能，为什么推荐用@运算\n",
    "% timeit la.multi_dot((arr1, arr2, arr3, arr4, arr5))"
   ]
  },
  {
   "cell_type": "code",
   "execution_count": 6,
   "metadata": {},
   "outputs": [
    {
     "name": "stdout",
     "output_type": "stream",
     "text": [
      "5.92 µs ± 45.1 ns per loop (mean ± std. dev. of 7 runs, 100000 loops each)\n"
     ]
    }
   ],
   "source": [
    "% timeit arr1@arr2@arr3@arr4@arr5"
   ]
  },
  {
   "cell_type": "code",
   "execution_count": 7,
   "metadata": {},
   "outputs": [
    {
     "name": "stdout",
     "output_type": "stream",
     "text": [
      "(-18+68j)\n",
      "(70-8j)\n",
      "(70-8j)\n",
      "(-18+68j)\n"
     ]
    }
   ],
   "source": [
    "# vdot(arr1, arr2)\n",
    "# inner(arr1, arr2)\n",
    "# 计算两个向量的内积（点积），基本与dot行为一致，vdot是复共轭的，并且会将多维数组扁平化后计算内积\n",
    "arr1 = np.array([1+2j,3+4j])\n",
    "arr2 = np.array([5+6j,7+8j])\n",
    "print(np.dot(arr1, arr2)) # 非复共轭\n",
    "print(np.vdot(arr1, arr2)) # 复共轭，arr1转换为复共轭量后进行内积计算，等同于\n",
    "print(np.dot([1-2j,3-4j], [5+6j,7+8j]))\n",
    "print(np.inner(arr1, arr2)) # 非复共轭"
   ]
  },
  {
   "cell_type": "code",
   "execution_count": 8,
   "metadata": {},
   "outputs": [
    {
     "name": "stdout",
     "output_type": "stream",
     "text": [
      "[[0 0 0 0 0]\n",
      " [0 1 2 3 4]\n",
      " [0 2 4 6 8]]\n"
     ]
    }
   ],
   "source": [
    "# outer(arr1, arr2 [, out])\n",
    "# 计算两个向量的外积\n",
    "arr1 = np.arange(3)\n",
    "arr2 = np.arange(5)\n",
    "print(np.outer(arr1, arr2))"
   ]
  },
  {
   "cell_type": "code",
   "execution_count": 9,
   "metadata": {},
   "outputs": [
    {
     "name": "stdout",
     "output_type": "stream",
     "text": [
      "[[10 13]\n",
      " [28 40]]\n",
      "[[[ 10  13]\n",
      "  [ 28  40]]\n",
      "\n",
      " [[ 28  31]\n",
      "  [100 112]]]\n",
      "[ 5 14]\n"
     ]
    }
   ],
   "source": [
    "# matmul(arr1, arr2 [, out])\n",
    "# 计算两个矩阵的点积\n",
    "# 如果任何一个数组维度大于2，该数组被当做是由最后两个维度的矩阵堆叠而成的张量参与运算\n",
    "# 如果任何一个数组只有一维，会自动扩展一个维度参与点积运算，运算完成后扩展的维度被清除\n",
    "arr1 = np.arange(6).reshape(2, 3)\n",
    "arr2 = np.arange(6).reshape(3, 2)\n",
    "print(np.matmul(arr1, arr2))\n",
    "arr2 = np.arange(12).reshape(2, 3, 2)\n",
    "print(np.matmul(arr1, arr2))\n",
    "arr2 = np.arange(3)\n",
    "print(np.matmul(arr1, arr2))"
   ]
  },
  {
   "cell_type": "code",
   "execution_count": 10,
   "metadata": {},
   "outputs": [
    {
     "name": "stdout",
     "output_type": "stream",
     "text": [
      "[[110 125]\n",
      " [290 341]]\n",
      "[[110 125]\n",
      " [290 341]]\n"
     ]
    }
   ],
   "source": [
    "# tensordot(arr1, arr2 [, axes])\n",
    "# axes - 整数或两个array_like元素的tuple，代表需要求点积和的维度，默认值2\n",
    "# 求张量的点积\n",
    "arr1 = np.arange(12).reshape(2, 3, 2)\n",
    "arr2 = np.arange(12).reshape(3, 2, 2)\n",
    "print(np.tensordot(arr1, arr2))\n",
    "print(np.tensordot(arr1, arr2, ([1, 2], [0, 1]))) # 等价"
   ]
  },
  {
   "cell_type": "code",
   "execution_count": 11,
   "metadata": {},
   "outputs": [
    {
     "name": "stdout",
     "output_type": "stream",
     "text": [
      "[[0 3]\n",
      " [1 4]\n",
      " [2 5]]\n",
      "[[0 3]\n",
      " [1 4]\n",
      " [2 5]]\n",
      "[ 3 12]\n",
      "[3 5 7]\n",
      "70\n",
      "[12 22 36]\n"
     ]
    }
   ],
   "source": [
    "# einsum(subscripts, *operands [, out, dtype, order, casting, optimize])\n",
    "# subscripts - 一个由ijk等下标组成，使用逗号分隔的字符串\n",
    "# oprands - 参与运算的数组列表\n",
    "# optimize - 优化参数，False（默认值）: 不优化；True: 'greedy''optimal'\n",
    "# 计算爱因斯坦约定求和\n",
    "arr1 = np.arange(6).reshape(2, 3)\n",
    "print(np.einsum('ji', arr1))\n",
    "print(arr1.T) # 等价\n",
    "print(np.einsum('ij->i', arr1))\n",
    "print(np.einsum('ij->j', arr1))\n",
    "arr2 = np.array([[1, 2, 3], [4, 5, 6]])\n",
    "print(np.einsum('ij, ij', arr1, arr2))\n",
    "print(np.einsum('i..., i...', arr1, arr2))"
   ]
  },
  {
   "cell_type": "code",
   "execution_count": 12,
   "metadata": {},
   "outputs": [
    {
     "name": "stdout",
     "output_type": "stream",
     "text": [
      "['einsum_path', (1, 2), (0, 1)]\n",
      "  Complete contraction:  ij,jk,kl->il\n",
      "         Naive scaling:  4\n",
      "     Optimized scaling:  3\n",
      "      Naive FLOP count:  7.560e+02\n",
      "  Optimized FLOP count:  1.810e+02\n",
      "   Theoretical speedup:  4.177\n",
      "  Largest intermediate:  9.000e+00 elements\n",
      "--------------------------------------------------------------------------\n",
      "scaling                  current                                remaining\n",
      "--------------------------------------------------------------------------\n",
      "   3                   kl,jk->jl                                ij,jl->il\n",
      "   3                   jl,ij->il                                   il->il\n"
     ]
    }
   ],
   "source": [
    "# einsum_path(subscripts, *operands [, optimize])\n",
    "# 返回计算爱因斯坦约定求和的路径\n",
    "arr1 = np.random.rand(3, 3)\n",
    "arr2 = np.random.rand(3, 7)\n",
    "arr3 = np.random.rand(7, 3)\n",
    "path = np.einsum_path('ij,jk,kl->il', arr1, arr2, arr3, optimize='optimal')\n",
    "print(path[0])\n",
    "print(path[1])"
   ]
  },
  {
   "cell_type": "code",
   "execution_count": 13,
   "metadata": {},
   "outputs": [
    {
     "name": "stdout",
     "output_type": "stream",
     "text": [
      "[[-1 -2  0]\n",
      " [ 2 -1  2]\n",
      " [-2 -2 -1]]\n",
      "[[1 0 0]\n",
      " [0 1 0]\n",
      " [0 0 1]]\n",
      "[[-5.  2.  4.]\n",
      " [ 2. -1. -2.]\n",
      " [ 6. -2. -5.]]\n",
      "[[ 0  1  0]\n",
      " [-1  0 -1]\n",
      " [ 1  1  0]]\n"
     ]
    }
   ],
   "source": [
    "# linalg.matrix_power(arr, n)\n",
    "# 求arr方阵的n次幂，如果n是0，返回对应的单位方阵，如果n小于0，先将arr求逆，然后计算abs(n)次幂\n",
    "arr = np.array([[0, 1, 0], [-1, 0, -1], [1, 1, 0]])\n",
    "print(la.matrix_power(arr, 3))\n",
    "print(la.matrix_power(arr, 0))\n",
    "print(la.matrix_power(arr, -3))\n",
    "print(arr**3)"
   ]
  },
  {
   "cell_type": "code",
   "execution_count": 14,
   "metadata": {},
   "outputs": [
    {
     "name": "stdout",
     "output_type": "stream",
     "text": [
      "[[ 0  0  5  0 10  0]\n",
      " [ 0  0  0  7  0 14]\n",
      " [ 0  0  8  2 16  4]\n",
      " [ 0  0  4  1  8  2]\n",
      " [15  0 20  0 25  0]\n",
      " [ 0 21  0 28  0 35]\n",
      " [24  6 32  8 40 10]\n",
      " [12  3 16  4 20  5]]\n"
     ]
    }
   ],
   "source": [
    "# kron(arr1, arr2)\n",
    "# 求两个数组的克罗内克积\n",
    "arr1 = np.arange(6).reshape(2, 3)\n",
    "arr2 = np.random.randint(0, 10, (4, 2))\n",
    "print(np.kron(arr1, arr2))"
   ]
  },
  {
   "cell_type": "markdown",
   "metadata": {},
   "source": [
    "### 矩阵分解"
   ]
  },
  {
   "cell_type": "code",
   "execution_count": 15,
   "metadata": {},
   "outputs": [
    {
     "name": "stdout",
     "output_type": "stream",
     "text": [
      "[[  4  12 -16]\n",
      " [ 12  37 -43]\n",
      " [-16 -43  98]]\n",
      "[[ 2.  0.  0.]\n",
      " [ 6.  1.  0.]\n",
      " [-8.  5.  3.]]\n",
      "[[  4.  12. -16.]\n",
      " [ 12.  37. -43.]\n",
      " [-16. -43.  98.]]\n"
     ]
    }
   ],
   "source": [
    "# linalg.cholesky(arr)\n",
    "# 返回正定的Hermite矩阵的cholesky分解矩阵\n",
    "# Hermite埃尔米特矩阵：埃尔米特矩阵中每一个第i行第j列的元素都与第j行第i列的元素的复共轭。\n",
    "# 正定矩阵：对于一个Hermite矩阵，如果任意非零向量x，都有x.T@A@x>0，则A为正定矩阵\n",
    "arr = np.array([[4, 12, -16], [12, 37, -43], [-16, -43, 98]])\n",
    "print(arr)\n",
    "l = la.cholesky(arr)\n",
    "print(l)\n",
    "print(l@l.T)"
   ]
  },
  {
   "cell_type": "code",
   "execution_count": 16,
   "metadata": {},
   "outputs": [
    {
     "name": "stdout",
     "output_type": "stream",
     "text": [
      "[[-0.23107016 -0.91613106  0.32758276]\n",
      " [ 0.97146091 -0.23578894  0.0258318 ]\n",
      " [ 0.05357508  0.32420281  0.9444693 ]]\n",
      "[ 2.95870693  1.52487719  1.0139856 ]\n",
      "[[-0.26203876 -0.04991447 -0.54521733 -0.78564487  0.11976827]\n",
      " [ 0.6857056  -0.00209376 -0.6747248   0.2546756   0.09843895]\n",
      " [-0.07571602  0.24498713  0.09570322  0.08926537  0.95766433]\n",
      " [-0.38815126 -0.7978904  -0.23055317  0.36491685  0.16245134]\n",
      " [ 0.55204095 -0.54850376  0.43031458 -0.42044008  0.18014971]]\n",
      "True\n"
     ]
    }
   ],
   "source": [
    "# linalg.svd(arr [, full_matrix, compute_uv])\n",
    "# full_matrix - True（默认值）: 返回的UV分别是M*M和N*N的矩阵；False: 返回的UV分别是缩减后的M*K和K*N的矩阵，K为M，N的最小值\n",
    "# compute_uv - True(默认值): 在计算奇异值向量的同时计算UV的矩阵\n",
    "# 求矩阵的奇异值分解，返回U为一个酉矩阵，s为奇异值向量，V为一个酉矩阵\n",
    "arr = np.random.randn(3, 5)\n",
    "u, s, v = la.svd(arr)\n",
    "print(u)\n",
    "print(s)\n",
    "print(v)\n",
    "S = np.zeros_like(arr)\n",
    "S[:,:3] = np.diag(s)\n",
    "print(np.allclose(arr, u@S@v))"
   ]
  },
  {
   "cell_type": "code",
   "execution_count": 17,
   "metadata": {},
   "outputs": [
    {
     "name": "stdout",
     "output_type": "stream",
     "text": [
      "[[-0.5877266  -0.67360157  0.44814994]\n",
      " [-0.33902964 -0.29788843 -0.89236842]\n",
      " [ 0.73459945 -0.67640476 -0.05329395]]\n",
      "[[ 2.0606624   0.54975654  0.85867349  0.03694983 -0.14081922]\n",
      " [ 0.          0.46409328 -0.01379254 -0.09610143 -1.62202023]\n",
      " [ 0.          0.          1.09504671 -0.87775695 -0.20908407]]\n",
      "True\n"
     ]
    }
   ],
   "source": [
    "# linalg.qr(arr [, mode])\n",
    "# mode - 'reduced'（默认值）: 返回的QR维度缩减为M，N中的最小值；'complete': 返回方阵Q和M*N的矩阵R；'r': 仅返回R；\n",
    "#        'raw': 额外返回豪斯霍尔德算子矩阵h和向量tau\n",
    "# 求矩阵的QR分解, 返回Q为一个正交矩阵，R为一个上三角阵\n",
    "arr = np.random.randn(3, 5)\n",
    "q, r = la.qr(arr)\n",
    "print(q)\n",
    "print(r)\n",
    "print(np.allclose(arr, q@r))"
   ]
  },
  {
   "cell_type": "markdown",
   "metadata": {},
   "source": [
    "### 特征值分解"
   ]
  },
  {
   "cell_type": "code",
   "execution_count": 18,
   "metadata": {},
   "outputs": [
    {
     "name": "stdout",
     "output_type": "stream",
     "text": [
      "[  1.23477232e+02   1.88049805e-02   1.55039632e+01] [[ 0.16300693  0.96341881  0.21272739]\n",
      " [ 0.45732393 -0.26483016  0.84895218]\n",
      " [-0.87423313  0.04109976  0.48376363]]\n",
      "[[  4.  12. -16.]\n",
      " [ 12.  37. -43.]\n",
      " [-16. -43.  98.]]\n",
      "[  1.88049805e-02   1.55039632e+01   1.23477232e+02] [[ 0.96341881  0.21272739 -0.16300693]\n",
      " [-0.26483016  0.84895218 -0.45732393]\n",
      " [ 0.04109976  0.48376363  0.87423313]]\n",
      "[[  4.  12. -16.]\n",
      " [ 12.  37. -43.]\n",
      " [-16. -43.  98.]]\n"
     ]
    }
   ],
   "source": [
    "# linalg.eig(arr)\n",
    "# linalg.eigh(arr)\n",
    "# 返回矩阵的特征值和特征向量，eigh求Hermite正定矩阵或实对称矩阵的特征值和特征向量，通常速度更快\n",
    "arr = np.array([[4, 12, -16], [12, 37, -43], [-16, -43, 98]])\n",
    "w, v = la.eig(arr)\n",
    "print(w, v)\n",
    "print(v@np.diag(w)@la.inv(v))\n",
    "w, v = la.eigh(arr)\n",
    "print(w, v)\n",
    "print(v@np.diag(w)@la.inv(v))"
   ]
  },
  {
   "cell_type": "code",
   "execution_count": 19,
   "metadata": {},
   "outputs": [
    {
     "name": "stdout",
     "output_type": "stream",
     "text": [
      "34.2 µs ± 297 ns per loop (mean ± std. dev. of 7 runs, 10000 loops each)\n"
     ]
    }
   ],
   "source": [
    "# 下面是eig和eigh的性能比较\n",
    "%timeit la.eig(arr)"
   ]
  },
  {
   "cell_type": "code",
   "execution_count": 20,
   "metadata": {},
   "outputs": [
    {
     "name": "stdout",
     "output_type": "stream",
     "text": [
      "17 µs ± 142 ns per loop (mean ± std. dev. of 7 runs, 100000 loops each)\n"
     ]
    }
   ],
   "source": [
    "%timeit la.eigh(arr)"
   ]
  },
  {
   "cell_type": "code",
   "execution_count": 21,
   "metadata": {},
   "outputs": [
    {
     "name": "stdout",
     "output_type": "stream",
     "text": [
      "[  1.23477232e+02   1.88049805e-02   1.55039632e+01]\n",
      "[  1.88049805e-02   1.55039632e+01   1.23477232e+02]\n"
     ]
    }
   ],
   "source": [
    "# linalg.eigvals(arr)\n",
    "# linalg.eigvalsh(arr)\n",
    "# 与eig和eigh对应，唯一区别就是不会计算特征向量，仅计算返回特征值\n",
    "print(la.eigvals(arr))\n",
    "print(la.eigvalsh(arr))"
   ]
  },
  {
   "cell_type": "code",
   "execution_count": 22,
   "metadata": {},
   "outputs": [
    {
     "name": "stdout",
     "output_type": "stream",
     "text": [
      "28.5 µs ± 511 ns per loop (mean ± std. dev. of 7 runs, 10000 loops each)\n"
     ]
    }
   ],
   "source": [
    "# 性能比较\n",
    "%timeit la.eigvals(arr)"
   ]
  },
  {
   "cell_type": "code",
   "execution_count": 23,
   "metadata": {},
   "outputs": [
    {
     "name": "stdout",
     "output_type": "stream",
     "text": [
      "12 µs ± 175 ns per loop (mean ± std. dev. of 7 runs, 100000 loops each)\n"
     ]
    }
   ],
   "source": [
    "%timeit la.eigvalsh(arr)"
   ]
  },
  {
   "cell_type": "markdown",
   "metadata": {},
   "source": [
    "### 方程求解和矩阵逆"
   ]
  },
  {
   "cell_type": "code",
   "execution_count": 24,
   "metadata": {},
   "outputs": [
    {
     "name": "stdout",
     "output_type": "stream",
     "text": [
      "[ 28.58333333  -7.66666667   1.33333333]\n",
      "[ 1.  2.  3.]\n",
      "[[ 18.  17.  16.  15.  14.  13.]\n",
      " [ 12.  11.  10.   9.   8.   7.]\n",
      " [  6.   5.   4.   3.   2.   1.]]\n"
     ]
    }
   ],
   "source": [
    "# linalg.solve(a, b)\n",
    "# linalg.tensorsolve(a, b)\n",
    "# 求线性方程组ax=b的解\n",
    "arr = np.array([[4, 12, -16], [12, 37, -43], [-16, -43, 98]])\n",
    "print(la.solve(arr, [1, 2, 3]))\n",
    "print(arr@la.solve(arr, [1, 2, 3]))\n",
    "arr = np.eye(3*2*3).reshape(3,6,3,6)\n",
    "print(la.tensorsolve(arr, np.arange(18, 0, -1).reshape(3, 6)))"
   ]
  },
  {
   "cell_type": "code",
   "execution_count": 25,
   "metadata": {},
   "outputs": [
    {
     "name": "stdout",
     "output_type": "stream",
     "text": [
      "[[ 1.  1.]\n",
      " [ 2.  1.]\n",
      " [ 3.  1.]\n",
      " [ 4.  1.]]\n",
      "3.4 -4.5\n",
      "[-1.1  2.3  5.7  9.1]\n"
     ]
    },
    {
     "data": {
      "image/png": "[encoded data removed]",
      "text/plain": [
       "<matplotlib.figure.Figure at 0x7fc06e117ef0>"
      ]
     },
     "metadata": {},
     "output_type": "display_data"
    }
   ],
   "source": [
    "# linalg.lstsq(a, b, rcond)\n",
    "# 返回线性方程中平方距离最小的那个解x和c，即所有 (ax+c-b)**2 最小的那个解，即最简单的线性回归\n",
    "a = np.array([1, 2, 3, 4])\n",
    "b = np.array([-1, 2, 6, 9])\n",
    "A = np.vstack([a, np.ones(len(a))]).T\n",
    "print(A)\n",
    "x, c = la.lstsq(A, b)[0]\n",
    "print(x, c)\n",
    "print(a*x+c)\n",
    "import matplotlib.pyplot as plt\n",
    "plt.plot(a, b, 'o', label='ori data', markersize=5)\n",
    "plt.plot(a, a*x+c, 'r', label='linear regression')\n",
    "plt.legend()\n",
    "plt.show()"
   ]
  },
  {
   "cell_type": "code",
   "execution_count": 26,
   "metadata": {},
   "outputs": [
    {
     "name": "stdout",
     "output_type": "stream",
     "text": [
      "[[ 49.36111111 -13.55555556   2.11111111]\n",
      " [-13.55555556   3.77777778  -0.55555556]\n",
      " [  2.11111111  -0.55555556   0.11111111]]\n",
      "True\n"
     ]
    }
   ],
   "source": [
    "# linalg.inv(arr)\n",
    "# 求矩阵的逆\n",
    "arr = np.array([[4, 12, -16], [12, 37, -43], [-16, -43, 98]])\n",
    "print(la.inv(arr))\n",
    "print(np.allclose(la.inv(arr)@arr, np.eye(len(arr))))"
   ]
  },
  {
   "cell_type": "code",
   "execution_count": 27,
   "metadata": {},
   "outputs": [
    {
     "name": "stdout",
     "output_type": "stream",
     "text": [
      "[[-0.43333333 -0.22777778 -0.02222222  0.18333333]\n",
      " [-0.03333333 -0.01111111  0.01111111  0.03333333]\n",
      " [ 0.36666667  0.20555556  0.04444444 -0.11666667]]\n",
      "True\n"
     ]
    }
   ],
   "source": [
    "# linalg.pinv(arr)\n",
    "# 求矩阵的Moore Penrose伪逆\n",
    "arr = np.arange(12).reshape(4, 3)\n",
    "print(la.pinv(arr))\n",
    "print(np.allclose(arr@la.pinv(arr)@arr, arr))"
   ]
  },
  {
   "cell_type": "code",
   "execution_count": 28,
   "metadata": {},
   "outputs": [
    {
     "name": "stdout",
     "output_type": "stream",
     "text": [
      "(4, 6, 8, 3)\n",
      "(4, 6, 24)\n"
     ]
    }
   ],
   "source": [
    "# linalg.tensorinv(arr [, ind])\n",
    "# ind - 进行张量求逆的维度序号，默认值2\n",
    "# 求张量的逆\n",
    "arr = np.eye(24).reshape(8, 3, 4, 6)\n",
    "print(la.tensorinv(arr).shape)\n",
    "print(la.tensorinv(arr.reshape(24, 4, 6), ind=1).shape)"
   ]
  },
  {
   "cell_type": "markdown",
   "metadata": {},
   "source": [
    "### 范数和其他值函数"
   ]
  },
  {
   "cell_type": "code",
   "execution_count": 29,
   "metadata": {},
   "outputs": [
    {
     "name": "stdout",
     "output_type": "stream",
     "text": [
      "22.4944437584\n",
      "24.3646384993\n",
      "[  8.94427191  10.34408043  11.83215957  13.37908816]\n",
      "[ 2.  3.  3.  3.]\n"
     ]
    }
   ],
   "source": [
    "# linalg.norm(arr [, ord, axis, keepdims])\n",
    "# ord - 范数类型：none（默认值）'fro': L2范数，Frobenius范数；'nuc': nuclear范数，奇异值的和；'inf': 最大值范数\n",
    "#                 '-inf': 最小值范数；0: 非零元素个数\n",
    "# 求矩阵的范数\n",
    "arr = np.arange(12).reshape(3, 4)\n",
    "print(la.norm(arr))\n",
    "print(la.norm(arr, 'nuc'))\n",
    "print(la.norm(arr, axis=0))\n",
    "print(la.norm(arr, 0, axis=0))"
   ]
  },
  {
   "cell_type": "code",
   "execution_count": 30,
   "metadata": {},
   "outputs": [
    {
     "name": "stdout",
     "output_type": "stream",
     "text": [
      "6617.76113062\n",
      "6617.76113062\n",
      "6566.1983562\n",
      "10209.3611111\n",
      "10209.3611111\n"
     ]
    }
   ],
   "source": [
    "# linalg.cond(arr [, ord])\n",
    "# 求矩阵的条件数值condition number\n",
    "arr = np.array([[4, 12, -16], [12, 37, -43], [-16, -43, 98]])\n",
    "print(la.cond(arr, 'fro'))\n",
    "print(la.norm(arr)*la.norm(la.inv(arr)))\n",
    "print(la.cond(arr, 2))\n",
    "print(la.cond(arr, np.inf))\n",
    "print(la.cond(arr, 1))"
   ]
  },
  {
   "cell_type": "code",
   "execution_count": 31,
   "metadata": {},
   "outputs": [
    {
     "name": "stdout",
     "output_type": "stream",
     "text": [
      "36.0\n",
      "[[[ 0  1]\n",
      "  [ 2  3]]\n",
      "\n",
      " [[ 4  5]\n",
      "  [ 6  7]]\n",
      "\n",
      " [[ 8  9]\n",
      "  [10 11]]]\n",
      "[-2. -2. -2.]\n"
     ]
    }
   ],
   "source": [
    "# linalg.det(arr)\n",
    "# 返回矩阵的行列式\n",
    "arr = np.array([[4, 12, -16], [12, 37, -43], [-16, -43, 98]])\n",
    "print(la.det(arr))\n",
    "arr = np.arange(12).reshape(3, 2, 2)\n",
    "print(arr)\n",
    "print(la.det(arr))"
   ]
  },
  {
   "cell_type": "code",
   "execution_count": 32,
   "metadata": {},
   "outputs": [
    {
     "name": "stdout",
     "output_type": "stream",
     "text": [
      "3\n",
      "2\n"
     ]
    }
   ],
   "source": [
    "# linalg.matrix_rank(arr [, tol, hermitian])\n",
    "# tol - 奇异值向量中被认为为零的阈值，默认值none\n",
    "# 求矩阵的秩，通过SVD奇异值分解的方式\n",
    "arr = np.array([[4, 12, -16], [12, 37, -43], [-16, -43, 98]])\n",
    "print(la.matrix_rank(arr))\n",
    "arr = np.array([[-1, 0, -1], [1, 1, 1], [1, 0, 1]])\n",
    "print(la.matrix_rank(arr))"
   ]
  },
  {
   "cell_type": "code",
   "execution_count": 33,
   "metadata": {},
   "outputs": [
    {
     "name": "stdout",
     "output_type": "stream",
     "text": [
      "(1.0, 3.5835189384561081)\n",
      "3.58351893846\n"
     ]
    }
   ],
   "source": [
    "# linalg.slogdet(arr)\n",
    "# 计算arr的行列式的自然对数值，带符号返回\n",
    "arr = np.array([[4, 12, -16], [12, 37, -43], [-16, -43, 98]])\n",
    "print(la.slogdet(arr))\n",
    "print(np.log(la.det(arr)))"
   ]
  },
  {
   "cell_type": "code",
   "execution_count": 34,
   "metadata": {},
   "outputs": [
    {
     "name": "stdout",
     "output_type": "stream",
     "text": [
      "139\n",
      "-31\n"
     ]
    }
   ],
   "source": [
    "# trace(arr [, offset, axis1, axis2, dtype, out])\n",
    "# 矩阵的迹运算\n",
    "arr = np.array([[4, 12, -16], [12, 37, -43], [-16, -43, 98]])\n",
    "print(np.trace(arr))\n",
    "print(np.trace(arr, offset=-1))"
   ]
  },
  {
   "cell_type": "markdown",
   "metadata": {},
   "source": [
    "## 离散傅里叶变换\n",
    "### 标准FFT"
   ]
  },
  {
   "cell_type": "code",
   "execution_count": 35,
   "metadata": {},
   "outputs": [],
   "source": [
    "# 引入fft库\n",
    "import numpy.fft as fft"
   ]
  },
  {
   "cell_type": "code",
   "execution_count": 36,
   "metadata": {},
   "outputs": [
    {
     "data": {
      "image/png": "[encoded data removed]",
      "text/plain": [
       "<matplotlib.figure.Figure at 0x7fc090b85080>"
      ]
     },
     "metadata": {},
     "output_type": "display_data"
    }
   ],
   "source": [
    "# fft(arr [, n, axis, norm])\n",
    "# n - dft后该axis的长度，默认值none，代表使用原数组axis维度上的长度\n",
    "# axis - 进行dft的维度，默认值-1，代表最后一个维度\n",
    "# norm - 归一化系数，none（默认值）: 变换时使用1，逆变换时使用1/n；'ortho': 变换和逆变换时都使用1/sqrt(n)\n",
    "# 对arr数组进行离散傅里叶变换\n",
    "t = np.arange(256)\n",
    "y = np.sin(t)\n",
    "plt.plot(t, y, '-r')\n",
    "plt.show()"
   ]
  },
  {
   "cell_type": "code",
   "execution_count": 37,
   "metadata": {},
   "outputs": [
    {
     "data": {
      "image/png": "[encoded data removed]",
      "text/plain": [
       "<matplotlib.figure.Figure at 0x7fc06bfec2b0>"
      ]
     },
     "metadata": {},
     "output_type": "display_data"
    }
   ],
   "source": [
    "sp = fft.fft(y)\n",
    "freq = fft.fftfreq(t.shape[-1])\n",
    "plt.plot(freq, sp.real, freq, sp.imag)\n",
    "plt.show()"
   ]
  },
  {
   "cell_type": "code",
   "execution_count": 38,
   "metadata": {},
   "outputs": [
    {
     "data": {
      "image/png": "[encoded data removed]",
      "text/plain": [
       "<matplotlib.figure.Figure at 0x7fc06c005668>"
      ]
     },
     "metadata": {},
     "output_type": "display_data"
    }
   ],
   "source": [
    "# ifft(arr [, n, axis, norm])\n",
    "# 对arr数组进行逆离散傅里叶变换\n",
    "isp = fft.ifft(sp)\n",
    "plt.plot(freq, isp.real, freq, isp.imag)\n",
    "plt.show()"
   ]
  },
  {
   "cell_type": "code",
   "execution_count": 39,
   "metadata": {},
   "outputs": [
    {
     "name": "stdout",
     "output_type": "stream",
     "text": [
      "[[ 10.+0.j  -2.+0.j]\n",
      " [ -4.+0.j   0.+0.j]]\n",
      "[[ 2.5+0.j -0.5+0.j]\n",
      " [-1.0+0.j  0.0+0.j]]\n"
     ]
    }
   ],
   "source": [
    "# fft2(arr [, s, axes, norm])\n",
    "# ifft2(arr [, s, axes, norm])\n",
    "# s - 变换后的各维度长度\n",
    "# axes - 进行变换的维度数组，默认值为(-2, -1)，即最后两个维度\n",
    "# 二维离散傅里叶（逆）变换\n",
    "arr = np.array([[1, 2], [3, 4]])\n",
    "print(fft.fft2(arr))\n",
    "print(fft.ifft2(arr))"
   ]
  },
  {
   "cell_type": "code",
   "execution_count": 40,
   "metadata": {},
   "outputs": [
    {
     "name": "stdout",
     "output_type": "stream",
     "text": [
      "[[[ 66.+0.j          -6.+0.j        ]\n",
      "  [-12.+6.92820323j   0.+0.j        ]\n",
      "  [-12.-6.92820323j   0.+0.j        ]]\n",
      "\n",
      " [[-36.+0.j           0.+0.j        ]\n",
      "  [  0.+0.j           0.+0.j        ]\n",
      "  [  0.+0.j           0.+0.j        ]]]\n",
      "[[[ 5.5+0.j         -0.5+0.j        ]\n",
      "  [-1.0-0.57735027j  0.0+0.j        ]\n",
      "  [-1.0+0.57735027j  0.0+0.j        ]]\n",
      "\n",
      " [[-3.0+0.j          0.0+0.j        ]\n",
      "  [ 0.0+0.j          0.0+0.j        ]\n",
      "  [ 0.0+0.j          0.0+0.j        ]]]\n"
     ]
    }
   ],
   "source": [
    "# fftn(arr [, s, axes, norm])\n",
    "# ifftn(arr [, s, axes, norm])\n",
    "# axes - 进行变换的维度数组，默认值为none，表示最后的s指定的维度，或全部维度（如果s未指定）\n",
    "# n维离散傅里叶变换\n",
    "arr = np.arange(12).reshape(2, 3, 2)\n",
    "print(fft.fftn(arr))\n",
    "print(fft.ifftn(arr))"
   ]
  },
  {
   "cell_type": "markdown",
   "metadata": {},
   "source": [
    "### 实数FFT"
   ]
  },
  {
   "cell_type": "code",
   "execution_count": 41,
   "metadata": {},
   "outputs": [
    {
     "name": "stdout",
     "output_type": "stream",
     "text": [
      "[[ 3.+0.j -1.+0.j]\n",
      " [ 7.+0.j -1.+0.j]]\n"
     ]
    }
   ],
   "source": [
    "# rfft(arr [, n, axis, norm])\n",
    "# 一维离散傅里叶变换，对于实数值输入，该方法采用了快速傅里叶变换获取结果\n",
    "arr = np.array([[1, 2], [3, 4]])\n",
    "print(fft.rfft(arr))"
   ]
  },
  {
   "cell_type": "code",
   "execution_count": 42,
   "metadata": {},
   "outputs": [
    {
     "name": "stdout",
     "output_type": "stream",
     "text": [
      "20.1 µs ± 124 ns per loop (mean ± std. dev. of 7 runs, 10000 loops each)\n"
     ]
    }
   ],
   "source": [
    "# 对比fft和rfft的性能\n",
    "%timeit fft.fft(arr)"
   ]
  },
  {
   "cell_type": "code",
   "execution_count": 43,
   "metadata": {},
   "outputs": [
    {
     "name": "stdout",
     "output_type": "stream",
     "text": [
      "14 µs ± 126 ns per loop (mean ± std. dev. of 7 runs, 100000 loops each)\n"
     ]
    }
   ],
   "source": [
    "%timeit fft.rfft(arr)"
   ]
  },
  {
   "cell_type": "code",
   "execution_count": 44,
   "metadata": {},
   "outputs": [
    {
     "name": "stdout",
     "output_type": "stream",
     "text": [
      "[[ 1.  2.]\n",
      " [ 3.  4.]]\n"
     ]
    }
   ],
   "source": [
    "# irfft(arr [, n, axis, norm])\n",
    "# 一维离散傅里叶逆变换，对于实数值输入，该方法采用了快速傅里叶变换获取结果\n",
    "print(fft.irfft(fft.fft(arr)))"
   ]
  },
  {
   "cell_type": "code",
   "execution_count": 45,
   "metadata": {},
   "outputs": [
    {
     "name": "stdout",
     "output_type": "stream",
     "text": [
      "[[ 10.+0.j  -2.+0.j]\n",
      " [ -4.+0.j   0.+0.j]]\n",
      "[[ 2.5 -0.5]\n",
      " [-1.   0. ]]\n"
     ]
    }
   ],
   "source": [
    "# rfft2(arr [, s, axes, norm])\n",
    "# irfft2(arr [, s, axes, norm])\n",
    "# 二维离散傅里叶变换，对于实数值输入，该方法采用了快速傅里叶变换获取结果\n",
    "print(fft.rfft2(arr))\n",
    "print(fft.irfft2(arr))"
   ]
  },
  {
   "cell_type": "code",
   "execution_count": 46,
   "metadata": {},
   "outputs": [
    {
     "name": "stdout",
     "output_type": "stream",
     "text": [
      "[[[ 66.+0.j          -6.+0.j        ]\n",
      "  [-12.+6.92820323j   0.+0.j        ]\n",
      "  [-12.-6.92820323j   0.+0.j        ]]\n",
      "\n",
      " [[-36.+0.j           0.+0.j        ]\n",
      "  [  0.+0.j           0.+0.j        ]\n",
      "  [  0.+0.j           0.+0.j        ]]]\n",
      "[[[ 5.5 -0.5]\n",
      "  [-1.   0. ]\n",
      "  [-1.   0. ]]\n",
      "\n",
      " [[-3.   0. ]\n",
      "  [ 0.   0. ]\n",
      "  [ 0.   0. ]]]\n"
     ]
    }
   ],
   "source": [
    "# rfftn(arr [, n, axes, norm])\n",
    "# irfftn(arr [, n, axes, norm])\n",
    "# n维离散傅里叶变换，对于实数值输入，该方法采用了快速傅里叶变换获取结果\n",
    "arr = np.arange(12).reshape(2, 3, 2)\n",
    "print(fft.rfftn(arr))\n",
    "print(fft.irfftn(arr))"
   ]
  },
  {
   "cell_type": "markdown",
   "metadata": {},
   "source": [
    "### 埃尔米特FFT"
   ]
  },
  {
   "cell_type": "code",
   "execution_count": 47,
   "metadata": {},
   "outputs": [
    {
     "name": "stdout",
     "output_type": "stream",
     "text": [
      "[[ 3. -1.]\n",
      " [ 7. -1.]]\n",
      "[[ 1.5+0.j -0.5-0.j]\n",
      " [ 3.5+0.j -0.5-0.j]]\n"
     ]
    }
   ],
   "source": [
    "# hfft(arr [, n, axis, norm])\n",
    "# ihfft(arr [, n, axis, norm])\n",
    "# 埃尔米特离散傅里叶变换\n",
    "arr = np.array([[1, 2], [3, 4]])\n",
    "print(fft.hfft(arr))\n",
    "print(fft.ihfft(arr))"
   ]
  },
  {
   "cell_type": "markdown",
   "metadata": {},
   "source": [
    "### FFT工具函数"
   ]
  },
  {
   "cell_type": "code",
   "execution_count": 48,
   "metadata": {},
   "outputs": [
    {
     "name": "stdout",
     "output_type": "stream",
     "text": [
      "[ 0.    1.25  2.5   3.75 -5.   -3.75 -2.5  -1.25]\n",
      "[ 0.      0.0125  0.025   0.0375 -0.05   -0.0375 -0.025  -0.0125]\n"
     ]
    }
   ],
   "source": [
    "# fftfreq(n [, d])\n",
    "# n - 采样窗口长度\n",
    "# d - 采样步长，即采样率的倒数，默认值1\n",
    "# 获得离散傅里叶变换的采样频率\n",
    "arr = np.array([1, 2, 3, 4, 5, 6, 7, 8])\n",
    "freq = fft.fftfreq(len(arr), d=0.1)\n",
    "print(freq)\n",
    "freq = fft.fftfreq(len(arr), d=10)\n",
    "print(freq)"
   ]
  },
  {
   "cell_type": "code",
   "execution_count": 49,
   "metadata": {},
   "outputs": [
    {
     "name": "stdout",
     "output_type": "stream",
     "text": [
      "[ 0.    1.25  2.5   3.75  5.  ]\n",
      "[ 0.      0.0125  0.025   0.0375  0.05  ]\n"
     ]
    }
   ],
   "source": [
    "# rfftfreq(n [, d])\n",
    "# 获得实数FFT的采样频率\n",
    "freq = fft.rfftfreq(len(arr), d=0.1)\n",
    "print(freq)\n",
    "freq = fft.rfftfreq(len(arr), d=10)\n",
    "print(freq)"
   ]
  },
  {
   "cell_type": "code",
   "execution_count": 50,
   "metadata": {},
   "outputs": [
    {
     "name": "stdout",
     "output_type": "stream",
     "text": [
      "[ 0.    1.25  2.5   3.75 -5.   -3.75 -2.5  -1.25]\n",
      "[-5.   -3.75 -2.5  -1.25  0.    1.25  2.5   3.75]\n",
      "[ 0.    1.25  2.5   3.75 -5.   -3.75 -2.5  -1.25]\n"
     ]
    }
   ],
   "source": [
    "# fftshift(freqs [, axes])\n",
    "# ifftshift(freqs [, axes])\n",
    "# freqs - 使用fftfreq获得的采样频率\n",
    "# axes - 需要进行移动的频率维度\n",
    "# 将采样频率重新排序，fftshift顺序是负数、0、正数，ifftshift顺序是原始顺序\n",
    "freq = fft.fftfreq(len(arr), d=0.1)\n",
    "print(freq)\n",
    "print(fft.fftshift(freq))\n",
    "print(fft.ifftshift(fft.fftshift(freq)))"
   ]
  },
  {
   "cell_type": "code",
   "execution_count": null,
   "metadata": {},
   "outputs": [],
   "source": []
  }
 ],
 "metadata": {
  "kernelspec": {
   "display_name": "Python 3",
   "language": "python",
   "name": "python3"
  },
  "language_info": {
   "codemirror_mode": {
    "name": "ipython",
    "version": 3
   },
   "file_extension": ".py",
   "mimetype": "text/x-python",
   "name": "python",
   "nbconvert_exporter": "python",
   "pygments_lexer": "ipython3",
   "version": "3.6.3"
  }
 },
 "nbformat": 4,
 "nbformat_minor": 2
}
