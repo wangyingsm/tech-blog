{
 "cells": [
  {
   "cell_type": "markdown",
   "metadata": {},
   "source": [
    "# 值得了解的python3新特性\n",
    "\n",
    "### f-strings (3.6+)"
   ]
  },
  {
   "cell_type": "code",
   "execution_count": 1,
   "metadata": {},
   "outputs": [
    {
     "name": "stdout",
     "output_type": "stream",
     "text": [
      "Alice is 8 years old.\n",
      "Alice is 8 years old.\n"
     ]
    }
   ],
   "source": [
    "name = 'Alice'\n",
    "age = 8\n",
    "\n",
    "# 之前的format方式\n",
    "print('{} is {} years old.'.format(name, age))\n",
    "\n",
    "# f-string方式\n",
    "print(f'{name} is {age} years old.')"
   ]
  },
  {
   "cell_type": "markdown",
   "metadata": {},
   "source": [
    "### Pathlib (3.4+)"
   ]
  },
  {
   "cell_type": "code",
   "execution_count": 2,
   "metadata": {},
   "outputs": [
    {
     "name": "stdout",
     "output_type": "stream",
     "text": [
      "/home/wangy/git/tech-blog/notes/golang\n"
     ]
    }
   ],
   "source": [
    "from pathlib import Path\n",
    "\n",
    "# 使用/号切换路径，使用resolve获取绝对路径\n",
    "pwd = Path('.')\n",
    "print((pwd/'golang').resolve())"
   ]
  },
  {
   "cell_type": "code",
   "execution_count": 3,
   "metadata": {},
   "outputs": [
    {
     "data": {
      "text/plain": [
       "[PosixPath('deeplearning'),\n",
       " PosixPath('python-debug'),\n",
       " PosixPath('leetcode'),\n",
       " PosixPath('DLBible'),\n",
       " PosixPath('numpy'),\n",
       " PosixPath('java-design-patterns'),\n",
       " PosixPath('.ipynb_checkpoints'),\n",
       " PosixPath('SQLAlchemy'),\n",
       " PosixPath('golang')]"
      ]
     },
     "execution_count": 3,
     "metadata": {},
     "output_type": "execute_result"
    }
   ],
   "source": [
    "# 使用iterdir()遍历当前目录内容，仅遍历子目录\n",
    "[item for item in pwd.iterdir() if item.is_dir()]"
   ]
  },
  {
   "cell_type": "code",
   "execution_count": 4,
   "metadata": {},
   "outputs": [
    {
     "data": {
      "text/plain": [
       "[PosixPath('systemd_service_python.md'),\n",
       " PosixPath('deeplearning/keras-CNN-using-own-dataset.md'),\n",
       " PosixPath('java-design-patterns/README.md'),\n",
       " PosixPath('golang/50-common-gotchas-in-go.md')]"
      ]
     },
     "execution_count": 4,
     "metadata": {},
     "output_type": "execute_result"
    }
   ],
   "source": [
    "# 使用glob搜索所有markdown文件\n",
    "[item for item in pwd.glob('**/*.md')]"
   ]
  },
  {
   "cell_type": "code",
   "execution_count": 5,
   "metadata": {},
   "outputs": [
    {
     "data": {
      "text/plain": [
       "('/', 'home', 'wangy', 'git', 'tech-blog', 'notes')"
      ]
     },
     "execution_count": 5,
     "metadata": {},
     "output_type": "execute_result"
    }
   ],
   "source": [
    "# 使用parts获得路径的所有组成部分\n",
    "pwd.resolve().parts"
   ]
  },
  {
   "cell_type": "markdown",
   "metadata": {},
   "source": [
    "### 类型提示 (3.5+)"
   ]
  },
  {
   "cell_type": "code",
   "execution_count": 6,
   "metadata": {},
   "outputs": [
    {
     "name": "stdout",
     "output_type": "stream",
     "text": [
      "True\n"
     ]
    }
   ],
   "source": [
    "# 可以使用类型提示来说明变量的类型\n",
    "def is_long_string(s: str) -> str:\n",
    "    return len(s)>10\n",
    "\n",
    "print(is_long_string('hello everyone.'))"
   ]
  },
  {
   "cell_type": "markdown",
   "metadata": {},
   "source": [
    "### 迭代器 (3.4+)"
   ]
  },
  {
   "cell_type": "code",
   "execution_count": 7,
   "metadata": {},
   "outputs": [
    {
     "name": "stdout",
     "output_type": "stream",
     "text": [
      "[<Type.GET: 1>, <Type.POST: 2>, <Type.PUT: 3>, <Type.DELETE: 4>]\n"
     ]
    }
   ],
   "source": [
    "# 使用Enum作为迭代器类的父类\n",
    "from enum import Enum, auto\n",
    "class Type(Enum):\n",
    "    GET = auto()\n",
    "    POST = auto()\n",
    "    PUT = auto()\n",
    "    DELETE = auto()\n",
    "print([t for t in Type])"
   ]
  },
  {
   "cell_type": "markdown",
   "metadata": {},
   "source": [
    "### 内建的最近使用的缓存 LRU"
   ]
  },
  {
   "cell_type": "code",
   "execution_count": 8,
   "metadata": {},
   "outputs": [],
   "source": [
    "# 使用lru_cache可以缓存一个函数的返回值，加速递归函数的调用\n",
    "def normal_fib(n):\n",
    "    if n==1 or n==2:\n",
    "        return 1\n",
    "    return normal_fib(n-1) + normal_fib(n-2)\n",
    "\n",
    "from functools import lru_cache\n",
    "@lru_cache(maxsize=100)\n",
    "def lru_fib(n):\n",
    "    if n==1 or n==2:\n",
    "        return 1\n",
    "    return lru_fib(n-1) + lru_fib(n-2)"
   ]
  },
  {
   "cell_type": "code",
   "execution_count": 9,
   "metadata": {},
   "outputs": [
    {
     "name": "stdout",
     "output_type": "stream",
     "text": [
      "CPU times: user 24 s, sys: 259 µs, total: 24 s\n",
      "Wall time: 24 s\n"
     ]
    },
    {
     "data": {
      "text/plain": [
       "102334155"
      ]
     },
     "execution_count": 9,
     "metadata": {},
     "output_type": "execute_result"
    }
   ],
   "source": [
    "# 不带缓存调用时间\n",
    "%time normal_fib(40)"
   ]
  },
  {
   "cell_type": "code",
   "execution_count": 10,
   "metadata": {},
   "outputs": [
    {
     "name": "stdout",
     "output_type": "stream",
     "text": [
      "CPU times: user 40 µs, sys: 0 ns, total: 40 µs\n",
      "Wall time: 43.2 µs\n"
     ]
    },
    {
     "data": {
      "text/plain": [
       "102334155"
      ]
     },
     "execution_count": 10,
     "metadata": {},
     "output_type": "execute_result"
    }
   ],
   "source": [
    "# 带缓存调用时间\n",
    "%time lru_fib(40)"
   ]
  },
  {
   "cell_type": "markdown",
   "metadata": {},
   "source": [
    "### 扩展的迭代类型解包 (3.0+)"
   ]
  },
  {
   "cell_type": "code",
   "execution_count": 11,
   "metadata": {},
   "outputs": [
    {
     "name": "stdout",
     "output_type": "stream",
     "text": [
      "0 [1, 2, 3, 4, 5, 6, 7, 8] 9\n",
      "python main.py ['username', 'groups', '1', '2', '3']\n"
     ]
    }
   ],
   "source": [
    "# 可以使用*符号对多个对应的集合（迭代）项目进行解包\n",
    "head, *body, tail = range(10)\n",
    "print(head, body, tail)\n",
    "\n",
    "pyprogram, pyscript, *args = 'python main.py username groups 1 2 3'.split()\n",
    "print(pyprogram, pyscript, args)"
   ]
  },
  {
   "cell_type": "markdown",
   "metadata": {},
   "source": [
    "### Data classes (3.7+)\n",
    "\n",
    "#### dataclass修饰器\n",
    "\n",
    "dataclass一个python的修饰器，可以用来简便地创建创建python class，并自动生成一些特殊的类方法，如构造方法__init__，表示方法__repr__，对象相等比较方法__eq__等。示例：\n",
    "\n",
    "```python\n",
    "from dataclasses import dataclass\n",
    "\n",
    "@dataclass\n",
    "class MyClass():\n",
    "    name: str\n",
    "    age: int\n",
    "    desc: str\n",
    "```\n",
    "\n",
    "会创建一个MyClass类，具有成员属性name, age和desc，（成员可以设置默认值，相当于`__init__`中的参数带有默认值），注意这里定义的成员必须指定类型。\n",
    "\n",
    "```python\n",
    "mc1 = MyClass('John', 40, 'John Doe') # 执行__init__构建对象\n",
    "print(mc1) # 执行__repr__打印对象\n",
    "mc2 = MyClass('John', 40, 'John Doe')\n",
    "print(mc1==mc2) # 执行__eq__比较对象\n",
    "```\n",
    "\n",
    "输出：\n",
    "\n",
    "    MyClass(name='John', age=20, desc='John Doe')\n",
    "    True\n",
    "    \n",
    "dataclass修饰器的函数签名：\n",
    "\n",
    "    @dataclasses.dataclass(*, init=True, repr=True, eq=True, order=False, unsafe_hash=False, frozen=False)\n",
    "\n",
    "- order：是否创建`__lt__, __gt__, __le__, __ge__`方法\n",
    "- hash：是否创建`__hash__`方法\n",
    "- frozen：是否允许修改成员值，true的话对象将会成为不可变的\n",
    "\n",
    "#### field类\n",
    "\n",
    "field对象可以用来详细定义成员的设置，例如：\n",
    "\n",
    "```python\n",
    "from dataclasses import field\n",
    "\n",
    "@dataclass\n",
    "class MyClass():\n",
    "    name: str\n",
    "    age: int = None\n",
    "    desc: str = field(default='No description', repr= False, init=False, compare=False)\n",
    "```\n",
    "\n",
    "field类的函数签名：\n",
    "\n",
    "    dataclasses.field(*, default=MISSING, default_factory=MISSING, repr=True, hash=None, init=True, compare=True, metadata=None)\n",
    "\n",
    "- default：默认值\n",
    "- default_factory：默认值构造器，必须为一个无参的构造器，如`str, list, map`等\n",
    "- repr：是否出现在`__repr__`方法中\n",
    "- hash：是否作为哈希计算依据\n",
    "- init：是否出现在`__init__`方法中\n",
    "- compare：是否作为对象比较依据\n",
    "\n",
    "[dataclass官方说明](https://docs.python.org/3/library/dataclasses.html)"
   ]
  },
  {
   "cell_type": "code",
   "execution_count": null,
   "metadata": {},
   "outputs": [],
   "source": []
  }
 ],
 "metadata": {
  "kernelspec": {
   "display_name": "Python 3",
   "language": "python",
   "name": "python3"
  },
  "language_info": {
   "codemirror_mode": {
    "name": "ipython",
    "version": 3
   },
   "file_extension": ".py",
   "mimetype": "text/x-python",
   "name": "python",
   "nbconvert_exporter": "python",
   "pygments_lexer": "ipython3",
   "version": "3.6.5"
  }
 },
 "nbformat": 4,
 "nbformat_minor": 2
}
