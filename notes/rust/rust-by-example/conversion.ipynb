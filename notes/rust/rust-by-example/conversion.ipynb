{
 "cells": [
  {
   "cell_type": "markdown",
   "metadata": {},
   "source": [
    "# 类型转换"
   ]
  },
  {
   "cell_type": "code",
   "execution_count": 2,
   "metadata": {},
   "outputs": [],
   "source": [
    "// From trait\n",
    "\n",
    "use std::fmt;\n",
    "struct Celcius(f64);\n",
    "\n",
    "// implement a f64 conversion to Celcius\n",
    "impl From<f64> for Celcius {\n",
    "    fn from(c: f64) -> Celcius {\n",
    "        Celcius(c)\n",
    "    }\n",
    "}\n",
    "// implement a {} formatter conversion to String\n",
    "impl fmt::Display for Celcius {\n",
    "    fn fmt(&self, f: &mut fmt::Formatter) -> fmt::Result {\n",
    "        write!(f, \"{:.2}°C\", self.0)\n",
    "    }\n",
    "}\n",
    "\n",
    "struct Kelvin(f64);\n",
    "\n",
    "// implement a f64 conversion to Kelvin\n",
    "impl From<f64> for Kelvin {\n",
    "    fn from(k: f64) -> Kelvin {\n",
    "        Kelvin(k)\n",
    "    }\n",
    "}\n",
    "// implement a Kelvin conversion to Celcius\n",
    "impl From<&Kelvin> for Celcius {\n",
    "    fn from(k: &Kelvin) -> Celcius {\n",
    "        Celcius(k.0 - 273.15f64)\n",
    "    }\n",
    "}"
   ]
  },
  {
   "cell_type": "code",
   "execution_count": 3,
   "metadata": {},
   "outputs": [],
   "source": [
    "// ac is a Celcius, k is a Kelvin\n",
    "let ac = Celcius::from(37.0f64);\n",
    "let k = Kelvin::from(0.0);"
   ]
  },
  {
   "cell_type": "code",
   "execution_count": 4,
   "metadata": {},
   "outputs": [
    {
     "name": "stdout",
     "output_type": "stream",
     "text": [
      "37.00°C\n"
     ]
    },
    {
     "data": {
      "text/plain": [
       "()"
      ]
     },
     "execution_count": 4,
     "metadata": {},
     "output_type": "execute_result"
    }
   ],
   "source": [
    "// to string formatter\n",
    "println!(\"{}\", ac)"
   ]
  },
  {
   "cell_type": "code",
   "execution_count": 5,
   "metadata": {},
   "outputs": [
    {
     "name": "stdout",
     "output_type": "stream",
     "text": [
      "-273.15°C\n"
     ]
    }
   ],
   "source": [
    "// turn the Kelvin to Celcius\n",
    "let ac1: Celcius = (&k).into();\n",
    "println!(\"{}\", ac1);"
   ]
  },
  {
   "cell_type": "code",
   "execution_count": 6,
   "metadata": {},
   "outputs": [],
   "source": [
    "// TryFrom trait\n",
    "use std::convert::TryFrom;\n",
    "\n",
    "// Adult should be over 18 years old\n",
    "#[derive(Debug)]\n",
    "struct Adult {\n",
    "    name: String,\n",
    "    age: u8,\n",
    "}\n",
    "\n",
    "// any person structure\n",
    "#[derive(Debug)]\n",
    "struct Person {\n",
    "    name: String,\n",
    "    age: u8,\n",
    "}\n",
    "\n",
    "// try to convert a Person to an Adult\n",
    "impl TryFrom<Person> for Adult {\n",
    "    type Error = String; // error if not an adult\n",
    "    // implement try_from function, returns a Result, Adult on success, Err on failure\n",
    "    fn try_from(p: Person) -> Result<Self, Self::Error> {\n",
    "        match p.age {\n",
    "            // age 0-17, =17 is inclusive\n",
    "            0..=17 => Err(String::from(\"too young!\")),\n",
    "            _ => Ok(Adult{\n",
    "                name: p.name,\n",
    "                age: p.age,\n",
    "            }),\n",
    "        }\n",
    "    }\n",
    "}"
   ]
  },
  {
   "cell_type": "code",
   "execution_count": 7,
   "metadata": {},
   "outputs": [
    {
     "data": {
      "text/plain": [
       "Adult { name: \"John Doe\", age: 30 }"
      ]
     },
     "execution_count": 7,
     "metadata": {},
     "output_type": "execute_result"
    }
   ],
   "source": [
    "// John is an adult\n",
    "let p = Person{\n",
    "    name: String::from(\"John Doe\"),\n",
    "    age: 30,\n",
    "};\n",
    "let a = Adult::try_from(p).unwrap();\n",
    "a"
   ]
  },
  {
   "cell_type": "code",
   "execution_count": 8,
   "metadata": {},
   "outputs": [
    {
     "data": {
      "text/plain": [
       "Err(\"too young!\")"
      ]
     },
     "execution_count": 8,
     "metadata": {},
     "output_type": "execute_result"
    }
   ],
   "source": [
    "// Alice is too young for adult\n",
    "let child = Person {\n",
    "    name: String::from(\"Alice Moon\"),\n",
    "    age: 10,\n",
    "};\n",
    "let conv_err = Adult::try_from(child);\n",
    "conv_err"
   ]
  },
  {
   "cell_type": "code",
   "execution_count": null,
   "metadata": {},
   "outputs": [],
   "source": []
  }
 ],
 "metadata": {
  "kernelspec": {
   "display_name": "Rust",
   "language": "rust",
   "name": "rust"
  },
  "language_info": {
   "codemirror_mode": "rust",
   "file_extension": ".rs",
   "mimetype": "text/rust",
   "name": "Rust",
   "pygment_lexer": "rust",
   "version": ""
  }
 },
 "nbformat": 4,
 "nbformat_minor": 2
}
