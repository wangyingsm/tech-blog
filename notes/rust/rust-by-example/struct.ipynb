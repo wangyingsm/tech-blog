{
 "cells": [
  {
   "cell_type": "code",
   "execution_count": 2,
   "metadata": {},
   "outputs": [
    {
     "name": "stdout",
     "output_type": "stream",
     "text": [
      "Area: 9\n",
      "Square: Rectangle { p1: Point { x: 3.3, y: -0.5 }, p2: Point { x: 8.3, y: 4.5 } }\n"
     ]
    }
   ],
   "source": [
    "// 完成rust-by-example [3.2 structures] \n",
    "// https://doc.rust-lang.org/stable/rust-by-example/custom_types/structs.html\n",
    "// 练习\n",
    "\n",
    "#[derive(Debug)]\n",
    "struct Point {\n",
    "    x: f32,\n",
    "    y: f32,\n",
    "}\n",
    "\n",
    "#[derive(Debug)]\n",
    "struct Rectangle {\n",
    "    p1: Point,\n",
    "    p2: Point,\n",
    "}\n",
    "\n",
    "fn rect_area(r: Rectangle) -> f32 {\n",
    "    let Rectangle{\n",
    "        p1: Point{x: p1x, y: p1y},\n",
    "        p2: Point{x: p2x, y: p2y},\n",
    "    } = r;\n",
    "    let area = (p1x-p2x) * (p1y-p2y);\n",
    "    if area < 0f32 { -area } else { area }\n",
    "}\n",
    "\n",
    "fn square(p: Point, l: f32) -> Rectangle {\n",
    "    let side = if l < 0f32 { -l } else { l };\n",
    "    let ep = Point {x: p.x+side, y:p.y+side};\n",
    "    Rectangle {\n",
    "        p1: p,\n",
    "        p2: ep,\n",
    "    }\n",
    "}\n",
    "\n",
    "let p1 = Point{x: 3.3, y: -0.5,};\n",
    "let p2 = Point{x: -5.7, y: 0.5,};\n",
    "println!(\"Area: {}\", rect_area(Rectangle{\n",
    "    p1: p1,\n",
    "    p2: p2,\n",
    "}));\n",
    "let p1 = Point{x: 3.3, y: -0.5,};\n",
    "println!(\"Square: {:?}\", square(p1, -5.0));"
   ]
  },
  {
   "cell_type": "code",
   "execution_count": null,
   "metadata": {},
   "outputs": [],
   "source": []
  }
 ],
 "metadata": {
  "kernelspec": {
   "display_name": "Rust",
   "language": "rust",
   "name": "rust"
  },
  "language_info": {
   "codemirror_mode": "rust",
   "file_extension": ".rs",
   "mimetype": "text/rust",
   "name": "Rust",
   "pygment_lexer": "rust",
   "version": ""
  }
 },
 "nbformat": 4,
 "nbformat_minor": 2
}
