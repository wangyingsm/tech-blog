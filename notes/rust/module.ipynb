{
 "cells": [
  {
   "cell_type": "markdown",
   "metadata": {},
   "source": [
    "# Modules, path, privacy"
   ]
  },
  {
   "cell_type": "markdown",
   "metadata": {},
   "source": [
    "## modules\n",
    "\n",
    "- 所有的rust项目都会组织成一棵模块树，根是crate\n",
    "- 模块只有两个功能，一是组织代码，而是定义可见性\n",
    "- path就是模块在树中的路径，也是引用模块的方法\n",
    "- pub关键字让模块内容在外部可见"
   ]
  },
  {
   "cell_type": "code",
   "execution_count": 5,
   "metadata": {},
   "outputs": [],
   "source": [
    "mod front_of_house {\n",
    "    pub mod hosting {\n",
    "        pub fn add_to_wait_list(){\n",
    "            println!(\"in wait list adding.\");\n",
    "        }\n",
    "        fn sear_at_table(){}\n",
    "    }\n",
    "    mod serving {\n",
    "        fn take_order(){}\n",
    "        fn serve_order(){}\n",
    "        fn take_payment(){}\n",
    "    }\n",
    "}"
   ]
  },
  {
   "cell_type": "code",
   "execution_count": 8,
   "metadata": {},
   "outputs": [
    {
     "name": "stdout",
     "output_type": "stream",
     "text": [
      "in wait list adding.\n"
     ]
    }
   ],
   "source": [
    "// 使用绝对路径访问函数\n",
    "crate::front_of_house::hosting::add_to_wait_list();"
   ]
  },
  {
   "cell_type": "code",
   "execution_count": 10,
   "metadata": {},
   "outputs": [
    {
     "name": "stdout",
     "output_type": "stream",
     "text": [
      "in wait list adding.\n"
     ]
    }
   ],
   "source": [
    "// 使用相对路径访问函数\n",
    "front_of_house::hosting::add_to_wait_list();"
   ]
  },
  {
   "cell_type": "code",
   "execution_count": 11,
   "metadata": {},
   "outputs": [],
   "source": [
    "// 定义一个函数使用add_to_wait_list\n",
    "fn have_dinner() {\n",
    "    use front_of_house::hosting;\n",
    "    hosting::add_to_wait_list();\n",
    "}"
   ]
  },
  {
   "cell_type": "code",
   "execution_count": 12,
   "metadata": {},
   "outputs": [
    {
     "name": "stdout",
     "output_type": "stream",
     "text": [
      "in wait list adding.\n"
     ]
    }
   ],
   "source": [
    "// have_dinner属于模块crate\n",
    "crate::have_dinner();"
   ]
  },
  {
   "cell_type": "code",
   "execution_count": 13,
   "metadata": {},
   "outputs": [],
   "source": [
    "mod dinning {\n",
    "    pub fn have_dinner(){ // 在不同模块中可以定义同名的函数\n",
    "        use super::front_of_house::hosting; // 使用super引用父级模块内容\n",
    "        hosting::add_to_wait_list();\n",
    "    }\n",
    "}"
   ]
  },
  {
   "cell_type": "code",
   "execution_count": 14,
   "metadata": {},
   "outputs": [
    {
     "name": "stdout",
     "output_type": "stream",
     "text": [
      "in wait list adding.\n"
     ]
    }
   ],
   "source": [
    "dinning::have_dinner();"
   ]
  },
  {
   "cell_type": "markdown",
   "metadata": {},
   "source": [
    "### 模块中struct和enum的可见性\n",
    "\n",
    "- module中的函数，struct和enum默认private，要公开可见，必须使用pub\n",
    "- 公有struct中的字段默认private，要公开可见，必须对每个公有字段使用pub\n",
    "- 公有enum中的字段默认public"
   ]
  },
  {
   "cell_type": "code",
   "execution_count": 16,
   "metadata": {},
   "outputs": [],
   "source": [
    "mod back_of_house {\n",
    "    #[derive(Debug)]\n",
    "    pub enum MainCourse { // enum为pub，所有字段默认为pub\n",
    "        Bread,\n",
    "        Rice,\n",
    "    }\n",
    "    #[derive(Debug)]\n",
    "    pub struct Dinner { // Dinner为pub，mc为pub，fruid为private\n",
    "        pub mc: MainCourse,\n",
    "        fruid: String,\n",
    "    }\n",
    "    impl Dinner {\n",
    "        pub fn new_dinner(course: MainCourse) -> Dinner { \n",
    "            // 由于fruid为private，因此必须有这个函数用于创建Dinner struct\n",
    "            Dinner {\n",
    "                mc: course,\n",
    "                fruid: String::from(\"Banana\"),\n",
    "            }\n",
    "        }\n",
    "    }\n",
    "}"
   ]
  },
  {
   "cell_type": "code",
   "execution_count": 18,
   "metadata": {},
   "outputs": [
    {
     "data": {
      "text/plain": [
       "Dinner { mc: Bread, fruid: \"Banana\" }"
      ]
     },
     "execution_count": 18,
     "metadata": {},
     "output_type": "execute_result"
    }
   ],
   "source": [
    "back_of_house::Dinner::new_dinner(back_of_house::MainCourse::Bread)"
   ]
  },
  {
   "cell_type": "markdown",
   "metadata": {},
   "source": [
    "### use技巧\n",
    "\n",
    "- 当引入函数时，请保留函数的父级模块，然后使用`module::func()`的语法来调用\n",
    "- 当引入struct，enum时，不要保留函数的父级模块，直接引入到具体的结构体或枚举\n",
    "- 上一条规则有个例外，如果你把两个同名的结构体或枚举引入到统一模块当中，你需要保留父级模块来指定，或者采用`as`别名的方式\n",
    "\n",
    "因此上一行代码应该改写为："
   ]
  },
  {
   "cell_type": "code",
   "execution_count": 19,
   "metadata": {},
   "outputs": [
    {
     "data": {
      "text/plain": [
       "Dinner { mc: Rice, fruid: \"Banana\" }"
      ]
     },
     "execution_count": 19,
     "metadata": {},
     "output_type": "execute_result"
    }
   ],
   "source": [
    "use back_of_house::{Dinner, MainCourse};\n",
    "Dinner::new_dinner(MainCourse::Rice)"
   ]
  },
  {
   "cell_type": "markdown",
   "metadata": {},
   "source": [
    "### pub use\n",
    "\n",
    "当编写lib代码时，我们可以通过pub use将内层模块的函数，结构体或枚举重新公有输出给外部调用者。例如我们想将MainCourse输出给外部调用者直接调用，可以写：\n",
    "\n",
    "```rust\n",
    "pub use back_of_house::MainCourse;\n",
    "```\n",
    "\n",
    "假设这个lib打包成restaurant，那么外部用户就可以使用\n",
    "\n",
    "```rust\n",
    "extern crate restaurant;\n",
    "\n",
    "use restaurant::MainCourse;\n",
    "```\n",
    "\n",
    "来引入MainCourse了。"
   ]
  },
  {
   "cell_type": "markdown",
   "metadata": {},
   "source": [
    "### 引入外部包\n",
    "\n",
    "在`cargo`的`cargo.toml`文件中加入依赖，cargo会自动帮你下载外部的包及相应依赖\n",
    "\n",
    "```toml\n",
    "[dependencies]\n",
    "rand = \"0.5.5\"\n",
    "```\n",
    "\n",
    "与下面notebook的指令一致："
   ]
  },
  {
   "cell_type": "code",
   "execution_count": 23,
   "metadata": {},
   "outputs": [],
   "source": [
    ":dep rand=\"0.5.5\""
   ]
  },
  {
   "cell_type": "code",
   "execution_count": 24,
   "metadata": {},
   "outputs": [
    {
     "data": {
      "text/plain": [
       "704"
      ]
     },
     "execution_count": 24,
     "metadata": {},
     "output_type": "execute_result"
    }
   ],
   "source": [
    "use rand::Rng;\n",
    "rand::thread_rng().gen_range(1, 1001)"
   ]
  },
  {
   "cell_type": "code",
   "execution_count": null,
   "metadata": {},
   "outputs": [],
   "source": []
  }
 ],
 "metadata": {
  "kernelspec": {
   "display_name": "Rust",
   "language": "rust",
   "name": "rust"
  },
  "language_info": {
   "codemirror_mode": "rust",
   "file_extension": ".rs",
   "mimetype": "text/rust",
   "name": "Rust",
   "pygment_lexer": "rust",
   "version": ""
  }
 },
 "nbformat": 4,
 "nbformat_minor": 2
}
