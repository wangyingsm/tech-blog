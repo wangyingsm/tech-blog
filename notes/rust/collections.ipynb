{
 "cells": [
  {
   "cell_type": "markdown",
   "metadata": {},
   "source": [
    "# 通用集合类型"
   ]
  },
  {
   "cell_type": "markdown",
   "metadata": {},
   "source": [
    "## Vector"
   ]
  },
  {
   "cell_type": "markdown",
   "metadata": {},
   "source": [
    "### 初始化\n",
    "\n",
    "Vector是rust当中用来存储一系列同样类型数据的集合类型，是rust内置标准库的一部分，命名空间为`Vec`。\n",
    "\n",
    "Vector底层的存储是以数组实现的，支持动态扩容，是rust当中使用最广泛的序列。\n",
    "\n",
    "> 和Go比较，实际上是相通的，Vector等同于Go当中的Slice，双方的底层存储都是数组，都只能存储相同类型的元素，都支持扩容操作、长度可变。"
   ]
  },
  {
   "cell_type": "code",
   "execution_count": 2,
   "metadata": {},
   "outputs": [],
   "source": [
    "let mut v: Vec<i32> = Vec::new();  // 初始化一个空的Vec"
   ]
  },
  {
   "cell_type": "code",
   "execution_count": 3,
   "metadata": {},
   "outputs": [],
   "source": [
    "v.push(1);"
   ]
  },
  {
   "cell_type": "code",
   "execution_count": 4,
   "metadata": {},
   "outputs": [],
   "source": [
    "v.push(2);"
   ]
  },
  {
   "cell_type": "code",
   "execution_count": 5,
   "metadata": {},
   "outputs": [],
   "source": [
    "v.push(3);"
   ]
  },
  {
   "cell_type": "code",
   "execution_count": 6,
   "metadata": {},
   "outputs": [
    {
     "data": {
      "text/plain": [
       "[1, 2, 3]"
      ]
     },
     "execution_count": 6,
     "metadata": {},
     "output_type": "execute_result"
    }
   ],
   "source": [
    "v"
   ]
  },
  {
   "cell_type": "code",
   "execution_count": 7,
   "metadata": {},
   "outputs": [
    {
     "data": {
      "text/plain": [
       "[1, 2, 3]"
      ]
     },
     "execution_count": 7,
     "metadata": {},
     "output_type": "execute_result"
    }
   ],
   "source": [
    "// 上述语句可以合成一句宏\n",
    "let mut v1: Vec<i32> = vec![1,2,3];\n",
    "v1"
   ]
  },
  {
   "cell_type": "code",
   "execution_count": 8,
   "metadata": {},
   "outputs": [
    {
     "data": {
      "text/plain": [
       "[]"
      ]
     },
     "execution_count": 8,
     "metadata": {},
     "output_type": "execute_result"
    }
   ],
   "source": [
    "// 初始化Vec，容量为10\n",
    "let mut v2: Vec<i32> = Vec::with_capacity(10);\n",
    "v2"
   ]
  },
  {
   "cell_type": "code",
   "execution_count": 9,
   "metadata": {},
   "outputs": [
    {
     "data": {
      "text/plain": [
       "3"
      ]
     },
     "execution_count": 9,
     "metadata": {},
     "output_type": "execute_result"
    }
   ],
   "source": [
    "// 直接取值，不安全，跨界访问会panic，例如v[3]\n",
    "v[2]"
   ]
  },
  {
   "cell_type": "code",
   "execution_count": 10,
   "metadata": {},
   "outputs": [
    {
     "data": {
      "text/plain": [
       "Some(3)"
      ]
     },
     "execution_count": 10,
     "metadata": {},
     "output_type": "execute_result"
    }
   ],
   "source": [
    "// 安全取值\n",
    "v.get(2)"
   ]
  },
  {
   "cell_type": "code",
   "execution_count": 11,
   "metadata": {},
   "outputs": [
    {
     "data": {
      "text/plain": [
       "None"
      ]
     },
     "execution_count": 11,
     "metadata": {},
     "output_type": "execute_result"
    }
   ],
   "source": [
    "// 跨界安全取值不会panic\n",
    "v.get(3)"
   ]
  },
  {
   "cell_type": "code",
   "execution_count": 12,
   "metadata": {},
   "outputs": [
    {
     "data": {
      "text/plain": [
       "Some(3)"
      ]
     },
     "execution_count": 12,
     "metadata": {},
     "output_type": "execute_result"
    }
   ],
   "source": [
    "// 从末尾取值并删除\n",
    "v.pop()"
   ]
  },
  {
   "cell_type": "code",
   "execution_count": 13,
   "metadata": {},
   "outputs": [
    {
     "data": {
      "text/plain": [
       "[1, 2]"
      ]
     },
     "execution_count": 13,
     "metadata": {},
     "output_type": "execute_result"
    }
   ],
   "source": [
    "v"
   ]
  },
  {
   "cell_type": "code",
   "execution_count": 14,
   "metadata": {},
   "outputs": [
    {
     "ename": "Error",
     "evalue": "`v3` does not live long enough",
     "output_type": "error",
     "traceback": [
      "let e0 = &v3[0];",
      "\u001b[91m          ^^\u001b[0m \u001b[94mborrowed value does not live long enough\u001b[0m",
      "`v3` does not live long enough"
     ]
    },
    {
     "ename": "Error",
     "evalue": "cannot move out of `v3` because it is borrowed",
     "output_type": "error",
     "traceback": [
      "let e0 = &v3[0];",
      "\u001b[91m          ^^\u001b[0m \u001b[94mborrow of `v3` occurs here\u001b[0m",
      "cannot move out of `v3` because it is borrowed"
     ]
    }
   ],
   "source": [
    "let mut v3 = vec![1, 2, 3];\n",
    "let e0 = &v3[0];\n",
    "// 编译错误，提示无法将vector既使用不可变borrow，又使用可变borrow\n",
    "// 这个错误为了避免数据错误，因为当vector容量不足时，底层数组会扩容\n",
    "// 此时e0的引用将会不可用，发生未定义的结果，这是rust不允许\n",
    "// v3.push(4)"
   ]
  },
  {
   "cell_type": "code",
   "execution_count": 16,
   "metadata": {},
   "outputs": [
    {
     "ename": "Error",
     "evalue": "no method named `parse` found for type `std::ops::Range<{integer}>` in the current scope",
     "output_type": "error",
     "traceback": [
      "(1..10).parse::<Vec>()",
      "\u001b[91m        ^^^^^\u001b[0m \u001b[94m\u001b[0m",
      "no method named `parse` found for type `std::ops::Range<{integer}>` in the current scope"
     ]
    }
   ],
   "source": [
    "(1..10).parse::<Vec>()"
   ]
  },
  {
   "cell_type": "code",
   "execution_count": null,
   "metadata": {},
   "outputs": [],
   "source": []
  }
 ],
 "metadata": {
  "kernelspec": {
   "display_name": "Rust",
   "language": "rust",
   "name": "rust"
  },
  "language_info": {
   "codemirror_mode": "rust",
   "file_extension": ".rs",
   "mimetype": "text/rust",
   "name": "Rust",
   "pygment_lexer": "rust",
   "version": ""
  }
 },
 "nbformat": 4,
 "nbformat_minor": 2
}
