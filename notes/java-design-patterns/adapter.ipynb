{
 "cells": [
  {
   "cell_type": "markdown",
   "metadata": {},
   "source": [
    "# 适配器模式\n",
    "\n",
    "## 目标\n",
    "\n",
    "将一个类型的接口转换到另外一个类型的接口，提供给调用者使用。额外提供的适配器不需要服务提供者和调用者修改任何代码。"
   ]
  },
  {
   "cell_type": "code",
   "execution_count": 1,
   "metadata": {},
   "outputs": [],
   "source": [
    "// 水形态枚举类\n",
    "public enum WaterState {\n",
    "    SOLID, LIQUID, GAS;\n",
    "    @Override\n",
    "    public String toString() {\n",
    "        switch(this) {\n",
    "            case SOLID:\n",
    "                return \"固态\";\n",
    "            case LIQUID:\n",
    "                return \"液态\";\n",
    "            case GAS:\n",
    "                return \"气态\";\n",
    "            default:\n",
    "                return null;\n",
    "        }\n",
    "    }\n",
    "}"
   ]
  },
  {
   "cell_type": "code",
   "execution_count": 2,
   "metadata": {},
   "outputs": [],
   "source": [
    "// 甲的API提供了使用开尔文温度表示的水的形态接口\n",
    "public interface JudgeWaterStateKelvin {\n",
    "    WaterState getStateByKelvin(double kelvin);\n",
    "}\n",
    "\n",
    "// 甲的实现类\n",
    "public class KelvinWaterJudger implements JudgeWaterStateKelvin {\n",
    "    @Override\n",
    "    public WaterState getStateByKelvin(double kelvin) {\n",
    "        if(kelvin < 273.15) {\n",
    "            return WaterState.SOLID;\n",
    "        } else if(kelvin < 373.15) {\n",
    "            return WaterState.LIQUID;\n",
    "        } else {\n",
    "            return WaterState.GAS;\n",
    "        }\n",
    "    }\n",
    "}"
   ]
  },
  {
   "cell_type": "code",
   "execution_count": 3,
   "metadata": {},
   "outputs": [],
   "source": [
    "// 乙的API提供了使用摄氏度表示的水的形态接口，调用方原本调用的就是这个接口\n",
    "public interface JudgeWaterStateCelsius {\n",
    "    WaterState getStateByCelsius(double kelvin);\n",
    "}\n",
    "\n",
    "// 乙的实现类\n",
    "public class CelsiusWaterJudger implements JudgeWaterStateCelsius {\n",
    "    @Override\n",
    "    public WaterState getStateByCelsius(double celsius) {\n",
    "        if(celsius < 0) {\n",
    "            return WaterState.SOLID;\n",
    "        } else if(celsius < 100) {\n",
    "            return WaterState.LIQUID;\n",
    "        } else {\n",
    "            return WaterState.GAS;\n",
    "        }\n",
    "    }\n",
    "}"
   ]
  },
  {
   "cell_type": "code",
   "execution_count": 4,
   "metadata": {},
   "outputs": [],
   "source": [
    "// 为了让甲和调用方都不修改代码，添加一个适配器类\n",
    "public class KelvinWaterAdapter implements JudgeWaterStateCelsius {\n",
    "    private KelvinWaterJudger kelvinJudger = new KelvinWaterJudger();\n",
    "    @Override\n",
    "    public WaterState getStateByCelsius(double celsius) {\n",
    "        double kelvin = celsius + 273.15;\n",
    "        return kelvinJudger.getStateByKelvin(kelvin);\n",
    "    }\n",
    "}"
   ]
  },
  {
   "cell_type": "code",
   "execution_count": 5,
   "metadata": {},
   "outputs": [],
   "source": [
    "// 调用者类\n",
    "public class WaterStateClient {\n",
    "    private JudgeWaterStateCelsius judger;\n",
    "    public WaterStateClient(JudgeWaterStateCelsius judger) {\n",
    "        this.judger = judger;\n",
    "    }\n",
    "    public void setJudger(JudgeWaterStateCelsius judger) {\n",
    "        this.judger = judger;\n",
    "    }\n",
    "    public WaterState getState(double temp) {\n",
    "        return judger.getStateByCelsius(temp);\n",
    "    }\n",
    "}"
   ]
  },
  {
   "cell_type": "code",
   "execution_count": 6,
   "metadata": {},
   "outputs": [],
   "source": [
    "// 测试主类\n",
    "public class App {\n",
    "    public static void main(String[] args) {\n",
    "        // 原来调用乙API的方式\n",
    "        WaterStateClient client = new WaterStateClient(new CelsiusWaterJudger());\n",
    "        test(client);\n",
    "        // 现在调用甲API的方式，甲API代码完全不用修改，调用方代码基本不用修改\n",
    "        client.setJudger(new KelvinWaterAdapter());\n",
    "        test(client);\n",
    "    }\n",
    "    \n",
    "    public static void test(WaterStateClient client) {\n",
    "        System.out.println(String.format(\"%.2f 摄氏度 水形态为 %s\", -10.0, client.getState(-10)));\n",
    "        System.out.println(String.format(\"%.2f 摄氏度 水形态为 %s\", 37.5, client.getState(37.5)));\n",
    "        System.out.println(String.format(\"%.2f 摄氏度 水形态为 %s\", 234.1, client.getState(234.1)));\n",
    "    }\n",
    "}"
   ]
  },
  {
   "cell_type": "code",
   "execution_count": 7,
   "metadata": {},
   "outputs": [
    {
     "name": "stdout",
     "output_type": "stream",
     "text": [
      "-10.00 摄氏度 水形态为 固态\n",
      "37.50 摄氏度 水形态为 液态\n",
      "234.10 摄氏度 水形态为 气态\n",
      "-10.00 摄氏度 水形态为 固态\n",
      "37.50 摄氏度 水形态为 液态\n",
      "234.10 摄氏度 水形态为 气态\n"
     ]
    }
   ],
   "source": [
    "new App().main(null)"
   ]
  },
  {
   "cell_type": "code",
   "execution_count": null,
   "metadata": {},
   "outputs": [],
   "source": []
  }
 ],
 "metadata": {
  "kernelspec": {
   "display_name": "Java",
   "language": "java",
   "name": "java"
  },
  "language_info": {
   "codemirror_mode": "java",
   "file_extension": ".java",
   "mimetype": "text/x-java-source",
   "name": "Java",
   "pygments_lexer": "java",
   "version": "10.0.1+10"
  }
 },
 "nbformat": 4,
 "nbformat_minor": 2
}
