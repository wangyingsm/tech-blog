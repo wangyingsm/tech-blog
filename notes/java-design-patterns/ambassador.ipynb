{
 "cells": [
  {
   "cell_type": "markdown",
   "metadata": {},
   "source": [
    "# 大使模式\n",
    "\n",
    "## 目标\n",
    "\n",
    "将调用远程服务时的一些通用功能从调用者业务代码中解耦合出来，独立成一个代理模块，由于通常应用在远程调用当中，因此像远程服务的大使一样，称为大使模式。\n",
    "\n",
    "在微服务框架中，大使模式是使用非常频繁的。\n",
    "\n",
    "![大使模式](pic/ambassador.png)\n",
    "\n",
    "## 应用场景\n",
    "\n",
    "- 远程调用的权限控制\n",
    "- 实现远程调用日志功能\n",
    "- 实现微服务熔断\n",
    "- 远程服务负载限流\n",
    "- 自适应网络连接"
   ]
  },
  {
   "cell_type": "code",
   "execution_count": 1,
   "metadata": {},
   "outputs": [],
   "source": [
    "%maven ch.qos.logback:logback-classic:1.2.3\n",
    "%maven org.slf4j:slf4j-api:1.7.25\n",
    "%maven org.apache.commons:commons-lang3:3.7"
   ]
  },
  {
   "cell_type": "code",
   "execution_count": 2,
   "metadata": {},
   "outputs": [],
   "source": [
    "import org.slf4j.Logger;\n",
    "import org.slf4j.LoggerFactory;\n",
    "import org.apache.commons.lang3.RandomUtils;"
   ]
  },
  {
   "cell_type": "code",
   "execution_count": 3,
   "metadata": {},
   "outputs": [],
   "source": [
    "// 远程服务接口及实现\n",
    "public interface RemoteService {\n",
    "    int remoteAdd(int x, int y) throws IOException;\n",
    "}\n",
    "\n",
    "// 远程服务实现成单例模式\n",
    "public class RemoteServiceImpl implements RemoteService {\n",
    "    private final Logger LOGGER = LoggerFactory.getLogger(getClass());\n",
    "    private static RemoteService service = null;\n",
    "    private RemoteServiceImpl() {}\n",
    "    \n",
    "    public static synchronized RemoteService getInstance() {\n",
    "        if(service == null) {\n",
    "            service = new RemoteServiceImpl();\n",
    "        }\n",
    "        return service;\n",
    "    }\n",
    "    \n",
    "    // 模拟时延及发生错误的情况，发生概率约1/3，不发生错误时返回x，y之和\n",
    "    @Override\n",
    "    public int remoteAdd(int x, int y) throws IOException{\n",
    "        try {\n",
    "            // 每次调用随记模拟50ms - 500ms的时延\n",
    "            Thread.sleep(RandomUtils.nextLong(50, 500));\n",
    "        } catch (InterruptedException e) {\n",
    "            // pass\n",
    "        }\n",
    "        int state = RandomUtils.nextInt(0,3);\n",
    "        if(state == 0) {\n",
    "            LOGGER.error(\"模拟远程调用发生错误\");\n",
    "            throw new IOException(\"远程服务发生错误\");\n",
    "        } \n",
    "        return x+y;\n",
    "    }\n",
    "}"
   ]
  },
  {
   "cell_type": "code",
   "execution_count": 4,
   "metadata": {},
   "outputs": [],
   "source": [
    "// 客户端调用\n",
    "public class RemoteServiceClient {\n",
    "    private final Logger LOGGER = LoggerFactory.getLogger(getClass());\n",
    "    private RemoteService remote;\n",
    "    private int x, y;\n",
    "    public RemoteServiceClient(RemoteService remote, int x, int y) {\n",
    "        this.remote = remote;\n",
    "        this.x = x;\n",
    "        this.y = y;\n",
    "    }\n",
    "    public void setRemote(RemoteService remote) { this.remote = remote; }\n",
    "    public int getX() { return x; }\n",
    "    public void setX(int x) { this.x = x; }\n",
    "    public int getY() { return y; }\n",
    "    public void setY(int y) { this.y = y; }\n",
    "    \n",
    "    public int sum() throws IllegalArgumentException, IOException{\n",
    "        if(remote == null) {\n",
    "            LOGGER.error(\"远程服务对象不能为空\");\n",
    "            throw new IllegalArgumentException(\"远程服务对象不能为空\");\n",
    "        }\n",
    "        return remote.remoteAdd(x, y);\n",
    "    }\n",
    "}"
   ]
  },
  {
   "cell_type": "code",
   "execution_count": 5,
   "metadata": {},
   "outputs": [],
   "source": [
    "// 大使模式实现类，实现错误重试，调用时间，日志记录通用功能\n",
    "public class RemoteServiceAmbassador implements RemoteService {\n",
    "    private final Logger LOGGER = LoggerFactory.getLogger(getClass());\n",
    "    // 大使对象中包含真正的远程服务对象\n",
    "    private RemoteService service = RemoteServiceImpl.getInstance();\n",
    "    private static final int RETRIES = 3;\n",
    "    \n",
    "    @Override\n",
    "    public int remoteAdd(int x, int y) throws IOException {\n",
    "        long start = System.currentTimeMillis();\n",
    "        LOGGER.info(\"开始调用远程服务: x={}, y={}\", x, y);\n",
    "        int tryTimes = 0;\n",
    "        boolean success = false;\n",
    "        int result = 0;\n",
    "        while(tryTimes < RETRIES) {\n",
    "            try {\n",
    "                result = service.remoteAdd(x, y);\n",
    "                success = true;\n",
    "                break;\n",
    "            } catch (IOException e) {\n",
    "                tryTimes ++;\n",
    "                LOGGER.error(\"请求错误: {}, 进行第 {} 次重试\", e.getMessage(), tryTimes);\n",
    "            }\n",
    "        }\n",
    "        LOGGER.info(\"远程服务调用时间: {}ms\", System.currentTimeMillis()-start);\n",
    "        if(!success) {\n",
    "            throw new IOException(\"远程服务调用失败\");\n",
    "        }\n",
    "        LOGGER.info(\"远程服务返回结果: {}\", result);\n",
    "        return result;\n",
    "    }\n",
    "}"
   ]
  },
  {
   "cell_type": "code",
   "execution_count": 6,
   "metadata": {},
   "outputs": [],
   "source": [
    "// 测试主类\n",
    "public class App {\n",
    "    public static void main(String[] args) throws IOException {\n",
    "        // 无大使模式时的调用方式\n",
    "        RemoteServiceClient client = new RemoteServiceClient(RemoteServiceImpl.getInstance(),\n",
    "            100, 20);\n",
    "        System.out.println(String.format(\"%d + %d = %d\", client.getX(), client.getY(), \n",
    "            client.sum()));\n",
    "        // 使用大使模式的调用方式\n",
    "        client.setRemote(new RemoteServiceAmbassador());\n",
    "        client.setX(123);\n",
    "        client.setY(456);\n",
    "        System.out.println(String.format(\"%d + %d = %d\", client.getX(), client.getY(), \n",
    "            client.sum()));\n",
    "    }\n",
    "}"
   ]
  },
  {
   "cell_type": "code",
   "execution_count": 10,
   "metadata": {},
   "outputs": [],
   "source": [
    "// 每次调用都会有不同的结果，下面是尝试多次后留下的集中典型结果\n",
    "App app = new App()"
   ]
  },
  {
   "cell_type": "code",
   "execution_count": 11,
   "metadata": {},
   "outputs": [
    {
     "name": "stdout",
     "output_type": "stream",
     "text": [
      "100 + 20 = 120\n"
     ]
    },
    {
     "name": "stderr",
     "output_type": "stream",
     "text": [
      "[IJava-executor-0] INFO REPL.$JShell$31$RemoteServiceAmbassador - 开始调用远程服务: x=123, y=456\n",
      "[IJava-executor-0] INFO REPL.$JShell$31$RemoteServiceAmbassador - 远程服务调用时间: 226ms\n",
      "[IJava-executor-0] INFO REPL.$JShell$31$RemoteServiceAmbassador - 远程服务返回结果: 579\n"
     ]
    },
    {
     "name": "stdout",
     "output_type": "stream",
     "text": [
      "123 + 456 = 579\n"
     ]
    }
   ],
   "source": [
    "// 两次调用都立刻成功返回，使用大使模式调用时得到了服务调用时间和调用日志\n",
    "app.main(null)"
   ]
  },
  {
   "cell_type": "code",
   "execution_count": 13,
   "metadata": {},
   "outputs": [
    {
     "name": "stderr",
     "output_type": "stream",
     "text": [
      "[IJava-executor-0] ERROR REPL.$JShell$29$RemoteServiceImpl - 模拟远程调用发生错误\n"
     ]
    },
    {
     "ename": "EvalException",
     "evalue": "远程服务发生错误",
     "output_type": "error",
     "traceback": [
      "\u001b[1m\u001b[31m---------------------------------------------------------------------------\u001b[0m",
      "\u001b[1m\u001b[31mjava.io.IOException: 远程服务发生错误\u001b[0m",
      "\u001b[1m\u001b[31m\tat RemoteServiceImpl.remoteAdd(#29:1)\u001b[0m",
      "\u001b[1m\u001b[31m\tat RemoteServiceClient.sum(#30:22)\u001b[0m",
      "\u001b[1m\u001b[31m\tat App.main(#32:8)\u001b[0m",
      "\u001b[1m\u001b[31m\tat .(#39:1)\u001b[0m"
     ]
    }
   ],
   "source": [
    "// 第一次调用时远程服务发生错误，主线程直接终止，第二次调用没有发生\n",
    "app.main(null)"
   ]
  },
  {
   "cell_type": "code",
   "execution_count": 15,
   "metadata": {},
   "outputs": [
    {
     "name": "stdout",
     "output_type": "stream",
     "text": [
      "100 + 20 = 120\n"
     ]
    },
    {
     "name": "stderr",
     "output_type": "stream",
     "text": [
      "[IJava-executor-0] INFO REPL.$JShell$31$RemoteServiceAmbassador - 开始调用远程服务: x=123, y=456\n",
      "[IJava-executor-0] ERROR REPL.$JShell$29$RemoteServiceImpl - 模拟远程调用发生错误\n",
      "[IJava-executor-0] ERROR REPL.$JShell$31$RemoteServiceAmbassador - 请求错误: 远程服务发生错误, 进行第 1 次重试\n",
      "[IJava-executor-0] ERROR REPL.$JShell$29$RemoteServiceImpl - 模拟远程调用发生错误\n",
      "[IJava-executor-0] ERROR REPL.$JShell$31$RemoteServiceAmbassador - 请求错误: 远程服务发生错误, 进行第 2 次重试\n",
      "[IJava-executor-0] INFO REPL.$JShell$31$RemoteServiceAmbassador - 远程服务调用时间: 573ms\n",
      "[IJava-executor-0] INFO REPL.$JShell$31$RemoteServiceAmbassador - 远程服务返回结果: 579\n"
     ]
    },
    {
     "name": "stdout",
     "output_type": "stream",
     "text": [
      "123 + 456 = 579\n"
     ]
    }
   ],
   "source": [
    "// 第一次调用时成功返回，第二次调用时发生了两次错误，大使模式帮助进行了两次重试后获得结果\n",
    "app.main(null)"
   ]
  }
 ],
 "metadata": {
  "kernelspec": {
   "display_name": "Java",
   "language": "java",
   "name": "java"
  },
  "language_info": {
   "codemirror_mode": "java",
   "file_extension": ".java",
   "mimetype": "text/x-java-source",
   "name": "Java",
   "pygments_lexer": "java",
   "version": "10.0.1+10"
  }
 },
 "nbformat": 4,
 "nbformat_minor": 2
}
