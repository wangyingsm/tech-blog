{
 "cells": [
  {
   "cell_type": "code",
   "execution_count": 1,
   "metadata": {},
   "outputs": [],
   "source": [
    "import json\n",
    "class Step():\n",
    "    def __init__(self, sid, preconditions=None, postconditions=None):\n",
    "        self.sid=sid\n",
    "        self.duration=60+ord(sid)-ord('A')+1\n",
    "        self.preconditions=preconditions\n",
    "        self.postconditions=postconditions\n",
    "        self.finished=False\n",
    "    def addPrecondition(self, precondition):\n",
    "        if self.preconditions == None:\n",
    "            self.preconditions = []\n",
    "        self.preconditions.append(precondition)\n",
    "    def addPostcondition(self, postcondition):\n",
    "        if self.postconditions == None:\n",
    "            self.postconditions = []\n",
    "        self.postconditions.append(postcondition)\n",
    "    def __repr__(self):\n",
    "        return json.dumps(self.__dict__)"
   ]
  },
  {
   "cell_type": "code",
   "execution_count": 2,
   "metadata": {},
   "outputs": [],
   "source": [
    "def input(file='day7.txt'):\n",
    "    steps = {}\n",
    "    with open(file) as fn:\n",
    "        line = fn.readline()\n",
    "        while line:\n",
    "            words = line.split(' ')\n",
    "            pre = words[1]\n",
    "            post = words[7]\n",
    "            steps.setdefault(pre, Step(pre))\n",
    "            steps.setdefault(post, Step(post))\n",
    "            steps[pre].addPostcondition(post)\n",
    "            steps[post].addPrecondition(pre)\n",
    "            line = fn.readline()\n",
    "    return steps"
   ]
  },
  {
   "cell_type": "code",
   "execution_count": 3,
   "metadata": {},
   "outputs": [
    {
     "data": {
      "text/plain": [
       "'MNQKRSFWGXPZJCOTVYEBLAHIUD'"
      ]
     },
     "execution_count": 3,
     "metadata": {},
     "output_type": "execute_result"
    }
   ],
   "source": [
    "steps = input()\n",
    "def getRoot():\n",
    "    avail_steps = []\n",
    "    for k, v in steps.items():\n",
    "        if v.preconditions == None:\n",
    "            avail_steps.append(k)\n",
    "    return avail_steps\n",
    "avail_steps = getRoot()\n",
    "\n",
    "seq = ''\n",
    "while len(avail_steps)>0:\n",
    "    avail_steps = sorted(avail_steps)\n",
    "    todo = avail_steps[0]\n",
    "    steps[todo].finished = True\n",
    "    seq += todo\n",
    "    avail_steps = avail_steps[1:]\n",
    "    if steps[todo].postconditions: \n",
    "        for s in steps[todo].postconditions:\n",
    "            all_pres = [steps[k].finished for k in steps[s].preconditions]\n",
    "            if all(all_pres):\n",
    "                avail_steps.append(s)\n",
    "seq"
   ]
  },
  {
   "cell_type": "code",
   "execution_count": 4,
   "metadata": {},
   "outputs": [
    {
     "data": {
      "text/plain": [
       "948"
      ]
     },
     "execution_count": 4,
     "metadata": {},
     "output_type": "execute_result"
    }
   ],
   "source": [
    "steps = input()\n",
    "avail_steps = getRoot()\n",
    "workers = 5\n",
    "seconds = 0\n",
    "doing = []\n",
    "while len(avail_steps)>0 or len(doing)>0:\n",
    "    avail_steps = sorted(avail_steps)\n",
    "    if workers >= len(avail_steps):\n",
    "        doing += avail_steps\n",
    "        workers -= len(avail_steps)\n",
    "        avail_steps = []\n",
    "    else:\n",
    "        doing += avail_steps[:workers]\n",
    "        avail_steps = avail_steps[workers:]\n",
    "        workers = 0\n",
    "    processing = doing.copy()\n",
    "    for s in processing:\n",
    "        job = steps[s]\n",
    "        job.duration -= 1\n",
    "        if not job.duration:\n",
    "            job.finished = True\n",
    "            doing.remove(s)\n",
    "            workers += 1\n",
    "            if job.postconditions:\n",
    "                for p in job.postconditions:\n",
    "                    all_pres = [steps[k].finished for k in steps[p].preconditions]\n",
    "                    if all(all_pres):\n",
    "                        avail_steps.append(p)\n",
    "    seconds += 1\n",
    "seconds"
   ]
  },
  {
   "cell_type": "code",
   "execution_count": null,
   "metadata": {},
   "outputs": [],
   "source": []
  }
 ],
 "metadata": {
  "kernelspec": {
   "display_name": "Python 3",
   "language": "python",
   "name": "python3"
  },
  "language_info": {
   "codemirror_mode": {
    "name": "ipython",
    "version": 3
   },
   "file_extension": ".py",
   "mimetype": "text/x-python",
   "name": "python",
   "nbconvert_exporter": "python",
   "pygments_lexer": "ipython3",
   "version": "3.6.5"
  }
 },
 "nbformat": 4,
 "nbformat_minor": 2
}
