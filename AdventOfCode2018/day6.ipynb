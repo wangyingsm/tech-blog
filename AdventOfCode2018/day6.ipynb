{
 "cells": [
  {
   "cell_type": "code",
   "execution_count": 1,
   "metadata": {},
   "outputs": [],
   "source": [
    "import numpy as np"
   ]
  },
  {
   "cell_type": "code",
   "execution_count": 9,
   "metadata": {},
   "outputs": [
    {
     "name": "stdout",
     "output_type": "stream",
     "text": [
      "45 44 354 356\n"
     ]
    }
   ],
   "source": [
    "points = np.loadtxt('day6.txt', delimiter=',', dtype=np.int)\n",
    "X = points[:,0]\n",
    "Y = points[:,1]\n",
    "minx, maxx = np.min(X), np.max(X)\n",
    "miny, maxy = np.min(Y), np.max(Y)\n",
    "print(minx, miny, maxx, maxy)\n"
   ]
  },
  {
   "cell_type": "code",
   "execution_count": 13,
   "metadata": {},
   "outputs": [],
   "source": [
    "def manhatten(p1, p2):\n",
    "    return abs(p1[0]-p2[0]) + abs(p1[1]-p2[1])"
   ]
  },
  {
   "cell_type": "code",
   "execution_count": 18,
   "metadata": {},
   "outputs": [
    {
     "ename": "AttributeError",
     "evalue": "'tuple' object has no attribute 'tolist'",
     "output_type": "error",
     "traceback": [
      "\u001b[0;31m---------------------------------------------------------------------------\u001b[0m",
      "\u001b[0;31mAttributeError\u001b[0m                            Traceback (most recent call last)",
      "\u001b[0;32m<ipython-input-18-fc35c3355e34>\u001b[0m in \u001b[0;36m<module>\u001b[0;34m()\u001b[0m\n\u001b[0;32m----> 1\u001b[0;31m \u001b[0mpoints\u001b[0m \u001b[0;34m=\u001b[0m \u001b[0;34m[\u001b[0m\u001b[0mtuple\u001b[0m\u001b[0;34m(\u001b[0m\u001b[0mp\u001b[0m\u001b[0;34m.\u001b[0m\u001b[0mtolist\u001b[0m\u001b[0;34m(\u001b[0m\u001b[0;34m)\u001b[0m\u001b[0;34m)\u001b[0m \u001b[0;32mfor\u001b[0m \u001b[0mp\u001b[0m \u001b[0;32min\u001b[0m \u001b[0mpoints\u001b[0m\u001b[0;34m]\u001b[0m\u001b[0;34m\u001b[0m\u001b[0m\n\u001b[0m\u001b[1;32m      2\u001b[0m \u001b[0menumerate\u001b[0m\u001b[0;34m(\u001b[0m\u001b[0mpoints\u001b[0m\u001b[0;34m)\u001b[0m\u001b[0;34m\u001b[0m\u001b[0m\n",
      "\u001b[0;32m<ipython-input-18-fc35c3355e34>\u001b[0m in \u001b[0;36m<listcomp>\u001b[0;34m(.0)\u001b[0m\n\u001b[0;32m----> 1\u001b[0;31m \u001b[0mpoints\u001b[0m \u001b[0;34m=\u001b[0m \u001b[0;34m[\u001b[0m\u001b[0mtuple\u001b[0m\u001b[0;34m(\u001b[0m\u001b[0mp\u001b[0m\u001b[0;34m.\u001b[0m\u001b[0mtolist\u001b[0m\u001b[0;34m(\u001b[0m\u001b[0;34m)\u001b[0m\u001b[0;34m)\u001b[0m \u001b[0;32mfor\u001b[0m \u001b[0mp\u001b[0m \u001b[0;32min\u001b[0m \u001b[0mpoints\u001b[0m\u001b[0;34m]\u001b[0m\u001b[0;34m\u001b[0m\u001b[0m\n\u001b[0m\u001b[1;32m      2\u001b[0m \u001b[0menumerate\u001b[0m\u001b[0;34m(\u001b[0m\u001b[0mpoints\u001b[0m\u001b[0;34m)\u001b[0m\u001b[0;34m\u001b[0m\u001b[0m\n",
      "\u001b[0;31mAttributeError\u001b[0m: 'tuple' object has no attribute 'tolist'"
     ]
    }
   ],
   "source": [
    "points = [tuple(p.tolist()) for p in points]"
   ]
  },
  {
   "cell_type": "code",
   "execution_count": 28,
   "metadata": {},
   "outputs": [
    {
     "data": {
      "text/plain": [
       "(169, (99, 70))"
      ]
     },
     "execution_count": 28,
     "metadata": {},
     "output_type": "execute_result"
    }
   ],
   "source": [
    "sorted(map(lambda x: (manhatten((0,0), x), x), points))[0]"
   ]
  },
  {
   "cell_type": "code",
   "execution_count": 30,
   "metadata": {},
   "outputs": [
    {
     "data": {
      "text/plain": [
       "{(99, 70): 3540,\n",
       " (94, 82): 1977,\n",
       " (81, 114): 2088,\n",
       " (81, 153): 3354,\n",
       " (91, 236): 3024,\n",
       " (61, 285): 2091,\n",
       " (45, 340): 1434,\n",
       " (84, 265): 1272,\n",
       " (107, 356): 2228,\n",
       " (105, 289): 3409,\n",
       " (118, 172): 1612,\n",
       " (113, 122): 1943,\n",
       " (124, 159): 721,\n",
       " (120, 230): 2113,\n",
       " (182, 320): 4387,\n",
       " (143, 150): 881,\n",
       " (155, 218): 1811,\n",
       " (170, 193): 864,\n",
       " (163, 176): 731,\n",
       " (156, 146): 1220,\n",
       " (209, 65): 4046,\n",
       " (182, 122): 2564,\n",
       " (178, 231): 1671,\n",
       " (187, 165): 983,\n",
       " (177, 178): 253,\n",
       " (199, 248): 2031,\n",
       " (191, 178): 1467,\n",
       " (224, 355): 764,\n",
       " (228, 342): 1057,\n",
       " (225, 138): 1875,\n",
       " (233, 332): 2693,\n",
       " (226, 262): 4904,\n",
       " (260, 184): 2755,\n",
       " (242, 150): 1292,\n",
       " (275, 93): 2079,\n",
       " (274, 53): 1241,\n",
       " (266, 119): 1883,\n",
       " (277, 173): 1610,\n",
       " (319, 312): 6773,\n",
       " (286, 44): 1007,\n",
       " (313, 209): 2689,\n",
       " (309, 151): 2504,\n",
       " (326, 91): 2386,\n",
       " (321, 206): 592,\n",
       " (325, 210): 396,\n",
       " (353, 177): 1027,\n",
       " (334, 212): 879,\n",
       " (347, 94): 1589,\n",
       " (354, 198): 285,\n",
       " (351, 221): 1035}"
      ]
     },
     "execution_count": 30,
     "metadata": {},
     "output_type": "execute_result"
    }
   ],
   "source": [
    "belongs = {}\n",
    "for i in range(minx, maxx+1):\n",
    "    for j in range(miny, maxy+1):\n",
    "        nearest = sorted(map(lambda x:(manhatten((i, j), x), x), points))[0]\n",
    "        belongs.setdefault(nearest[1], 0)\n",
    "        belongs[nearest[1]] += 1\n",
    "belongs"
   ]
  },
  {
   "cell_type": "code",
   "execution_count": 37,
   "metadata": {},
   "outputs": [
    {
     "data": {
      "text/plain": [
       "[(319, 312),\n",
       " (226, 262),\n",
       " (182, 320),\n",
       " (209, 65),\n",
       " (99, 70),\n",
       " (105, 289),\n",
       " (81, 153),\n",
       " (91, 236),\n",
       " (260, 184),\n",
       " (233, 332),\n",
       " (313, 209),\n",
       " (182, 122),\n",
       " (309, 151),\n",
       " (326, 91),\n",
       " (107, 356),\n",
       " (120, 230),\n",
       " (61, 285),\n",
       " (81, 114),\n",
       " (275, 93),\n",
       " (199, 248),\n",
       " (94, 82),\n",
       " (113, 122),\n",
       " (266, 119),\n",
       " (225, 138),\n",
       " (155, 218),\n",
       " (178, 231),\n",
       " (118, 172),\n",
       " (277, 173),\n",
       " (347, 94),\n",
       " (191, 178),\n",
       " (45, 340),\n",
       " (242, 150),\n",
       " (84, 265),\n",
       " (274, 53),\n",
       " (156, 146),\n",
       " (228, 342),\n",
       " (351, 221),\n",
       " (353, 177),\n",
       " (286, 44),\n",
       " (187, 165),\n",
       " (143, 150),\n",
       " (334, 212),\n",
       " (170, 193),\n",
       " (224, 355),\n",
       " (163, 176),\n",
       " (124, 159),\n",
       " (321, 206),\n",
       " (325, 210),\n",
       " (354, 198),\n",
       " (177, 178)]"
      ]
     },
     "execution_count": 37,
     "metadata": {},
     "output_type": "execute_result"
    }
   ],
   "source": [
    "sorted(belongs, key=lambda x: belongs[x], reverse=True)"
   ]
  },
  {
   "cell_type": "code",
   "execution_count": null,
   "metadata": {},
   "outputs": [],
   "source": []
  }
 ],
 "metadata": {
  "kernelspec": {
   "display_name": "Python 3",
   "language": "python",
   "name": "python3"
  },
  "language_info": {
   "codemirror_mode": {
    "name": "ipython",
    "version": 3
   },
   "file_extension": ".py",
   "mimetype": "text/x-python",
   "name": "python",
   "nbconvert_exporter": "python",
   "pygments_lexer": "ipython3",
   "version": "3.6.5"
  }
 },
 "nbformat": 4,
 "nbformat_minor": 2
}
