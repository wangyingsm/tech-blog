{
 "cells": [
  {
   "cell_type": "code",
   "execution_count": 1,
   "metadata": {},
   "outputs": [],
   "source": [
    "class Node():\n",
    "    def __init__(self, childrens, metas):\n",
    "        self.childrens = childrens\n",
    "        self.metas = metas\n",
    "        self.children = []\n",
    "        self.metaData = []\n",
    "    def addChild(self, childNode):\n",
    "        self.children.append(childNode)\n",
    "    def addMetaData(self, meta):\n",
    "        self.metaData.append(meta)\n",
    "    def __repr__(self):\n",
    "        return f'[{self.childrens}, {self.metas}, {self.metaData}]'"
   ]
  },
  {
   "cell_type": "code",
   "execution_count": 2,
   "metadata": {},
   "outputs": [
    {
     "data": {
      "text/plain": [
       "[8, 11, [5, 4, 1, 3, 4, 6, 8, 8, 8, 3, 1]]"
      ]
     },
     "execution_count": 2,
     "metadata": {},
     "output_type": "execute_result"
    }
   ],
   "source": [
    "def input(filename='day8.txt'):\n",
    "    data = []\n",
    "    with open(filename) as fn:\n",
    "        data = list(map(int, fn.read().rstrip().split(' ')))\n",
    "    return data\n",
    "\n",
    "def createNodes(data):\n",
    "    if len(data) == 0:\n",
    "        return None, None\n",
    "    n = Node(data[0], data[1])\n",
    "    data = data[2:]\n",
    "    for i in range(n.childrens):\n",
    "        np, data = createNodes(data)\n",
    "        if np:\n",
    "            n.addChild(np)\n",
    "    for i in range(n.metas):\n",
    "        n.addMetaData(data[i])\n",
    "    return n, data[n.metas:]\n",
    "\n",
    "data = input()\n",
    "root, _ = createNodes(data)\n",
    "root"
   ]
  },
  {
   "cell_type": "code",
   "execution_count": 3,
   "metadata": {},
   "outputs": [
    {
     "data": {
      "text/plain": [
       "44338"
      ]
     },
     "execution_count": 3,
     "metadata": {},
     "output_type": "execute_result"
    }
   ],
   "source": [
    "def s(root):\n",
    "    if root.childrens == 0:\n",
    "        return sum(root.metaData)\n",
    "    a = 0\n",
    "    for c in root.children:\n",
    "        a += s(c)\n",
    "    return a + sum(root.metaData)\n",
    "s(root)"
   ]
  },
  {
   "cell_type": "code",
   "execution_count": 4,
   "metadata": {},
   "outputs": [
    {
     "data": {
      "text/plain": [
       "37560"
      ]
     },
     "execution_count": 4,
     "metadata": {},
     "output_type": "execute_result"
    }
   ],
   "source": [
    "def nodeValue(node):\n",
    "    if node.childrens == 0:\n",
    "        return sum(node.metaData)\n",
    "    a = 0\n",
    "    for c in node.metaData:\n",
    "        if c<1 or c>node.childrens:\n",
    "            continue\n",
    "        a += nodeValue(node.children[c-1])\n",
    "    return a\n",
    "nodeValue(root)"
   ]
  },
  {
   "cell_type": "code",
   "execution_count": null,
   "metadata": {},
   "outputs": [],
   "source": []
  }
 ],
 "metadata": {
  "kernelspec": {
   "display_name": "Python 3",
   "language": "python",
   "name": "python3"
  },
  "language_info": {
   "codemirror_mode": {
    "name": "ipython",
    "version": 3
   },
   "file_extension": ".py",
   "mimetype": "text/x-python",
   "name": "python",
   "nbconvert_exporter": "python",
   "pygments_lexer": "ipython3",
   "version": "3.6.5"
  }
 },
 "nbformat": 4,
 "nbformat_minor": 2
}
