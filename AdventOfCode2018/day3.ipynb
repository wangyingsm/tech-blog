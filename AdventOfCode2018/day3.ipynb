{
 "cells": [
  {
   "cell_type": "code",
   "execution_count": 1,
   "metadata": {},
   "outputs": [],
   "source": [
    "import numpy as np\n",
    "import json"
   ]
  },
  {
   "cell_type": "code",
   "execution_count": 2,
   "metadata": {},
   "outputs": [],
   "source": [
    "class Square():\n",
    "    def __init__(self, sid, left, top, width, height):\n",
    "        self.sid = sid\n",
    "        self.left = left\n",
    "        self.top = top\n",
    "        self.width = width\n",
    "        self.height = height\n",
    "    def __repr__(self):\n",
    "        return json.dumps(self.__dict__)"
   ]
  },
  {
   "cell_type": "code",
   "execution_count": 3,
   "metadata": {},
   "outputs": [
    {
     "data": {
      "text/plain": [
       "array([[0, 0, 0, ..., 0, 0, 0],\n",
       "       [0, 0, 0, ..., 0, 0, 0],\n",
       "       [0, 0, 0, ..., 0, 0, 0],\n",
       "       ...,\n",
       "       [0, 0, 0, ..., 0, 0, 0],\n",
       "       [0, 0, 0, ..., 0, 0, 0],\n",
       "       [0, 0, 0, ..., 0, 0, 0]])"
      ]
     },
     "execution_count": 3,
     "metadata": {},
     "output_type": "execute_result"
    }
   ],
   "source": [
    "def init_frabrics():\n",
    "    frabrics = np.zeros((1000, 1000), dtype=np.int)\n",
    "    return frabrics\n",
    "init_frabrics()"
   ]
  },
  {
   "cell_type": "code",
   "execution_count": 4,
   "metadata": {},
   "outputs": [],
   "source": [
    "def fill_square(square, frabrics):\n",
    "    l, t = square.left, square.top\n",
    "    w, h = square.width, square.height\n",
    "    frabrics[t:t+h, l:l+w] += 1\n",
    "    return frabrics"
   ]
  },
  {
   "cell_type": "code",
   "execution_count": 5,
   "metadata": {},
   "outputs": [
    {
     "data": {
      "text/plain": [
       "array([[0, 0, 0, ..., 0, 0, 0],\n",
       "       [0, 0, 0, ..., 0, 0, 0],\n",
       "       [0, 1, 1, ..., 0, 0, 0],\n",
       "       ...,\n",
       "       [0, 0, 0, ..., 0, 0, 0],\n",
       "       [0, 0, 0, ..., 0, 0, 0],\n",
       "       [0, 0, 0, ..., 0, 0, 0]])"
      ]
     },
     "execution_count": 5,
     "metadata": {},
     "output_type": "execute_result"
    }
   ],
   "source": [
    "s = Square(1, 1, 2, 2, 5)\n",
    "f = init_frabrics()\n",
    "fill_square(s, f)"
   ]
  },
  {
   "cell_type": "code",
   "execution_count": 6,
   "metadata": {},
   "outputs": [
    {
     "data": {
      "text/plain": [
       "{\"sid\": 1409, \"left\": 16, \"top\": 529, \"width\": 15, \"height\": 23}"
      ]
     },
     "execution_count": 6,
     "metadata": {},
     "output_type": "execute_result"
    }
   ],
   "source": [
    "lines = ''\n",
    "with open('day3.txt') as fn:\n",
    "    lines = list(map(lambda x: x.rstrip(), fn.readlines()))\n",
    "sqs = []\n",
    "for l in lines:\n",
    "    sid, tmp = l.split(' @ ')\n",
    "    sid = int(sid[1:])\n",
    "    left_top, width_height = tmp.split(': ')\n",
    "    left, top = left_top.split(',')\n",
    "    left, top = int(left), int(top)\n",
    "    width, height = width_height.split('x')\n",
    "    width, height = int(width), int(height)\n",
    "    sqs.append(Square(sid, left, top, width, height))\n",
    "sqs[-1]"
   ]
  },
  {
   "cell_type": "code",
   "execution_count": 7,
   "metadata": {},
   "outputs": [
    {
     "data": {
      "text/plain": [
       "121259"
      ]
     },
     "execution_count": 7,
     "metadata": {},
     "output_type": "execute_result"
    }
   ],
   "source": [
    "f = init_frabrics()\n",
    "for sq in sqs:\n",
    "    f = fill_square(sq, f)\n",
    "#     print(np.count_nonzero(f>1))\n",
    "np.count_nonzero(f>1)"
   ]
  },
  {
   "cell_type": "code",
   "execution_count": 8,
   "metadata": {},
   "outputs": [
    {
     "name": "stdout",
     "output_type": "stream",
     "text": [
      "239\n"
     ]
    }
   ],
   "source": [
    "for sq in sqs:\n",
    "    l, t = sq.left, sq.top\n",
    "    w, h = sq.width, sq.height\n",
    "    if np.all(f[t:t+h, l:l+w]==1):\n",
    "        print(sq.sid)"
   ]
  },
  {
   "cell_type": "code",
   "execution_count": null,
   "metadata": {},
   "outputs": [],
   "source": []
  }
 ],
 "metadata": {
  "kernelspec": {
   "display_name": "Python 3",
   "language": "python",
   "name": "python3"
  },
  "language_info": {
   "codemirror_mode": {
    "name": "ipython",
    "version": 3
   },
   "file_extension": ".py",
   "mimetype": "text/x-python",
   "name": "python",
   "nbconvert_exporter": "python",
   "pygments_lexer": "ipython3",
   "version": "3.6.5"
  }
 },
 "nbformat": 4,
 "nbformat_minor": 2
}
